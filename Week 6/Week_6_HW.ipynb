{
 "cells": [
  {
   "cell_type": "markdown",
   "id": "5e841e56",
   "metadata": {},
   "source": [
    "<h1> Week 6 Homework"
   ]
  },
  {
   "cell_type": "markdown",
   "id": "617a45e0",
   "metadata": {},
   "source": [
    "<h2>Question 9.1</h2>"
   ]
  },
  {
   "cell_type": "markdown",
   "id": "112f29d0",
   "metadata": {},
   "source": [
    "Using the same crime data set uscrime.txt as in Question 8.2, apply Principal Component Analysis and then create a regression model using the first few principal components. \n",
    "\n",
    "Specify your new model in terms of the original variables (not the principal components), and compare its quality to that of your solution to Question 8.2. \n",
    "\n",
    "You can use the R function prcomp for PCA. (Note that to first scale the data, you can include scale. = TRUE to scale as part of the PCA function. Don’t forget that, to make a prediction for the new city, you’ll need to unscale the coefficients (i.e., do the scaling calculation in reverse)!) "
   ]
  },
  {
   "cell_type": "code",
   "execution_count": 1,
   "id": "39a470e3",
   "metadata": {},
   "outputs": [
    {
     "data": {
      "text/html": [
       "<table class=\"dataframe\">\n",
       "<caption>A data.frame: 6 × 16</caption>\n",
       "<thead>\n",
       "\t<tr><th></th><th scope=col>M</th><th scope=col>So</th><th scope=col>Ed</th><th scope=col>Po1</th><th scope=col>Po2</th><th scope=col>LF</th><th scope=col>M.F</th><th scope=col>Pop</th><th scope=col>NW</th><th scope=col>U1</th><th scope=col>U2</th><th scope=col>Wealth</th><th scope=col>Ineq</th><th scope=col>Prob</th><th scope=col>Time</th><th scope=col>Crime</th></tr>\n",
       "\t<tr><th></th><th scope=col>&lt;dbl&gt;</th><th scope=col>&lt;int&gt;</th><th scope=col>&lt;dbl&gt;</th><th scope=col>&lt;dbl&gt;</th><th scope=col>&lt;dbl&gt;</th><th scope=col>&lt;dbl&gt;</th><th scope=col>&lt;dbl&gt;</th><th scope=col>&lt;int&gt;</th><th scope=col>&lt;dbl&gt;</th><th scope=col>&lt;dbl&gt;</th><th scope=col>&lt;dbl&gt;</th><th scope=col>&lt;int&gt;</th><th scope=col>&lt;dbl&gt;</th><th scope=col>&lt;dbl&gt;</th><th scope=col>&lt;dbl&gt;</th><th scope=col>&lt;int&gt;</th></tr>\n",
       "</thead>\n",
       "<tbody>\n",
       "\t<tr><th scope=row>1</th><td>15.1</td><td>1</td><td> 9.1</td><td> 5.8</td><td> 5.6</td><td>0.510</td><td> 95.0</td><td> 33</td><td>30.1</td><td>0.108</td><td>4.1</td><td>3940</td><td>26.1</td><td>0.084602</td><td>26.2011</td><td> 791</td></tr>\n",
       "\t<tr><th scope=row>2</th><td>14.3</td><td>0</td><td>11.3</td><td>10.3</td><td> 9.5</td><td>0.583</td><td>101.2</td><td> 13</td><td>10.2</td><td>0.096</td><td>3.6</td><td>5570</td><td>19.4</td><td>0.029599</td><td>25.2999</td><td>1635</td></tr>\n",
       "\t<tr><th scope=row>3</th><td>14.2</td><td>1</td><td> 8.9</td><td> 4.5</td><td> 4.4</td><td>0.533</td><td> 96.9</td><td> 18</td><td>21.9</td><td>0.094</td><td>3.3</td><td>3180</td><td>25.0</td><td>0.083401</td><td>24.3006</td><td> 578</td></tr>\n",
       "\t<tr><th scope=row>4</th><td>13.6</td><td>0</td><td>12.1</td><td>14.9</td><td>14.1</td><td>0.577</td><td> 99.4</td><td>157</td><td> 8.0</td><td>0.102</td><td>3.9</td><td>6730</td><td>16.7</td><td>0.015801</td><td>29.9012</td><td>1969</td></tr>\n",
       "\t<tr><th scope=row>5</th><td>14.1</td><td>0</td><td>12.1</td><td>10.9</td><td>10.1</td><td>0.591</td><td> 98.5</td><td> 18</td><td> 3.0</td><td>0.091</td><td>2.0</td><td>5780</td><td>17.4</td><td>0.041399</td><td>21.2998</td><td>1234</td></tr>\n",
       "\t<tr><th scope=row>6</th><td>12.1</td><td>0</td><td>11.0</td><td>11.8</td><td>11.5</td><td>0.547</td><td> 96.4</td><td> 25</td><td> 4.4</td><td>0.084</td><td>2.9</td><td>6890</td><td>12.6</td><td>0.034201</td><td>20.9995</td><td> 682</td></tr>\n",
       "</tbody>\n",
       "</table>\n"
      ],
      "text/latex": [
       "A data.frame: 6 × 16\n",
       "\\begin{tabular}{r|llllllllllllllll}\n",
       "  & M & So & Ed & Po1 & Po2 & LF & M.F & Pop & NW & U1 & U2 & Wealth & Ineq & Prob & Time & Crime\\\\\n",
       "  & <dbl> & <int> & <dbl> & <dbl> & <dbl> & <dbl> & <dbl> & <int> & <dbl> & <dbl> & <dbl> & <int> & <dbl> & <dbl> & <dbl> & <int>\\\\\n",
       "\\hline\n",
       "\t1 & 15.1 & 1 &  9.1 &  5.8 &  5.6 & 0.510 &  95.0 &  33 & 30.1 & 0.108 & 4.1 & 3940 & 26.1 & 0.084602 & 26.2011 &  791\\\\\n",
       "\t2 & 14.3 & 0 & 11.3 & 10.3 &  9.5 & 0.583 & 101.2 &  13 & 10.2 & 0.096 & 3.6 & 5570 & 19.4 & 0.029599 & 25.2999 & 1635\\\\\n",
       "\t3 & 14.2 & 1 &  8.9 &  4.5 &  4.4 & 0.533 &  96.9 &  18 & 21.9 & 0.094 & 3.3 & 3180 & 25.0 & 0.083401 & 24.3006 &  578\\\\\n",
       "\t4 & 13.6 & 0 & 12.1 & 14.9 & 14.1 & 0.577 &  99.4 & 157 &  8.0 & 0.102 & 3.9 & 6730 & 16.7 & 0.015801 & 29.9012 & 1969\\\\\n",
       "\t5 & 14.1 & 0 & 12.1 & 10.9 & 10.1 & 0.591 &  98.5 &  18 &  3.0 & 0.091 & 2.0 & 5780 & 17.4 & 0.041399 & 21.2998 & 1234\\\\\n",
       "\t6 & 12.1 & 0 & 11.0 & 11.8 & 11.5 & 0.547 &  96.4 &  25 &  4.4 & 0.084 & 2.9 & 6890 & 12.6 & 0.034201 & 20.9995 &  682\\\\\n",
       "\\end{tabular}\n"
      ],
      "text/markdown": [
       "\n",
       "A data.frame: 6 × 16\n",
       "\n",
       "| <!--/--> | M &lt;dbl&gt; | So &lt;int&gt; | Ed &lt;dbl&gt; | Po1 &lt;dbl&gt; | Po2 &lt;dbl&gt; | LF &lt;dbl&gt; | M.F &lt;dbl&gt; | Pop &lt;int&gt; | NW &lt;dbl&gt; | U1 &lt;dbl&gt; | U2 &lt;dbl&gt; | Wealth &lt;int&gt; | Ineq &lt;dbl&gt; | Prob &lt;dbl&gt; | Time &lt;dbl&gt; | Crime &lt;int&gt; |\n",
       "|---|---|---|---|---|---|---|---|---|---|---|---|---|---|---|---|---|\n",
       "| 1 | 15.1 | 1 |  9.1 |  5.8 |  5.6 | 0.510 |  95.0 |  33 | 30.1 | 0.108 | 4.1 | 3940 | 26.1 | 0.084602 | 26.2011 |  791 |\n",
       "| 2 | 14.3 | 0 | 11.3 | 10.3 |  9.5 | 0.583 | 101.2 |  13 | 10.2 | 0.096 | 3.6 | 5570 | 19.4 | 0.029599 | 25.2999 | 1635 |\n",
       "| 3 | 14.2 | 1 |  8.9 |  4.5 |  4.4 | 0.533 |  96.9 |  18 | 21.9 | 0.094 | 3.3 | 3180 | 25.0 | 0.083401 | 24.3006 |  578 |\n",
       "| 4 | 13.6 | 0 | 12.1 | 14.9 | 14.1 | 0.577 |  99.4 | 157 |  8.0 | 0.102 | 3.9 | 6730 | 16.7 | 0.015801 | 29.9012 | 1969 |\n",
       "| 5 | 14.1 | 0 | 12.1 | 10.9 | 10.1 | 0.591 |  98.5 |  18 |  3.0 | 0.091 | 2.0 | 5780 | 17.4 | 0.041399 | 21.2998 | 1234 |\n",
       "| 6 | 12.1 | 0 | 11.0 | 11.8 | 11.5 | 0.547 |  96.4 |  25 |  4.4 | 0.084 | 2.9 | 6890 | 12.6 | 0.034201 | 20.9995 |  682 |\n",
       "\n"
      ],
      "text/plain": [
       "  M    So Ed   Po1  Po2  LF    M.F   Pop NW   U1    U2  Wealth Ineq Prob    \n",
       "1 15.1 1   9.1  5.8  5.6 0.510  95.0  33 30.1 0.108 4.1 3940   26.1 0.084602\n",
       "2 14.3 0  11.3 10.3  9.5 0.583 101.2  13 10.2 0.096 3.6 5570   19.4 0.029599\n",
       "3 14.2 1   8.9  4.5  4.4 0.533  96.9  18 21.9 0.094 3.3 3180   25.0 0.083401\n",
       "4 13.6 0  12.1 14.9 14.1 0.577  99.4 157  8.0 0.102 3.9 6730   16.7 0.015801\n",
       "5 14.1 0  12.1 10.9 10.1 0.591  98.5  18  3.0 0.091 2.0 5780   17.4 0.041399\n",
       "6 12.1 0  11.0 11.8 11.5 0.547  96.4  25  4.4 0.084 2.9 6890   12.6 0.034201\n",
       "  Time    Crime\n",
       "1 26.2011  791 \n",
       "2 25.2999 1635 \n",
       "3 24.3006  578 \n",
       "4 29.9012 1969 \n",
       "5 21.2998 1234 \n",
       "6 20.9995  682 "
      ]
     },
     "metadata": {},
     "output_type": "display_data"
    },
    {
     "name": "stdout",
     "output_type": "stream",
     "text": [
      "No. of cols: 16 \n",
      "No. of rows: 47"
     ]
    }
   ],
   "source": [
    "# loading the dataset\n",
    "# READ DATASET as DataFrame\n",
    "df <- read.table(\"uscrime.txt\", header = TRUE, sep = \"\\t\")\n",
    "# Display Data\n",
    "head(df)\n",
    "cat(\"No. of cols:\", ncol(df), \"\\n\")\n",
    "cat(\"No. of rows:\", nrow(df))"
   ]
  },
  {
   "cell_type": "markdown",
   "id": "60410da8",
   "metadata": {},
   "source": [
    "<p><p style=\"page-break-after:always;\"></p></p>"
   ]
  },
  {
   "cell_type": "code",
   "execution_count": 2,
   "id": "4ae786a2",
   "metadata": {},
   "outputs": [
    {
     "data": {
      "image/png": "[encoded data removed]",
      "text/plain": [
       "Plot with title \"Scree Plot\""
      ]
     },
     "metadata": {},
     "output_type": "display_data"
    }
   ],
   "source": [
    "# Prepare predictors df\n",
    "input_df <- df[,1:(ncol(df)-1)]\n",
    "# Principal Component Analysis\n",
    "PCA <- prcomp(input_df, scale=TRUE, center=TRUE)\n",
    "# Scree Plot\n",
    "screeplot(PCA, main=\"Scree Plot\", type=\"l\")\n",
    "grid()"
   ]
  },
  {
   "cell_type": "markdown",
   "id": "979570a8",
   "metadata": {},
   "source": [
    "<p><p style=\"page-break-after:always;\"></p></p>"
   ]
  },
  {
   "cell_type": "code",
   "execution_count": 3,
   "id": "ddb97228",
   "metadata": {},
   "outputs": [
    {
     "data": {
      "image/png": "[encoded data removed]",
      "text/plain": [
       "plot without title"
      ]
     },
     "metadata": {},
     "output_type": "display_data"
    }
   ],
   "source": [
    "# plot Cumulative explained Varinace aganist number of principal components\n",
    "plot(summary(PCA)$importance[\"Cumulative Proportion\",]*100,\n",
    "     ylab=\"Cumulative explained variance, %\", xlab=\"Numcer of Principal components\")\n",
    "grid()"
   ]
  },
  {
   "cell_type": "markdown",
   "id": "f6811d85",
   "metadata": {},
   "source": [
    "From the Scree plot and the cumulative explained variance plot above, the first 6 principal components explains 90% of the cumulative variance in the data and shows leveling off \"elbow effect\" on the Scree plot.\n",
    "\n",
    "As a result, the first 6 principal components are expected to show the best performance.\n",
    "\n",
    "However a sensitivity analysis will be done by comparing the Adjusted R2 of different linear regression models utilizing different numbers of principal components (PC's) starting with first 3 PC's up to all 15 PC's."
   ]
  },
  {
   "cell_type": "markdown",
   "id": "d93687c0",
   "metadata": {},
   "source": [
    "<p><p style=\"page-break-after:always;\"></p></p>"
   ]
  },
  {
   "cell_type": "code",
   "execution_count": 4,
   "id": "d90cb76a",
   "metadata": {
    "scrolled": true
   },
   "outputs": [
    {
     "name": "stderr",
     "output_type": "stream",
     "text": [
      "Loading required package: lattice\n"
     ]
    }
   ],
   "source": [
    "# Install the DAAG package, which has cross-validation functions\n",
    "options(warn=-1) # hide warning\n",
    "# install.packages(\"DAAG\")\n",
    "library(DAAG)"
   ]
  },
  {
   "cell_type": "code",
   "execution_count": null,
   "id": "ec18949c",
   "metadata": {},
   "outputs": [],
   "source": [
    "# Vectors to stor Results\n",
    "adjR2_results <- seq(1,13)\n",
    "CV_adjR2_results <- seq(1,13)\n",
    "\n",
    "# loop for different PCs'\n",
    "for (i in seq(1,13)){\n",
    "    # define number of PCs'\n",
    "    n_PCA = i+2\n",
    "    # extract principal components for linear regression\n",
    "    input_df <- as.data.frame(PCA$x[,1:n_PCA])\n",
    "    # Add Crime column to the input dataframe\n",
    "    input_df$Crime <- df$Crime\n",
    "    # create the model\n",
    "    sen_model <- lm(Crime~., data=input_df)\n",
    "    # Store training Adjusted R2\n",
    "    adjR2_results[i] <- summary(sen_model)$adj.r.squared\n",
    "    # do 5-fold cross-validation\n",
    "    sen_cv_results <- cv.lm(input_df,sen_model,m=5, printit=TRUE, plotit=FALSE)\n",
    "    # total sum of squared differences between data and its mean (SSE Total)\n",
    "    SStot <- sum((input_df$Crime - mean(input_df$Crime))^2)\n",
    "    # Calculate mean squared error, times number of data points, gives sum of squared errors\n",
    "    SSres_cv <- attr(sen_cv_results,\"ms\")*nrow(input_df)\n",
    "    # Calculate CV R squared \n",
    "    CV_R2 <- (1 - SSres_cv/SStot)\n",
    "    # Caluclate CV Adjusted R2\n",
    "    CV_R2_Adj <- 1-(((1-CV_R2)*(nrow(input_df)))/(nrow(input_df)-n_PCA-1))\n",
    "    # Store results\n",
    "    CV_adjR2_results[i] <- CV_R2_Adj\n",
    "}"
   ]
  },
  {
   "cell_type": "code",
   "execution_count": 6,
   "id": "6846b79b",
   "metadata": {
    "scrolled": false
   },
   "outputs": [
    {
     "data": {
      "image/png": "[encoded data removed]",
      "text/plain": [
       "Plot with title \"Sensitivity Analysis Results, Training Data\""
      ]
     },
     "metadata": {},
     "output_type": "display_data"
    },
    {
     "data": {
      "image/png": "[encoded data removed]",
      "text/plain": [
       "Plot with title \"Sensitivity Analysis Results, Cross Validated\""
      ]
     },
     "metadata": {},
     "output_type": "display_data"
    }
   ],
   "source": [
    "plot(seq(3,15), adjR2_results, xlab=\"Number of Principal Components in the model\", ylab=\"Adjusted R2\")\n",
    "title(\"Sensitivity Analysis Results, Training Data\")\n",
    "grid()\n",
    "plot(seq(3,15), CV_adjR2_results, xlab=\"Number of Principal Components in the model\", ylab=\"Adjusted R2\")\n",
    "title(\"Sensitivity Analysis Results, Cross Validated\")\n",
    "grid()"
   ]
  },
  {
   "cell_type": "markdown",
   "id": "b3447a39",
   "metadata": {},
   "source": [
    "From the Sensitivity analyis above, \n",
    "1. Using the first 5 PCs' up to using the first 11 PCs' results in roughly the same Adjusted R2 when evaluated on the training data. In addition, a jump in R2 from 0.6 to 0.7 is noticed when the model is built using the first 12 PCs' and more.\n",
    "2. Cross-Validation however, shows that using more than the first 7 PCs' results in a drop in the Adjusted R2.\n",
    "3. Also from Cross-Validation, using the first 5 PCs' up to using the first 7 PCs' results in roughly the same Adjusted R2.\n",
    "\n",
    "As a result, the simplest model (using the first 5 PCs') will be used for the rest of the analysis."
   ]
  },
  {
   "cell_type": "markdown",
   "id": "bde9f4a2",
   "metadata": {},
   "source": [
    "<p><p style=\"page-break-after:always;\"></p></p>"
   ]
  },
  {
   "cell_type": "code",
   "execution_count": 7,
   "id": "023c13e5",
   "metadata": {},
   "outputs": [
    {
     "data": {
      "text/plain": [
       "\n",
       "Call:\n",
       "lm(formula = Crime ~ ., data = input_df)\n",
       "\n",
       "Residuals:\n",
       "   Min     1Q Median     3Q    Max \n",
       "-420.8 -185.0   12.2  146.2  447.9 \n",
       "\n",
       "Coefficients:\n",
       "            Estimate Std. Error t value Pr(>|t|)    \n",
       "(Intercept)    905.1       35.6   25.43  < 2e-16 ***\n",
       "PC1             65.2       14.7    4.45  6.5e-05 ***\n",
       "PC2            -70.1       21.5   -3.26   0.0022 ** \n",
       "PC3             25.2       25.4    0.99   0.3272    \n",
       "PC4             69.4       33.4    2.08   0.0437 *  \n",
       "PC5           -229.0       36.8   -6.23  2.0e-07 ***\n",
       "---\n",
       "Signif. codes:  0 '***' 0.001 '**' 0.01 '*' 0.05 '.' 0.1 ' ' 1\n",
       "\n",
       "Residual standard error: 244 on 41 degrees of freedom\n",
       "Multiple R-squared:  0.645,\tAdjusted R-squared:  0.602 \n",
       "F-statistic: 14.9 on 5 and 41 DF,  p-value: 2.45e-08\n"
      ]
     },
     "metadata": {},
     "output_type": "display_data"
    }
   ],
   "source": [
    "n_PCA = 5\n",
    "# extract principal components for linear regression\n",
    "input_df <- as.data.frame(PCA$x[,1:n_PCA])\n",
    "# Add Crime column to the input dataframe\n",
    "input_df$Crime <- df$Crime\n",
    "# create the model\n",
    "Final_model <- lm(Crime~., data=input_df)\n",
    "summary(Final_model)"
   ]
  },
  {
   "cell_type": "markdown",
   "id": "fc03aa16",
   "metadata": {},
   "source": [
    "From the data above, The R2 of the 5 PC's model is 0.645 and adjusted R2 is 0.602 on evaluating on the training data.\n",
    "\n",
    "Now, we can validate the model with 5 folds cross validation."
   ]
  },
  {
   "cell_type": "code",
   "execution_count": 8,
   "id": "649c688d",
   "metadata": {},
   "outputs": [
    {
     "name": "stdout",
     "output_type": "stream",
     "text": [
      "\n"
     ]
    },
    {
     "data": {
      "image/png": "[encoded data removed]",
      "text/plain": [
       "Plot with title \"Small symbols show cross-validation predicted values\""
      ]
     },
     "metadata": {},
     "output_type": "display_data"
    }
   ],
   "source": [
    "# do 5-fold cross-validation\n",
    "cv_results <- cv.lm(input_df,Final_model,m=5, printit=FALSE)"
   ]
  },
  {
   "cell_type": "code",
   "execution_count": 9,
   "id": "e72464dd",
   "metadata": {},
   "outputs": [
    {
     "name": "stdout",
     "output_type": "stream",
     "text": [
      "Cross-Validated R2 of the Final PCA Model 0.507 \n",
      "Cross-Validated Adjusted R2 of the Final PCA Model 0.435"
     ]
    }
   ],
   "source": [
    "# total sum of squared differences between data and its mean (SSE Total)\n",
    "SStot <- sum((input_df$Crime - mean(input_df$Crime))^2)\n",
    "# Calculate mean squared error, times number of data points, gives sum of squared errors\n",
    "SSres_cv <- attr(cv_results,\"ms\")*nrow(input_df)\n",
    "# Calculate R squared \n",
    "CV_R2 <- (1 - SSres_cv/SStot)\n",
    "cat(\"Cross-Validated R2 of the Final PCA Model\", round(CV_R2,3), \"\\n\")\n",
    "CV_R2_Adj <- 1-(((1-CV_R2)*(nrow(input_df)))/(nrow(input_df)-n_PCA-1))\n",
    "cat(\"Cross-Validated Adjusted R2 of the Final PCA Model\", round(CV_R2_Adj,3))"
   ]
  },
  {
   "cell_type": "markdown",
   "id": "8673386f",
   "metadata": {},
   "source": [
    "The cross validated R2 is lower than the R2 evaluated by the model on the training set indciating overfitting."
   ]
  },
  {
   "cell_type": "markdown",
   "id": "9b3c70e4",
   "metadata": {},
   "source": [
    "<p><p style=\"page-break-after:always;\"></p></p>"
   ]
  },
  {
   "cell_type": "code",
   "execution_count": 10,
   "id": "3cdafee3",
   "metadata": {},
   "outputs": [
    {
     "data": {
      "text/html": [
       "'Coefficients of the PCA Model'"
      ],
      "text/latex": [
       "'Coefficients of the PCA Model'"
      ],
      "text/markdown": [
       "'Coefficients of the PCA Model'"
      ],
      "text/plain": [
       "[1] \"Coefficients of the PCA Model\""
      ]
     },
     "metadata": {},
     "output_type": "display_data"
    },
    {
     "data": {
      "text/html": [
       "<strong>(Intercept):</strong> 905.085"
      ],
      "text/latex": [
       "\\textbf{(Intercept):} 905.085"
      ],
      "text/markdown": [
       "**(Intercept):** 905.085"
      ],
      "text/plain": [
       "(Intercept) \n",
       "        905 "
      ]
     },
     "metadata": {},
     "output_type": "display_data"
    },
    {
     "data": {
      "text/html": [
       "<style>\n",
       ".dl-inline {width: auto; margin:0; padding: 0}\n",
       ".dl-inline>dt, .dl-inline>dd {float: none; width: auto; display: inline-block}\n",
       ".dl-inline>dt::after {content: \":\\0020\"; padding-right: .5ex}\n",
       ".dl-inline>dt:not(:first-of-type) {padding-left: .5ex}\n",
       "</style><dl class=dl-inline><dt>PC1</dt><dd>65.216</dd><dt>PC2</dt><dd>-70.083</dd><dt>PC3</dt><dd>25.194</dd><dt>PC4</dt><dd>69.446</dd><dt>PC5</dt><dd>-229.043</dd></dl>\n"
      ],
      "text/latex": [
       "\\begin{description*}\n",
       "\\item[PC1] 65.216\n",
       "\\item[PC2] -70.083\n",
       "\\item[PC3] 25.194\n",
       "\\item[PC4] 69.446\n",
       "\\item[PC5] -229.043\n",
       "\\end{description*}\n"
      ],
      "text/markdown": [
       "PC1\n",
       ":   65.216PC2\n",
       ":   -70.083PC3\n",
       ":   25.194PC4\n",
       ":   69.446PC5\n",
       ":   -229.043\n",
       "\n"
      ],
      "text/plain": [
       "   PC1    PC2    PC3    PC4    PC5 \n",
       "  65.2  -70.1   25.2   69.4 -229.0 "
      ]
     },
     "metadata": {},
     "output_type": "display_data"
    }
   ],
   "source": [
    "\"Coefficients of the PCA Model\"\n",
    "# find the model intercept a0\n",
    "a0 <- Final_model$coefficients[1]\n",
    "round(a0,3)\n",
    "# find model coefficients\n",
    "coff <- Final_model$coefficients[2:(n_PCA+1)]\n",
    "round(coff,3)"
   ]
  },
  {
   "cell_type": "code",
   "execution_count": 11,
   "id": "085aa88b",
   "metadata": {},
   "outputs": [],
   "source": [
    "# find Dataframe Columns mean & Sd\n",
    "cols_mu <- colMeans(df[,1:(ncol(df)-1)])\n",
    "cols_sd <- sapply(df[,1:(ncol(df)-1)], sd)"
   ]
  },
  {
   "cell_type": "code",
   "execution_count": 12,
   "id": "5ee05611",
   "metadata": {},
   "outputs": [
    {
     "data": {
      "text/html": [
       "'The new model coefficients and intercept in terms of the original variables'"
      ],
      "text/latex": [
       "'The new model coefficients and intercept in terms of the original variables'"
      ],
      "text/markdown": [
       "'The new model coefficients and intercept in terms of the original variables'"
      ],
      "text/plain": [
       "[1] \"The new model coefficients and intercept in terms of the original variables\""
      ]
     },
     "metadata": {},
     "output_type": "display_data"
    },
    {
     "data": {
      "text/html": [
       "<table class=\"dataframe\">\n",
       "<caption>A matrix: 1 × 15 of type dbl</caption>\n",
       "<thead>\n",
       "\t<tr><th scope=col>M</th><th scope=col>So</th><th scope=col>Ed</th><th scope=col>Po1</th><th scope=col>Po2</th><th scope=col>LF</th><th scope=col>M.F</th><th scope=col>Pop</th><th scope=col>NW</th><th scope=col>U1</th><th scope=col>U2</th><th scope=col>Wealth</th><th scope=col>Ineq</th><th scope=col>Prob</th><th scope=col>Time</th></tr>\n",
       "</thead>\n",
       "<tbody>\n",
       "\t<tr><td>48.4</td><td>79</td><td>17.8</td><td>39.5</td><td>39.9</td><td>1887</td><td>36.7</td><td>1.55</td><td>9.54</td><td>159</td><td>38.3</td><td>0.037</td><td>5.54</td><td>-1524</td><td>3.84</td></tr>\n",
       "</tbody>\n",
       "</table>\n"
      ],
      "text/latex": [
       "A matrix: 1 × 15 of type dbl\n",
       "\\begin{tabular}{lllllllllllllll}\n",
       " M & So & Ed & Po1 & Po2 & LF & M.F & Pop & NW & U1 & U2 & Wealth & Ineq & Prob & Time\\\\\n",
       "\\hline\n",
       "\t 48.4 & 79 & 17.8 & 39.5 & 39.9 & 1887 & 36.7 & 1.55 & 9.54 & 159 & 38.3 & 0.037 & 5.54 & -1524 & 3.84\\\\\n",
       "\\end{tabular}\n"
      ],
      "text/markdown": [
       "\n",
       "A matrix: 1 × 15 of type dbl\n",
       "\n",
       "| M | So | Ed | Po1 | Po2 | LF | M.F | Pop | NW | U1 | U2 | Wealth | Ineq | Prob | Time |\n",
       "|---|---|---|---|---|---|---|---|---|---|---|---|---|---|---|\n",
       "| 48.4 | 79 | 17.8 | 39.5 | 39.9 | 1887 | 36.7 | 1.55 | 9.54 | 159 | 38.3 | 0.037 | 5.54 | -1524 | 3.84 |\n",
       "\n"
      ],
      "text/plain": [
       "     M    So Ed   Po1  Po2  LF   M.F  Pop  NW   U1  U2   Wealth Ineq Prob  Time\n",
       "[1,] 48.4 79 17.8 39.5 39.9 1887 36.7 1.55 9.54 159 38.3 0.037  5.54 -1524 3.84"
      ]
     },
     "metadata": {},
     "output_type": "display_data"
    },
    {
     "data": {
      "text/html": [
       "<strong>(Intercept):</strong> -5933.837"
      ],
      "text/latex": [
       "\\textbf{(Intercept):} -5933.837"
      ],
      "text/markdown": [
       "**(Intercept):** -5933.837"
      ],
      "text/plain": [
       "(Intercept) \n",
       "      -5934 "
      ]
     },
     "metadata": {},
     "output_type": "display_data"
    }
   ],
   "source": [
    "\"The new model coefficients and intercept in terms of the original variables\"\n",
    "transformed_coeff <- PCA$rotation[,1:n_PCA] %*% coff\n",
    "# find original variables coffcients\n",
    "original_coff <- t(transformed_coeff)/cols_sd\n",
    "round(original_coff,3)\n",
    "# find original variables intercept\n",
    "original_a0 <- a0 - sum(transformed_coeff*cols_mu/cols_sd)\n",
    "round(original_a0, 3)"
   ]
  },
  {
   "cell_type": "markdown",
   "id": "6a7b0b28",
   "metadata": {},
   "source": [
    "<b> Note: </b> Since only 5 prinicipal components were used out of the 15, the reverse calculated coefficients and intercept carries some reconstruction error."
   ]
  },
  {
   "cell_type": "markdown",
   "id": "d3354e72",
   "metadata": {},
   "source": [
    "<p><p style=\"page-break-after:always;\"></p></p>"
   ]
  },
  {
   "cell_type": "markdown",
   "id": "1cfb588f",
   "metadata": {},
   "source": [
    "\"New City Prediciton\""
   ]
  },
  {
   "cell_type": "code",
   "execution_count": 13,
   "id": "58cb9106",
   "metadata": {},
   "outputs": [
    {
     "data": {
      "text/html": [
       "<table class=\"dataframe\">\n",
       "<caption>A data.frame: 1 × 15</caption>\n",
       "<thead>\n",
       "\t<tr><th scope=col>M</th><th scope=col>So</th><th scope=col>Ed</th><th scope=col>Po1</th><th scope=col>Po2</th><th scope=col>LF</th><th scope=col>M.F</th><th scope=col>Pop</th><th scope=col>NW</th><th scope=col>U1</th><th scope=col>U2</th><th scope=col>Wealth</th><th scope=col>Ineq</th><th scope=col>Prob</th><th scope=col>Time</th></tr>\n",
       "\t<tr><th scope=col>&lt;dbl&gt;</th><th scope=col>&lt;dbl&gt;</th><th scope=col>&lt;dbl&gt;</th><th scope=col>&lt;dbl&gt;</th><th scope=col>&lt;dbl&gt;</th><th scope=col>&lt;dbl&gt;</th><th scope=col>&lt;dbl&gt;</th><th scope=col>&lt;dbl&gt;</th><th scope=col>&lt;dbl&gt;</th><th scope=col>&lt;dbl&gt;</th><th scope=col>&lt;dbl&gt;</th><th scope=col>&lt;dbl&gt;</th><th scope=col>&lt;dbl&gt;</th><th scope=col>&lt;dbl&gt;</th><th scope=col>&lt;dbl&gt;</th></tr>\n",
       "</thead>\n",
       "<tbody>\n",
       "\t<tr><td>14</td><td>0</td><td>10</td><td>12</td><td>15.5</td><td>0.64</td><td>94</td><td>150</td><td>1.1</td><td>0.12</td><td>3.6</td><td>3200</td><td>20.1</td><td>0.04</td><td>39</td></tr>\n",
       "</tbody>\n",
       "</table>\n"
      ],
      "text/latex": [
       "A data.frame: 1 × 15\n",
       "\\begin{tabular}{lllllllllllllll}\n",
       " M & So & Ed & Po1 & Po2 & LF & M.F & Pop & NW & U1 & U2 & Wealth & Ineq & Prob & Time\\\\\n",
       " <dbl> & <dbl> & <dbl> & <dbl> & <dbl> & <dbl> & <dbl> & <dbl> & <dbl> & <dbl> & <dbl> & <dbl> & <dbl> & <dbl> & <dbl>\\\\\n",
       "\\hline\n",
       "\t 14 & 0 & 10 & 12 & 15.5 & 0.64 & 94 & 150 & 1.1 & 0.12 & 3.6 & 3200 & 20.1 & 0.04 & 39\\\\\n",
       "\\end{tabular}\n"
      ],
      "text/markdown": [
       "\n",
       "A data.frame: 1 × 15\n",
       "\n",
       "| M &lt;dbl&gt; | So &lt;dbl&gt; | Ed &lt;dbl&gt; | Po1 &lt;dbl&gt; | Po2 &lt;dbl&gt; | LF &lt;dbl&gt; | M.F &lt;dbl&gt; | Pop &lt;dbl&gt; | NW &lt;dbl&gt; | U1 &lt;dbl&gt; | U2 &lt;dbl&gt; | Wealth &lt;dbl&gt; | Ineq &lt;dbl&gt; | Prob &lt;dbl&gt; | Time &lt;dbl&gt; |\n",
       "|---|---|---|---|---|---|---|---|---|---|---|---|---|---|---|\n",
       "| 14 | 0 | 10 | 12 | 15.5 | 0.64 | 94 | 150 | 1.1 | 0.12 | 3.6 | 3200 | 20.1 | 0.04 | 39 |\n",
       "\n"
      ],
      "text/plain": [
       "  M  So Ed Po1 Po2  LF   M.F Pop NW  U1   U2  Wealth Ineq Prob Time\n",
       "1 14 0  10 12  15.5 0.64 94  150 1.1 0.12 3.6 3200   20.1 0.04 39  "
      ]
     },
     "metadata": {},
     "output_type": "display_data"
    }
   ],
   "source": [
    "# creating required test city data\n",
    "test_city <- data.frame(\"M\"=14.0, \"So\"=0, \"Ed\"=10.0, \"Po1\"=12.0, \"Po2\"=15.5, \"LF\"=0.64, \"M.F\"=94.0, \"Pop\"=150, \"NW\"=1.1,\n",
    "                       \"U1\"=0.12, \"U2\"=3.6, \"Wealth\"=3200, \"Ineq\"=20.1, \"Prob\"=0.04, \"Time\"=39.0)\n",
    "test_city"
   ]
  },
  {
   "cell_type": "code",
   "execution_count": 14,
   "id": "003c3df9",
   "metadata": {},
   "outputs": [
    {
     "name": "stdout",
     "output_type": "stream",
     "text": [
      "Predicted Crime rate for the new city is 1389 \n",
      "Predicted Crime rate the new city is between 861 & 1917 with 95% confidence"
     ]
    }
   ],
   "source": [
    "# Find the principal components of the test city \n",
    "test_city_PCA <- as.data.frame(predict(PCA, test_city[,1:(ncol(df)-1)]))\n",
    "# Predict the crime rate in the test city\n",
    "test_city_pred <- round(predict(Final_model, test_city_PCA, type = \"response\", \n",
    "                                interval=\"prediction\", level=0.95), 0)\n",
    "cat(\"Predicted Crime rate for the new city is\", test_city_pred[,\"fit\"], \"\\n\")\n",
    "# calculate confidence\n",
    "cat(\"Predicted Crime rate the new city is between\", test_city_pred[,\"lwr\"],\n",
    "    \"&\", test_city_pred[,\"upr\"], \"with 95% confidence\")"
   ]
  },
  {
   "cell_type": "markdown",
   "id": "db56727b",
   "metadata": {},
   "source": [
    "<p><p style=\"page-break-after:always;\"></p></p>"
   ]
  },
  {
   "cell_type": "markdown",
   "id": "f84d9b48",
   "metadata": {},
   "source": [
    "<b> Conclusions: </b>\n",
    "\n",
    "Comparing the PCA based model with the Linear regression model of last week's assignment, \n",
    "1. The prediction for the new city from the PCA model is 1,389 crime/100,000 population as compared to 1,304 from the linear 6 factors regression model.(very close results)\n",
    "2. A sensitivity analysis showed that using the first 5, 6 or 7 Principal components in the model will result in roughly the same cross-validated model accuracy. As a result, the simplest model (using the first 5 PC's) was used.\n",
    "2. Compairson between the 5 PC's linear regression model vs. the 6 factor linear regression model is shown in the table below.\n",
    "\n",
    "| Model | R2 directly evaluated on training set | Adjusted R2 directly evaluated on training set | R2 cross-validated | Adjusted R2 cross-validated |\n",
    "| --- | --- | --- | --- | --- |\n",
    "| 6-factor Linear Model | 0.766 | 0.731 | 0.638 | 0.584 |\n",
    "| 5 PC's Linear Model | 0.645 | 0.602 | 0.507 | 0.435 |\n",
    "\n",
    "From the table, \n",
    "1. For Both models, cross-validated R2 is lower than R2 evaluated on training data indicating overfitting by the models. This is due to the limited dataset as it has just 47 data points and 15 factors, a ratio of about 3:1, and it’s usually good to have a ratio of 10:1 or more.\n",
    "2. The 6-factor linear regression Model is better performing than the 5 principal components' model on training data and on cross-validation.\n",
    "3. The reason why PCA performs poorer than the linear regression model can be attributed to the PCA capturing noise within several of the higher-rated (First) PCs. PCA prioritizes features by their total variance, aiming to capture the most variance in the dataset as efficiently as it can. However, more variance doesn't necessarily mean more correlation with the dependent variable, it could be attributed to more noise in the variable."
   ]
  }
 ],
 "metadata": {
  "kernelspec": {
   "display_name": "R",
   "language": "R",
   "name": "ir"
  },
  "language_info": {
   "codemirror_mode": "r",
   "file_extension": ".r",
   "mimetype": "text/x-r-source",
   "name": "R",
   "pygments_lexer": "r",
   "version": "3.6.1"
  }
 },
 "nbformat": 4,
 "nbformat_minor": 5
}
