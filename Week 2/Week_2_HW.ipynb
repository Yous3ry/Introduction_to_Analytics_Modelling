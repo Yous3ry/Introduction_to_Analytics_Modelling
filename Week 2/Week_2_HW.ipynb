{
 "cells": [
  {
   "cell_type": "markdown",
   "id": "b613fd95",
   "metadata": {},
   "source": [
    "<h1> Week 2 Homework"
   ]
  },
  {
   "cell_type": "markdown",
   "id": "e05b726a",
   "metadata": {},
   "source": [
    "<h2>Question 3.1</h2>\n",
    "Using the same data set (credit_card_data.txt or credit_card_data-headers.txt) as in Question 2.2, use the ksvm or kknn function to find a good classifier:\n",
    "\n",
    "a) using cross-validation (do this for the k-nearest-neighbors model; SVM is optional); and\n",
    "\n",
    "b) splitting the data into training, validation, and test data sets (pick either KNN or SVM; the other\n",
    "is optional)."
   ]
  },
  {
   "cell_type": "markdown",
   "id": "ef4d2e46",
   "metadata": {},
   "source": [
    "<h3>Answer Part a)</h3>\n",
    "using cross-validation for the k-nearest-neighbors model"
   ]
  },
  {
   "cell_type": "code",
   "execution_count": 1,
   "id": "20014928",
   "metadata": {},
   "outputs": [
    {
     "data": {
      "text/html": [
       "<table>\n",
       "<thead><tr><th scope=col>A1</th><th scope=col>A2</th><th scope=col>A3</th><th scope=col>A8</th><th scope=col>A9</th><th scope=col>A10</th><th scope=col>A11</th><th scope=col>A12</th><th scope=col>A14</th><th scope=col>A15</th><th scope=col>R1</th></tr></thead>\n",
       "<tbody>\n",
       "\t<tr><td>1    </td><td>30.83</td><td>0.000</td><td>1.25 </td><td>1    </td><td>0    </td><td>1    </td><td>1    </td><td>202  </td><td>  0  </td><td>1    </td></tr>\n",
       "\t<tr><td>0    </td><td>58.67</td><td>4.460</td><td>3.04 </td><td>1    </td><td>0    </td><td>6    </td><td>1    </td><td> 43  </td><td>560  </td><td>1    </td></tr>\n",
       "\t<tr><td>0    </td><td>24.50</td><td>0.500</td><td>1.50 </td><td>1    </td><td>1    </td><td>0    </td><td>1    </td><td>280  </td><td>824  </td><td>1    </td></tr>\n",
       "\t<tr><td>1    </td><td>27.83</td><td>1.540</td><td>3.75 </td><td>1    </td><td>0    </td><td>5    </td><td>0    </td><td>100  </td><td>  3  </td><td>1    </td></tr>\n",
       "\t<tr><td>1    </td><td>20.17</td><td>5.625</td><td>1.71 </td><td>1    </td><td>1    </td><td>0    </td><td>1    </td><td>120  </td><td>  0  </td><td>1    </td></tr>\n",
       "\t<tr><td>1    </td><td>32.08</td><td>4.000</td><td>2.50 </td><td>1    </td><td>1    </td><td>0    </td><td>0    </td><td>360  </td><td>  0  </td><td>1    </td></tr>\n",
       "</tbody>\n",
       "</table>\n"
      ],
      "text/latex": [
       "\\begin{tabular}{r|lllllllllll}\n",
       " A1 & A2 & A3 & A8 & A9 & A10 & A11 & A12 & A14 & A15 & R1\\\\\n",
       "\\hline\n",
       "\t 1     & 30.83 & 0.000 & 1.25  & 1     & 0     & 1     & 1     & 202   &   0   & 1    \\\\\n",
       "\t 0     & 58.67 & 4.460 & 3.04  & 1     & 0     & 6     & 1     &  43   & 560   & 1    \\\\\n",
       "\t 0     & 24.50 & 0.500 & 1.50  & 1     & 1     & 0     & 1     & 280   & 824   & 1    \\\\\n",
       "\t 1     & 27.83 & 1.540 & 3.75  & 1     & 0     & 5     & 0     & 100   &   3   & 1    \\\\\n",
       "\t 1     & 20.17 & 5.625 & 1.71  & 1     & 1     & 0     & 1     & 120   &   0   & 1    \\\\\n",
       "\t 1     & 32.08 & 4.000 & 2.50  & 1     & 1     & 0     & 0     & 360   &   0   & 1    \\\\\n",
       "\\end{tabular}\n"
      ],
      "text/markdown": [
       "\n",
       "| A1 | A2 | A3 | A8 | A9 | A10 | A11 | A12 | A14 | A15 | R1 |\n",
       "|---|---|---|---|---|---|---|---|---|---|---|\n",
       "| 1     | 30.83 | 0.000 | 1.25  | 1     | 0     | 1     | 1     | 202   |   0   | 1     |\n",
       "| 0     | 58.67 | 4.460 | 3.04  | 1     | 0     | 6     | 1     |  43   | 560   | 1     |\n",
       "| 0     | 24.50 | 0.500 | 1.50  | 1     | 1     | 0     | 1     | 280   | 824   | 1     |\n",
       "| 1     | 27.83 | 1.540 | 3.75  | 1     | 0     | 5     | 0     | 100   |   3   | 1     |\n",
       "| 1     | 20.17 | 5.625 | 1.71  | 1     | 1     | 0     | 1     | 120   |   0   | 1     |\n",
       "| 1     | 32.08 | 4.000 | 2.50  | 1     | 1     | 0     | 0     | 360   |   0   | 1     |\n",
       "\n"
      ],
      "text/plain": [
       "  A1 A2    A3    A8   A9 A10 A11 A12 A14 A15 R1\n",
       "1 1  30.83 0.000 1.25 1  0   1   1   202   0 1 \n",
       "2 0  58.67 4.460 3.04 1  0   6   1    43 560 1 \n",
       "3 0  24.50 0.500 1.50 1  1   0   1   280 824 1 \n",
       "4 1  27.83 1.540 3.75 1  0   5   0   100   3 1 \n",
       "5 1  20.17 5.625 1.71 1  1   0   1   120   0 1 \n",
       "6 1  32.08 4.000 2.50 1  1   0   0   360   0 1 "
      ]
     },
     "metadata": {},
     "output_type": "display_data"
    }
   ],
   "source": [
    "# loading the dataset\n",
    "# READ DATASET as Matrix\n",
    "data_df <- as.data.frame(read.table(\"credit_card_data-headers.txt\", header = TRUE, sep = \"\\t\"))\n",
    "# Display Data\n",
    "head(data_df)"
   ]
  },
  {
   "cell_type": "markdown",
   "id": "d25b7528",
   "metadata": {},
   "source": [
    "<p><p style=\"page-break-after:always;\"></p></p>"
   ]
  },
  {
   "cell_type": "code",
   "execution_count": 2,
   "id": "9d8fd899",
   "metadata": {},
   "outputs": [],
   "source": [
    "# Fix Seed number to ensure same random selection effects\n",
    "set.seed(1)\n",
    "# create train and test data set\n",
    "N <- nrow(data_df)\n",
    "test_percentage <- 0.2\n",
    "random_test_indx <- sample(1 : N, size = round(test_percentage*N,0), replace = F)\n",
    "# Define Training and testing data frames\n",
    "testing_df <- data_df[random_test_indx,]\n",
    "training_df <- data_df[-random_test_indx,]"
   ]
  },
  {
   "cell_type": "code",
   "execution_count": 3,
   "id": "666b0c99",
   "metadata": {},
   "outputs": [
    {
     "name": "stderr",
     "output_type": "stream",
     "text": [
      "Registered S3 methods overwritten by 'ggplot2':\n",
      "  method         from \n",
      "  [.quosures     rlang\n",
      "  c.quosures     rlang\n",
      "  print.quosures rlang\n"
     ]
    }
   ],
   "source": [
    "# load required libraries\n",
    "options(warn=-1) # used to suppress warnings\n",
    "library(ggplot2)\n",
    "library(kknn)"
   ]
  },
  {
   "cell_type": "code",
   "execution_count": 4,
   "id": "a1687803",
   "metadata": {},
   "outputs": [],
   "source": [
    "# Vector to store accuracy\n",
    "Accuracy <- seq(2,50,1)\n",
    "# Vector to store K list\n",
    "k_list <- seq(2,50,1)\n",
    "# loop through different K values\n",
    "for (j in 1:49)\n",
    "{\n",
    "# building the model with cv.kknn function with K-fold cross validation = 10\n",
    "KNN_model <- cv.kknn(formula=R1~., data=training_df, kcv=10, k=j, scale=TRUE)\n",
    "# analyzing the results\n",
    "result <- as.data.frame(KNN_model[1])\n",
    "result[,\"yhat\"] <-round(result[,\"yhat\"],0)\n",
    "Accuracy[j] <- sum(result[,\"yhat\"]==result[,\"y\"])/nrow(result)\n",
    "}\n",
    "knn_cv_df <- data.frame(k_list, Accuracy)"
   ]
  },
  {
   "cell_type": "markdown",
   "id": "7f5e89dd",
   "metadata": {},
   "source": [
    "<p><p style=\"page-break-after:always;\"></p></p>"
   ]
  },
  {
   "cell_type": "code",
   "execution_count": 5,
   "id": "883e5736",
   "metadata": {
    "scrolled": false
   },
   "outputs": [
    {
     "data": {
      "image/png": "[encoded data removed]",
      "text/plain": [
       "plot without title"
      ]
     },
     "metadata": {},
     "output_type": "display_data"
    }
   ],
   "source": [
    "# plot the results\n",
    "knn_plot <-  ggplot(knn_cv_df, aes(x=k_list, y=Accuracy)) +\n",
    "  geom_line(size=2, color=\"blue\")+\n",
    "  geom_point(size=2, color=\"black\")+\n",
    "  ggtitle(\"Impact of k on Accuracy of KNN Model\")+\n",
    "  labs(x=\"k\", Y=\"Accuracy\")+\n",
    "  ylim(0.7, 1)+\n",
    "  xlim(0, 50)+\n",
    "  theme_bw()\n",
    "knn_plot"
   ]
  },
  {
   "cell_type": "markdown",
   "id": "e70c18bd",
   "metadata": {},
   "source": [
    "From the Plot, It appears all cases with k >= 7 has relatively the same Accuracy +/- 85% with possible slight decline at fairly high k values. "
   ]
  },
  {
   "cell_type": "markdown",
   "id": "942b4170",
   "metadata": {},
   "source": [
    "<p><p style=\"page-break-after:always;\"></p></p>"
   ]
  },
  {
   "cell_type": "code",
   "execution_count": 6,
   "id": "31827e92",
   "metadata": {},
   "outputs": [
    {
     "data": {
      "text/html": [
       "26"
      ],
      "text/latex": [
       "26"
      ],
      "text/markdown": [
       "26"
      ],
      "text/plain": [
       "[1] 26"
      ]
     },
     "metadata": {},
     "output_type": "display_data"
    },
    {
     "data": {
      "text/html": [
       "0.8681"
      ],
      "text/latex": [
       "0.8681"
      ],
      "text/markdown": [
       "0.8681"
      ],
      "text/plain": [
       "[1] 0.8681"
      ]
     },
     "metadata": {},
     "output_type": "display_data"
    }
   ],
   "source": [
    "# Define Best K and its Accuracy\n",
    "best_k <- knn_cv_df[which.max(knn_cv_df[,\"Accuracy\"]),\"k_list\"]\n",
    "best_k\n",
    "best_k_CV_Accuracy <- knn_cv_df[which.max(knn_cv_df[,\"Accuracy\"]),\"Accuracy\"]\n",
    "round(best_k_CV_Accuracy,4)"
   ]
  },
  {
   "cell_type": "code",
   "execution_count": 7,
   "id": "b2532293",
   "metadata": {},
   "outputs": [
    {
     "data": {
      "text/html": [
       "0.8244"
      ],
      "text/latex": [
       "0.8244"
      ],
      "text/markdown": [
       "0.8244"
      ],
      "text/plain": [
       "[1] 0.8244"
      ]
     },
     "metadata": {},
     "output_type": "display_data"
    }
   ],
   "source": [
    "# Build the best model for Validation\n",
    "Final_model <- train.kknn(formula=R1~., data=training_df, ks=best_k, scale=TRUE)\n",
    "# Predict results of the testing data set\n",
    "predict_test <- predict(Final_model, testing_df[,1:10])\n",
    "CV_Accuracy <- sum(round(predict_test, 0)==testing_df[,11])/nrow(testing_df)\n",
    "round(CV_Accuracy,4)"
   ]
  },
  {
   "cell_type": "markdown",
   "id": "140b2c41",
   "metadata": {
    "scrolled": true
   },
   "source": [
    "<b> Conclusions </b>\n",
    "\n",
    "Based on the results, The optimum k value is 26 based on Cross validation (Accuracy = 86.8%) however testing showed the model Accuracy to be 82.4%.\n",
    "The reduction in model accuracy on testing indicates the presence of Random effects "
   ]
  },
  {
   "cell_type": "markdown",
   "id": "84719bb6",
   "metadata": {},
   "source": [
    "<p><p style=\"page-break-after:always;\"></p></p>"
   ]
  },
  {
   "cell_type": "markdown",
   "id": "aa392e5f",
   "metadata": {},
   "source": [
    "<h3>Answer Part b)</h3>\n",
    "splitting the data into training, validation, and test data sets for the k-nearest-neighbors model"
   ]
  },
  {
   "cell_type": "code",
   "execution_count": 8,
   "id": "a578ef7d",
   "metadata": {},
   "outputs": [],
   "source": [
    "# Fix Seed number to ensure same random selection effects\n",
    "set.seed(0)\n",
    "# Number of data points in Data Frame\n",
    "N <- nrow(data_df)\n",
    "# list of all indeces\n",
    "idx <- seq(1, N)\n",
    "# Defining percentage of validation and test\n",
    "# for consistency, Testing data farme will remain constant in both parts (a & b) \n",
    "# but training dataframe in part a will be split into training and validation\n",
    "# testing set to 20% while training set from Exercise 1b split into validation 20% and the remaining 60% for training\n",
    "validation_fraction <- 0.20\n",
    "# remaining index for training and validation\n",
    "remaining_idx <- idx[! (idx %in% random_test_indx)]\n",
    "# define validation index\n",
    "validation_idx <- sample(remaining_idx, size = round(validation_fraction*N,0), replace = F)\n",
    "# define training index\n",
    "training_idx <- remaining_idx[! (remaining_idx %in% validation_idx)]"
   ]
  },
  {
   "cell_type": "code",
   "execution_count": 9,
   "id": "481a31ed",
   "metadata": {},
   "outputs": [],
   "source": [
    "# Create Data Frame for each data set\n",
    "training_df <- data_df[training_idx,]\n",
    "validation_df <- data_df[validation_idx,]"
   ]
  },
  {
   "cell_type": "code",
   "execution_count": 10,
   "id": "a524a820",
   "metadata": {},
   "outputs": [],
   "source": [
    "# load required library\n",
    "#install.packages(\"kknn\")\n",
    "options(warn=-1) # used to suppress warnings\n",
    "library(kknn)"
   ]
  },
  {
   "cell_type": "code",
   "execution_count": 11,
   "id": "9f537167",
   "metadata": {},
   "outputs": [],
   "source": [
    "# Vector to store accuracy\n",
    "Accuracy <- seq(2,50,1)\n",
    "# Vector to store K list\n",
    "k_list <- seq(2,50,1)\n",
    "# loop through different K values\n",
    "for (j in 1:49)\n",
    "{\n",
    "    KNN_model <- train.kknn(formula=R1~., data=training_df, ks=j, scale=TRUE)\n",
    "    predict_test <- predict(KNN_model, validation_df[,1:10])\n",
    "    Accuracy[j] <- sum(round(predict_test, 0)==validation_df[,11])/nrow(validation_df)\n",
    "}\n",
    "# store results in a Dataframe\n",
    "knn_df <- data.frame(k_list, Accuracy)"
   ]
  },
  {
   "cell_type": "markdown",
   "id": "a8aa88c5",
   "metadata": {},
   "source": [
    "<p><p style=\"page-break-after:always;\"></p></p>"
   ]
  },
  {
   "cell_type": "code",
   "execution_count": 12,
   "id": "77474358",
   "metadata": {
    "scrolled": false
   },
   "outputs": [
    {
     "data": {
      "image/png": "[encoded data removed]",
      "text/plain": [
       "plot without title"
      ]
     },
     "metadata": {},
     "output_type": "display_data"
    }
   ],
   "source": [
    "# Plot the impact of k value on Accuracy\n",
    "knn_plot <-  ggplot(knn_df, aes(x=k_list, y=Accuracy)) +\n",
    "  geom_line(size=2, color=\"blue\")+\n",
    "  geom_point(size=2, color=\"black\")+\n",
    "  ggtitle(\"Impact of k on Accuracy of KNN Model\")+\n",
    "  labs(x=\"k\", Y=\"Accuracy\")+\n",
    "  ylim(0.7, 1)+\n",
    "  xlim(0, 50)+\n",
    "  theme_bw()\n",
    "knn_plot"
   ]
  },
  {
   "cell_type": "markdown",
   "id": "742554ea",
   "metadata": {},
   "source": [
    "Similar to the Cross-Validation plot, This plot shows all cases with k >= 6 has relatively the same Accuracy +/- 85% with possible slight decline at fairly high k values. "
   ]
  },
  {
   "cell_type": "markdown",
   "id": "b33c50b8",
   "metadata": {},
   "source": [
    "<p><p style=\"page-break-after:always;\"></p></p> "
   ]
  },
  {
   "cell_type": "code",
   "execution_count": 13,
   "id": "df42bc97",
   "metadata": {},
   "outputs": [
    {
     "data": {
      "text/html": [
       "7"
      ],
      "text/latex": [
       "7"
      ],
      "text/markdown": [
       "7"
      ],
      "text/plain": [
       "[1] 7"
      ]
     },
     "metadata": {},
     "output_type": "display_data"
    },
    {
     "data": {
      "text/html": [
       "0.8702"
      ],
      "text/latex": [
       "0.8702"
      ],
      "text/markdown": [
       "0.8702"
      ],
      "text/plain": [
       "[1] 0.8702"
      ]
     },
     "metadata": {},
     "output_type": "display_data"
    }
   ],
   "source": [
    "# Define Best K and its Accuracy\n",
    "best_k <- knn_df[which.max(knn_df[,\"Accuracy\"]),\"k_list\"]\n",
    "best_k\n",
    "best_k_CV_Accuracy <- knn_df[which.max(knn_df[,\"Accuracy\"]),\"Accuracy\"]\n",
    "round(best_k_CV_Accuracy,4)"
   ]
  },
  {
   "cell_type": "code",
   "execution_count": 14,
   "id": "fc125d72",
   "metadata": {},
   "outputs": [
    {
     "data": {
      "text/html": [
       "0.8168"
      ],
      "text/latex": [
       "0.8168"
      ],
      "text/markdown": [
       "0.8168"
      ],
      "text/plain": [
       "[1] 0.8168"
      ]
     },
     "metadata": {},
     "output_type": "display_data"
    }
   ],
   "source": [
    "# Build the best model for Validation\n",
    "Final_model <- train.kknn(formula=R1~., data=training_df, ks=best_k, scale=TRUE)\n",
    "# Predict results of the testing data set\n",
    "predict_test <- predict(Final_model, testing_df[,1:10])\n",
    "Accuracy <- sum(round(predict_test, 0)==testing_df[,11])/nrow(testing_df)\n",
    "round(Accuracy,4)"
   ]
  },
  {
   "cell_type": "markdown",
   "id": "8330cbec",
   "metadata": {},
   "source": [
    "<b> Conclusions </b>\n",
    "\n",
    "Based on the results of the training, validation and testing split, The optimum k value is 7 based on validation (Accuracy = 87.0%) however testing showed the model Accuracy to be 81.7%.\n",
    "\n",
    "The reduction in model accuracy on testing indicates the presence of Random effects.\n",
    "\n",
    "On the other hand, both models (training, validation and testing split and cross validation) shows the same testing accuracy of around 82% (82.4 vs 81.7%) indicating that both technique although reached different k optimal number, created a model that has the same testing accuracy.\n",
    "\n",
    "This is aligned with the graphs showing small difference in Accuracy at k >= 7."
   ]
  },
  {
   "cell_type": "markdown",
   "id": "5ad925db",
   "metadata": {},
   "source": [
    "<p><p style=\"page-break-after:always;\"></p></p>"
   ]
  },
  {
   "cell_type": "markdown",
   "id": "a1f98165",
   "metadata": {},
   "source": [
    "<h2>Question 4.1</h2>\n",
    "\n",
    "Describe a situation or problem from your job, everyday life, current events, etc., for which a clustering\n",
    "model would be appropriate. List some (up to 5) predictors that you might use."
   ]
  },
  {
   "cell_type": "markdown",
   "id": "85e5e2cf",
   "metadata": {},
   "source": [
    "<b> Answer </b>\n",
    "\n",
    "In Petroleum Engineering, clustering can be used to identify groups of hydrocarbon producing wells that are similar to each other.\n",
    "Possible predictors:\n",
    "1. Reservoir rock quality intersected by the well\n",
    "2. Type of Hydrocarbon fluid (e.g. Oil or Gas and its properties)\n",
    "3. Producing formation and it's properties (e.g. Depth, General regional understanding, etc.)\n",
    "4. Drive Mehcnism responsible for reservoir pressure maintainance.\n",
    "\n",
    "This can help in better predicting the performance of new wells, forecast the performance of existing wells, identify over/under performing wells for further investigation or intervention, etc."
   ]
  },
  {
   "cell_type": "markdown",
   "id": "126ad990",
   "metadata": {},
   "source": [
    "<p><p style=\"page-break-after:always;\"></p></p>"
   ]
  },
  {
   "cell_type": "markdown",
   "id": "6585268f",
   "metadata": {},
   "source": [
    "<h2>Question 4.2</h2>\n",
    "\n",
    "The iris data set iris.txt contains 150 data points, each with four predictor variables and one categorical response. The predictors are the width and length of the sepal and petal of flowers and the response is the type of flower. The data is available from the R library datasets and can be accessed with iris once the library is loaded. It is also available at the UCI Machine Learning Repository (https://archive.ics.uci.edu/ml/datasets/Iris ). The response values are only given to see how well a specific method performed and should not be used to build the model.\n",
    "\n",
    "Use the R function kmeans to cluster the points as well as possible.\n",
    "Report the best combination of predictors, your suggested value of k, and how well your best clustering predicts flower type"
   ]
  },
  {
   "cell_type": "markdown",
   "id": "4a406c05",
   "metadata": {},
   "source": [
    "<h3>Answer 4.2</h3>"
   ]
  },
  {
   "cell_type": "code",
   "execution_count": 15,
   "id": "33c97d52",
   "metadata": {},
   "outputs": [
    {
     "data": {
      "text/html": [
       "<table>\n",
       "<thead><tr><th scope=col>sepal_length</th><th scope=col>sepal_width</th><th scope=col>petal_length</th><th scope=col>petal_width</th><th scope=col>class</th></tr></thead>\n",
       "<tbody>\n",
       "\t<tr><td>5.1        </td><td>3.5        </td><td>1.4        </td><td>0.2        </td><td>Iris-setosa</td></tr>\n",
       "\t<tr><td>4.9        </td><td>3.0        </td><td>1.4        </td><td>0.2        </td><td>Iris-setosa</td></tr>\n",
       "\t<tr><td>4.7        </td><td>3.2        </td><td>1.3        </td><td>0.2        </td><td>Iris-setosa</td></tr>\n",
       "\t<tr><td>4.6        </td><td>3.1        </td><td>1.5        </td><td>0.2        </td><td>Iris-setosa</td></tr>\n",
       "\t<tr><td>5.0        </td><td>3.6        </td><td>1.4        </td><td>0.2        </td><td>Iris-setosa</td></tr>\n",
       "\t<tr><td>5.4        </td><td>3.9        </td><td>1.7        </td><td>0.4        </td><td>Iris-setosa</td></tr>\n",
       "</tbody>\n",
       "</table>\n"
      ],
      "text/latex": [
       "\\begin{tabular}{r|lllll}\n",
       " sepal\\_length & sepal\\_width & petal\\_length & petal\\_width & class\\\\\n",
       "\\hline\n",
       "\t 5.1         & 3.5         & 1.4         & 0.2         & Iris-setosa\\\\\n",
       "\t 4.9         & 3.0         & 1.4         & 0.2         & Iris-setosa\\\\\n",
       "\t 4.7         & 3.2         & 1.3         & 0.2         & Iris-setosa\\\\\n",
       "\t 4.6         & 3.1         & 1.5         & 0.2         & Iris-setosa\\\\\n",
       "\t 5.0         & 3.6         & 1.4         & 0.2         & Iris-setosa\\\\\n",
       "\t 5.4         & 3.9         & 1.7         & 0.4         & Iris-setosa\\\\\n",
       "\\end{tabular}\n"
      ],
      "text/markdown": [
       "\n",
       "| sepal_length | sepal_width | petal_length | petal_width | class |\n",
       "|---|---|---|---|---|\n",
       "| 5.1         | 3.5         | 1.4         | 0.2         | Iris-setosa |\n",
       "| 4.9         | 3.0         | 1.4         | 0.2         | Iris-setosa |\n",
       "| 4.7         | 3.2         | 1.3         | 0.2         | Iris-setosa |\n",
       "| 4.6         | 3.1         | 1.5         | 0.2         | Iris-setosa |\n",
       "| 5.0         | 3.6         | 1.4         | 0.2         | Iris-setosa |\n",
       "| 5.4         | 3.9         | 1.7         | 0.4         | Iris-setosa |\n",
       "\n"
      ],
      "text/plain": [
       "  sepal_length sepal_width petal_length petal_width class      \n",
       "1 5.1          3.5         1.4          0.2         Iris-setosa\n",
       "2 4.9          3.0         1.4          0.2         Iris-setosa\n",
       "3 4.7          3.2         1.3          0.2         Iris-setosa\n",
       "4 4.6          3.1         1.5          0.2         Iris-setosa\n",
       "5 5.0          3.6         1.4          0.2         Iris-setosa\n",
       "6 5.4          3.9         1.7          0.4         Iris-setosa"
      ]
     },
     "metadata": {},
     "output_type": "display_data"
    },
    {
     "data": {
      "text/html": [
       "150"
      ],
      "text/latex": [
       "150"
      ],
      "text/markdown": [
       "150"
      ],
      "text/plain": [
       "[1] 150"
      ]
     },
     "metadata": {},
     "output_type": "display_data"
    }
   ],
   "source": [
    "# loading the dataset\n",
    "# READ DATASET as Matrix\n",
    "iris <- as.data.frame(read.table(\"iris.txt\", header = FALSE, sep = \",\"))\n",
    "colnames(iris) <- c(\"sepal_length\", \"sepal_width\", \"petal_length\", \"petal_width\", \"class\")\n",
    "# Display Data\n",
    "head(iris)\n",
    "nrow(iris)"
   ]
  },
  {
   "cell_type": "markdown",
   "id": "e3ca9073",
   "metadata": {},
   "source": [
    "<p><p style=\"page-break-after:always;\"></p></p>"
   ]
  },
  {
   "cell_type": "code",
   "execution_count": 16,
   "id": "adcf700c",
   "metadata": {},
   "outputs": [
    {
     "data": {
      "image/png": "[encoded data removed]",
      "text/plain": [
       "plot without title"
      ]
     },
     "metadata": {},
     "output_type": "display_data"
    }
   ],
   "source": [
    "# visual inspection by pairs plot\n",
    "pairs(iris[1:4], col = iris$class, lower.panel=NULL)"
   ]
  },
  {
   "cell_type": "markdown",
   "id": "616a0b7d",
   "metadata": {},
   "source": [
    "Visual inspection of the data shows that there are a few pairs (e.g. petal length and petal width, sepal width and petal width, etc.) are able to groups the different classes effectively within distinct clusters. Other pairs (e.g. sepal length sepal width) has a lower correlation with the classes and two classes (red and green) has no clear distinction between their cluster boundary."
   ]
  },
  {
   "cell_type": "markdown",
   "id": "593a3644",
   "metadata": {},
   "source": [
    "<p><p style=\"page-break-after:always;\"></p></p>"
   ]
  },
  {
   "cell_type": "code",
   "execution_count": 17,
   "id": "06e076bf",
   "metadata": {},
   "outputs": [],
   "source": [
    "# scaling the data\n",
    "iris_df <- iris\n",
    "iris_df[,1:4] = scale(iris_df[,1:4])"
   ]
  },
  {
   "cell_type": "code",
   "execution_count": 18,
   "id": "db701036",
   "metadata": {},
   "outputs": [],
   "source": [
    "# fix Seed number\n",
    "set.seed(1)\n",
    "# Vector of k define the optimum number of k points\n",
    "k_list <- seq(1,25)\n",
    "# vector to store sum withins results\n",
    "sum_withins <- seq(1,25)\n",
    "# Building kmeans model\n",
    "for (i in k_list){\n",
    "    kmeans_model <- kmeans(iris_df[,1:4], centers=i)\n",
    "    # flatten the withins list and get the within-cluster sum of squares distance value\n",
    "    withins <- unlist(kmeans_model$tot.withinss, recursive = TRUE, use.names = FALSE)\n",
    "    sum_withins[i] <- withins[1]\n",
    "}\n",
    "# convert results to dataframe\n",
    "kmeans_results <- data.frame(k_list, sum_withins)"
   ]
  },
  {
   "cell_type": "markdown",
   "id": "c0b24480",
   "metadata": {},
   "source": [
    "<p><p style=\"page-break-after:always;\"></p></p>"
   ]
  },
  {
   "cell_type": "code",
   "execution_count": 19,
   "id": "25fa1bba",
   "metadata": {},
   "outputs": [
    {
     "data": {
      "image/png": "[encoded data removed]",
      "text/plain": [
       "plot without title"
      ]
     },
     "metadata": {},
     "output_type": "display_data"
    }
   ],
   "source": [
    "# Plot the impact of k value on total within-cluster sum of squares distance\n",
    "kmeans_plot <-  ggplot(kmeans_results, aes(x=k_list, y=sum_withins)) +\n",
    "  geom_line(size=2, color=\"blue\")+\n",
    "  geom_point(size=2, color=\"black\")+\n",
    "  ggtitle(\"Impact of k clusters on total within-cluster sum of squares distance, Elbow diagram\")+\n",
    "  annotate(\"segment\", x = 3, xend = 7, y = 140, yend = 200, colour = \"black\", size=0.75, alpha=0.6)+\n",
    "  annotate(\"text\", x = 7, y = 220, label = \"Optimum number of clusters\", color=\"red\")+\n",
    "  theme_bw()\n",
    "kmeans_plot"
   ]
  },
  {
   "cell_type": "markdown",
   "id": "4f753df4",
   "metadata": {},
   "source": [
    "<p><p style=\"page-break-after:always;\"></p></p>"
   ]
  },
  {
   "cell_type": "code",
   "execution_count": 20,
   "id": "e7a8929c",
   "metadata": {},
   "outputs": [
    {
     "data": {
      "text/html": [
       "3"
      ],
      "text/latex": [
       "3"
      ],
      "text/markdown": [
       "3"
      ],
      "text/plain": [
       "[1] 3"
      ]
     },
     "metadata": {},
     "output_type": "display_data"
    }
   ],
   "source": [
    "# find unique number of classes in dataset\n",
    "length(unique(iris_df[,5]))"
   ]
  },
  {
   "cell_type": "markdown",
   "id": "cfe8d4fd",
   "metadata": {},
   "source": [
    "Given that the optimum number of clusters from Elbow diagram agrees with the actual clusters is a good indicator of data quality."
   ]
  },
  {
   "cell_type": "code",
   "execution_count": 21,
   "id": "26fb01ed",
   "metadata": {},
   "outputs": [],
   "source": [
    "# fix Seed number\n",
    "set.seed(1)\n",
    "# Building the model\n",
    "kmeans_model <- kmeans(iris_df[,1:4], centers=3)\n",
    "# Model results\n",
    "kmeans_results <- kmeans_model$cluster"
   ]
  },
  {
   "cell_type": "code",
   "execution_count": 22,
   "id": "8266dbc3",
   "metadata": {},
   "outputs": [],
   "source": [
    "# create mode function\n",
    "# Create the function.\n",
    "getmode <- function(v) {\n",
    "   uniqv <- unique(v)\n",
    "   uniqv[which.max(tabulate(match(v, uniqv)))]\n",
    "}\n",
    "# mapping kmeans results to class column in data frame\n",
    "class_1 <- getmode(kmeans_model$cluster[1:50])\n",
    "class_2 <- getmode(kmeans_model$cluster[50:100])\n",
    "class_3 <- getmode(kmeans_model$cluster[100:150])\n",
    "# convert factors in data frame to numeric factors \n",
    "mapping <- c(\"setosa\"=class_1,\"versicolor\"=class_2,\"virginica\"=class_3)\n",
    "iris_df[\"Class_Factor\"] <- mapping[iris_df[,5]]"
   ]
  },
  {
   "cell_type": "code",
   "execution_count": 23,
   "id": "dac786d1",
   "metadata": {},
   "outputs": [
    {
     "name": "stdout",
     "output_type": "stream",
     "text": [
      "[1] \"K-means model Accuracy\"\n"
     ]
    },
    {
     "data": {
      "text/html": [
       "0.8333"
      ],
      "text/latex": [
       "0.8333"
      ],
      "text/markdown": [
       "0.8333"
      ],
      "text/plain": [
       "[1] 0.8333"
      ]
     },
     "metadata": {},
     "output_type": "display_data"
    }
   ],
   "source": [
    "# Find model accuracy\n",
    "Accuracy <- sum(iris_df[\"Class_Factor\"]==kmeans_results)/nrow(iris_df)\n",
    "print(\"K-means model Accuracy\")\n",
    "round(Accuracy,4)"
   ]
  },
  {
   "cell_type": "markdown",
   "id": "9d256feb",
   "metadata": {},
   "source": [
    "<b> Conclusions </b>\n",
    "\n",
    "Based on testing the Base Model (created by all 4 predictors) aganist the true classes, the model has an accuracy of 83.3% with 3 clusters"
   ]
  },
  {
   "cell_type": "markdown",
   "id": "8507e580",
   "metadata": {},
   "source": [
    "<p><p style=\"page-break-after:always;\"></p></p>"
   ]
  },
  {
   "cell_type": "markdown",
   "id": "9b7aff8d",
   "metadata": {},
   "source": [
    "<b> Tetsing different column combinations </b>"
   ]
  },
  {
   "cell_type": "markdown",
   "id": "48ac12f5",
   "metadata": {},
   "source": [
    "The main assumption is we can not judge by Model accuracy since in clustering the Response is typically is not known otherwise classification techniques would be more suitable.\n",
    "\n",
    "Two Metrics will be used to evaluate the clustering technique using different input predictors:\n",
    "1. Total within-cluster Sum of Squares (WSS means the sum of distances between the points and the corresponding centroids for each cluster). The better model has the smallest within cluster sum of squares (points are closest to their cluster centroid)\n",
    "2. The between-cluster Sum of Squares (BSS means the squared average distance between all centroids). The better model has the largest between cluster centroids sum of squares (the centroids are most further apart, i.e. more distinct)\n",
    "\n",
    "Reference: \n",
    "https://support.minitab.com/en-us/minitab/18/help-and-how-to/modeling-statistics/multivariate/how-to/cluster-k-means/interpret-the-results/all-statistics-and-graphs/"
   ]
  },
  {
   "attachments": {
    "image-2.png": {
     "image/png": "[encoded data removed]"
    }
   },
   "cell_type": "markdown",
   "id": "ce54334a",
   "metadata": {},
   "source": [
    "![image-2.png](attachment:image-2.png)"
   ]
  },
  {
   "cell_type": "markdown",
   "id": "5acae99e",
   "metadata": {},
   "source": [
    "<p><p style=\"page-break-after:always;\"></p></p>"
   ]
  },
  {
   "cell_type": "code",
   "execution_count": 24,
   "id": "8a8fabcf",
   "metadata": {},
   "outputs": [
    {
     "data": {
      "text/html": [
       "140"
      ],
      "text/latex": [
       "140"
      ],
      "text/markdown": [
       "140"
      ],
      "text/plain": [
       "[1] 140"
      ]
     },
     "metadata": {},
     "output_type": "display_data"
    },
    {
     "data": {
      "text/html": [
       "456"
      ],
      "text/latex": [
       "456"
      ],
      "text/markdown": [
       "456"
      ],
      "text/plain": [
       "[1] 456"
      ]
     },
     "metadata": {},
     "output_type": "display_data"
    },
    {
     "data": {
      "text/html": [
       "<table>\n",
       "<thead><tr><th scope=col>Model</th><th scope=col>WSS</th><th scope=col>BSS</th></tr></thead>\n",
       "<tbody>\n",
       "\t<tr><td>Base Model(4 Cols)</td><td>140               </td><td>456               </td></tr>\n",
       "</tbody>\n",
       "</table>\n"
      ],
      "text/latex": [
       "\\begin{tabular}{r|lll}\n",
       " Model & WSS & BSS\\\\\n",
       "\\hline\n",
       "\t Base Model(4 Cols) & 140                & 456               \\\\\n",
       "\\end{tabular}\n"
      ],
      "text/markdown": [
       "\n",
       "| Model | WSS | BSS |\n",
       "|---|---|---|\n",
       "| Base Model(4 Cols) | 140                | 456                |\n",
       "\n"
      ],
      "text/plain": [
       "  Model              WSS BSS\n",
       "1 Base Model(4 Cols) 140 456"
      ]
     },
     "metadata": {},
     "output_type": "display_data"
    }
   ],
   "source": [
    "# Total within-cluster sum of squares\n",
    "round(kmeans_model$tot.withinss,0)\n",
    "# The between-cluster sum of squares\n",
    "round(kmeans_model$betweenss,0)\n",
    "\n",
    "model_name <- \"Base Model(4 Cols)\"\n",
    "cols_compare_df <- data.frame(Model=model_name, \n",
    "                              WSS=round(kmeans_model$tot.withinss,0), BSS=round(kmeans_model$betweenss,0))\n",
    "cols_compare_df"
   ]
  },
  {
   "cell_type": "code",
   "execution_count": 25,
   "id": "86893e79",
   "metadata": {},
   "outputs": [],
   "source": [
    "# creating 3 columns combinations\n",
    "# fix Seed number\n",
    "set.seed(1)\n",
    "# testing the different permutations of the predictors\n",
    "#install.packages(\"gtools\")\n",
    "library(gtools)\n",
    "# creating 3 columns combinations\n",
    "comb_data <- as.data.frame(combinations(n = 4, r = 3, v = 1:4, repeats.allowed = FALSE))\n",
    "# loop through all combinations\n",
    "for (i in 1:nrow(comb_data)){\n",
    "    # Building the model\n",
    "    model_data <- iris_df[,c(comb_data[i,1],comb_data[i,2],comb_data[i,3])]\n",
    "    iter_kmeans_model <- kmeans(model_data, centers=3)\n",
    "    # adding the data to a dataframe\n",
    "    model_name <- paste(colnames(model_data), collapse = ' / ')\n",
    "    data <- c(model_name, round(iter_kmeans_model$tot.withinss,0), round(iter_kmeans_model$betweenss,0))\n",
    "    new_df <- data.frame(\"Model\"=(data[1]), \"WSS\"=data[2], \"BSS\"=data[3])\n",
    "    cols_compare_df <- rbind(cols_compare_df, new_df)\n",
    "}"
   ]
  },
  {
   "cell_type": "code",
   "execution_count": 26,
   "id": "1ccdd980",
   "metadata": {},
   "outputs": [],
   "source": [
    "# creating 2 columns combinations\n",
    "comb_data <- as.data.frame(combinations(n = 4, r = 2, v = 1:4, repeats.allowed = FALSE))\n",
    "# loop through all combinations\n",
    "for (i in 1:nrow(comb_data)){\n",
    "    # Building the model\n",
    "    model_data <- iris_df[,c(comb_data[i,1],comb_data[i,2])]\n",
    "    # Building the model\n",
    "    model_name <- paste(colnames(model_data), collapse = '&')\n",
    "    iter_kmeans_model <- kmeans(model_data, centers=3)\n",
    "    # adding the data to a dataframe\n",
    "    model_name <- paste(colnames(model_data), collapse = ' / ')\n",
    "    data <- c(model_name, round(iter_kmeans_model$tot.withinss,0), round(iter_kmeans_model$betweenss,0))\n",
    "    new_df <- data.frame(\"Model\"=(data[1]), \"WSS\"=data[2], \"BSS\"=data[3])\n",
    "    cols_compare_df <- rbind(cols_compare_df, new_df)\n",
    "}"
   ]
  },
  {
   "cell_type": "markdown",
   "id": "100ae42d",
   "metadata": {},
   "source": [
    "<p><p style=\"page-break-after:always;\"></p></p>"
   ]
  },
  {
   "cell_type": "code",
   "execution_count": 27,
   "id": "e5342851",
   "metadata": {},
   "outputs": [
    {
     "data": {
      "text/html": [
       "<table>\n",
       "<thead><tr><th></th><th scope=col>Model</th><th scope=col>WSS</th><th scope=col>BSS</th></tr></thead>\n",
       "<tbody>\n",
       "\t<tr><th scope=row>1</th><td>Base Model(4 Cols)                       </td><td>140                                      </td><td>456                                      </td></tr>\n",
       "\t<tr><th scope=row>4</th><td>sepal_length / petal_length / petal_width</td><td>63                                       </td><td>384                                      </td></tr>\n",
       "\t<tr><th scope=row>5</th><td>sepal_width / petal_length / petal_width </td><td>96                                       </td><td>351                                      </td></tr>\n",
       "\t<tr><th scope=row>2</th><td>sepal_length / sepal_width / petal_length</td><td>120                                      </td><td>327                                      </td></tr>\n",
       "\t<tr><th scope=row>3</th><td>sepal_length / sepal_width / petal_width </td><td>126                                      </td><td>321                                      </td></tr>\n",
       "\t<tr><th scope=row>11</th><td>petal_length / petal_width               </td><td>18                                       </td><td>280                                      </td></tr>\n",
       "\t<tr><th scope=row>7</th><td>sepal_length / petal_length              </td><td>43                                       </td><td>255                                      </td></tr>\n",
       "\t<tr><th scope=row>8</th><td>sepal_length / petal_width               </td><td>51                                       </td><td>247                                      </td></tr>\n",
       "\t<tr><th scope=row>9</th><td>sepal_width / petal_length               </td><td>76                                       </td><td>222                                      </td></tr>\n",
       "\t<tr><th scope=row>10</th><td>sepal_width / petal_width                </td><td>80                                       </td><td>218                                      </td></tr>\n",
       "\t<tr><th scope=row>6</th><td>sepal_length / sepal_width               </td><td>103                                      </td><td>195                                      </td></tr>\n",
       "</tbody>\n",
       "</table>\n"
      ],
      "text/latex": [
       "\\begin{tabular}{r|lll}\n",
       "  & Model & WSS & BSS\\\\\n",
       "\\hline\n",
       "\t1 & Base Model(4 Cols)                        & 140                                       & 456                                      \\\\\n",
       "\t4 & sepal\\_length / petal\\_length / petal\\_width & 63                                              & 384                                            \\\\\n",
       "\t5 & sepal\\_width / petal\\_length / petal\\_width  & 96                                              & 351                                            \\\\\n",
       "\t2 & sepal\\_length / sepal\\_width / petal\\_length & 120                                             & 327                                            \\\\\n",
       "\t3 & sepal\\_length / sepal\\_width / petal\\_width  & 126                                             & 321                                            \\\\\n",
       "\t11 & petal\\_length / petal\\_width                & 18                                            & 280                                          \\\\\n",
       "\t7 & sepal\\_length / petal\\_length               & 43                                            & 255                                          \\\\\n",
       "\t8 & sepal\\_length / petal\\_width                & 51                                            & 247                                          \\\\\n",
       "\t9 & sepal\\_width / petal\\_length                & 76                                            & 222                                          \\\\\n",
       "\t10 & sepal\\_width / petal\\_width                 & 80                                            & 218                                          \\\\\n",
       "\t6 & sepal\\_length / sepal\\_width                & 103                                           & 195                                          \\\\\n",
       "\\end{tabular}\n"
      ],
      "text/markdown": [
       "\n",
       "| <!--/--> | Model | WSS | BSS |\n",
       "|---|---|---|---|\n",
       "| 1 | Base Model(4 Cols)                        | 140                                       | 456                                       |\n",
       "| 4 | sepal_length / petal_length / petal_width | 63                                        | 384                                       |\n",
       "| 5 | sepal_width / petal_length / petal_width  | 96                                        | 351                                       |\n",
       "| 2 | sepal_length / sepal_width / petal_length | 120                                       | 327                                       |\n",
       "| 3 | sepal_length / sepal_width / petal_width  | 126                                       | 321                                       |\n",
       "| 11 | petal_length / petal_width                | 18                                        | 280                                       |\n",
       "| 7 | sepal_length / petal_length               | 43                                        | 255                                       |\n",
       "| 8 | sepal_length / petal_width                | 51                                        | 247                                       |\n",
       "| 9 | sepal_width / petal_length                | 76                                        | 222                                       |\n",
       "| 10 | sepal_width / petal_width                 | 80                                        | 218                                       |\n",
       "| 6 | sepal_length / sepal_width                | 103                                       | 195                                       |\n",
       "\n"
      ],
      "text/plain": [
       "   Model                                     WSS BSS\n",
       "1  Base Model(4 Cols)                        140 456\n",
       "4  sepal_length / petal_length / petal_width 63  384\n",
       "5  sepal_width / petal_length / petal_width  96  351\n",
       "2  sepal_length / sepal_width / petal_length 120 327\n",
       "3  sepal_length / sepal_width / petal_width  126 321\n",
       "11 petal_length / petal_width                18  280\n",
       "7  sepal_length / petal_length               43  255\n",
       "8  sepal_length / petal_width                51  247\n",
       "9  sepal_width / petal_length                76  222\n",
       "10 sepal_width / petal_width                 80  218\n",
       "6  sepal_length / sepal_width                103 195"
      ]
     },
     "metadata": {},
     "output_type": "display_data"
    }
   ],
   "source": [
    "cols_compare_df[order(as.numeric(cols_compare_df$BSS), decreasing =TRUE),]"
   ]
  },
  {
   "cell_type": "markdown",
   "id": "b2c4d3e3",
   "metadata": {},
   "source": [
    "Judging by the Sensitivty analysis dataframe above (sorted by BSS descending)\n",
    "1. The 4 predictors model (Base Model) although has the highest BSS but also has the lowest WSS\n",
    "2. The binary model (petal_length / petal_width, index 11 above) has a lower BSS than base model but has the lowest value of WSS (BSS=280 and WSS=18)\n",
    "\n",
    "Qualitatively, this model should have better results than the base model"
   ]
  },
  {
   "cell_type": "markdown",
   "id": "4668bcf3",
   "metadata": {},
   "source": [
    "<b> Testing the binary model using petal_length and petal_width predictors only </b>\n",
    "\n",
    "1. ensuring elbow diagram shows 3 as optimum k number otherwise change it.\n",
    "2. measuing the accuracy aganist actual classes\n",
    "3. Since its a binary model, its easy to visualize using an XY plot for visual quality check"
   ]
  },
  {
   "cell_type": "code",
   "execution_count": 28,
   "id": "291991b0",
   "metadata": {},
   "outputs": [],
   "source": [
    "# fix Seed number\n",
    "set.seed(1)\n",
    "# Vector of k define the optimum number of k points\n",
    "k_list <- seq(1,25)\n",
    "# vector to store sum withins results\n",
    "sum_withins <- seq(1,25)\n",
    "# Building kmeans model\n",
    "for (i in k_list){\n",
    "    kmeans_model <- kmeans(iris_df[,c(\"petal_length\", \"petal_width\")], centers=i)\n",
    "    # flatten the withins list and get the within-cluster sum of squares distance value\n",
    "    withins <- unlist(kmeans_model$tot.withinss, recursive = TRUE, use.names = FALSE)\n",
    "    sum_withins[i] <- withins[1]\n",
    "}\n",
    "# convert results to dataframe\n",
    "kmeans_results <- data.frame(k_list, sum_withins)"
   ]
  },
  {
   "cell_type": "markdown",
   "id": "74db8dc2",
   "metadata": {},
   "source": [
    "<p><p style=\"page-break-after:always;\"></p></p>"
   ]
  },
  {
   "cell_type": "code",
   "execution_count": 29,
   "id": "7ffd6620",
   "metadata": {},
   "outputs": [
    {
     "data": {
      "image/png": "[encoded data removed]",
      "text/plain": [
       "plot without title"
      ]
     },
     "metadata": {},
     "output_type": "display_data"
    }
   ],
   "source": [
    "# Plot the impact of k value on total within-cluster sum of squares distance\n",
    "kmeans_plot <-  ggplot(kmeans_results, aes(x=k_list, y=sum_withins)) +\n",
    "  geom_line(size=2, color=\"blue\")+\n",
    "  geom_point(size=2, color=\"black\")+\n",
    "  ggtitle(\"Binary model impact of k on total WSS, Elbow diagram\")+\n",
    "  annotate(\"segment\", x = 3, xend = 7, y = 20, yend = 200, colour = \"black\", size=0.75, alpha=0.6)+\n",
    "  annotate(\"text\", x = 7, y = 220, label = \"Optimum number of clusters\", color=\"red\")+\n",
    "  theme_bw()\n",
    "kmeans_plot"
   ]
  },
  {
   "cell_type": "markdown",
   "id": "b91e13fe",
   "metadata": {},
   "source": [
    "<p><p style=\"page-break-after:always;\"></p></p>"
   ]
  },
  {
   "cell_type": "code",
   "execution_count": 30,
   "id": "f2ffc966",
   "metadata": {},
   "outputs": [
    {
     "name": "stdout",
     "output_type": "stream",
     "text": [
      "[1] \"K-means model Accuracy\"\n"
     ]
    },
    {
     "data": {
      "text/html": [
       "0.96"
      ],
      "text/latex": [
       "0.96"
      ],
      "text/markdown": [
       "0.96"
      ],
      "text/plain": [
       "[1] 0.96"
      ]
     },
     "metadata": {},
     "output_type": "display_data"
    }
   ],
   "source": [
    "# fix Seed number\n",
    "set.seed(1)\n",
    "# Building the model\n",
    "kmeans_model <- kmeans(iris_df[,c(\"petal_length\", \"petal_width\")], centers=3)\n",
    "# Model results\n",
    "kmeans_results <- kmeans_model$cluster\n",
    "# mapping kmeans results to class column in data frame\n",
    "class_1 <- getmode(kmeans_model$cluster[1:50])\n",
    "class_2 <- getmode(kmeans_model$cluster[50:100])\n",
    "class_3 <- getmode(kmeans_model$cluster[100:150])\n",
    "# convert factors in data frame to numeric factors \n",
    "mapping <- c(\"setosa\"=class_1,\"versicolor\"=class_2,\"virginica\"=class_3)\n",
    "iris_df[\"Class_Factor\"] <- mapping[iris_df[,5]]\n",
    "# Find model accuracy\n",
    "Accuracy <- sum(iris_df[\"Class_Factor\"]==kmeans_results)/nrow(iris_df)\n",
    "print(\"K-means model Accuracy\")\n",
    "round(Accuracy,4)"
   ]
  },
  {
   "cell_type": "markdown",
   "id": "0558c05b",
   "metadata": {},
   "source": [
    "<p><p style=\"page-break-after:always;\"></p></p>"
   ]
  },
  {
   "cell_type": "code",
   "execution_count": 31,
   "id": "8a61c5a8",
   "metadata": {},
   "outputs": [
    {
     "data": {
      "image/png": "[encoded data removed]",
      "text/plain": [
       "plot without title"
      ]
     },
     "metadata": {},
     "output_type": "display_data"
    }
   ],
   "source": [
    "# Plot the impact of k value on total within-cluster sum of squares distance\n",
    "kmeans_plot <-  ggplot(iris, aes(x=petal_length, y=petal_width, color=class)) +\n",
    "  geom_point(size=2)+\n",
    "  ggtitle(\"petal_length vs spetal_width from the original Dataset\")+\n",
    "  theme_bw()\n",
    "kmeans_plot"
   ]
  },
  {
   "cell_type": "markdown",
   "id": "d006469d",
   "metadata": {},
   "source": [
    "The Graph clearly shows three distinct clusters with good grouping and boundaries."
   ]
  },
  {
   "cell_type": "markdown",
   "id": "f11a0734",
   "metadata": {},
   "source": [
    "<b> Final Conclusions </b>\n",
    "\n",
    "1. The two predictors used for the model are: petal length and petal width\n",
    "2. The model's optimum number of clusters driven from elbow diagram is 3 clusters (aligned with actual classes)\n",
    "3. The model's testing accuracy is 96%"
   ]
  }
 ],
 "metadata": {
  "kernelspec": {
   "display_name": "R",
   "language": "R",
   "name": "ir"
  },
  "language_info": {
   "codemirror_mode": "r",
   "file_extension": ".r",
   "mimetype": "text/x-r-source",
   "name": "R",
   "pygments_lexer": "r",
   "version": "3.6.1"
  }
 },
 "nbformat": 4,
 "nbformat_minor": 5
}
