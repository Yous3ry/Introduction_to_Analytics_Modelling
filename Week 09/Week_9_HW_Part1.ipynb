{
 "cells": [
  {
   "cell_type": "markdown",
   "id": "5e841e56",
   "metadata": {},
   "source": [
    "<h1> Week 9 Homework -  Part 1"
   ]
  },
  {
   "cell_type": "markdown",
   "id": "617a45e0",
   "metadata": {},
   "source": [
    "<h2>Question 12.1</h2>"
   ]
  },
  {
   "cell_type": "markdown",
   "id": "112f29d0",
   "metadata": {},
   "source": [
    "Describe a situation or problem from your job, everyday life, current events, etc., for which a design of\n",
    "experiments approach would be appropriate. "
   ]
  },
  {
   "cell_type": "markdown",
   "id": "09128bb8",
   "metadata": {},
   "source": [
    "<h3>Answer 12.1</h3>"
   ]
  },
  {
   "cell_type": "markdown",
   "id": "7e62afab",
   "metadata": {},
   "source": [
    "A Mobile Applications development company might develop a new productivity application or health application with multiple features. If the company would like to know which features to be included for free and which ones should be provided as a part of a paid upgrade, a design of experiments approach could provide the required insights. <br>\n",
    "The experiment would have trial versions provided to potential users with different sets of features as paid and others as free. The objective is to see which features will encourage users to upgrade and which would not. Also the company would know which features are more important to invest in its development."
   ]
  },
  {
   "cell_type": "markdown",
   "id": "db56727b",
   "metadata": {},
   "source": [
    "<p><p style=\"page-break-after:always;\"></p></p>"
   ]
  },
  {
   "cell_type": "markdown",
   "id": "710c0033",
   "metadata": {},
   "source": [
    "<h2>Question 12.2</h2>"
   ]
  },
  {
   "cell_type": "markdown",
   "id": "ebba4cec",
   "metadata": {},
   "source": [
    "To determine the value of 10 different yes/no features to the market value of a house (large yard, solar roof, etc.), a real estate agent plans to survey 50 potential buyers, showing a fictitious house with different combinations of features. To reduce the survey size, the agent wants to show just 16 fictitious houses. <br>\n",
    "Use R’s FrF2 function (in the FrF2 package) to find a fractional factorial design for this experiment: what set of features should each of the 16 fictitious houses have? Note: the output of FrF2 is “1” (include) or “-1” (don’t include) for each feature."
   ]
  },
  {
   "cell_type": "markdown",
   "id": "86cad1d2",
   "metadata": {},
   "source": [
    "<h3>Answer 12.2</h3>"
   ]
  },
  {
   "cell_type": "code",
   "execution_count": 4,
   "id": "f04fdc7f",
   "metadata": {},
   "outputs": [],
   "source": [
    "# install.packages(\"FrF2\")\n",
    "library(FrF2)"
   ]
  },
  {
   "cell_type": "code",
   "execution_count": 2,
   "id": "e89785b4",
   "metadata": {},
   "outputs": [
    {
     "data": {
      "text/html": [
       "<table class=\"dataframe\">\n",
       "<caption>A data.frame: 16 × 10</caption>\n",
       "<thead>\n",
       "\t<tr><th></th><th scope=col>A</th><th scope=col>B</th><th scope=col>C</th><th scope=col>D</th><th scope=col>E</th><th scope=col>F</th><th scope=col>G</th><th scope=col>H</th><th scope=col>J</th><th scope=col>K</th></tr>\n",
       "\t<tr><th></th><th scope=col>&lt;fct&gt;</th><th scope=col>&lt;fct&gt;</th><th scope=col>&lt;fct&gt;</th><th scope=col>&lt;fct&gt;</th><th scope=col>&lt;fct&gt;</th><th scope=col>&lt;fct&gt;</th><th scope=col>&lt;fct&gt;</th><th scope=col>&lt;fct&gt;</th><th scope=col>&lt;fct&gt;</th><th scope=col>&lt;fct&gt;</th></tr>\n",
       "</thead>\n",
       "<tbody>\n",
       "\t<tr><th scope=row>1</th><td>1 </td><td>-1</td><td>1 </td><td>1 </td><td>-1</td><td>1 </td><td>-1</td><td>1 </td><td>-1</td><td>-1</td></tr>\n",
       "\t<tr><th scope=row>2</th><td>-1</td><td>-1</td><td>-1</td><td>1 </td><td>1 </td><td>1 </td><td>1 </td><td>-1</td><td>1 </td><td>-1</td></tr>\n",
       "\t<tr><th scope=row>3</th><td>1 </td><td>1 </td><td>-1</td><td>-1</td><td>1 </td><td>-1</td><td>-1</td><td>-1</td><td>1 </td><td>1 </td></tr>\n",
       "\t<tr><th scope=row>4</th><td>-1</td><td>1 </td><td>1 </td><td>-1</td><td>-1</td><td>-1</td><td>1 </td><td>1 </td><td>-1</td><td>1 </td></tr>\n",
       "\t<tr><th scope=row>5</th><td>-1</td><td>-1</td><td>-1</td><td>-1</td><td>1 </td><td>1 </td><td>1 </td><td>1 </td><td>-1</td><td>1 </td></tr>\n",
       "\t<tr><th scope=row>6</th><td>1 </td><td>-1</td><td>-1</td><td>-1</td><td>-1</td><td>-1</td><td>1 </td><td>-1</td><td>-1</td><td>-1</td></tr>\n",
       "\t<tr><th scope=row>7</th><td>-1</td><td>-1</td><td>1 </td><td>1 </td><td>1 </td><td>-1</td><td>-1</td><td>-1</td><td>-1</td><td>1 </td></tr>\n",
       "\t<tr><th scope=row>8</th><td>-1</td><td>1 </td><td>-1</td><td>1 </td><td>-1</td><td>1 </td><td>-1</td><td>-1</td><td>-1</td><td>1 </td></tr>\n",
       "\t<tr><th scope=row>9</th><td>-1</td><td>1 </td><td>-1</td><td>-1</td><td>-1</td><td>1 </td><td>-1</td><td>1 </td><td>1 </td><td>-1</td></tr>\n",
       "\t<tr><th scope=row>10</th><td>1 </td><td>1 </td><td>1 </td><td>-1</td><td>1 </td><td>1 </td><td>1 </td><td>-1</td><td>-1</td><td>-1</td></tr>\n",
       "\t<tr><th scope=row>11</th><td>1 </td><td>1 </td><td>-1</td><td>1 </td><td>1 </td><td>-1</td><td>-1</td><td>1 </td><td>-1</td><td>-1</td></tr>\n",
       "\t<tr><th scope=row>12</th><td>-1</td><td>-1</td><td>1 </td><td>-1</td><td>1 </td><td>-1</td><td>-1</td><td>1 </td><td>1 </td><td>-1</td></tr>\n",
       "\t<tr><th scope=row>13</th><td>1 </td><td>-1</td><td>1 </td><td>-1</td><td>-1</td><td>1 </td><td>-1</td><td>-1</td><td>1 </td><td>1 </td></tr>\n",
       "\t<tr><th scope=row>14</th><td>-1</td><td>1 </td><td>1 </td><td>1 </td><td>-1</td><td>-1</td><td>1 </td><td>-1</td><td>1 </td><td>-1</td></tr>\n",
       "\t<tr><th scope=row>15</th><td>1 </td><td>-1</td><td>-1</td><td>1 </td><td>-1</td><td>-1</td><td>1 </td><td>1 </td><td>1 </td><td>1 </td></tr>\n",
       "\t<tr><th scope=row>16</th><td>1 </td><td>1 </td><td>1 </td><td>1 </td><td>1 </td><td>1 </td><td>1 </td><td>1 </td><td>1 </td><td>1 </td></tr>\n",
       "</tbody>\n",
       "</table>\n"
      ],
      "text/latex": [
       "A data.frame: 16 × 10\n",
       "\\begin{tabular}{r|llllllllll}\n",
       "  & A & B & C & D & E & F & G & H & J & K\\\\\n",
       "  & <fct> & <fct> & <fct> & <fct> & <fct> & <fct> & <fct> & <fct> & <fct> & <fct>\\\\\n",
       "\\hline\n",
       "\t1 & 1  & -1 & 1  & 1  & -1 & 1  & -1 & 1  & -1 & -1\\\\\n",
       "\t2 & -1 & -1 & -1 & 1  & 1  & 1  & 1  & -1 & 1  & -1\\\\\n",
       "\t3 & 1  & 1  & -1 & -1 & 1  & -1 & -1 & -1 & 1  & 1 \\\\\n",
       "\t4 & -1 & 1  & 1  & -1 & -1 & -1 & 1  & 1  & -1 & 1 \\\\\n",
       "\t5 & -1 & -1 & -1 & -1 & 1  & 1  & 1  & 1  & -1 & 1 \\\\\n",
       "\t6 & 1  & -1 & -1 & -1 & -1 & -1 & 1  & -1 & -1 & -1\\\\\n",
       "\t7 & -1 & -1 & 1  & 1  & 1  & -1 & -1 & -1 & -1 & 1 \\\\\n",
       "\t8 & -1 & 1  & -1 & 1  & -1 & 1  & -1 & -1 & -1 & 1 \\\\\n",
       "\t9 & -1 & 1  & -1 & -1 & -1 & 1  & -1 & 1  & 1  & -1\\\\\n",
       "\t10 & 1  & 1  & 1  & -1 & 1  & 1  & 1  & -1 & -1 & -1\\\\\n",
       "\t11 & 1  & 1  & -1 & 1  & 1  & -1 & -1 & 1  & -1 & -1\\\\\n",
       "\t12 & -1 & -1 & 1  & -1 & 1  & -1 & -1 & 1  & 1  & -1\\\\\n",
       "\t13 & 1  & -1 & 1  & -1 & -1 & 1  & -1 & -1 & 1  & 1 \\\\\n",
       "\t14 & -1 & 1  & 1  & 1  & -1 & -1 & 1  & -1 & 1  & -1\\\\\n",
       "\t15 & 1  & -1 & -1 & 1  & -1 & -1 & 1  & 1  & 1  & 1 \\\\\n",
       "\t16 & 1  & 1  & 1  & 1  & 1  & 1  & 1  & 1  & 1  & 1 \\\\\n",
       "\\end{tabular}\n"
      ],
      "text/markdown": [
       "\n",
       "A data.frame: 16 × 10\n",
       "\n",
       "| <!--/--> | A &lt;fct&gt; | B &lt;fct&gt; | C &lt;fct&gt; | D &lt;fct&gt; | E &lt;fct&gt; | F &lt;fct&gt; | G &lt;fct&gt; | H &lt;fct&gt; | J &lt;fct&gt; | K &lt;fct&gt; |\n",
       "|---|---|---|---|---|---|---|---|---|---|---|\n",
       "| 1 | 1  | -1 | 1  | 1  | -1 | 1  | -1 | 1  | -1 | -1 |\n",
       "| 2 | -1 | -1 | -1 | 1  | 1  | 1  | 1  | -1 | 1  | -1 |\n",
       "| 3 | 1  | 1  | -1 | -1 | 1  | -1 | -1 | -1 | 1  | 1  |\n",
       "| 4 | -1 | 1  | 1  | -1 | -1 | -1 | 1  | 1  | -1 | 1  |\n",
       "| 5 | -1 | -1 | -1 | -1 | 1  | 1  | 1  | 1  | -1 | 1  |\n",
       "| 6 | 1  | -1 | -1 | -1 | -1 | -1 | 1  | -1 | -1 | -1 |\n",
       "| 7 | -1 | -1 | 1  | 1  | 1  | -1 | -1 | -1 | -1 | 1  |\n",
       "| 8 | -1 | 1  | -1 | 1  | -1 | 1  | -1 | -1 | -1 | 1  |\n",
       "| 9 | -1 | 1  | -1 | -1 | -1 | 1  | -1 | 1  | 1  | -1 |\n",
       "| 10 | 1  | 1  | 1  | -1 | 1  | 1  | 1  | -1 | -1 | -1 |\n",
       "| 11 | 1  | 1  | -1 | 1  | 1  | -1 | -1 | 1  | -1 | -1 |\n",
       "| 12 | -1 | -1 | 1  | -1 | 1  | -1 | -1 | 1  | 1  | -1 |\n",
       "| 13 | 1  | -1 | 1  | -1 | -1 | 1  | -1 | -1 | 1  | 1  |\n",
       "| 14 | -1 | 1  | 1  | 1  | -1 | -1 | 1  | -1 | 1  | -1 |\n",
       "| 15 | 1  | -1 | -1 | 1  | -1 | -1 | 1  | 1  | 1  | 1  |\n",
       "| 16 | 1  | 1  | 1  | 1  | 1  | 1  | 1  | 1  | 1  | 1  |\n",
       "\n"
      ],
      "text/plain": [
       "   A  B  C  D  E  F  G  H  J  K \n",
       "1  1  -1 1  1  -1 1  -1 1  -1 -1\n",
       "2  -1 -1 -1 1  1  1  1  -1 1  -1\n",
       "3  1  1  -1 -1 1  -1 -1 -1 1  1 \n",
       "4  -1 1  1  -1 -1 -1 1  1  -1 1 \n",
       "5  -1 -1 -1 -1 1  1  1  1  -1 1 \n",
       "6  1  -1 -1 -1 -1 -1 1  -1 -1 -1\n",
       "7  -1 -1 1  1  1  -1 -1 -1 -1 1 \n",
       "8  -1 1  -1 1  -1 1  -1 -1 -1 1 \n",
       "9  -1 1  -1 -1 -1 1  -1 1  1  -1\n",
       "10 1  1  1  -1 1  1  1  -1 -1 -1\n",
       "11 1  1  -1 1  1  -1 -1 1  -1 -1\n",
       "12 -1 -1 1  -1 1  -1 -1 1  1  -1\n",
       "13 1  -1 1  -1 -1 1  -1 -1 1  1 \n",
       "14 -1 1  1  1  -1 -1 1  -1 1  -1\n",
       "15 1  -1 -1 1  -1 -1 1  1  1  1 \n",
       "16 1  1  1  1  1  1  1  1  1  1 "
      ]
     },
     "metadata": {},
     "output_type": "display_data"
    }
   ],
   "source": [
    "# Fix Seed Number\n",
    "set.seed(0)\n",
    "# Create Experiment using 16 runs (16 fictitious houses) and 10 factors (10 different yes/no features)\n",
    "experiment <- FrF2(nruns = 16, nfactors = 10)\n",
    "# Convert to Data Frame\n",
    "experiment <- as.data.frame(experiment)\n",
    "# Display Results of Each experiment (1 = included, -1 = Not included)\n",
    "experiment"
   ]
  },
  {
   "cell_type": "markdown",
   "id": "60f43672",
   "metadata": {},
   "source": [
    "Note that Features names are labeled A through K"
   ]
  },
  {
   "cell_type": "markdown",
   "id": "cb09945e",
   "metadata": {},
   "source": [
    "<p><p style=\"page-break-after:always;\"></p></p>"
   ]
  },
  {
   "cell_type": "code",
   "execution_count": 3,
   "id": "07b75113",
   "metadata": {},
   "outputs": [
    {
     "name": "stdout",
     "output_type": "stream",
     "text": [
      "Experiment 1 features included: A C D F H \n",
      "Experiment 2 features included: D E F G J \n",
      "Experiment 3 features included: A B E J K \n",
      "Experiment 4 features included: B C G H K \n",
      "Experiment 5 features included: E F G H K \n",
      "Experiment 6 features included: A G \n",
      "Experiment 7 features included: C D E K \n",
      "Experiment 8 features included: B D F K \n",
      "Experiment 9 features included: B F H J \n",
      "Experiment 10 features included: A B C E F G \n",
      "Experiment 11 features included: A B D E H \n",
      "Experiment 12 features included: C E H J \n",
      "Experiment 13 features included: A C F J K \n",
      "Experiment 14 features included: B C D G J \n",
      "Experiment 15 features included: A D G H J K \n",
      "Experiment 16 features included: A B C D E F G H J K \n"
     ]
    }
   ],
   "source": [
    "# Store factors in each fictitious house\n",
    "for (i in seq(1,16)){\n",
    "    features <- colnames(experiment)[experiment[i,]==1]\n",
    "    cat(\"Experiment\", i, \"features included:\", features, \"\\n\")\n",
    "}"
   ]
  },
  {
   "cell_type": "markdown",
   "id": "47f8dbb3",
   "metadata": {},
   "source": [
    "<p><p style=\"page-break-after:always;\"></p></p>"
   ]
  },
  {
   "cell_type": "markdown",
   "id": "e159b07e",
   "metadata": {},
   "source": [
    "<h2>Question 13.1</h2>"
   ]
  },
  {
   "cell_type": "markdown",
   "id": "27501cbe",
   "metadata": {},
   "source": [
    "For each of the following distributions, give an example of data that you would expect to follow this distribution (besides the examples already discussed in class). <br>\n",
    "a. Binomial b. Geometric c. Poisson d. Exponential e. Weibull "
   ]
  },
  {
   "cell_type": "markdown",
   "id": "4b3781af",
   "metadata": {},
   "source": [
    "<h3>Answer 13.1</h3>"
   ]
  },
  {
   "cell_type": "markdown",
   "id": "c1c18cf8",
   "metadata": {},
   "source": [
    "a. Binomial Distribution: <br>\n",
    "Asking 100 of our classmates if they have ever been to Georgia. The response might have a binomial distribution.\n",
    "<br>\n",
    "<br>\n",
    "b. Geometric Distribution: <br>\n",
    "The number of days without inccident in the workplace before an accident occurs might have a geometric Distribution.\n",
    "<br>\n",
    "<br>\n",
    "c. Poisson Distribution: <br>\n",
    "The number of expected customers that will arrive at the restaurant per day might have a Poisson Distribution.\n",
    "<br>\n",
    "<br>\n",
    "d. Exponential Distribution: <br>\n",
    "The amount of time between traffic accidents on a certain road might have an exponential distribution\n",
    "<br>\n",
    "<br>\n",
    "e. Weibull Distribution: <br>\n",
    "The amount of time before a sensor fails might follow a Weibull distribution. With k<1 the more time passes the more likely it is the sensor would fail.\n",
    "<br>\n",
    "<br>"
   ]
  }
 ],
 "metadata": {
  "kernelspec": {
   "display_name": "R",
   "language": "R",
   "name": "ir"
  },
  "language_info": {
   "codemirror_mode": "r",
   "file_extension": ".r",
   "mimetype": "text/x-r-source",
   "name": "R",
   "pygments_lexer": "r",
   "version": "3.6.1"
  }
 },
 "nbformat": 4,
 "nbformat_minor": 5
}
