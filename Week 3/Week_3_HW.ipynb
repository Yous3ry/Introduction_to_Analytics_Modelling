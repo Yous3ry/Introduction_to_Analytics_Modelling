{
 "cells": [
  {
   "cell_type": "markdown",
   "id": "e88d9b49",
   "metadata": {},
   "source": [
    "<h1> Week 3 Homework"
   ]
  },
  {
   "cell_type": "markdown",
   "id": "f4da5adc",
   "metadata": {},
   "source": [
    "<h2>Question 5.1</h2>\n",
    "Using crime data from the file uscrime.txt (http://www.statsci.org/data/general/uscrime.txt, description at http://www.statsci.org/data/general/uscrime.html), test to see whether there are any outliers in the last column (number of crimes per 100,000 people). Use the grubbs.test function in the outliers package in R."
   ]
  },
  {
   "cell_type": "markdown",
   "id": "a1c1003f",
   "metadata": {},
   "source": [
    "<h2>Answr 5.1</h2>"
   ]
  },
  {
   "cell_type": "code",
   "execution_count": 1,
   "id": "01dfafb1",
   "metadata": {},
   "outputs": [
    {
     "data": {
      "text/html": [
       "<table>\n",
       "<thead><tr><th scope=col>M</th><th scope=col>So</th><th scope=col>Ed</th><th scope=col>Po1</th><th scope=col>Po2</th><th scope=col>LF</th><th scope=col>M.F</th><th scope=col>Pop</th><th scope=col>NW</th><th scope=col>U1</th><th scope=col>U2</th><th scope=col>Wealth</th><th scope=col>Ineq</th><th scope=col>Prob</th><th scope=col>Time</th><th scope=col>Crime</th></tr></thead>\n",
       "<tbody>\n",
       "\t<tr><td>15.1    </td><td>1       </td><td> 9.1    </td><td> 5.8    </td><td> 5.6    </td><td>0.510   </td><td> 95.0   </td><td> 33     </td><td>30.1    </td><td>0.108   </td><td>4.1     </td><td>3940    </td><td>26.1    </td><td>0.084602</td><td>26.2011 </td><td> 791    </td></tr>\n",
       "\t<tr><td>14.3    </td><td>0       </td><td>11.3    </td><td>10.3    </td><td> 9.5    </td><td>0.583   </td><td>101.2   </td><td> 13     </td><td>10.2    </td><td>0.096   </td><td>3.6     </td><td>5570    </td><td>19.4    </td><td>0.029599</td><td>25.2999 </td><td>1635    </td></tr>\n",
       "\t<tr><td>14.2    </td><td>1       </td><td> 8.9    </td><td> 4.5    </td><td> 4.4    </td><td>0.533   </td><td> 96.9   </td><td> 18     </td><td>21.9    </td><td>0.094   </td><td>3.3     </td><td>3180    </td><td>25.0    </td><td>0.083401</td><td>24.3006 </td><td> 578    </td></tr>\n",
       "\t<tr><td>13.6    </td><td>0       </td><td>12.1    </td><td>14.9    </td><td>14.1    </td><td>0.577   </td><td> 99.4   </td><td>157     </td><td> 8.0    </td><td>0.102   </td><td>3.9     </td><td>6730    </td><td>16.7    </td><td>0.015801</td><td>29.9012 </td><td>1969    </td></tr>\n",
       "\t<tr><td>14.1    </td><td>0       </td><td>12.1    </td><td>10.9    </td><td>10.1    </td><td>0.591   </td><td> 98.5   </td><td> 18     </td><td> 3.0    </td><td>0.091   </td><td>2.0     </td><td>5780    </td><td>17.4    </td><td>0.041399</td><td>21.2998 </td><td>1234    </td></tr>\n",
       "\t<tr><td>12.1    </td><td>0       </td><td>11.0    </td><td>11.8    </td><td>11.5    </td><td>0.547   </td><td> 96.4   </td><td> 25     </td><td> 4.4    </td><td>0.084   </td><td>2.9     </td><td>6890    </td><td>12.6    </td><td>0.034201</td><td>20.9995 </td><td> 682    </td></tr>\n",
       "</tbody>\n",
       "</table>\n"
      ],
      "text/latex": [
       "\\begin{tabular}{r|llllllllllllllll}\n",
       " M & So & Ed & Po1 & Po2 & LF & M.F & Pop & NW & U1 & U2 & Wealth & Ineq & Prob & Time & Crime\\\\\n",
       "\\hline\n",
       "\t 15.1     & 1        &  9.1     &  5.8     &  5.6     & 0.510    &  95.0    &  33      & 30.1     & 0.108    & 4.1      & 3940     & 26.1     & 0.084602 & 26.2011  &  791    \\\\\n",
       "\t 14.3     & 0        & 11.3     & 10.3     &  9.5     & 0.583    & 101.2    &  13      & 10.2     & 0.096    & 3.6      & 5570     & 19.4     & 0.029599 & 25.2999  & 1635    \\\\\n",
       "\t 14.2     & 1        &  8.9     &  4.5     &  4.4     & 0.533    &  96.9    &  18      & 21.9     & 0.094    & 3.3      & 3180     & 25.0     & 0.083401 & 24.3006  &  578    \\\\\n",
       "\t 13.6     & 0        & 12.1     & 14.9     & 14.1     & 0.577    &  99.4    & 157      &  8.0     & 0.102    & 3.9      & 6730     & 16.7     & 0.015801 & 29.9012  & 1969    \\\\\n",
       "\t 14.1     & 0        & 12.1     & 10.9     & 10.1     & 0.591    &  98.5    &  18      &  3.0     & 0.091    & 2.0      & 5780     & 17.4     & 0.041399 & 21.2998  & 1234    \\\\\n",
       "\t 12.1     & 0        & 11.0     & 11.8     & 11.5     & 0.547    &  96.4    &  25      &  4.4     & 0.084    & 2.9      & 6890     & 12.6     & 0.034201 & 20.9995  &  682    \\\\\n",
       "\\end{tabular}\n"
      ],
      "text/markdown": [
       "\n",
       "| M | So | Ed | Po1 | Po2 | LF | M.F | Pop | NW | U1 | U2 | Wealth | Ineq | Prob | Time | Crime |\n",
       "|---|---|---|---|---|---|---|---|---|---|---|---|---|---|---|---|\n",
       "| 15.1     | 1        |  9.1     |  5.8     |  5.6     | 0.510    |  95.0    |  33      | 30.1     | 0.108    | 4.1      | 3940     | 26.1     | 0.084602 | 26.2011  |  791     |\n",
       "| 14.3     | 0        | 11.3     | 10.3     |  9.5     | 0.583    | 101.2    |  13      | 10.2     | 0.096    | 3.6      | 5570     | 19.4     | 0.029599 | 25.2999  | 1635     |\n",
       "| 14.2     | 1        |  8.9     |  4.5     |  4.4     | 0.533    |  96.9    |  18      | 21.9     | 0.094    | 3.3      | 3180     | 25.0     | 0.083401 | 24.3006  |  578     |\n",
       "| 13.6     | 0        | 12.1     | 14.9     | 14.1     | 0.577    |  99.4    | 157      |  8.0     | 0.102    | 3.9      | 6730     | 16.7     | 0.015801 | 29.9012  | 1969     |\n",
       "| 14.1     | 0        | 12.1     | 10.9     | 10.1     | 0.591    |  98.5    |  18      |  3.0     | 0.091    | 2.0      | 5780     | 17.4     | 0.041399 | 21.2998  | 1234     |\n",
       "| 12.1     | 0        | 11.0     | 11.8     | 11.5     | 0.547    |  96.4    |  25      |  4.4     | 0.084    | 2.9      | 6890     | 12.6     | 0.034201 | 20.9995  |  682     |\n",
       "\n"
      ],
      "text/plain": [
       "  M    So Ed   Po1  Po2  LF    M.F   Pop NW   U1    U2  Wealth Ineq Prob    \n",
       "1 15.1 1   9.1  5.8  5.6 0.510  95.0  33 30.1 0.108 4.1 3940   26.1 0.084602\n",
       "2 14.3 0  11.3 10.3  9.5 0.583 101.2  13 10.2 0.096 3.6 5570   19.4 0.029599\n",
       "3 14.2 1   8.9  4.5  4.4 0.533  96.9  18 21.9 0.094 3.3 3180   25.0 0.083401\n",
       "4 13.6 0  12.1 14.9 14.1 0.577  99.4 157  8.0 0.102 3.9 6730   16.7 0.015801\n",
       "5 14.1 0  12.1 10.9 10.1 0.591  98.5  18  3.0 0.091 2.0 5780   17.4 0.041399\n",
       "6 12.1 0  11.0 11.8 11.5 0.547  96.4  25  4.4 0.084 2.9 6890   12.6 0.034201\n",
       "  Time    Crime\n",
       "1 26.2011  791 \n",
       "2 25.2999 1635 \n",
       "3 24.3006  578 \n",
       "4 29.9012 1969 \n",
       "5 21.2998 1234 \n",
       "6 20.9995  682 "
      ]
     },
     "metadata": {},
     "output_type": "display_data"
    },
    {
     "data": {
      "text/html": [
       "47"
      ],
      "text/latex": [
       "47"
      ],
      "text/markdown": [
       "47"
      ],
      "text/plain": [
       "[1] 47"
      ]
     },
     "metadata": {},
     "output_type": "display_data"
    }
   ],
   "source": [
    "# loading the dataset\n",
    "# READ DATASET as DataFrame\n",
    "df <- read.table(\"uscrime.txt\", header = TRUE, sep = \"\\t\")\n",
    "# Display Data\n",
    "head(df)\n",
    "nrow(df)"
   ]
  },
  {
   "cell_type": "markdown",
   "id": "f1e041b2",
   "metadata": {},
   "source": [
    "<p><p style=\"page-break-after:always;\"></p></p>"
   ]
  },
  {
   "cell_type": "code",
   "execution_count": 2,
   "id": "dc2ae767",
   "metadata": {},
   "outputs": [
    {
     "data": {
      "image/png": "[encoded data removed]",
      "text/plain": [
       "Plot with title \"Boxplot\""
      ]
     },
     "metadata": {},
     "output_type": "display_data"
    }
   ],
   "source": [
    "data <- df$Crime\n",
    "# plot boxplot\n",
    "boxplot(data)\n",
    "title(\"Boxplot\")"
   ]
  },
  {
   "cell_type": "markdown",
   "id": "3d06d1d1",
   "metadata": {},
   "source": [
    "<b> From box plot, it is possible that there exists 2 - 3 outliers at the high end of the data with no possible outliers on the low end of the data </b>"
   ]
  },
  {
   "cell_type": "markdown",
   "id": "a5f3a3c9",
   "metadata": {},
   "source": [
    "<p><p style=\"page-break-after:always;\"></p></p>"
   ]
  },
  {
   "cell_type": "code",
   "execution_count": 3,
   "id": "ce2c0cd4",
   "metadata": {},
   "outputs": [
    {
     "data": {
      "image/png": "[encoded data removed]",
      "text/plain": [
       "Plot with title \"Normal Q-Q Plot\""
      ]
     },
     "metadata": {},
     "output_type": "display_data"
    }
   ],
   "source": [
    "qqnorm(data)\n",
    "qqline(data, col = \"blue\", lwd = 2)\n",
    "grid()"
   ]
  },
  {
   "cell_type": "markdown",
   "id": "feb44ecf",
   "metadata": {},
   "source": [
    "<b> From Q-Q plot, The data appears to be normally distirbuted with skewness towards the high side (right-skewed or positively skewed) </b>"
   ]
  },
  {
   "cell_type": "markdown",
   "id": "7f3fa22f",
   "metadata": {},
   "source": [
    "<p><p style=\"page-break-after:always;\"></p></p>"
   ]
  },
  {
   "cell_type": "code",
   "execution_count": 4,
   "id": "4ec51b04",
   "metadata": {},
   "outputs": [
    {
     "name": "stdout",
     "output_type": "stream",
     "text": [
      "[1] \"Testing lowest point for being an outlier using Grubbs test\"\n"
     ]
    },
    {
     "data": {
      "text/plain": [
       "\n",
       "\tGrubbs test for one outlier\n",
       "\n",
       "data:  data\n",
       "G = 1.45589, U = 0.95292, p-value = 1\n",
       "alternative hypothesis: lowest value 342 is an outlier\n"
      ]
     },
     "metadata": {},
     "output_type": "display_data"
    },
    {
     "name": "stdout",
     "output_type": "stream",
     "text": [
      "[1] \"Testing highest point for being an outlier using Grubbs test\"\n"
     ]
    },
    {
     "data": {
      "text/plain": [
       "\n",
       "\tGrubbs test for one outlier\n",
       "\n",
       "data:  data\n",
       "G = 2.81287, U = 0.82426, p-value = 0.07887\n",
       "alternative hypothesis: highest value 1993 is an outlier\n"
      ]
     },
     "metadata": {},
     "output_type": "display_data"
    }
   ],
   "source": [
    "# load required library\n",
    "# install.packages(\"outliers\")\n",
    "library(outliers)\n",
    "# conduct Grubbs tests for data sample\n",
    "print(\"Testing lowest point for being an outlier using Grubbs test\")\n",
    "grubbs.test(data, type=10, opposite = TRUE)\n",
    "print(\"Testing highest point for being an outlier using Grubbs test\")\n",
    "grubbs.test(data, type=10, opposite = FALSE)"
   ]
  },
  {
   "cell_type": "markdown",
   "id": "229d35bc",
   "metadata": {},
   "source": [
    "<b> Conclusions </b>\n",
    "\n",
    "Assuming a significance level of 0.05 (Default Value) in Grubbs test is acceptable. We can conclude the following:\n",
    "\n",
    "1. Grubbs test for the lowest point (342) shows a p-value (probability value) = 1. As a result, aligned with box-plot, the minimum value is <b> NOT </b> an outlier with very high cetrainty.\n",
    "\n",
    "2. Grubbs test for the highest point (1993) shows a p-value = 0.079. As a result, the highest point is <b> NOT </b> an outlier assuming a significance level of 0.05 (Default Value). This is not aligned with Box-Plot however that depends on the significane level accepted (the maximum acceptable level of risk for rejecting the null hypothesis, in our case the null hypothesis is the high point is not an outlier, i.e. miss-classifying a true point as an outlier).\n",
    "\n",
    "In conclusion, Grubss test suggests there are NO points that can be identified as outliers in the data with a risk <=0.05. However if the accepeted significance level is changed from 5% to 10%, both highest points can be considered as outliers.\n",
    "\n",
    "References:\n",
    "https://support.minitab.com/en-us/minitab/18/help-and-how-to/statistics/basic-statistics/how-to/outlier-test/interpret-the-results/all-statistics-and-graphs/"
   ]
  },
  {
   "cell_type": "markdown",
   "id": "4fa3621a",
   "metadata": {},
   "source": [
    "<p><p style=\"page-break-after:always;\"></p></p>"
   ]
  },
  {
   "cell_type": "markdown",
   "id": "8a334c0c",
   "metadata": {},
   "source": [
    "<h2>Question 6.1</h2>\n",
    "Describe a situation or problem from your job, everyday life, current events, etc., for which a Change\n",
    "Detection model would be appropriate. Applying the CUSUM technique, how would you choose the\n",
    "critical value and the threshold?"
   ]
  },
  {
   "cell_type": "markdown",
   "id": "f02c879c",
   "metadata": {},
   "source": [
    "<h2>Answr 6.1</h2>"
   ]
  },
  {
   "cell_type": "markdown",
   "id": "ae2294fa",
   "metadata": {},
   "source": [
    "In Petroleum Engineering, pipelines transporting hydrocarbon fluids are equipped with pressure and temperature sensors at multiple locations across their length. Changes in the sensors' readings are caused mainly by changes in flow regime in the pipeline due to ambient temperature changes, introduction of new wells production to the pipeline, etc. However, changes to the sensors' reading could indicate the start of pipeline blockage caused by scale or hydrates formation, etc. If the pipeline is completely plugged that would lead to loss of production with severe impact on operations stability until the problem is resolved.\n",
    "\n",
    "Using the Cusum technique, we can analyze the sensors' readings over the history of the pipeline and optimize the the critical value and the threshold of the model until the real warning signs that occured historically of pipeline blockage can be accurately detected with suffcient lead time to help the operations team intervene and fix the problem with minimal interruption to production operations."
   ]
  },
  {
   "cell_type": "markdown",
   "id": "b52f2ada",
   "metadata": {},
   "source": [
    "<p><p style=\"page-break-after:always;\"></p></p>"
   ]
  },
  {
   "cell_type": "markdown",
   "id": "1f3898cd",
   "metadata": {},
   "source": [
    "<h2>Question 6.2</h2>\n",
    "\n",
    "1. Using July through October daily-high-temperature data for Atlanta for 1996 through 2015, use a CUSUM approach to identify when unofficial summer ends (i.e., when the weather starts cooling off) each year. You can get the data that you need from the file temps.txt or online, for example at http://www.iweathernet.com/atlanta-weather-records or https://www.wunderground.com/history/airport/KFTY/2015/7/1/CustomHistory.html . You can use R if you’d like, but it’s straightforward enough that an Excel spreadsheet can easily do the job too.\n",
    "\n",
    "2. Use a CUSUM approach to make a judgment of whether Atlanta’s summer climate has gotten warmer in that time (and if so, when)."
   ]
  },
  {
   "cell_type": "markdown",
   "id": "e44039fb",
   "metadata": {},
   "source": [
    "<h2>Answr 6.2 Part 1</h2>"
   ]
  },
  {
   "cell_type": "code",
   "execution_count": 5,
   "id": "9db1d112",
   "metadata": {},
   "outputs": [
    {
     "data": {
      "text/html": [
       "<table>\n",
       "<thead><tr><th scope=col>DAY</th><th scope=col>X1996</th><th scope=col>X1997</th><th scope=col>X1998</th><th scope=col>X1999</th><th scope=col>X2000</th><th scope=col>X2001</th><th scope=col>X2002</th><th scope=col>X2003</th><th scope=col>X2004</th><th scope=col>...</th><th scope=col>X2006</th><th scope=col>X2007</th><th scope=col>X2008</th><th scope=col>X2009</th><th scope=col>X2010</th><th scope=col>X2011</th><th scope=col>X2012</th><th scope=col>X2013</th><th scope=col>X2014</th><th scope=col>X2015</th></tr></thead>\n",
       "<tbody>\n",
       "\t<tr><td>1-Jul</td><td>98   </td><td>86   </td><td>91   </td><td>84   </td><td>89   </td><td>84   </td><td>90   </td><td>73   </td><td>82   </td><td>...  </td><td>93   </td><td>95   </td><td>85   </td><td>95   </td><td>87   </td><td>92   </td><td>105  </td><td>82   </td><td>90   </td><td>85   </td></tr>\n",
       "\t<tr><td>2-Jul</td><td>97   </td><td>90   </td><td>88   </td><td>82   </td><td>91   </td><td>87   </td><td>90   </td><td>81   </td><td>81   </td><td>...  </td><td>93   </td><td>85   </td><td>87   </td><td>90   </td><td>84   </td><td>94   </td><td> 93  </td><td>85   </td><td>93   </td><td>87   </td></tr>\n",
       "\t<tr><td>3-Jul</td><td>97   </td><td>93   </td><td>91   </td><td>87   </td><td>93   </td><td>87   </td><td>87   </td><td>87   </td><td>86   </td><td>...  </td><td>93   </td><td>82   </td><td>91   </td><td>89   </td><td>83   </td><td>95   </td><td> 99  </td><td>76   </td><td>87   </td><td>79   </td></tr>\n",
       "\t<tr><td>4-Jul</td><td>90   </td><td>91   </td><td>91   </td><td>88   </td><td>95   </td><td>84   </td><td>89   </td><td>86   </td><td>88   </td><td>...  </td><td>91   </td><td>86   </td><td>90   </td><td>91   </td><td>85   </td><td>92   </td><td> 98  </td><td>77   </td><td>84   </td><td>85   </td></tr>\n",
       "\t<tr><td>5-Jul</td><td>89   </td><td>84   </td><td>91   </td><td>90   </td><td>96   </td><td>86   </td><td>93   </td><td>80   </td><td>90   </td><td>...  </td><td>90   </td><td>88   </td><td>88   </td><td>80   </td><td>88   </td><td>90   </td><td>100  </td><td>83   </td><td>86   </td><td>84   </td></tr>\n",
       "\t<tr><td>6-Jul</td><td>93   </td><td>84   </td><td>89   </td><td>91   </td><td>96   </td><td>87   </td><td>93   </td><td>84   </td><td>90   </td><td>...  </td><td>81   </td><td>87   </td><td>82   </td><td>87   </td><td>89   </td><td>90   </td><td> 98  </td><td>83   </td><td>87   </td><td>84   </td></tr>\n",
       "</tbody>\n",
       "</table>\n"
      ],
      "text/latex": [
       "\\begin{tabular}{r|lllllllllllllllllllll}\n",
       " DAY & X1996 & X1997 & X1998 & X1999 & X2000 & X2001 & X2002 & X2003 & X2004 & ... & X2006 & X2007 & X2008 & X2009 & X2010 & X2011 & X2012 & X2013 & X2014 & X2015\\\\\n",
       "\\hline\n",
       "\t 1-Jul & 98    & 86    & 91    & 84    & 89    & 84    & 90    & 73    & 82    & ...   & 93    & 95    & 85    & 95    & 87    & 92    & 105   & 82    & 90    & 85   \\\\\n",
       "\t 2-Jul & 97    & 90    & 88    & 82    & 91    & 87    & 90    & 81    & 81    & ...   & 93    & 85    & 87    & 90    & 84    & 94    &  93   & 85    & 93    & 87   \\\\\n",
       "\t 3-Jul & 97    & 93    & 91    & 87    & 93    & 87    & 87    & 87    & 86    & ...   & 93    & 82    & 91    & 89    & 83    & 95    &  99   & 76    & 87    & 79   \\\\\n",
       "\t 4-Jul & 90    & 91    & 91    & 88    & 95    & 84    & 89    & 86    & 88    & ...   & 91    & 86    & 90    & 91    & 85    & 92    &  98   & 77    & 84    & 85   \\\\\n",
       "\t 5-Jul & 89    & 84    & 91    & 90    & 96    & 86    & 93    & 80    & 90    & ...   & 90    & 88    & 88    & 80    & 88    & 90    & 100   & 83    & 86    & 84   \\\\\n",
       "\t 6-Jul & 93    & 84    & 89    & 91    & 96    & 87    & 93    & 84    & 90    & ...   & 81    & 87    & 82    & 87    & 89    & 90    &  98   & 83    & 87    & 84   \\\\\n",
       "\\end{tabular}\n"
      ],
      "text/markdown": [
       "\n",
       "| DAY | X1996 | X1997 | X1998 | X1999 | X2000 | X2001 | X2002 | X2003 | X2004 | ... | X2006 | X2007 | X2008 | X2009 | X2010 | X2011 | X2012 | X2013 | X2014 | X2015 |\n",
       "|---|---|---|---|---|---|---|---|---|---|---|---|---|---|---|---|---|---|---|---|---|\n",
       "| 1-Jul | 98    | 86    | 91    | 84    | 89    | 84    | 90    | 73    | 82    | ...   | 93    | 95    | 85    | 95    | 87    | 92    | 105   | 82    | 90    | 85    |\n",
       "| 2-Jul | 97    | 90    | 88    | 82    | 91    | 87    | 90    | 81    | 81    | ...   | 93    | 85    | 87    | 90    | 84    | 94    |  93   | 85    | 93    | 87    |\n",
       "| 3-Jul | 97    | 93    | 91    | 87    | 93    | 87    | 87    | 87    | 86    | ...   | 93    | 82    | 91    | 89    | 83    | 95    |  99   | 76    | 87    | 79    |\n",
       "| 4-Jul | 90    | 91    | 91    | 88    | 95    | 84    | 89    | 86    | 88    | ...   | 91    | 86    | 90    | 91    | 85    | 92    |  98   | 77    | 84    | 85    |\n",
       "| 5-Jul | 89    | 84    | 91    | 90    | 96    | 86    | 93    | 80    | 90    | ...   | 90    | 88    | 88    | 80    | 88    | 90    | 100   | 83    | 86    | 84    |\n",
       "| 6-Jul | 93    | 84    | 89    | 91    | 96    | 87    | 93    | 84    | 90    | ...   | 81    | 87    | 82    | 87    | 89    | 90    |  98   | 83    | 87    | 84    |\n",
       "\n"
      ],
      "text/plain": [
       "  DAY   X1996 X1997 X1998 X1999 X2000 X2001 X2002 X2003 X2004 ... X2006 X2007\n",
       "1 1-Jul 98    86    91    84    89    84    90    73    82    ... 93    95   \n",
       "2 2-Jul 97    90    88    82    91    87    90    81    81    ... 93    85   \n",
       "3 3-Jul 97    93    91    87    93    87    87    87    86    ... 93    82   \n",
       "4 4-Jul 90    91    91    88    95    84    89    86    88    ... 91    86   \n",
       "5 5-Jul 89    84    91    90    96    86    93    80    90    ... 90    88   \n",
       "6 6-Jul 93    84    89    91    96    87    93    84    90    ... 81    87   \n",
       "  X2008 X2009 X2010 X2011 X2012 X2013 X2014 X2015\n",
       "1 85    95    87    92    105   82    90    85   \n",
       "2 87    90    84    94     93   85    93    87   \n",
       "3 91    89    83    95     99   76    87    79   \n",
       "4 90    91    85    92     98   77    84    85   \n",
       "5 88    80    88    90    100   83    86    84   \n",
       "6 82    87    89    90     98   83    87    84   "
      ]
     },
     "metadata": {},
     "output_type": "display_data"
    },
    {
     "data": {
      "text/html": [
       "123"
      ],
      "text/latex": [
       "123"
      ],
      "text/markdown": [
       "123"
      ],
      "text/plain": [
       "[1] 123"
      ]
     },
     "metadata": {},
     "output_type": "display_data"
    }
   ],
   "source": [
    "# loading the dataset\n",
    "# READ DATASET as DataFrame\n",
    "df <- as.data.frame(read.table(\"temps.txt\", header = TRUE, sep = \"\\t\", , stringsAsFactors=FALSE))\n",
    "# Display Data\n",
    "head(df)\n",
    "nrow(df)"
   ]
  },
  {
   "cell_type": "code",
   "execution_count": 6,
   "id": "9dcf956b",
   "metadata": {},
   "outputs": [
    {
     "data": {
      "text/html": [
       "<table>\n",
       "<thead><tr><th scope=col>DAY</th><th scope=col>X1996</th><th scope=col>X1997</th><th scope=col>X1998</th><th scope=col>X1999</th><th scope=col>X2000</th><th scope=col>X2001</th><th scope=col>X2002</th><th scope=col>X2003</th><th scope=col>X2004</th><th scope=col>...</th><th scope=col>X2006</th><th scope=col>X2007</th><th scope=col>X2008</th><th scope=col>X2009</th><th scope=col>X2010</th><th scope=col>X2011</th><th scope=col>X2012</th><th scope=col>X2013</th><th scope=col>X2014</th><th scope=col>X2015</th></tr></thead>\n",
       "<tbody>\n",
       "\t<tr><td>1  </td><td>98 </td><td>86 </td><td>91 </td><td>84 </td><td>89 </td><td>84 </td><td>90 </td><td>73 </td><td>82 </td><td>...</td><td>93 </td><td>95 </td><td>85 </td><td>95 </td><td>87 </td><td>92 </td><td>105</td><td>82 </td><td>90 </td><td>85 </td></tr>\n",
       "\t<tr><td>2  </td><td>97 </td><td>90 </td><td>88 </td><td>82 </td><td>91 </td><td>87 </td><td>90 </td><td>81 </td><td>81 </td><td>...</td><td>93 </td><td>85 </td><td>87 </td><td>90 </td><td>84 </td><td>94 </td><td> 93</td><td>85 </td><td>93 </td><td>87 </td></tr>\n",
       "\t<tr><td>3  </td><td>97 </td><td>93 </td><td>91 </td><td>87 </td><td>93 </td><td>87 </td><td>87 </td><td>87 </td><td>86 </td><td>...</td><td>93 </td><td>82 </td><td>91 </td><td>89 </td><td>83 </td><td>95 </td><td> 99</td><td>76 </td><td>87 </td><td>79 </td></tr>\n",
       "\t<tr><td>4  </td><td>90 </td><td>91 </td><td>91 </td><td>88 </td><td>95 </td><td>84 </td><td>89 </td><td>86 </td><td>88 </td><td>...</td><td>91 </td><td>86 </td><td>90 </td><td>91 </td><td>85 </td><td>92 </td><td> 98</td><td>77 </td><td>84 </td><td>85 </td></tr>\n",
       "\t<tr><td>5  </td><td>89 </td><td>84 </td><td>91 </td><td>90 </td><td>96 </td><td>86 </td><td>93 </td><td>80 </td><td>90 </td><td>...</td><td>90 </td><td>88 </td><td>88 </td><td>80 </td><td>88 </td><td>90 </td><td>100</td><td>83 </td><td>86 </td><td>84 </td></tr>\n",
       "\t<tr><td>6  </td><td>93 </td><td>84 </td><td>89 </td><td>91 </td><td>96 </td><td>87 </td><td>93 </td><td>84 </td><td>90 </td><td>...</td><td>81 </td><td>87 </td><td>82 </td><td>87 </td><td>89 </td><td>90 </td><td> 98</td><td>83 </td><td>87 </td><td>84 </td></tr>\n",
       "</tbody>\n",
       "</table>\n"
      ],
      "text/latex": [
       "\\begin{tabular}{r|lllllllllllllllllllll}\n",
       " DAY & X1996 & X1997 & X1998 & X1999 & X2000 & X2001 & X2002 & X2003 & X2004 & ... & X2006 & X2007 & X2008 & X2009 & X2010 & X2011 & X2012 & X2013 & X2014 & X2015\\\\\n",
       "\\hline\n",
       "\t 1   & 98  & 86  & 91  & 84  & 89  & 84  & 90  & 73  & 82  & ... & 93  & 95  & 85  & 95  & 87  & 92  & 105 & 82  & 90  & 85 \\\\\n",
       "\t 2   & 97  & 90  & 88  & 82  & 91  & 87  & 90  & 81  & 81  & ... & 93  & 85  & 87  & 90  & 84  & 94  &  93 & 85  & 93  & 87 \\\\\n",
       "\t 3   & 97  & 93  & 91  & 87  & 93  & 87  & 87  & 87  & 86  & ... & 93  & 82  & 91  & 89  & 83  & 95  &  99 & 76  & 87  & 79 \\\\\n",
       "\t 4   & 90  & 91  & 91  & 88  & 95  & 84  & 89  & 86  & 88  & ... & 91  & 86  & 90  & 91  & 85  & 92  &  98 & 77  & 84  & 85 \\\\\n",
       "\t 5   & 89  & 84  & 91  & 90  & 96  & 86  & 93  & 80  & 90  & ... & 90  & 88  & 88  & 80  & 88  & 90  & 100 & 83  & 86  & 84 \\\\\n",
       "\t 6   & 93  & 84  & 89  & 91  & 96  & 87  & 93  & 84  & 90  & ... & 81  & 87  & 82  & 87  & 89  & 90  &  98 & 83  & 87  & 84 \\\\\n",
       "\\end{tabular}\n"
      ],
      "text/markdown": [
       "\n",
       "| DAY | X1996 | X1997 | X1998 | X1999 | X2000 | X2001 | X2002 | X2003 | X2004 | ... | X2006 | X2007 | X2008 | X2009 | X2010 | X2011 | X2012 | X2013 | X2014 | X2015 |\n",
       "|---|---|---|---|---|---|---|---|---|---|---|---|---|---|---|---|---|---|---|---|---|\n",
       "| 1   | 98  | 86  | 91  | 84  | 89  | 84  | 90  | 73  | 82  | ... | 93  | 95  | 85  | 95  | 87  | 92  | 105 | 82  | 90  | 85  |\n",
       "| 2   | 97  | 90  | 88  | 82  | 91  | 87  | 90  | 81  | 81  | ... | 93  | 85  | 87  | 90  | 84  | 94  |  93 | 85  | 93  | 87  |\n",
       "| 3   | 97  | 93  | 91  | 87  | 93  | 87  | 87  | 87  | 86  | ... | 93  | 82  | 91  | 89  | 83  | 95  |  99 | 76  | 87  | 79  |\n",
       "| 4   | 90  | 91  | 91  | 88  | 95  | 84  | 89  | 86  | 88  | ... | 91  | 86  | 90  | 91  | 85  | 92  |  98 | 77  | 84  | 85  |\n",
       "| 5   | 89  | 84  | 91  | 90  | 96  | 86  | 93  | 80  | 90  | ... | 90  | 88  | 88  | 80  | 88  | 90  | 100 | 83  | 86  | 84  |\n",
       "| 6   | 93  | 84  | 89  | 91  | 96  | 87  | 93  | 84  | 90  | ... | 81  | 87  | 82  | 87  | 89  | 90  |  98 | 83  | 87  | 84  |\n",
       "\n"
      ],
      "text/plain": [
       "  DAY X1996 X1997 X1998 X1999 X2000 X2001 X2002 X2003 X2004 ... X2006 X2007\n",
       "1 1   98    86    91    84    89    84    90    73    82    ... 93    95   \n",
       "2 2   97    90    88    82    91    87    90    81    81    ... 93    85   \n",
       "3 3   97    93    91    87    93    87    87    87    86    ... 93    82   \n",
       "4 4   90    91    91    88    95    84    89    86    88    ... 91    86   \n",
       "5 5   89    84    91    90    96    86    93    80    90    ... 90    88   \n",
       "6 6   93    84    89    91    96    87    93    84    90    ... 81    87   \n",
       "  X2008 X2009 X2010 X2011 X2012 X2013 X2014 X2015\n",
       "1 85    95    87    92    105   82    90    85   \n",
       "2 87    90    84    94     93   85    93    87   \n",
       "3 91    89    83    95     99   76    87    79   \n",
       "4 90    91    85    92     98   77    84    85   \n",
       "5 88    80    88    90    100   83    86    84   \n",
       "6 82    87    89    90     98   83    87    84   "
      ]
     },
     "metadata": {},
     "output_type": "display_data"
    }
   ],
   "source": [
    "# New Data frame with day converted to numbers for easier handling\n",
    "new_df <- df\n",
    "new_df$DAY <- seq(1,nrow(new_df))\n",
    "head(new_df)"
   ]
  },
  {
   "cell_type": "markdown",
   "id": "2e66f4fd",
   "metadata": {},
   "source": [
    "Analysis for all years average data for visual understanding"
   ]
  },
  {
   "cell_type": "code",
   "execution_count": 7,
   "id": "6a31ec9d",
   "metadata": {
    "scrolled": true
   },
   "outputs": [
    {
     "name": "stdout",
     "output_type": "stream",
     "text": [
      "[1] \"Average Temperature\"\n"
     ]
    },
    {
     "data": {
      "text/html": [
       "83.339"
      ],
      "text/latex": [
       "83.339"
      ],
      "text/markdown": [
       "83.339"
      ],
      "text/plain": [
       "[1] 83.339"
      ]
     },
     "metadata": {},
     "output_type": "display_data"
    },
    {
     "name": "stdout",
     "output_type": "stream",
     "text": [
      "[1] \"Temperature appears to deviate at around day 60 which is: \"\n"
     ]
    },
    {
     "data": {
      "text/html": [
       "'29-Aug'"
      ],
      "text/latex": [
       "'29-Aug'"
      ],
      "text/markdown": [
       "'29-Aug'"
      ],
      "text/plain": [
       "[1] \"29-Aug\""
      ]
     },
     "metadata": {},
     "output_type": "display_data"
    },
    {
     "name": "stdout",
     "output_type": "stream",
     "text": [
      "[1] \"Temperature drops below average at around day 80 which is: \"\n"
     ]
    },
    {
     "data": {
      "text/html": [
       "'18-Sep'"
      ],
      "text/latex": [
       "'18-Sep'"
      ],
      "text/markdown": [
       "'18-Sep'"
      ],
      "text/plain": [
       "[1] \"18-Sep\""
      ]
     },
     "metadata": {},
     "output_type": "display_data"
    }
   ],
   "source": [
    "# convert annual data to average temperature (Note exclude column 1 \"DAY\")\n",
    "mean_temp_df <- as.data.frame(rowMeans(new_df[,2:ncol(new_df)]))\n",
    "# convert date to day sequence for easier plotting\n",
    "mean_temp_df$DAY <- seq(1:nrow(new_df))\n",
    "# change Columns names\n",
    "colnames(mean_temp_df) <- c(\"AVG_temp_day\", \"DAY\")\n",
    "# find mean of all data\n",
    "print(\"Average Temperature\")\n",
    "mean_avg_temp <- round(mean(mean_temp_df$AVG_temp_day),3)\n",
    "mean_avg_temp\n",
    "print(\"Temperature appears to deviate at around day 60 which is: \")\n",
    "df[60,\"DAY\"]\n",
    "print(\"Temperature drops below average at around day 80 which is: \")\n",
    "df[80,\"DAY\"]"
   ]
  },
  {
   "cell_type": "markdown",
   "id": "5abed773",
   "metadata": {},
   "source": [
    "<p><p style=\"page-break-after:always;\"></p></p>"
   ]
  },
  {
   "cell_type": "code",
   "execution_count": 8,
   "id": "038f287c",
   "metadata": {},
   "outputs": [
    {
     "data": {
      "image/png": "[encoded data removed]",
      "text/plain": [
       "Plot with title \"Average temperature per day annually\""
      ]
     },
     "metadata": {},
     "output_type": "display_data"
    }
   ],
   "source": [
    "# plot results\n",
    "plot(mean_temp_df$DAY, mean_temp_df$AVG_temp_day, xlab=\"DAY\", ylab=\"Mean Temperature\")\n",
    "lines(mean_temp_df$DAY, rep(mean_avg_temp, nrow(mean_temp_df)), col=\"red\")\n",
    "title(\"Average temperature per day annually\")\n",
    "grid()"
   ]
  },
  {
   "cell_type": "markdown",
   "id": "74768aa3",
   "metadata": {},
   "source": [
    "Visual inspection of the data above shows:\n",
    "1. The start of the deviaition from trend starts after day 60 (29th of August) \n",
    "2. Given the mean of the data is 83.3 (dragged lower by the lower temperature in October month), CuSum method will not detect a change even critical value = 0 until around Day 80 (18th of Septmeber).\n",
    "\n",
    "In Conclusion, around day 80 is the expected end of Summer from the average data"
   ]
  },
  {
   "cell_type": "markdown",
   "id": "d1b3c06d",
   "metadata": {},
   "source": [
    "<p><p style=\"page-break-after:always;\"></p></p>"
   ]
  },
  {
   "cell_type": "markdown",
   "id": "be994672",
   "metadata": {},
   "source": [
    "<b> Each Year Analysis </b>\n",
    "\n",
    "Calculate Mean and standard deviaition of temperature data for each year analysis"
   ]
  },
  {
   "cell_type": "code",
   "execution_count": 9,
   "id": "a07e646a",
   "metadata": {},
   "outputs": [
    {
     "name": "stdout",
     "output_type": "stream",
     "text": [
      "[1] \"All temperature data mean\"\n"
     ]
    },
    {
     "data": {
      "text/html": [
       "83.339"
      ],
      "text/latex": [
       "83.339"
      ],
      "text/markdown": [
       "83.339"
      ],
      "text/plain": [
       "[1] 83.339"
      ]
     },
     "metadata": {},
     "output_type": "display_data"
    },
    {
     "name": "stdout",
     "output_type": "stream",
     "text": [
      "[1] \"All temperature data standard deviaition\"\n"
     ]
    },
    {
     "data": {
      "text/html": [
       "8.62"
      ],
      "text/latex": [
       "8.62"
      ],
      "text/markdown": [
       "8.62"
      ],
      "text/plain": [
       "[1] 8.62"
      ]
     },
     "metadata": {},
     "output_type": "display_data"
    }
   ],
   "source": [
    "print(\"All temperature data mean\")\n",
    "mean_t <- mean(as.matrix(new_df[,2:ncol(new_df)]))\n",
    "round(mean_t,3)\n",
    "print(\"All temperature data standard deviaition\")\n",
    "sd_t <- sd(as.matrix(new_df[,2:ncol(new_df)]))\n",
    "round(sd_t,3)"
   ]
  },
  {
   "cell_type": "markdown",
   "id": "e4bafddc",
   "metadata": {},
   "source": [
    "In order to determine the end of summer for each year, \n",
    "1. The critical value (C) is assumed to be 0.5 the standard deviaition of the data (4.31)\n",
    "2. Different threshold (K) values were tested in order to determine the optimum value. K from 1 to 6 times the standard deviaition were tested"
   ]
  },
  {
   "cell_type": "code",
   "execution_count": 10,
   "id": "5b6e17c1",
   "metadata": {
    "scrolled": false
   },
   "outputs": [
    {
     "data": {
      "text/html": [
       "<table>\n",
       "<thead><tr><th></th><th scope=col>k=1*SD</th><th scope=col>k=2*SD</th><th scope=col>k=3*SD</th><th scope=col>k=4*SD</th><th scope=col>k=5*SD</th><th scope=col>k=6*SD</th></tr></thead>\n",
       "<tbody>\n",
       "\t<tr><th scope=row>X1996</th><td>91 </td><td> 92</td><td> 92</td><td> 93</td><td> 94</td><td> 96</td></tr>\n",
       "\t<tr><th scope=row>X1997</th><td>87 </td><td> 88</td><td> 89</td><td> 90</td><td>108</td><td>108</td></tr>\n",
       "\t<tr><th scope=row>X1998</th><td>92 </td><td>100</td><td>101</td><td>102</td><td>106</td><td>109</td></tr>\n",
       "\t<tr><th scope=row>X1999</th><td>82 </td><td> 84</td><td> 92</td><td> 93</td><td> 97</td><td> 98</td></tr>\n",
       "\t<tr><th scope=row>X2000</th><td>68 </td><td> 69</td><td> 69</td><td> 90</td><td> 91</td><td> 93</td></tr>\n",
       "\t<tr><th scope=row>X2001</th><td>87 </td><td> 87</td><td> 89</td><td> 92</td><td> 99</td><td>101</td></tr>\n",
       "\t<tr><th scope=row>X2002</th><td>87 </td><td> 88</td><td> 91</td><td>106</td><td>107</td><td>107</td></tr>\n",
       "\t<tr><th scope=row>X2003</th><td>91 </td><td> 92</td><td> 93</td><td> 94</td><td> 95</td><td> 99</td></tr>\n",
       "\t<tr><th scope=row>X2004</th><td>83 </td><td>102</td><td>104</td><td>105</td><td>106</td><td>106</td></tr>\n",
       "\t<tr><th scope=row>X2005</th><td>99 </td><td>100</td><td>101</td><td>105</td><td>109</td><td>115</td></tr>\n",
       "\t<tr><th scope=row>X2006</th><td>75 </td><td>104</td><td>105</td><td>105</td><td>106</td><td>107</td></tr>\n",
       "\t<tr><th scope=row>X2007</th><td>80 </td><td>104</td><td>104</td><td>106</td><td>108</td><td>111</td></tr>\n",
       "\t<tr><th scope=row>X2008</th><td>79 </td><td>110</td><td>111</td><td>111</td><td>112</td><td>113</td></tr>\n",
       "\t<tr><th scope=row>X2009</th><td>94 </td><td> 97</td><td> 97</td><td>105</td><td>106</td><td>107</td></tr>\n",
       "\t<tr><th scope=row>X2010</th><td>89 </td><td> 91</td><td> 92</td><td> 94</td><td> 95</td><td> 96</td></tr>\n",
       "\t<tr><th scope=row>X2011</th><td>68 </td><td> 69</td><td> 70</td><td> 95</td><td>101</td><td>102</td></tr>\n",
       "\t<tr><th scope=row>X2012</th><td>93 </td><td> 94</td><td> 95</td><td> 99</td><td>100</td><td>100</td></tr>\n",
       "\t<tr><th scope=row>X2013</th><td>47 </td><td> 48</td><td> 48</td><td>111</td><td>112</td><td>114</td></tr>\n",
       "\t<tr><th scope=row>X2014</th><td>88 </td><td> 90</td><td> 91</td><td> 97</td><td>113</td><td>114</td></tr>\n",
       "\t<tr><th scope=row>X2015</th><td>87 </td><td> 87</td><td> 88</td><td> 89</td><td> 93</td><td> 94</td></tr>\n",
       "</tbody>\n",
       "</table>\n"
      ],
      "text/latex": [
       "\\begin{tabular}{r|llllll}\n",
       "  & k=1*SD & k=2*SD & k=3*SD & k=4*SD & k=5*SD & k=6*SD\\\\\n",
       "\\hline\n",
       "\tX1996 & 91  &  92 &  92 &  93 &  94 &  96\\\\\n",
       "\tX1997 & 87  &  88 &  89 &  90 & 108 & 108\\\\\n",
       "\tX1998 & 92  & 100 & 101 & 102 & 106 & 109\\\\\n",
       "\tX1999 & 82  &  84 &  92 &  93 &  97 &  98\\\\\n",
       "\tX2000 & 68  &  69 &  69 &  90 &  91 &  93\\\\\n",
       "\tX2001 & 87  &  87 &  89 &  92 &  99 & 101\\\\\n",
       "\tX2002 & 87  &  88 &  91 & 106 & 107 & 107\\\\\n",
       "\tX2003 & 91  &  92 &  93 &  94 &  95 &  99\\\\\n",
       "\tX2004 & 83  & 102 & 104 & 105 & 106 & 106\\\\\n",
       "\tX2005 & 99  & 100 & 101 & 105 & 109 & 115\\\\\n",
       "\tX2006 & 75  & 104 & 105 & 105 & 106 & 107\\\\\n",
       "\tX2007 & 80  & 104 & 104 & 106 & 108 & 111\\\\\n",
       "\tX2008 & 79  & 110 & 111 & 111 & 112 & 113\\\\\n",
       "\tX2009 & 94  &  97 &  97 & 105 & 106 & 107\\\\\n",
       "\tX2010 & 89  &  91 &  92 &  94 &  95 &  96\\\\\n",
       "\tX2011 & 68  &  69 &  70 &  95 & 101 & 102\\\\\n",
       "\tX2012 & 93  &  94 &  95 &  99 & 100 & 100\\\\\n",
       "\tX2013 & 47  &  48 &  48 & 111 & 112 & 114\\\\\n",
       "\tX2014 & 88  &  90 &  91 &  97 & 113 & 114\\\\\n",
       "\tX2015 & 87  &  87 &  88 &  89 &  93 &  94\\\\\n",
       "\\end{tabular}\n"
      ],
      "text/markdown": [
       "\n",
       "| <!--/--> | k=1*SD | k=2*SD | k=3*SD | k=4*SD | k=5*SD | k=6*SD |\n",
       "|---|---|---|---|---|---|---|\n",
       "| X1996 | 91  |  92 |  92 |  93 |  94 |  96 |\n",
       "| X1997 | 87  |  88 |  89 |  90 | 108 | 108 |\n",
       "| X1998 | 92  | 100 | 101 | 102 | 106 | 109 |\n",
       "| X1999 | 82  |  84 |  92 |  93 |  97 |  98 |\n",
       "| X2000 | 68  |  69 |  69 |  90 |  91 |  93 |\n",
       "| X2001 | 87  |  87 |  89 |  92 |  99 | 101 |\n",
       "| X2002 | 87  |  88 |  91 | 106 | 107 | 107 |\n",
       "| X2003 | 91  |  92 |  93 |  94 |  95 |  99 |\n",
       "| X2004 | 83  | 102 | 104 | 105 | 106 | 106 |\n",
       "| X2005 | 99  | 100 | 101 | 105 | 109 | 115 |\n",
       "| X2006 | 75  | 104 | 105 | 105 | 106 | 107 |\n",
       "| X2007 | 80  | 104 | 104 | 106 | 108 | 111 |\n",
       "| X2008 | 79  | 110 | 111 | 111 | 112 | 113 |\n",
       "| X2009 | 94  |  97 |  97 | 105 | 106 | 107 |\n",
       "| X2010 | 89  |  91 |  92 |  94 |  95 |  96 |\n",
       "| X2011 | 68  |  69 |  70 |  95 | 101 | 102 |\n",
       "| X2012 | 93  |  94 |  95 |  99 | 100 | 100 |\n",
       "| X2013 | 47  |  48 |  48 | 111 | 112 | 114 |\n",
       "| X2014 | 88  |  90 |  91 |  97 | 113 | 114 |\n",
       "| X2015 | 87  |  87 |  88 |  89 |  93 |  94 |\n",
       "\n"
      ],
      "text/plain": [
       "      k=1*SD k=2*SD k=3*SD k=4*SD k=5*SD k=6*SD\n",
       "X1996 91      92     92     93     94     96   \n",
       "X1997 87      88     89     90    108    108   \n",
       "X1998 92     100    101    102    106    109   \n",
       "X1999 82      84     92     93     97     98   \n",
       "X2000 68      69     69     90     91     93   \n",
       "X2001 87      87     89     92     99    101   \n",
       "X2002 87      88     91    106    107    107   \n",
       "X2003 91      92     93     94     95     99   \n",
       "X2004 83     102    104    105    106    106   \n",
       "X2005 99     100    101    105    109    115   \n",
       "X2006 75     104    105    105    106    107   \n",
       "X2007 80     104    104    106    108    111   \n",
       "X2008 79     110    111    111    112    113   \n",
       "X2009 94      97     97    105    106    107   \n",
       "X2010 89      91     92     94     95     96   \n",
       "X2011 68      69     70     95    101    102   \n",
       "X2012 93      94     95     99    100    100   \n",
       "X2013 47      48     48    111    112    114   \n",
       "X2014 88      90     91     97    113    114   \n",
       "X2015 87      87     88     89     93     94   "
      ]
     },
     "metadata": {},
     "output_type": "display_data"
    }
   ],
   "source": [
    "# Denife C\n",
    "C <- 0.5 * sd_t\n",
    "# vector of sensitivity variables\n",
    "k_sen <- seq(1, 6, 1) * sd_t\n",
    "# dataframe to store results data\n",
    "result_df <- data.frame()\n",
    "# loop through all years\n",
    "for (col in colnames(new_df)[2:length(new_df)]){\n",
    "    # Counter for the loops\n",
    "    counter <- 1\n",
    "    # loop through the sentivity\n",
    "    for (k in k_sen) {\n",
    "        # number of observations\n",
    "        N <- nrow(new_df)\n",
    "        # initialize CuSum Metric St\n",
    "        S_T <- seq(1,N)\n",
    "        S_T[1] <- 0\n",
    "        # loop for all points\n",
    "        col_mean <- mean(new_df[,col])\n",
    "        for (i in 2:N){\n",
    "            S_T[i] <- max(0, S_T[i-1]+(col_mean-new_df[i,col]-C))\n",
    "        }\n",
    "        # add S_T to dataframe\n",
    "        new_df$S_T <- S_T\n",
    "        result_df[counter, \"k_used\"] <- k\n",
    "        result_df[counter, col] <- new_df[new_df$S_T>k,][1,\"DAY\"]\n",
    "        # counter\n",
    "        counter <- counter + 1\n",
    "    }\n",
    "}\n",
    "# remove useless S_T columns\n",
    "result_df$S_T <- NULL\n",
    "new_df$S_T <- NULL\n",
    "# prepare results dataframe\n",
    "result_df <- t(result_df)\n",
    "result_df <- as.data.frame(result_df[2:nrow(result_df),])\n",
    "colnames(result_df) <- c(\"k=1*SD\", \"k=2*SD\", \"k=3*SD\", \"k=4*SD\", \"k=5*SD\", \"k=6*SD\")\n",
    "# display results\n",
    "result_df"
   ]
  },
  {
   "cell_type": "markdown",
   "id": "1854d2d5",
   "metadata": {},
   "source": [
    "<p><p style=\"page-break-after:always;\"></p></p>"
   ]
  },
  {
   "cell_type": "code",
   "execution_count": 11,
   "id": "d6f52be6",
   "metadata": {},
   "outputs": [
    {
     "data": {
      "image/png": "[encoded data removed]",
      "text/plain": [
       "Plot with title \"CuSum Sensitivity analysis results\""
      ]
     },
     "metadata": {},
     "output_type": "display_data"
    }
   ],
   "source": [
    "boxplot(result_df, ylab=\"End of summer day\")\n",
    "title(\"CuSum Sensitivity analysis results\")"
   ]
  },
  {
   "cell_type": "markdown",
   "id": "1988bde5",
   "metadata": {},
   "source": [
    "<p><p style=\"page-break-after:always;\"></p></p>"
   ]
  },
  {
   "cell_type": "code",
   "execution_count": 12,
   "id": "b0e0f0f1",
   "metadata": {},
   "outputs": [
    {
     "name": "stderr",
     "output_type": "stream",
     "text": [
      "Registered S3 methods overwritten by 'ggplot2':\n",
      "  method         from \n",
      "  [.quosures     rlang\n",
      "  c.quosures     rlang\n",
      "  print.quosures rlang\n"
     ]
    },
    {
     "data": {
      "image/png": "[encoded data removed]",
      "text/plain": [
       "plot without title"
      ]
     },
     "metadata": {},
     "output_type": "display_data"
    }
   ],
   "source": [
    "# plot results\n",
    "library(ggplot2)\n",
    "library(reshape2)\n",
    "# plot dataframe\n",
    "plot_df <- as.data.frame(result_df)\n",
    "plot_df$YEAR <- 1996:2015\n",
    "# melt Df\n",
    "plot_df <- melt(plot_df ,  id.vars = 'YEAR', variable.name = 'series')\n",
    "#create line plot for each column in data frame\n",
    "ggplot(plot_df, aes(YEAR, value)) +\n",
    "  geom_line() +\n",
    "  facet_grid(series ~ .)+\n",
    "  ggtitle(\"CuSum Sensitivity analysis results\")+\n",
    "  labs(x=\"YEAR\", Y=\"DAY\")+\n",
    "  theme_bw()"
   ]
  },
  {
   "cell_type": "markdown",
   "id": "6b3ba933",
   "metadata": {},
   "source": [
    "From the Boxplot, the line plots and the table above, \n",
    "1. With K= 1 * SD (K=8.6), the inter-quartile range (IQR) lies within an acceptable range (day 80 - 90) with tails extending between days 70 and 100 and 1 outlier.\n",
    "2. Increasing the K value up to 3 * SD doesnot help the outliers but it slows the detection of end of summer in other years. \n",
    "3. Increasing k-value a lot delays the detection of summer significantly until with  K= 6*SD, end of summer detected in late october (not aligned with average temperature analysis before)\n",
    "4. The year 2013 is always plotting as an outlier (DAY = 46-48) until k >= 4*SD. Details below\n",
    "\n",
    "From the chart below for the year 2013,\n",
    "1. Analysis from the chart below showed outliers around day 45, without smoothing the data or removing these data points, tweaking the model to skip these points will result in significant delay in detecting the end of summer. \n",
    "2. Visual inspection also showed end of summer is around DAY 80-90 without the outliers."
   ]
  },
  {
   "cell_type": "code",
   "execution_count": 13,
   "id": "a0acba2a",
   "metadata": {},
   "outputs": [
    {
     "data": {
      "image/png": "[encoded data removed]",
      "text/plain": [
       "Plot with title \"2013 Temperature plot\""
      ]
     },
     "metadata": {},
     "output_type": "display_data"
    }
   ],
   "source": [
    "plot(new_df$DAY, new_df$X2013, xlab=\"DAY\", ylab=\"Temperature\")\n",
    "grid()\n",
    "title(\"2013 Temperature plot\")"
   ]
  },
  {
   "cell_type": "markdown",
   "id": "b3b39a3b",
   "metadata": {},
   "source": [
    "<p><p style=\"page-break-after:always;\"></p></p>"
   ]
  },
  {
   "cell_type": "markdown",
   "id": "79df3f9f",
   "metadata": {},
   "source": [
    "<b> Conclusions </b>\n",
    "\n",
    "1. The End of Summer of each year is best determined using Cusum approach using C= 0.5 SD and K = 1 SD.\n",
    "3. The lower average temperatures of October Month lowers the mean and thus a relatively low threshold K = 1 SD is required.\n",
    "3. The analysis shows end of summer to be typically between day 80 and 90 (18 and 28th of September) with a maximum range between 6th of September and 7th of October (Day 69 - 99).\n",
    "4. Years with outliers in temperature, e.g. 2013, can be better handled using data smoothing techniques."
   ]
  },
  {
   "cell_type": "markdown",
   "id": "a1e8b1dc",
   "metadata": {},
   "source": [
    "<p><p style=\"page-break-after:always;\"></p></p>"
   ]
  },
  {
   "cell_type": "markdown",
   "id": "0ac529ff",
   "metadata": {},
   "source": [
    "<h2>Answr 6.2 Part 2</h2>\n",
    "\n",
    "Use a CUSUM approach to make a judgment of whether Atlanta’s summer climate has gotten warmer in that time (and if so, when).\n",
    "\n",
    "In my solution, I assume that the average temperature from July to October for each year is an indiactor of the annual average summer temperature."
   ]
  },
  {
   "cell_type": "code",
   "execution_count": 14,
   "id": "d1218362",
   "metadata": {},
   "outputs": [
    {
     "data": {
      "image/png": "[encoded data removed]",
      "text/plain": [
       "plot without title"
      ]
     },
     "metadata": {},
     "output_type": "display_data"
    }
   ],
   "source": [
    "# convert annual data to average temperature (Note exclude column 1 \"DAY\")\n",
    "mean_temp_df <- as.data.frame(colMeans(df[,2:ncol(df)]))\n",
    "# Define years vector\n",
    "mean_temp_df$year <- seq(1996,2015)\n",
    "#change columns names\n",
    "colnames(mean_temp_df) <- c(\"AVG_temp\", \"YEAR\")\n",
    "# plot results\n",
    "plot(mean_temp_df$YEAR, mean_temp_df$AVG_temp, xlab=\"Year\", ylab=\"Average Temperature, F\")\n",
    "grid()"
   ]
  },
  {
   "cell_type": "markdown",
   "id": "f313ff19",
   "metadata": {},
   "source": [
    "From the plot, it can be seen that starting at 2010 (except 2013), there seems to be an increase in average temperature"
   ]
  },
  {
   "cell_type": "code",
   "execution_count": 15,
   "id": "6a315dc4",
   "metadata": {},
   "outputs": [
    {
     "name": "stdout",
     "output_type": "stream",
     "text": [
      "[1] \"Mean temperature of all data\"\n"
     ]
    },
    {
     "data": {
      "text/html": [
       "83.34"
      ],
      "text/latex": [
       "83.34"
      ],
      "text/markdown": [
       "83.34"
      ],
      "text/plain": [
       "[1] 83.34"
      ]
     },
     "metadata": {},
     "output_type": "display_data"
    },
    {
     "name": "stdout",
     "output_type": "stream",
     "text": [
      "[1] \"Mean temperature of all data\"\n"
     ]
    },
    {
     "data": {
      "text/html": [
       "1.58"
      ],
      "text/latex": [
       "1.58"
      ],
      "text/markdown": [
       "1.58"
      ],
      "text/plain": [
       "[1] 1.58"
      ]
     },
     "metadata": {},
     "output_type": "display_data"
    }
   ],
   "source": [
    "# calculate mean temperature of all data\n",
    "mean_temp <- mean(mean_temp_df$AVG_temp)\n",
    "print(\"Mean temperature of all data\")\n",
    "round(mean_temp,2)\n",
    "sd_temp <- sd(mean_temp_df$AVG_temp)\n",
    "print(\"Mean temperature of all data\")\n",
    "round(sd_temp,2)"
   ]
  },
  {
   "cell_type": "code",
   "execution_count": 16,
   "id": "356511f8",
   "metadata": {},
   "outputs": [
    {
     "data": {
      "image/png": "[encoded data removed]",
      "text/plain": [
       "Plot with title \"Control Chart\""
      ]
     },
     "metadata": {},
     "output_type": "display_data"
    }
   ],
   "source": [
    "# number of observations\n",
    "N <- nrow(mean_temp_df)\n",
    "# initialize CuSum Metric St\n",
    "S_T <- seq(1,N)\n",
    "S_T[1] <- 0\n",
    "# loop for all points\n",
    "for (i in 2:N){\n",
    "    S_T[i] <- max(0, S_T[i-1]+(mean_temp_df[i,\"AVG_temp\"]-mean_temp))\n",
    "}\n",
    "# add S_T to dataframe\n",
    "mean_temp_df$S_T <- S_T\n",
    "# plot Results\n",
    "plot(mean_temp_df$YEAR, mean_temp_df$S_T, xlab=\"YEAR\", ylab=\"S_T\")\n",
    "title(\"Control Chart\")\n",
    "grid()"
   ]
  },
  {
   "cell_type": "markdown",
   "id": "01d42bf7",
   "metadata": {},
   "source": [
    "From the control chart, 2010 onwards shows a change. A threshold of the change could be assigned to be 3"
   ]
  },
  {
   "cell_type": "code",
   "execution_count": 17,
   "id": "85811d9a",
   "metadata": {},
   "outputs": [
    {
     "name": "stdout",
     "output_type": "stream",
     "text": [
      "[1] \"Change detected with Threshold > 3\"\n"
     ]
    },
    {
     "data": {
      "text/html": [
       "2010"
      ],
      "text/latex": [
       "2010"
      ],
      "text/markdown": [
       "2010"
      ],
      "text/plain": [
       "[1] 2010"
      ]
     },
     "metadata": {},
     "output_type": "display_data"
    }
   ],
   "source": [
    "# find year where change is detected assuming threshold is zero\n",
    "print(\"Change detected with Threshold > 3\")\n",
    "mean_temp_df[mean_temp_df$S_T>=3,][1,\"YEAR\"]\n"
   ]
  },
  {
   "cell_type": "markdown",
   "id": "100efb83",
   "metadata": {},
   "source": [
    "<p><p style=\"page-break-after:always;\"></p></p>"
   ]
  },
  {
   "cell_type": "markdown",
   "id": "53d66687",
   "metadata": {},
   "source": [
    "Sensitivity Analysis for C and Threshold"
   ]
  },
  {
   "cell_type": "code",
   "execution_count": 18,
   "id": "6f6b1acc",
   "metadata": {},
   "outputs": [],
   "source": [
    "# vectors to store data\n",
    "S_T_used <- seq(1,25)\n",
    "C_used <- (seq(1,25))\n",
    "result <- seq(1,25)\n",
    "# Counter for the loops\n",
    "counter <- 1\n",
    "# loop through the sentivity\n",
    "for (C in seq(0,4)) {\n",
    "for (S_T_threshold in seq(1,6)) {\n",
    "    # number of observations\n",
    "    N <- nrow(mean_temp_df)\n",
    "    # initialize CuSum Metric St\n",
    "    S_T <- seq(1,N)\n",
    "    S_T[1] <- 0\n",
    "    # loop for all points\n",
    "    for (i in 2:N){\n",
    "        S_T[i] <- max(0, S_T[i-1]+(mean_temp_df[i,\"AVG_temp\"]-mean_temp-C))\n",
    "    }\n",
    "    # add S_T to dataframe\n",
    "    mean_temp_df$S_T <- S_T\n",
    "    S_T_used[counter] <- S_T_threshold\n",
    "    C_used[counter] <- C\n",
    "    result[counter] <- mean_temp_df[mean_temp_df$S_T>=S_T_threshold,][1,\"YEAR\"]\n",
    "    # counter\n",
    "    counter <- counter + 1\n",
    "}}\n",
    "result_df <- data.frame(S_T_used, C_used, result)"
   ]
  },
  {
   "cell_type": "code",
   "execution_count": 19,
   "id": "2294ee05",
   "metadata": {},
   "outputs": [
    {
     "data": {
      "text/html": [
       "<table>\n",
       "<thead><tr><th scope=col>S_T_used</th><th scope=col>C_used</th><th scope=col>result</th></tr></thead>\n",
       "<tbody>\n",
       "\t<tr><td>1   </td><td>0   </td><td>2000</td></tr>\n",
       "\t<tr><td>2   </td><td>0   </td><td>2007</td></tr>\n",
       "\t<tr><td>3   </td><td>0   </td><td>2010</td></tr>\n",
       "\t<tr><td>4   </td><td>0   </td><td>2011</td></tr>\n",
       "\t<tr><td>5   </td><td>0   </td><td>2011</td></tr>\n",
       "\t<tr><td>6   </td><td>0   </td><td>2012</td></tr>\n",
       "\t<tr><td>1   </td><td>1   </td><td>2007</td></tr>\n",
       "\t<tr><td>2   </td><td>1   </td><td>2010</td></tr>\n",
       "\t<tr><td>3   </td><td>1   </td><td>2011</td></tr>\n",
       "\t<tr><td>4   </td><td>1   </td><td>2012</td></tr>\n",
       "\t<tr><td>5   </td><td>1   </td><td>  NA</td></tr>\n",
       "\t<tr><td>6   </td><td>1   </td><td>  NA</td></tr>\n",
       "\t<tr><td>1   </td><td>2   </td><td>2010</td></tr>\n",
       "\t<tr><td>2   </td><td>2   </td><td>  NA</td></tr>\n",
       "\t<tr><td>3   </td><td>2   </td><td>  NA</td></tr>\n",
       "\t<tr><td>4   </td><td>2   </td><td>  NA</td></tr>\n",
       "\t<tr><td>5   </td><td>2   </td><td>  NA</td></tr>\n",
       "\t<tr><td>6   </td><td>2   </td><td>  NA</td></tr>\n",
       "\t<tr><td>1   </td><td>3   </td><td>  NA</td></tr>\n",
       "\t<tr><td>2   </td><td>3   </td><td>  NA</td></tr>\n",
       "\t<tr><td>3   </td><td>3   </td><td>  NA</td></tr>\n",
       "\t<tr><td>4   </td><td>3   </td><td>  NA</td></tr>\n",
       "\t<tr><td>5   </td><td>3   </td><td>  NA</td></tr>\n",
       "\t<tr><td>6   </td><td>3   </td><td>  NA</td></tr>\n",
       "\t<tr><td>1   </td><td>4   </td><td>  NA</td></tr>\n",
       "\t<tr><td>2   </td><td>4   </td><td>  NA</td></tr>\n",
       "\t<tr><td>3   </td><td>4   </td><td>  NA</td></tr>\n",
       "\t<tr><td>4   </td><td>4   </td><td>  NA</td></tr>\n",
       "\t<tr><td>5   </td><td>4   </td><td>  NA</td></tr>\n",
       "\t<tr><td>6   </td><td>4   </td><td>  NA</td></tr>\n",
       "</tbody>\n",
       "</table>\n"
      ],
      "text/latex": [
       "\\begin{tabular}{r|lll}\n",
       " S\\_T\\_used & C\\_used & result\\\\\n",
       "\\hline\n",
       "\t 1    & 0    & 2000\\\\\n",
       "\t 2    & 0    & 2007\\\\\n",
       "\t 3    & 0    & 2010\\\\\n",
       "\t 4    & 0    & 2011\\\\\n",
       "\t 5    & 0    & 2011\\\\\n",
       "\t 6    & 0    & 2012\\\\\n",
       "\t 1    & 1    & 2007\\\\\n",
       "\t 2    & 1    & 2010\\\\\n",
       "\t 3    & 1    & 2011\\\\\n",
       "\t 4    & 1    & 2012\\\\\n",
       "\t 5    & 1    &   NA\\\\\n",
       "\t 6    & 1    &   NA\\\\\n",
       "\t 1    & 2    & 2010\\\\\n",
       "\t 2    & 2    &   NA\\\\\n",
       "\t 3    & 2    &   NA\\\\\n",
       "\t 4    & 2    &   NA\\\\\n",
       "\t 5    & 2    &   NA\\\\\n",
       "\t 6    & 2    &   NA\\\\\n",
       "\t 1    & 3    &   NA\\\\\n",
       "\t 2    & 3    &   NA\\\\\n",
       "\t 3    & 3    &   NA\\\\\n",
       "\t 4    & 3    &   NA\\\\\n",
       "\t 5    & 3    &   NA\\\\\n",
       "\t 6    & 3    &   NA\\\\\n",
       "\t 1    & 4    &   NA\\\\\n",
       "\t 2    & 4    &   NA\\\\\n",
       "\t 3    & 4    &   NA\\\\\n",
       "\t 4    & 4    &   NA\\\\\n",
       "\t 5    & 4    &   NA\\\\\n",
       "\t 6    & 4    &   NA\\\\\n",
       "\\end{tabular}\n"
      ],
      "text/markdown": [
       "\n",
       "| S_T_used | C_used | result |\n",
       "|---|---|---|\n",
       "| 1    | 0    | 2000 |\n",
       "| 2    | 0    | 2007 |\n",
       "| 3    | 0    | 2010 |\n",
       "| 4    | 0    | 2011 |\n",
       "| 5    | 0    | 2011 |\n",
       "| 6    | 0    | 2012 |\n",
       "| 1    | 1    | 2007 |\n",
       "| 2    | 1    | 2010 |\n",
       "| 3    | 1    | 2011 |\n",
       "| 4    | 1    | 2012 |\n",
       "| 5    | 1    |   NA |\n",
       "| 6    | 1    |   NA |\n",
       "| 1    | 2    | 2010 |\n",
       "| 2    | 2    |   NA |\n",
       "| 3    | 2    |   NA |\n",
       "| 4    | 2    |   NA |\n",
       "| 5    | 2    |   NA |\n",
       "| 6    | 2    |   NA |\n",
       "| 1    | 3    |   NA |\n",
       "| 2    | 3    |   NA |\n",
       "| 3    | 3    |   NA |\n",
       "| 4    | 3    |   NA |\n",
       "| 5    | 3    |   NA |\n",
       "| 6    | 3    |   NA |\n",
       "| 1    | 4    |   NA |\n",
       "| 2    | 4    |   NA |\n",
       "| 3    | 4    |   NA |\n",
       "| 4    | 4    |   NA |\n",
       "| 5    | 4    |   NA |\n",
       "| 6    | 4    |   NA |\n",
       "\n"
      ],
      "text/plain": [
       "   S_T_used C_used result\n",
       "1  1        0      2000  \n",
       "2  2        0      2007  \n",
       "3  3        0      2010  \n",
       "4  4        0      2011  \n",
       "5  5        0      2011  \n",
       "6  6        0      2012  \n",
       "7  1        1      2007  \n",
       "8  2        1      2010  \n",
       "9  3        1      2011  \n",
       "10 4        1      2012  \n",
       "11 5        1        NA  \n",
       "12 6        1        NA  \n",
       "13 1        2      2010  \n",
       "14 2        2        NA  \n",
       "15 3        2        NA  \n",
       "16 4        2        NA  \n",
       "17 5        2        NA  \n",
       "18 6        2        NA  \n",
       "19 1        3        NA  \n",
       "20 2        3        NA  \n",
       "21 3        3        NA  \n",
       "22 4        3        NA  \n",
       "23 5        3        NA  \n",
       "24 6        3        NA  \n",
       "25 1        4        NA  \n",
       "26 2        4        NA  \n",
       "27 3        4        NA  \n",
       "28 4        4        NA  \n",
       "29 5        4        NA  \n",
       "30 6        4        NA  "
      ]
     },
     "metadata": {},
     "output_type": "display_data"
    }
   ],
   "source": [
    "result_df"
   ]
  },
  {
   "cell_type": "markdown",
   "id": "c2302ae9",
   "metadata": {},
   "source": [
    "<p><p style=\"page-break-after:always;\"></p></p>"
   ]
  },
  {
   "cell_type": "markdown",
   "id": "adcf8fb2",
   "metadata": {},
   "source": [
    "From the sensitivity analysis above:\n",
    "1. Any value of C >=2 results in no change detected. This is due to the maximum difference between the mean and the data points is +/- 3 degree F.\n",
    "2. With C=0 and Threshold <=2 and C=1 and Threshold =1, 2000 and 2007 are detected as the start of change. However, visual inspection of the Control chart shows 2000 as a False alaram and probably the same applies for 2007.\n",
    "3. Mutiple other combinations of C and threshold (e.g. C=3 Threshold=0) shows the change starting at either 2010 or 2011.\n",
    "4. Some models suggest also 2012 as the start of the climate becoming warmer in summer (Highest confirmation)\n",
    "\n",
    "<b> In Conclusion, 2010 up to 2012 marks an incerease in Atlanta’s summer temperature </b>"
   ]
  }
 ],
 "metadata": {
  "kernelspec": {
   "display_name": "R",
   "language": "R",
   "name": "ir"
  },
  "language_info": {
   "codemirror_mode": "r",
   "file_extension": ".r",
   "mimetype": "text/x-r-source",
   "name": "R",
   "pygments_lexer": "r",
   "version": "3.6.1"
  }
 },
 "nbformat": 4,
 "nbformat_minor": 5
}
