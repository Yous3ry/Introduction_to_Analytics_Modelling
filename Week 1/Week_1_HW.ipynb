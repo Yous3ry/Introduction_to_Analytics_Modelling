{
 "cells": [
  {
   "cell_type": "markdown",
   "id": "b613fd95",
   "metadata": {},
   "source": [
    "<h1> Week 1 Homework"
   ]
  },
  {
   "cell_type": "markdown",
   "id": "e05b726a",
   "metadata": {},
   "source": [
    "<h2>Question 2.1</h2>\n",
    "Describe a situation or problem from your job, everyday life, current events, etc., for which a classification model would be appropriate. List some (up to 5) predictors that you might use."
   ]
  },
  {
   "cell_type": "markdown",
   "id": "70a3867e",
   "metadata": {},
   "source": [
    "<b> Answer: </b>\n",
    "\n",
    "In Petroleum Engineering, defining whether a rock section intersected by a well is a hydrocarbon bearing reservoir or not and whether it can be economically produced is critical for the future utilization of the well. \n",
    "\n",
    "Pay is an expression that denotes a portion of a reservoir that contains economically recoverable hydrocarbons. \n",
    "\n",
    "In order for a rock to be considered a pay rock, It must contain sufficient:\n",
    "1. Porosity (void space in the reservoir rock to store the hydrocarbons),\n",
    "2. Hydrocarbon saturation as opposed to water saturation,\n",
    "3. Permeability to transmit the hydrocarbons through the reservoir and to the wellbore,\n",
    "4. Reserves to be economically developed, etc.\n",
    "\n",
    "The definition of suffcient varies from geological zone to another. Also the definition of economic reserves varies significantly depending on the location (onshore vs offshore) and many other factors.\n",
    "\n",
    "Reference: https://glossary.oilfield.slb.com/en/Terms/p/pay.aspx"
   ]
  },
  {
   "cell_type": "markdown",
   "id": "999f86cd",
   "metadata": {},
   "source": [
    "<p><p style=\"page-break-after:always;\"></p></p>"
   ]
  },
  {
   "cell_type": "markdown",
   "id": "923c742e",
   "metadata": {},
   "source": [
    "<h2>Question 2.2</h2>\n",
    "The files credit_card_data.txt (without headers) and credit_card_data-headers.txt (with headers) contain a dataset with 654 data points, 6 continuous and 4 binary predictor variables.  It has anonymized credit card applications with a binary response variable (last column) indicating if the application was positive or negative. The dataset is the “Credit Approval Data Set” from the UCI Machine Learning Repository (https://archive.ics.uci.edu/ml/datasets/Credit+Approval) without the categorical variables and without data points that have missing values."
   ]
  },
  {
   "cell_type": "markdown",
   "id": "adc13f0e",
   "metadata": {},
   "source": [
    "<h3> Part 1 </h3>\n",
    "Using the support vector machine function ksvm contained in the R package kernlab, find a good classifier for this data. Show the equation of your classifier, and how well it classifies the data points in the full data set."
   ]
  },
  {
   "cell_type": "markdown",
   "id": "ef4d2e46",
   "metadata": {},
   "source": [
    "<h3>Answer Part 1</h3>"
   ]
  },
  {
   "cell_type": "code",
   "execution_count": 1,
   "id": "3e40cd22",
   "metadata": {},
   "outputs": [
    {
     "data": {
      "text/html": [
       "<table>\n",
       "<thead><tr><th scope=col>A1</th><th scope=col>A2</th><th scope=col>A3</th><th scope=col>A8</th><th scope=col>A9</th><th scope=col>A10</th><th scope=col>A11</th><th scope=col>A12</th><th scope=col>A14</th><th scope=col>A15</th><th scope=col>R1</th></tr></thead>\n",
       "<tbody>\n",
       "\t<tr><td>1    </td><td>30.83</td><td>0.000</td><td>1.25 </td><td>1    </td><td>0    </td><td>1    </td><td>1    </td><td>202  </td><td>  0  </td><td>1    </td></tr>\n",
       "\t<tr><td>0    </td><td>58.67</td><td>4.460</td><td>3.04 </td><td>1    </td><td>0    </td><td>6    </td><td>1    </td><td> 43  </td><td>560  </td><td>1    </td></tr>\n",
       "\t<tr><td>0    </td><td>24.50</td><td>0.500</td><td>1.50 </td><td>1    </td><td>1    </td><td>0    </td><td>1    </td><td>280  </td><td>824  </td><td>1    </td></tr>\n",
       "\t<tr><td>1    </td><td>27.83</td><td>1.540</td><td>3.75 </td><td>1    </td><td>0    </td><td>5    </td><td>0    </td><td>100  </td><td>  3  </td><td>1    </td></tr>\n",
       "\t<tr><td>1    </td><td>20.17</td><td>5.625</td><td>1.71 </td><td>1    </td><td>1    </td><td>0    </td><td>1    </td><td>120  </td><td>  0  </td><td>1    </td></tr>\n",
       "\t<tr><td>1    </td><td>32.08</td><td>4.000</td><td>2.50 </td><td>1    </td><td>1    </td><td>0    </td><td>0    </td><td>360  </td><td>  0  </td><td>1    </td></tr>\n",
       "</tbody>\n",
       "</table>\n"
      ],
      "text/latex": [
       "\\begin{tabular}{lllllllllll}\n",
       " A1 & A2 & A3 & A8 & A9 & A10 & A11 & A12 & A14 & A15 & R1\\\\\n",
       "\\hline\n",
       "\t 1     & 30.83 & 0.000 & 1.25  & 1     & 0     & 1     & 1     & 202   &   0   & 1    \\\\\n",
       "\t 0     & 58.67 & 4.460 & 3.04  & 1     & 0     & 6     & 1     &  43   & 560   & 1    \\\\\n",
       "\t 0     & 24.50 & 0.500 & 1.50  & 1     & 1     & 0     & 1     & 280   & 824   & 1    \\\\\n",
       "\t 1     & 27.83 & 1.540 & 3.75  & 1     & 0     & 5     & 0     & 100   &   3   & 1    \\\\\n",
       "\t 1     & 20.17 & 5.625 & 1.71  & 1     & 1     & 0     & 1     & 120   &   0   & 1    \\\\\n",
       "\t 1     & 32.08 & 4.000 & 2.50  & 1     & 1     & 0     & 0     & 360   &   0   & 1    \\\\\n",
       "\\end{tabular}\n"
      ],
      "text/markdown": [
       "\n",
       "| A1 | A2 | A3 | A8 | A9 | A10 | A11 | A12 | A14 | A15 | R1 |\n",
       "|---|---|---|---|---|---|---|---|---|---|---|\n",
       "| 1     | 30.83 | 0.000 | 1.25  | 1     | 0     | 1     | 1     | 202   |   0   | 1     |\n",
       "| 0     | 58.67 | 4.460 | 3.04  | 1     | 0     | 6     | 1     |  43   | 560   | 1     |\n",
       "| 0     | 24.50 | 0.500 | 1.50  | 1     | 1     | 0     | 1     | 280   | 824   | 1     |\n",
       "| 1     | 27.83 | 1.540 | 3.75  | 1     | 0     | 5     | 0     | 100   |   3   | 1     |\n",
       "| 1     | 20.17 | 5.625 | 1.71  | 1     | 1     | 0     | 1     | 120   |   0   | 1     |\n",
       "| 1     | 32.08 | 4.000 | 2.50  | 1     | 1     | 0     | 0     | 360   |   0   | 1     |\n",
       "\n"
      ],
      "text/plain": [
       "     A1 A2    A3    A8   A9 A10 A11 A12 A14 A15 R1\n",
       "[1,] 1  30.83 0.000 1.25 1  0   1   1   202   0 1 \n",
       "[2,] 0  58.67 4.460 3.04 1  0   6   1    43 560 1 \n",
       "[3,] 0  24.50 0.500 1.50 1  1   0   1   280 824 1 \n",
       "[4,] 1  27.83 1.540 3.75 1  0   5   0   100   3 1 \n",
       "[5,] 1  20.17 5.625 1.71 1  1   0   1   120   0 1 \n",
       "[6,] 1  32.08 4.000 2.50 1  1   0   0   360   0 1 "
      ]
     },
     "metadata": {},
     "output_type": "display_data"
    }
   ],
   "source": [
    "# loading the dataset\n",
    "# READ DATASET as Matrix\n",
    "data <- as.matrix(read.table(\"credit_card_data-headers.txt\", header = TRUE, sep = \"\\t\"))\n",
    "# Display Data\n",
    "head(data)"
   ]
  },
  {
   "cell_type": "code",
   "execution_count": 2,
   "id": "6aaeab2b",
   "metadata": {},
   "outputs": [],
   "source": [
    "# convert data to data frame for easier handling and plotting using ggplot2 library\n",
    "data_df <- as.data.frame(data)"
   ]
  },
  {
   "cell_type": "markdown",
   "id": "333e1012",
   "metadata": {},
   "source": [
    "<p><p style=\"page-break-after:always;\"></p></p>"
   ]
  },
  {
   "cell_type": "markdown",
   "id": "3a916840",
   "metadata": {},
   "source": [
    "Descirbe data properties"
   ]
  },
  {
   "cell_type": "code",
   "execution_count": 3,
   "id": "3c4d9f7d",
   "metadata": {},
   "outputs": [
    {
     "name": "stdout",
     "output_type": "stream",
     "text": [
      "[1] \"Number of data points , columns in data\"\n"
     ]
    },
    {
     "data": {
      "text/html": [
       "<ol class=list-inline>\n",
       "\t<li>654</li>\n",
       "\t<li>11</li>\n",
       "</ol>\n"
      ],
      "text/latex": [
       "\\begin{enumerate*}\n",
       "\\item 654\n",
       "\\item 11\n",
       "\\end{enumerate*}\n"
      ],
      "text/markdown": [
       "1. 654\n",
       "2. 11\n",
       "\n",
       "\n"
      ],
      "text/plain": [
       "[1] 654  11"
      ]
     },
     "metadata": {},
     "output_type": "display_data"
    },
    {
     "name": "stdout",
     "output_type": "stream",
     "text": [
      "[1] \"Data Columns summary\"\n"
     ]
    },
    {
     "data": {
      "text/plain": [
       "       A1               A2              A3               A8        \n",
       " Min.   :0.0000   Min.   :13.75   Min.   : 0.000   Min.   : 0.000  \n",
       " 1st Qu.:0.0000   1st Qu.:22.58   1st Qu.: 1.040   1st Qu.: 0.165  \n",
       " Median :1.0000   Median :28.46   Median : 2.855   Median : 1.000  \n",
       " Mean   :0.6896   Mean   :31.58   Mean   : 4.831   Mean   : 2.242  \n",
       " 3rd Qu.:1.0000   3rd Qu.:38.25   3rd Qu.: 7.438   3rd Qu.: 2.615  \n",
       " Max.   :1.0000   Max.   :80.25   Max.   :28.000   Max.   :28.500  \n",
       "       A9              A10              A11              A12        \n",
       " Min.   :0.0000   Min.   :0.0000   Min.   : 0.000   Min.   :0.0000  \n",
       " 1st Qu.:0.0000   1st Qu.:0.0000   1st Qu.: 0.000   1st Qu.:0.0000  \n",
       " Median :1.0000   Median :1.0000   Median : 0.000   Median :1.0000  \n",
       " Mean   :0.5352   Mean   :0.5612   Mean   : 2.498   Mean   :0.5382  \n",
       " 3rd Qu.:1.0000   3rd Qu.:1.0000   3rd Qu.: 3.000   3rd Qu.:1.0000  \n",
       " Max.   :1.0000   Max.   :1.0000   Max.   :67.000   Max.   :1.0000  \n",
       "      A14               A15               R1        \n",
       " Min.   :   0.00   Min.   :     0   Min.   :0.0000  \n",
       " 1st Qu.:  70.75   1st Qu.:     0   1st Qu.:0.0000  \n",
       " Median : 160.00   Median :     5   Median :0.0000  \n",
       " Mean   : 180.08   Mean   :  1013   Mean   :0.4526  \n",
       " 3rd Qu.: 271.00   3rd Qu.:   399   3rd Qu.:1.0000  \n",
       " Max.   :2000.00   Max.   :100000   Max.   :1.0000  "
      ]
     },
     "metadata": {},
     "output_type": "display_data"
    }
   ],
   "source": [
    "print(\"Number of data points , columns in data\")\n",
    "dim(data_df)\n",
    "print(\"Data Columns summary\")\n",
    "summary(data_df)"
   ]
  },
  {
   "cell_type": "markdown",
   "id": "c1d55bd9",
   "metadata": {},
   "source": [
    "<b> summary of data </b>\n",
    "\n",
    "As described in the assignment, \n",
    "1. the data contains 654 data points\n",
    "2. 6 continuous variables (A2, A3, A8, A11, A14, A15)\n",
    "3. 4 binary variables (A1, A9, A10, A12)\n",
    "4. R1 the binary response column\n",
    "\n",
    "<u> for the continous columns, for example </u>\n",
    "\n",
    "A2 ranges from 13.75 to 80.25\n",
    "\n",
    "A14 ranges from 0 to 2000\n",
    "\n",
    "A15 ranges from 0 to 100,000\n",
    "\n",
    "it's clear that the data spans a variable wide range. As a result, scaling the data would be important to ensure accurate results"
   ]
  },
  {
   "cell_type": "markdown",
   "id": "94bc9465",
   "metadata": {},
   "source": [
    "<p><p style=\"page-break-after:always;\"></p></p>"
   ]
  },
  {
   "cell_type": "markdown",
   "id": "89640a45",
   "metadata": {},
   "source": [
    "<b> Start of SVM Analysis </b>"
   ]
  },
  {
   "cell_type": "markdown",
   "id": "11aaf3ae",
   "metadata": {},
   "source": [
    "Loading the kknn \"kernlab: Kernel-Based Machine Learning Lab\" package"
   ]
  },
  {
   "cell_type": "code",
   "execution_count": 4,
   "id": "a012742d",
   "metadata": {},
   "outputs": [],
   "source": [
    "# load required library\n",
    "# install.packages(\"kernlab\")\n",
    "options(warn=-1) # used to suppress warnings\n",
    "library(kernlab)"
   ]
  },
  {
   "cell_type": "markdown",
   "id": "762cb972",
   "metadata": {},
   "source": [
    "A Sensitivity analysis was done on four different models <i>(note for all models the data was scaled)</i>:\n",
    "1. rbfdot: Radial Basis kernel \"Gaussian\"\n",
    "2. polydot: Polynomial kernel\n",
    "3. vanilladot: Linear kernel\n",
    "4. tanhdot: Hyperbolic tangent kernel\n",
    "\n",
    "For each model, C was varied on an exponential manner from 0.0001 to 100,000 (10 Steps)\n",
    "\n",
    "Finally Model Accuracy was calculated as follows:\n",
    "\n",
    "Accuracy = Number of correctly predicted data points \\ total number of data points"
   ]
  },
  {
   "cell_type": "code",
   "execution_count": 5,
   "id": "a67497dd",
   "metadata": {},
   "outputs": [],
   "source": [
    "# list of all models\n",
    "list_models <- c(\"polydot\", \"vanilladot\", \"rbfdot\", \"tanhdot\")\n",
    "model_names <- c(\"Polynomial Model\", \"Linear Model\", \"Gaussian Model\", \"Hyperbolic tangent Model\")\n",
    "\n",
    "# Sensitivity on C values\n",
    "C_list <- c(0.0001, 0.001, 0.01, 0.1, 1, 10, 100, 1000, 10000, 100000)\n",
    "\n",
    "# vector to store Accuracy Results\n",
    "Accuracy <- seq(1,10,1)\n",
    "\n",
    "# DataFrame to store all the results\n",
    "results_df <- data.frame()"
   ]
  },
  {
   "cell_type": "code",
   "execution_count": 6,
   "id": "aa01ce51",
   "metadata": {},
   "outputs": [
    {
     "name": "stdout",
     "output_type": "stream",
     "text": [
      " Setting default kernel parameters  \n",
      " Setting default kernel parameters  \n",
      " Setting default kernel parameters  \n",
      " Setting default kernel parameters  \n",
      " Setting default kernel parameters  \n",
      " Setting default kernel parameters  \n",
      " Setting default kernel parameters  \n",
      " Setting default kernel parameters  \n",
      " Setting default kernel parameters  \n",
      " Setting default kernel parameters  \n",
      " Setting default kernel parameters  \n",
      " Setting default kernel parameters  \n",
      " Setting default kernel parameters  \n",
      " Setting default kernel parameters  \n",
      " Setting default kernel parameters  \n",
      " Setting default kernel parameters  \n",
      " Setting default kernel parameters  \n",
      " Setting default kernel parameters  \n",
      " Setting default kernel parameters  \n",
      " Setting default kernel parameters  \n",
      " Setting default kernel parameters  \n",
      " Setting default kernel parameters  \n",
      " Setting default kernel parameters  \n",
      " Setting default kernel parameters  \n",
      " Setting default kernel parameters  \n",
      " Setting default kernel parameters  \n",
      " Setting default kernel parameters  \n",
      " Setting default kernel parameters  \n",
      " Setting default kernel parameters  \n",
      " Setting default kernel parameters  \n"
     ]
    }
   ],
   "source": [
    "# Outer loop for different models\n",
    "for (model in 1:4)\n",
    "{\n",
    "  # Inner loop for different C Values\n",
    "  for (i in 1:10)\n",
    "  {\n",
    "    # Create Model\n",
    "    model_svm <- ksvm(data[,1:10], data[,11], type=\"C-svc\", kernel=list_models[model], C=C_list[i], scaled=TRUE)\n",
    "    # see what the model predicts\n",
    "    pred <- predict(model_svm,data[,1:10])\n",
    "    # see what fraction of the model’s predictions match the actual classification (Accuracy)\n",
    "    Accuracy[i] <- sum(pred == data[,11]) / nrow(data)\n",
    "  }\n",
    "  # Creates a vector of model name\n",
    "  model_col <- rep(model_names[model], times=10)\n",
    "  # Binds the results to the results dataframe\n",
    "  results_df <- rbind(results_df, data.frame(C_list, Accuracy, model_col))\n",
    "}"
   ]
  },
  {
   "cell_type": "markdown",
   "id": "5dae0163",
   "metadata": {},
   "source": [
    "Plot the results where X-axis is C value and Y-axis is the model accuracy"
   ]
  },
  {
   "cell_type": "code",
   "execution_count": 7,
   "id": "71732ae7",
   "metadata": {},
   "outputs": [
    {
     "name": "stderr",
     "output_type": "stream",
     "text": [
      "Registered S3 methods overwritten by 'ggplot2':\n",
      "  method         from \n",
      "  [.quosures     rlang\n",
      "  c.quosures     rlang\n",
      "  print.quosures rlang\n",
      "\n",
      "Attaching package: 'ggplot2'\n",
      "\n",
      "The following object is masked from 'package:kernlab':\n",
      "\n",
      "    alpha\n",
      "\n"
     ]
    },
    {
     "data": {
      "image/png": "[encoded data removed]",
      "text/plain": [
       "plot without title"
      ]
     },
     "metadata": {},
     "output_type": "display_data"
    }
   ],
   "source": [
    "options(warn=-1) # used to suppress warnings\n",
    "library(ggplot2)\n",
    "C_plot <-  ggplot(results_df, aes(x=C_list, y=Accuracy, colour=model_col)) +\n",
    "  geom_line(size=2)+\n",
    "  geom_point(size=2, color=\"black\")+\n",
    "  ggtitle(\"Impact of C on Accuracy of Different Models\")+\n",
    "  labs(x=\"C\", Y=\"Accuracy\")+\n",
    "  scale_x_continuous(trans = 'log10')+\n",
    "  ylim(0.5, 1)+\n",
    "  theme_bw()\n",
    "C_plot"
   ]
  },
  {
   "cell_type": "markdown",
   "id": "e4e5a595",
   "metadata": {},
   "source": [
    "<i> Note the X axis was tranformed to log scale to better show the results given the wide range of C values used</i>\n",
    "\n",
    "It was noted that when C = 0.0001, the model accuracy was at it's worst.\n",
    "As a result, The C = 0.0001 model was tested to see the frequency of 1 and 0 responses."
   ]
  },
  {
   "cell_type": "code",
   "execution_count": 8,
   "id": "d69dc3e4",
   "metadata": {},
   "outputs": [
    {
     "name": "stdout",
     "output_type": "stream",
     "text": [
      " Setting default kernel parameters  \n",
      "[1] \"Poor C model accuracy\"\n"
     ]
    },
    {
     "data": {
      "text/html": [
       "0.5474"
      ],
      "text/latex": [
       "0.5474"
      ],
      "text/markdown": [
       "0.5474"
      ],
      "text/plain": [
       "[1] 0.5474"
      ]
     },
     "metadata": {},
     "output_type": "display_data"
    },
    {
     "name": "stdout",
     "output_type": "stream",
     "text": [
      "[1] \"Number of False responses R1==0 predicted by the model\"\n"
     ]
    },
    {
     "data": {
      "text/html": [
       "654"
      ],
      "text/latex": [
       "654"
      ],
      "text/markdown": [
       "654"
      ],
      "text/plain": [
       "[1] 654"
      ]
     },
     "metadata": {},
     "output_type": "display_data"
    },
    {
     "name": "stdout",
     "output_type": "stream",
     "text": [
      "[1] \"Percentage of False responses R1==0 predicted by the model\"\n"
     ]
    },
    {
     "data": {
      "text/html": [
       "100"
      ],
      "text/latex": [
       "100"
      ],
      "text/markdown": [
       "100"
      ],
      "text/plain": [
       "[1] 100"
      ]
     },
     "metadata": {},
     "output_type": "display_data"
    }
   ],
   "source": [
    "# Create C=0.0001 Model\n",
    "poor_C_model_svm <- ksvm(data[,1:10], data[,11], type=\"C-svc\", kernel=\"vanilladot\", C=0.0001, scaled=TRUE)\n",
    "# see what the model predicts\n",
    "pred <- predict(poor_C_model_svm,data[,1:10])\n",
    "# see Model's Accuracy\n",
    "poor_C_model_svm_Accuracy <- round(sum(pred == data[,11]) / nrow(data),4)\n",
    "print(\"Poor C model accuracy\")\n",
    "poor_C_model_svm_Accuracy\n",
    "print(\"Number of False responses R1==0 predicted by the model\")\n",
    "sum(pred == 0)\n",
    "print(\"Percentage of False responses R1==0 predicted by the model\")\n",
    "sum(pred == 0)/nrow(data)*100"
   ]
  },
  {
   "cell_type": "markdown",
   "id": "a67b6c86",
   "metadata": {},
   "source": [
    "As a result, As highlighted in the Assignment description, when C is poorly selected, the majority of the responses will be either 0 or 1 (in our case, when C=0.0001, all responses will be 0)"
   ]
  },
  {
   "cell_type": "markdown",
   "id": "0a8e89fc",
   "metadata": {},
   "source": [
    "<b>Conclusions from the plot</b> \n",
    "1. Linear and Polynomial models are overlapping (producing the same results for the same C value)\n",
    "2. For both Linear and Polynomial models, the Accuracy increases with increasing C value up to C = 0.01 then flattens at 0.862 for any higher values of C. Further models will use a C = 1 assumption\n",
    "3. For the Hyperbolic tangent model, the optimal C value is 0.01 with any further increase in C value results in a reduction in the Accuracy. Note that if that model was to be used, another loop to refine the C value would be needed given the wide range of the C steps.\n",
    "4. For the Gaussian model, increasing the C value increases the accuracy of the model. However with C = 100,000, the model's accuracy increases to ~1.0. Further validation and testing would be required as the model could be over-fitting."
   ]
  },
  {
   "cell_type": "markdown",
   "id": "1c8201a2",
   "metadata": {},
   "source": [
    "<p><p style=\"page-break-after:always;\"></p></p>"
   ]
  },
  {
   "cell_type": "markdown",
   "id": "06c4993b",
   "metadata": {},
   "source": [
    "<b>Creating the basic Linear model for further analyses<b/>"
   ]
  },
  {
   "cell_type": "code",
   "execution_count": 9,
   "id": "e2bb7148",
   "metadata": {},
   "outputs": [
    {
     "name": "stdout",
     "output_type": "stream",
     "text": [
      " Setting default kernel parameters  \n",
      "[1] \"Basic Linear model accuracy\"\n"
     ]
    },
    {
     "data": {
      "text/html": [
       "0.8639"
      ],
      "text/latex": [
       "0.8639"
      ],
      "text/markdown": [
       "0.8639"
      ],
      "text/plain": [
       "[1] 0.8639"
      ]
     },
     "metadata": {},
     "output_type": "display_data"
    }
   ],
   "source": [
    "# Create Basic Model\n",
    "model_svm <- ksvm(data[,1:10], data[,11], type=\"C-svc\", kernel=\"vanilladot\", C=1, scaled=TRUE)\n",
    "# see what the model predicts\n",
    "pred <- predict(model_svm,data[,1:10])\n",
    "# see Model's Accuracy\n",
    "basic_model_accuracy <- round(sum(pred == data[,11]) / nrow(data),4)\n",
    "print(\"Basic Linear model accuracy\")\n",
    "basic_model_accuracy"
   ]
  },
  {
   "cell_type": "markdown",
   "id": "e912561b",
   "metadata": {},
   "source": [
    "<b> Quality checking the fraction of True responses (R1 == 1) in both the data set and the prediction </b>"
   ]
  },
  {
   "cell_type": "code",
   "execution_count": 10,
   "id": "5f36ab04",
   "metadata": {},
   "outputs": [
    {
     "name": "stdout",
     "output_type": "stream",
     "text": [
      "Fraction of True responses in Data set 0.4526"
     ]
    }
   ],
   "source": [
    "cat(\"Fraction of True responses in Data set\", round(sum(data[,\"R1\"]==1)/nrow(data),4))"
   ]
  },
  {
   "cell_type": "code",
   "execution_count": 11,
   "id": "1dfd0a31",
   "metadata": {},
   "outputs": [
    {
     "name": "stdout",
     "output_type": "stream",
     "text": [
      "Fraction of True responses in prediction 0.5367"
     ]
    }
   ],
   "source": [
    "cat(\"Fraction of True responses in prediction\", round(sum(pred==1)/nrow(data),4))"
   ]
  },
  {
   "cell_type": "markdown",
   "id": "5280f5e9",
   "metadata": {},
   "source": [
    "<b> Conclusion </b>\n",
    "The model appears to overestimate the True responses however not excessively."
   ]
  },
  {
   "cell_type": "code",
   "execution_count": 12,
   "id": "dcc8224d",
   "metadata": {},
   "outputs": [
    {
     "name": "stdout",
     "output_type": "stream",
     "text": [
      "[1] \"a0, the intercept is\"\n"
     ]
    },
    {
     "data": {
      "text/html": [
       "-0.0815"
      ],
      "text/latex": [
       "-0.0815"
      ],
      "text/markdown": [
       "-0.0815"
      ],
      "text/plain": [
       "[1] -0.0815"
      ]
     },
     "metadata": {},
     "output_type": "display_data"
    },
    {
     "name": "stdout",
     "output_type": "stream",
     "text": [
      "[1] \"The cofficeints of the different columns\"\n"
     ]
    },
    {
     "data": {
      "text/html": [
       "<dl class=dl-horizontal>\n",
       "\t<dt>A1</dt>\n",
       "\t\t<dd>-0.0011</dd>\n",
       "\t<dt>A2</dt>\n",
       "\t\t<dd>-9e-04</dd>\n",
       "\t<dt>A3</dt>\n",
       "\t\t<dd>-0.0016</dd>\n",
       "\t<dt>A8</dt>\n",
       "\t\t<dd>0.0029</dd>\n",
       "\t<dt>A9</dt>\n",
       "\t\t<dd>1.0047</dd>\n",
       "\t<dt>A10</dt>\n",
       "\t\t<dd>-0.003</dd>\n",
       "\t<dt>A11</dt>\n",
       "\t\t<dd>-2e-04</dd>\n",
       "\t<dt>A12</dt>\n",
       "\t\t<dd>-6e-04</dd>\n",
       "\t<dt>A14</dt>\n",
       "\t\t<dd>-0.0013</dd>\n",
       "\t<dt>A15</dt>\n",
       "\t\t<dd>0.1064</dd>\n",
       "</dl>\n"
      ],
      "text/latex": [
       "\\begin{description*}\n",
       "\\item[A1] -0.0011\n",
       "\\item[A2] -9e-04\n",
       "\\item[A3] -0.0016\n",
       "\\item[A8] 0.0029\n",
       "\\item[A9] 1.0047\n",
       "\\item[A10] -0.003\n",
       "\\item[A11] -2e-04\n",
       "\\item[A12] -6e-04\n",
       "\\item[A14] -0.0013\n",
       "\\item[A15] 0.1064\n",
       "\\end{description*}\n"
      ],
      "text/markdown": [
       "A1\n",
       ":   -0.0011A2\n",
       ":   -9e-04A3\n",
       ":   -0.0016A8\n",
       ":   0.0029A9\n",
       ":   1.0047A10\n",
       ":   -0.003A11\n",
       ":   -2e-04A12\n",
       ":   -6e-04A14\n",
       ":   -0.0013A15\n",
       ":   0.1064\n",
       "\n"
      ],
      "text/plain": [
       "     A1      A2      A3      A8      A9     A10     A11     A12     A14     A15 \n",
       "-0.0011 -0.0009 -0.0016  0.0029  1.0047 -0.0030 -0.0002 -0.0006 -0.0013  0.1064 "
      ]
     },
     "metadata": {},
     "output_type": "display_data"
    }
   ],
   "source": [
    "# calculate a0\n",
    "a0 <- model_svm@b\n",
    "print(\"a0, the intercept is\")\n",
    "round(a0,4)\n",
    "# calculate a1…am\n",
    "a <- colSums(model_svm@xmatrix[[1]] * model_svm@coef[[1]])\n",
    "print(\"The cofficeints of the different columns\")\n",
    "round(a,4)"
   ]
  },
  {
   "cell_type": "markdown",
   "id": "de615f08",
   "metadata": {},
   "source": [
    "<p><p style=\"page-break-after:always;\"></p></p>"
   ]
  },
  {
   "cell_type": "markdown",
   "id": "e81704f7",
   "metadata": {},
   "source": [
    "Analyzing the Coffcients results"
   ]
  },
  {
   "cell_type": "code",
   "execution_count": 13,
   "id": "3bf35d24",
   "metadata": {},
   "outputs": [
    {
     "data": {
      "image/png": "[encoded data removed]",
      "text/plain": [
       "plot without title"
      ]
     },
     "metadata": {},
     "output_type": "display_data"
    }
   ],
   "source": [
    "# plot coefficients\n",
    "# create a dataframe to store the coffcients\n",
    "a_df <- data.frame(names(a), a)\n",
    "colnames(a_df) <-c(\"Column_name\", \"Coefficient\")\n",
    "# Plot the data\n",
    "Coff_plot <- ggplot(a_df, aes(x=reorder(Column_name, -Coefficient), y=Coefficient, group=1))+\n",
    "  geom_bar(stat=\"identity\", fill=\"steelblue\")+\n",
    "  labs(x=\"Columns Name\", Y=\"Cofficient\")+\n",
    "  ggtitle(\"Coefficients of the multiple columns\")+\n",
    "  geom_text(aes(label=round(Coefficient,4)), position=position_dodge(width=0.9), vjust=-0.25)+\n",
    "  theme_bw()\n",
    "print(Coff_plot)"
   ]
  },
  {
   "cell_type": "markdown",
   "id": "8624c73d",
   "metadata": {},
   "source": [
    "<b>Conclusion from the plot</b> \n",
    "\n",
    "2 Columns (A9 & A15) has a high coffcient indicating a strong correlation with the response vector while all other columns' coffceints are almost 0"
   ]
  },
  {
   "cell_type": "markdown",
   "id": "c171f227",
   "metadata": {},
   "source": [
    "<p><p style=\"page-break-after:always;\"></p></p>"
   ]
  },
  {
   "cell_type": "markdown",
   "id": "710c570c",
   "metadata": {},
   "source": [
    "To Validate the concept, A simple model was built using only these two columns.\n",
    "The concept is to compare the simple model accuray with the initial model accuracy"
   ]
  },
  {
   "cell_type": "code",
   "execution_count": 14,
   "id": "8a4fd20b",
   "metadata": {},
   "outputs": [
    {
     "name": "stdout",
     "output_type": "stream",
     "text": [
      " Setting default kernel parameters  \n",
      "[1] \"Simple Linear model accuracy\"\n"
     ]
    },
    {
     "data": {
      "text/html": [
       "0.8639"
      ],
      "text/latex": [
       "0.8639"
      ],
      "text/markdown": [
       "0.8639"
      ],
      "text/plain": [
       "[1] 0.8639"
      ]
     },
     "metadata": {},
     "output_type": "display_data"
    },
    {
     "name": "stdout",
     "output_type": "stream",
     "text": [
      "[1] \"Remember Initial Linear model accuracy\"\n"
     ]
    },
    {
     "data": {
      "text/html": [
       "0.8639"
      ],
      "text/latex": [
       "0.8639"
      ],
      "text/markdown": [
       "0.8639"
      ],
      "text/plain": [
       "[1] 0.8639"
      ]
     },
     "metadata": {},
     "output_type": "display_data"
    }
   ],
   "source": [
    "# Building Simple Model\n",
    "simple_model_svm <- ksvm(data[,c(\"A9\", \"A15\")], data[,11], type=\"C-svc\", kernel=\"vanilladot\", C=100, scaled=TRUE)\n",
    "# see what the model predicts\n",
    "simple_pred <- predict(simple_model_svm,data[,c(\"A9\", \"A15\")])\n",
    "# see what fraction of the model’s predictions match the actual classification\n",
    "simple_model_accuracy <- round(sum(simple_pred == data[,11]) / nrow(data),4)\n",
    "print(\"Simple Linear model accuracy\")\n",
    "simple_model_accuracy\n",
    "print(\"Remember Initial Linear model accuracy\")\n",
    "basic_model_accuracy"
   ]
  },
  {
   "cell_type": "markdown",
   "id": "8d874982",
   "metadata": {},
   "source": [
    "<b> Conclusion, Both models results the in same accuracy. Only Column A9 and A15 are correlatble with the R1 response </b> "
   ]
  },
  {
   "cell_type": "code",
   "execution_count": 15,
   "id": "0959e4bd",
   "metadata": {},
   "outputs": [
    {
     "name": "stdout",
     "output_type": "stream",
     "text": [
      "[1] \"a0, the intercept is\"\n"
     ]
    },
    {
     "data": {
      "text/html": [
       "-0.0813"
      ],
      "text/latex": [
       "-0.0813"
      ],
      "text/markdown": [
       "-0.0813"
      ],
      "text/plain": [
       "[1] -0.0813"
      ]
     },
     "metadata": {},
     "output_type": "display_data"
    },
    {
     "name": "stdout",
     "output_type": "stream",
     "text": [
      "[1] \"The cofficeints of the different columns\"\n"
     ]
    },
    {
     "data": {
      "text/html": [
       "<dl class=dl-horizontal>\n",
       "\t<dt>A9</dt>\n",
       "\t\t<dd>1.0086</dd>\n",
       "\t<dt>A15</dt>\n",
       "\t\t<dd>0.106</dd>\n",
       "</dl>\n"
      ],
      "text/latex": [
       "\\begin{description*}\n",
       "\\item[A9] 1.0086\n",
       "\\item[A15] 0.106\n",
       "\\end{description*}\n"
      ],
      "text/markdown": [
       "A9\n",
       ":   1.0086A15\n",
       ":   0.106\n",
       "\n"
      ],
      "text/plain": [
       "    A9    A15 \n",
       "1.0086 0.1060 "
      ]
     },
     "metadata": {},
     "output_type": "display_data"
    }
   ],
   "source": [
    "# Calculate coffcients of the simple model\n",
    "# calculate a0\n",
    "a0 <- simple_model_svm@b\n",
    "print(\"a0, the intercept is\")\n",
    "round(a0,4)\n",
    "# calculate a1…am\n",
    "a <- colSums(simple_model_svm@xmatrix[[1]] * simple_model_svm@coef[[1]])\n",
    "print(\"The cofficeints of the different columns\")\n",
    "round(a,4)"
   ]
  },
  {
   "cell_type": "markdown",
   "id": "56c6a114",
   "metadata": {},
   "source": [
    "<p><p style=\"page-break-after:always;\"></p></p>"
   ]
  },
  {
   "cell_type": "markdown",
   "id": "0b09d5ca",
   "metadata": {},
   "source": [
    "<b> Final Models equations </b>\n",
    "\n",
    "Initial Model equation\n",
    "\n",
    "Response = -0.0011 x A1 -9e-04 x A2 -0.0016 x A3 + 0.0029 x A8 + 1.0047 x A9 -0.003 x A10 -2e-04 x A11 -6e-04 x A12 -0.0013 x A13 + 0.1064 x A15 - 0.0813\n",
    "\n",
    "Final Model equation \n",
    "\n",
    "Response = 1.0086 x A9 + 0.106 x A15 - 0.0813\n",
    "\n",
    "For both models, \n",
    "1. if Response >= 0 then Response  = 1\n",
    "2. if Response < 0 then Response  = 0"
   ]
  },
  {
   "cell_type": "markdown",
   "id": "be18c49a",
   "metadata": {},
   "source": [
    "<b> Manual calculations using the equation for the simple model </b>"
   ]
  },
  {
   "cell_type": "code",
   "execution_count": 16,
   "id": "7e458520",
   "metadata": {},
   "outputs": [
    {
     "name": "stdout",
     "output_type": "stream",
     "text": [
      "[1] \"Total number of mismatches\"\n"
     ]
    },
    {
     "data": {
      "text/html": [
       "0"
      ],
      "text/latex": [
       "0"
      ],
      "text/markdown": [
       "0"
      ],
      "text/plain": [
       "[1] 0"
      ]
     },
     "metadata": {},
     "output_type": "display_data"
    }
   ],
   "source": [
    "# rescaling columns\n",
    "temp_data <- data\n",
    "temp_data[,\"A15\"] <- scale(data[,\"A15\"])\n",
    "temp_data[,\"A9\"] <- scale(data[,\"A9\"])\n",
    "# Manual Calculations\n",
    "Response <- (temp_data[,\"A9\"] * 1.0086 + temp_data[,\"A15\"]*0.106 - 0.0813)\n",
    "# If Response >=0 , 1 else 0\n",
    "Response_final <- as.numeric(Response >= 0)\n",
    "# print total number of mis-matches\n",
    "print(\"Total number of mismatches\")\n",
    "sum(Response_final!=simple_pred)"
   ]
  },
  {
   "cell_type": "markdown",
   "id": "9b618060",
   "metadata": {},
   "source": [
    "In conclusion, The KSVM model and the manual equation are identical"
   ]
  },
  {
   "cell_type": "markdown",
   "id": "9005e09a",
   "metadata": {},
   "source": [
    "As a final Quality and logic check since A9 column coffcient is ~1, A9 (which is a binary column) should be directly correlated to the response vector.\n",
    "Using it alone to predict the reponse vector should result in a high accuracy"
   ]
  },
  {
   "cell_type": "code",
   "execution_count": 17,
   "id": "5a8792bb",
   "metadata": {},
   "outputs": [
    {
     "name": "stdout",
     "output_type": "stream",
     "text": [
      "[1] \"A9 Correlation with Target column (R1)\"\n",
      "[2] \"0.8624\"                                \n"
     ]
    }
   ],
   "source": [
    "# print Correlation for column A9 alone\n",
    "A9_Accuracy <- sum(data[,\"A9\"] == data[,\"R1\"]) / nrow(data)\n",
    "print(c(\"A9 Correlation with Target column (R1)\", round(A9_Accuracy,4)))"
   ]
  },
  {
   "cell_type": "markdown",
   "id": "767afa95",
   "metadata": {},
   "source": [
    "Indeed using A9 as a linear direct predictor results in <b> an accuracy of 0.8624 </b> as compared to 0.8639 for the model including A15 or all other columns"
   ]
  },
  {
   "cell_type": "markdown",
   "id": "f3f43956",
   "metadata": {},
   "source": [
    "<p><p style=\"page-break-after:always;\"></p></p>"
   ]
  },
  {
   "cell_type": "markdown",
   "id": "cdca63a7",
   "metadata": {},
   "source": [
    "<b> Part 1 Conclusions: </b>\n",
    "\n",
    "1. Based on testing, two columns only A9 & A15 has the highest impact on the response.\n",
    "2. Using these 2 columns (or all the columns) has an accuracy of 86.4%\n",
    "3. Any C value >= 0.01 and <=100,000 (limit of testing) results in the same Linear SVM Model results.\n",
    "4. The model equation is \n",
    "\n",
    "Response = 1.0086 x A9 + 0.106 x A15 - 0.0813\n",
    "1. if Response >= 0 then Response = 1\n",
    "2. If Response < 0 then Response = 0"
   ]
  },
  {
   "cell_type": "markdown",
   "id": "c0d47623",
   "metadata": {},
   "source": [
    "<p><p style=\"page-break-after:always;\"></p></p>"
   ]
  },
  {
   "cell_type": "markdown",
   "id": "dc819396",
   "metadata": {},
   "source": [
    "<h3> Part 2 </h3>\n",
    "Using the k-nearest-neighbors classification function kknn contained in the R kknn package, suggest a good value of k, and show how well it classifies that data points in the full data set.  Don’t forget to scale the data (scale=TRUE in kknn)"
   ]
  },
  {
   "cell_type": "code",
   "execution_count": 18,
   "id": "b1f19b7f",
   "metadata": {},
   "outputs": [],
   "source": [
    "# load required library\n",
    "#install.packages(\"kknn\")\n",
    "options(warn=-1) # used to suppress warnings\n",
    "library(kknn)"
   ]
  },
  {
   "cell_type": "markdown",
   "id": "3037ced1",
   "metadata": {},
   "source": [
    "An initial Sensitivity analysis was done for k values ranging from 5 to 50 increment 5\n",
    "Model accuracy was calculated as defined previously"
   ]
  },
  {
   "cell_type": "code",
   "execution_count": 19,
   "id": "9d43bf57",
   "metadata": {},
   "outputs": [],
   "source": [
    "# KNN Solution\n",
    "Accuracy <- seq(1,10,1)\n",
    "k_list <- seq(5,50,5)\n",
    "# outer k values loop\n",
    "for (j in 1:10)\n",
    "{\n",
    "  N <- nrow(data_df)\n",
    "  results <- vector(length=N)\n",
    "    # inner loop for all rows \n",
    "  for (i in 1:N) {\n",
    "    KNN_model <- kknn(data_df[-i,11]~., train=data_df[-i,1:10], test=data_df[i,1:10], k=k_list[j], scale=TRUE)\n",
    "    results[i] <- fitted(KNN_model)\n",
    "  }\n",
    "  Accuracy[j] <- sum(round(results,0) == data[,11]) / nrow(data)\n",
    "}"
   ]
  },
  {
   "cell_type": "markdown",
   "id": "8d90b3c3",
   "metadata": {},
   "source": [
    "Plot the results where X-axis is K value and Y-axis is the model accuracy"
   ]
  },
  {
   "cell_type": "code",
   "execution_count": 20,
   "id": "823fa2d9",
   "metadata": {},
   "outputs": [
    {
     "data": {
      "image/png": "[encoded data removed]",
      "text/plain": [
       "plot without title"
      ]
     },
     "metadata": {},
     "output_type": "display_data"
    }
   ],
   "source": [
    "knn_df <- data.frame(k_list, Accuracy)\n",
    "knn_plot <-  ggplot(knn_df, aes(x=k_list, y=Accuracy)) +\n",
    "  geom_line(size=2, color=\"blue\")+\n",
    "  geom_point(size=2, color=\"black\")+\n",
    "  ggtitle(\"Impact of k on Accuracy of KNN Model\")+\n",
    "  labs(x=\"k\", Y=\"Accuracy\")+\n",
    "  ylim(0.8, 1)+\n",
    "  xlim(0, 50)+\n",
    "  theme_bw()\n",
    "knn_plot"
   ]
  },
  {
   "cell_type": "markdown",
   "id": "38fcc585",
   "metadata": {},
   "source": [
    "The analysis showed that the optimal K value is around 10 with further increasing or decreasing the k value results in lower Model's accuracy\n",
    "As a result, the experiment was repeated with k ranging from 1 to 15 with increments of 1."
   ]
  },
  {
   "cell_type": "code",
   "execution_count": 21,
   "id": "2fdccef5",
   "metadata": {},
   "outputs": [],
   "source": [
    "Accuracy <- seq(1,15,1)\n",
    "k_list <- seq(1,15,1)\n",
    "for (j in 1:15)\n",
    "{\n",
    "  N <- nrow(data_df)\n",
    "  results <- vector(length=N)\n",
    "  for (i in 1:N) {\n",
    "    KNN_model <- kknn(data_df[-i,11]~., train=data_df[-i,1:10], test=data_df[i,1:10], k=k_list[j], scale=TRUE)\n",
    "    results[i] <- fitted(KNN_model)\n",
    "  }\n",
    "  Accuracy[j] <- sum(round(results,0) == data[,11]) / nrow(data)\n",
    "}"
   ]
  },
  {
   "cell_type": "code",
   "execution_count": 22,
   "id": "b9417f91",
   "metadata": {},
   "outputs": [
    {
     "data": {
      "image/png": "[encoded data removed]",
      "text/plain": [
       "plot without title"
      ]
     },
     "metadata": {},
     "output_type": "display_data"
    }
   ],
   "source": [
    "knn_df <- data.frame(k_list, Accuracy)\n",
    "knn_plot <-  ggplot(knn_df, aes(x=k_list, y=Accuracy)) +\n",
    "  geom_line(size=2, color=\"blue\")+\n",
    "  geom_point(size=2, color=\"black\")+\n",
    "  ggtitle(\"Impact of k on Accuracy of KNN Model\")+\n",
    "  labs(x=\"k\", Y=\"Accuracy\")+\n",
    "  ylim(0.8, 1)+\n",
    "  xlim(0, 15)+\n",
    "  theme_bw()\n",
    "knn_plot"
   ]
  },
  {
   "cell_type": "markdown",
   "id": "73ef2997",
   "metadata": {},
   "source": [
    "Although with minor differences, k = 12 or k=15 results in the highest model Accuracy"
   ]
  },
  {
   "cell_type": "markdown",
   "id": "3e96ed15",
   "metadata": {},
   "source": [
    "<p><p style=\"page-break-after:always;\"></p></p>"
   ]
  },
  {
   "cell_type": "markdown",
   "id": "708981fa",
   "metadata": {},
   "source": [
    "<b> Final KNN Model </b>"
   ]
  },
  {
   "cell_type": "code",
   "execution_count": 23,
   "id": "4985ce14",
   "metadata": {},
   "outputs": [
    {
     "name": "stdout",
     "output_type": "stream",
     "text": [
      "[1] \"Final KNN Model Accuracy\"\n"
     ]
    },
    {
     "data": {
      "text/html": [
       "0.8532"
      ],
      "text/latex": [
       "0.8532"
      ],
      "text/markdown": [
       "0.8532"
      ],
      "text/plain": [
       "[1] 0.8532"
      ]
     },
     "metadata": {},
     "output_type": "display_data"
    }
   ],
   "source": [
    "N <- nrow(data_df)\n",
    "results <- vector(length=N)\n",
    "# inner loop for all rows \n",
    "for (i in 1:N) {\n",
    "KNN_model <- kknn(data_df[-i,11]~., train=data_df[-i,1:10], test=data_df[i,1:10], k=12, scale=TRUE)\n",
    "results[i] <- fitted(KNN_model)\n",
    "}\n",
    "Accuracy <- sum(round(results,0) == data[,11]) / nrow(data)\n",
    "print(\"Final KNN Model Accuracy\")\n",
    "round(Accuracy, 4)"
   ]
  },
  {
   "cell_type": "markdown",
   "id": "363be5a4",
   "metadata": {},
   "source": [
    "<b> Quality checking the fraction of True responses (R1 == 1) in both the data set and the prediction </b> "
   ]
  },
  {
   "cell_type": "code",
   "execution_count": 24,
   "id": "5eb1465c",
   "metadata": {},
   "outputs": [
    {
     "name": "stdout",
     "output_type": "stream",
     "text": [
      "Fraction of True responses in Data set 0.4526"
     ]
    }
   ],
   "source": [
    "cat(\"Fraction of True responses in Data set\", round(sum(data[,\"R1\"]==1)/nrow(data),4))"
   ]
  },
  {
   "cell_type": "code",
   "execution_count": 25,
   "id": "b914136a",
   "metadata": {},
   "outputs": [
    {
     "name": "stdout",
     "output_type": "stream",
     "text": [
      "Fraction of True responses in Data set 0.4587"
     ]
    }
   ],
   "source": [
    "cat(\"Fraction of True responses in Data set\", round(sum(round(results,0)==1)/nrow(data),4))"
   ]
  },
  {
   "cell_type": "markdown",
   "id": "880f7505",
   "metadata": {},
   "source": [
    "As opposed to the Linear SVM model, KNN model although has a slightly lower accuracy (0.8532 compared to 0.8639) but it has a more accurate percentage of True responses when compared to the dataset."
   ]
  },
  {
   "cell_type": "markdown",
   "id": "419f4f43",
   "metadata": {},
   "source": [
    "<b>Notes of the KNN model:</b>\n",
    "\n",
    "Looping through all the points is ineffcient in terms of computation.\n",
    "\n",
    "Alternatively, we can split the data into taining and testing database to be more efficient. "
   ]
  },
  {
   "cell_type": "markdown",
   "id": "ed09cc4d",
   "metadata": {},
   "source": [
    "<p><p style=\"page-break-after:always;\"></p></p>"
   ]
  },
  {
   "cell_type": "markdown",
   "id": "4916582c",
   "metadata": {},
   "source": [
    "<h2> Final Conclusions </h2>\n",
    "\n",
    "1. KNN optimal k value is 12 or 15 with model accuracy of 85.3%\n",
    "2. SVM linear model optimal C value is higher than 0.01 and less than 100,000 (limit of testing) with model accuracy of 86.4%\n",
    "3. Column A9 has the highest correlation with the response vector followed by columns A15 while all other columns has a much lower impact on the model results\n",
    "4. The SVM linear model tends to over-estimate the True responses (54%) while KNN model has a more accurate percentage of True responses (45.9%) which is 0.6% higher than the percentage of True responses in the dataset"
   ]
  }
 ],
 "metadata": {
  "kernelspec": {
   "display_name": "R",
   "language": "R",
   "name": "ir"
  },
  "language_info": {
   "codemirror_mode": "r",
   "file_extension": ".r",
   "mimetype": "text/x-r-source",
   "name": "R",
   "pygments_lexer": "r",
   "version": "3.6.1"
  }
 },
 "nbformat": 4,
 "nbformat_minor": 5
}
