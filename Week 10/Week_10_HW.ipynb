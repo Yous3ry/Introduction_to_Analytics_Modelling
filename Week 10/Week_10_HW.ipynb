{
 "cells": [
  {
   "cell_type": "markdown",
   "id": "5e841e56",
   "metadata": {},
   "source": [
    "<h1> Week 10 Homework"
   ]
  },
  {
   "cell_type": "markdown",
   "id": "617a45e0",
   "metadata": {},
   "source": [
    "<h2>Question 14.1 </h2>"
   ]
  },
  {
   "cell_type": "markdown",
   "id": "112f29d0",
   "metadata": {},
   "source": [
    "The breast cancer data set breast-cancer-wisconsin.data.txt from\n",
    "http://archive.ics.uci.edu/ml/machine-learning-databases/breast-cancer-wisconsin/ (description at\n",
    "http://archive.ics.uci.edu/ml/datasets/Breast+Cancer+Wisconsin+%28Original%29 ) has missing values.\n",
    "1. Use the mean/mode imputation method to impute values for the missing data.\n",
    "2. Use regression to impute values for the missing data.\n",
    "3. Use regression with perturbation to impute values for the missing data.\n",
    "4. (Optional) Compare the results and quality of classification models (e.g., SVM, KNN) build using <br>\n",
    "(1) the data sets from questions 1,2,3; <br>\n",
    "(2) the data that remains after data points with missing values are removed; and (3) the data set when a binary variable is introduced to indicate missing values. \n"
   ]
  },
  {
   "cell_type": "markdown",
   "id": "27e43e70",
   "metadata": {},
   "source": [
    "<h2>Answer 14.1 </h2>"
   ]
  },
  {
   "cell_type": "markdown",
   "id": "5d38a97f",
   "metadata": {},
   "source": [
    "DataSet Description <br>\n",
    "Number of Instances: 699 (as of 15 July 1992) <br>\n",
    "Number of Attributes: 10 plus the class attribute <br>\n",
    "There are 16 instances in Groups 1 to 6 that contain a single missing (i.e., unavailable) attribute value, now denoted by \"?\".\n",
    "\n",
    "\n",
    "| # | Attribute | Domain |\n",
    "| --- | --- | --- |\n",
    "| 1 | Sample code number | id number |\n",
    "| 2 | Clump Thickness | 1 - 10 |\n",
    "| 3 | Uniformity of Cell Size | 1 - 10 |\n",
    "| 4 | Uniformity of Cell Shape | 1 - 10 |\n",
    "| 5 | Marginal Adhesion | 1 - 10 |\n",
    "| 6 | Single Epithelial Cell Size | 1 - 10 |\n",
    "| 7 | Bare Nuclei | 1 - 10 |\n",
    "| 8 | Bland Chromatin | 1 - 10 |\n",
    "| 9 | Normal Nucleoli | 1 - 10 |\n",
    "| 10 | Mitoses | 1 - 10 |\n",
    "| 11 | Class | (2 for benign, 4 for malignant) |"
   ]
  },
  {
   "cell_type": "markdown",
   "id": "11cb1ab6",
   "metadata": {},
   "source": [
    "<p><p style=\"page-break-after:always;\"></p></p>"
   ]
  },
  {
   "cell_type": "code",
   "execution_count": 1,
   "id": "39a470e3",
   "metadata": {},
   "outputs": [
    {
     "data": {
      "text/html": [
       "<table class=\"dataframe\">\n",
       "<caption>A data.frame: 6 × 11</caption>\n",
       "<thead>\n",
       "\t<tr><th></th><th scope=col>V1</th><th scope=col>V2</th><th scope=col>V3</th><th scope=col>V4</th><th scope=col>V5</th><th scope=col>V6</th><th scope=col>V7</th><th scope=col>V8</th><th scope=col>V9</th><th scope=col>V10</th><th scope=col>V11</th></tr>\n",
       "\t<tr><th></th><th scope=col>&lt;int&gt;</th><th scope=col>&lt;int&gt;</th><th scope=col>&lt;int&gt;</th><th scope=col>&lt;int&gt;</th><th scope=col>&lt;int&gt;</th><th scope=col>&lt;int&gt;</th><th scope=col>&lt;int&gt;</th><th scope=col>&lt;int&gt;</th><th scope=col>&lt;int&gt;</th><th scope=col>&lt;int&gt;</th><th scope=col>&lt;int&gt;</th></tr>\n",
       "</thead>\n",
       "<tbody>\n",
       "\t<tr><th scope=row>1</th><td>1000025</td><td>5</td><td> 1</td><td> 1</td><td>1</td><td>2</td><td> 1</td><td>3</td><td>1</td><td>1</td><td>2</td></tr>\n",
       "\t<tr><th scope=row>2</th><td>1002945</td><td>5</td><td> 4</td><td> 4</td><td>5</td><td>7</td><td>10</td><td>3</td><td>2</td><td>1</td><td>2</td></tr>\n",
       "\t<tr><th scope=row>3</th><td>1015425</td><td>3</td><td> 1</td><td> 1</td><td>1</td><td>2</td><td> 2</td><td>3</td><td>1</td><td>1</td><td>2</td></tr>\n",
       "\t<tr><th scope=row>4</th><td>1016277</td><td>6</td><td> 8</td><td> 8</td><td>1</td><td>3</td><td> 4</td><td>3</td><td>7</td><td>1</td><td>2</td></tr>\n",
       "\t<tr><th scope=row>5</th><td>1017023</td><td>4</td><td> 1</td><td> 1</td><td>3</td><td>2</td><td> 1</td><td>3</td><td>1</td><td>1</td><td>2</td></tr>\n",
       "\t<tr><th scope=row>6</th><td>1017122</td><td>8</td><td>10</td><td>10</td><td>8</td><td>7</td><td>10</td><td>9</td><td>7</td><td>1</td><td>4</td></tr>\n",
       "</tbody>\n",
       "</table>\n"
      ],
      "text/latex": [
       "A data.frame: 6 × 11\n",
       "\\begin{tabular}{r|lllllllllll}\n",
       "  & V1 & V2 & V3 & V4 & V5 & V6 & V7 & V8 & V9 & V10 & V11\\\\\n",
       "  & <int> & <int> & <int> & <int> & <int> & <int> & <int> & <int> & <int> & <int> & <int>\\\\\n",
       "\\hline\n",
       "\t1 & 1000025 & 5 &  1 &  1 & 1 & 2 &  1 & 3 & 1 & 1 & 2\\\\\n",
       "\t2 & 1002945 & 5 &  4 &  4 & 5 & 7 & 10 & 3 & 2 & 1 & 2\\\\\n",
       "\t3 & 1015425 & 3 &  1 &  1 & 1 & 2 &  2 & 3 & 1 & 1 & 2\\\\\n",
       "\t4 & 1016277 & 6 &  8 &  8 & 1 & 3 &  4 & 3 & 7 & 1 & 2\\\\\n",
       "\t5 & 1017023 & 4 &  1 &  1 & 3 & 2 &  1 & 3 & 1 & 1 & 2\\\\\n",
       "\t6 & 1017122 & 8 & 10 & 10 & 8 & 7 & 10 & 9 & 7 & 1 & 4\\\\\n",
       "\\end{tabular}\n"
      ],
      "text/markdown": [
       "\n",
       "A data.frame: 6 × 11\n",
       "\n",
       "| <!--/--> | V1 &lt;int&gt; | V2 &lt;int&gt; | V3 &lt;int&gt; | V4 &lt;int&gt; | V5 &lt;int&gt; | V6 &lt;int&gt; | V7 &lt;int&gt; | V8 &lt;int&gt; | V9 &lt;int&gt; | V10 &lt;int&gt; | V11 &lt;int&gt; |\n",
       "|---|---|---|---|---|---|---|---|---|---|---|---|\n",
       "| 1 | 1000025 | 5 |  1 |  1 | 1 | 2 |  1 | 3 | 1 | 1 | 2 |\n",
       "| 2 | 1002945 | 5 |  4 |  4 | 5 | 7 | 10 | 3 | 2 | 1 | 2 |\n",
       "| 3 | 1015425 | 3 |  1 |  1 | 1 | 2 |  2 | 3 | 1 | 1 | 2 |\n",
       "| 4 | 1016277 | 6 |  8 |  8 | 1 | 3 |  4 | 3 | 7 | 1 | 2 |\n",
       "| 5 | 1017023 | 4 |  1 |  1 | 3 | 2 |  1 | 3 | 1 | 1 | 2 |\n",
       "| 6 | 1017122 | 8 | 10 | 10 | 8 | 7 | 10 | 9 | 7 | 1 | 4 |\n",
       "\n"
      ],
      "text/plain": [
       "  V1      V2 V3 V4 V5 V6 V7 V8 V9 V10 V11\n",
       "1 1000025 5   1  1 1  2   1 3  1  1   2  \n",
       "2 1002945 5   4  4 5  7  10 3  2  1   2  \n",
       "3 1015425 3   1  1 1  2   2 3  1  1   2  \n",
       "4 1016277 6   8  8 1  3   4 3  7  1   2  \n",
       "5 1017023 4   1  1 3  2   1 3  1  1   2  \n",
       "6 1017122 8  10 10 8  7  10 9  7  1   4  "
      ]
     },
     "metadata": {},
     "output_type": "display_data"
    },
    {
     "name": "stdout",
     "output_type": "stream",
     "text": [
      "No. of cols: 11 \n",
      "No. of rows: 699 \n",
      "No. of Missing Values: 16 \n"
     ]
    }
   ],
   "source": [
    "# loading the dataset\n",
    "# READ DATASET as DataFrame\n",
    "# Note defining NA as ? based on Dataset Description\n",
    "df <- read.table(\"breast-cancer-wisconsin.data\", header = FALSE, sep = \",\", na.string = \"?\")\n",
    "# Display Data\n",
    "head(df)\n",
    "cat(\"No. of cols:\", ncol(df), \"\\n\")\n",
    "cat(\"No. of rows:\", nrow(df), \"\\n\")\n",
    "cat(\"No. of Missing Values:\", sum(is.na(df)), \"\\n\")"
   ]
  },
  {
   "cell_type": "code",
   "execution_count": 2,
   "id": "72cadeb8",
   "metadata": {},
   "outputs": [],
   "source": [
    "# Drop ID columns (V1)\n",
    "df$V1 <- NULL"
   ]
  },
  {
   "cell_type": "markdown",
   "id": "8a839cf8",
   "metadata": {},
   "source": [
    "All Data is loaded succesfully as per Dataset description."
   ]
  },
  {
   "cell_type": "markdown",
   "id": "b7439ed7",
   "metadata": {},
   "source": [
    "<p><p style=\"page-break-after:always;\"></p></p>"
   ]
  },
  {
   "cell_type": "code",
   "execution_count": 3,
   "id": "3f6680b3",
   "metadata": {},
   "outputs": [
    {
     "data": {
      "text/plain": [
       "       V2               V3               V4               V5        \n",
       " Min.   : 1.000   Min.   : 1.000   Min.   : 1.000   Min.   : 1.000  \n",
       " 1st Qu.: 2.000   1st Qu.: 1.000   1st Qu.: 1.000   1st Qu.: 1.000  \n",
       " Median : 4.000   Median : 1.000   Median : 1.000   Median : 1.000  \n",
       " Mean   : 4.418   Mean   : 3.134   Mean   : 3.207   Mean   : 2.807  \n",
       " 3rd Qu.: 6.000   3rd Qu.: 5.000   3rd Qu.: 5.000   3rd Qu.: 4.000  \n",
       " Max.   :10.000   Max.   :10.000   Max.   :10.000   Max.   :10.000  \n",
       "                                                                    \n",
       "       V6               V7               V8               V9        \n",
       " Min.   : 1.000   Min.   : 1.000   Min.   : 1.000   Min.   : 1.000  \n",
       " 1st Qu.: 2.000   1st Qu.: 1.000   1st Qu.: 2.000   1st Qu.: 1.000  \n",
       " Median : 2.000   Median : 1.000   Median : 3.000   Median : 1.000  \n",
       " Mean   : 3.216   Mean   : 3.545   Mean   : 3.438   Mean   : 2.867  \n",
       " 3rd Qu.: 4.000   3rd Qu.: 6.000   3rd Qu.: 5.000   3rd Qu.: 4.000  \n",
       " Max.   :10.000   Max.   :10.000   Max.   :10.000   Max.   :10.000  \n",
       "                  NA's   :16                                        \n",
       "      V10              V11      \n",
       " Min.   : 1.000   Min.   :2.00  \n",
       " 1st Qu.: 1.000   1st Qu.:2.00  \n",
       " Median : 1.000   Median :2.00  \n",
       " Mean   : 1.589   Mean   :2.69  \n",
       " 3rd Qu.: 1.000   3rd Qu.:4.00  \n",
       " Max.   :10.000   Max.   :4.00  \n",
       "                                "
      ]
     },
     "metadata": {},
     "output_type": "display_data"
    },
    {
     "name": "stdout",
     "output_type": "stream",
     "text": [
      "Missing Values % 2.29"
     ]
    }
   ],
   "source": [
    "# Summary of the Dataframe Columns\n",
    "summary(df)\n",
    "cat(\"Missing Values %\", round(sum(is.na(df))/nrow(df)*100,2))"
   ]
  },
  {
   "cell_type": "markdown",
   "id": "3454d010",
   "metadata": {},
   "source": [
    "Note: Column V7 \"Bare Nuclei\" has all missing 16 values. <br>\n",
    "Only 2.3% of the data has missing values"
   ]
  },
  {
   "cell_type": "markdown",
   "id": "77d516d9",
   "metadata": {},
   "source": [
    "<p><p style=\"page-break-after:always;\"></p></p>"
   ]
  },
  {
   "cell_type": "markdown",
   "id": "4269263b",
   "metadata": {},
   "source": [
    "<h4> 1. Use the mean/mode imputation method to impute values for the missing data. </h4>\n",
    "Using the Mean"
   ]
  },
  {
   "cell_type": "code",
   "execution_count": 4,
   "id": "973e775f",
   "metadata": {},
   "outputs": [
    {
     "name": "stdout",
     "output_type": "stream",
     "text": [
      "Mean Value of V7 3.545"
     ]
    },
    {
     "data": {
      "text/plain": [
       "       V2               V3               V4               V5        \n",
       " Min.   : 1.000   Min.   : 1.000   Min.   : 1.000   Min.   : 1.000  \n",
       " 1st Qu.: 2.000   1st Qu.: 1.000   1st Qu.: 1.000   1st Qu.: 1.000  \n",
       " Median : 4.000   Median : 1.000   Median : 1.000   Median : 1.000  \n",
       " Mean   : 4.418   Mean   : 3.134   Mean   : 3.207   Mean   : 2.807  \n",
       " 3rd Qu.: 6.000   3rd Qu.: 5.000   3rd Qu.: 5.000   3rd Qu.: 4.000  \n",
       " Max.   :10.000   Max.   :10.000   Max.   :10.000   Max.   :10.000  \n",
       "       V6               V7               V8               V9        \n",
       " Min.   : 1.000   Min.   : 1.000   Min.   : 1.000   Min.   : 1.000  \n",
       " 1st Qu.: 2.000   1st Qu.: 1.000   1st Qu.: 2.000   1st Qu.: 1.000  \n",
       " Median : 2.000   Median : 1.000   Median : 3.000   Median : 1.000  \n",
       " Mean   : 3.216   Mean   : 3.545   Mean   : 3.438   Mean   : 2.867  \n",
       " 3rd Qu.: 4.000   3rd Qu.: 5.000   3rd Qu.: 5.000   3rd Qu.: 4.000  \n",
       " Max.   :10.000   Max.   :10.000   Max.   :10.000   Max.   :10.000  \n",
       "      V10              V11      \n",
       " Min.   : 1.000   Min.   :2.00  \n",
       " 1st Qu.: 1.000   1st Qu.:2.00  \n",
       " Median : 1.000   Median :2.00  \n",
       " Mean   : 1.589   Mean   :2.69  \n",
       " 3rd Qu.: 1.000   3rd Qu.:4.00  \n",
       " Max.   :10.000   Max.   :4.00  "
      ]
     },
     "metadata": {},
     "output_type": "display_data"
    },
    {
     "name": "stdout",
     "output_type": "stream",
     "text": [
      "No. of Missing Values: 0"
     ]
    }
   ],
   "source": [
    "# Copying the dataframe\n",
    "df_mean <- df\n",
    "# Finding Mean V7 removing missing values\n",
    "mean_V7 <- mean(df$V7, na.rm=TRUE)\n",
    "cat(\"Mean Value of V7\", round(mean_V7,3))\n",
    "# Replacing The missing value with the mean\n",
    "df_mean$V7[is.na(df_mean$V7)] <- mean_V7\n",
    "# Summary of the Dataframe Column V7\n",
    "summary(df_mean)\n",
    "cat(\"No. of Missing Values:\", sum(is.na(df_mean)))"
   ]
  },
  {
   "cell_type": "markdown",
   "id": "99d7e3b0",
   "metadata": {},
   "source": [
    "Note all missing values have been removed"
   ]
  },
  {
   "cell_type": "markdown",
   "id": "b0644566",
   "metadata": {},
   "source": [
    "<p><p style=\"page-break-after:always;\"></p></p>"
   ]
  },
  {
   "cell_type": "markdown",
   "id": "aec7c5af",
   "metadata": {},
   "source": [
    "Using the Mode"
   ]
  },
  {
   "cell_type": "code",
   "execution_count": 5,
   "id": "ecf5c784",
   "metadata": {},
   "outputs": [
    {
     "name": "stdout",
     "output_type": "stream",
     "text": [
      "Mode Value of V7 1"
     ]
    },
    {
     "data": {
      "text/plain": [
       "       V2               V3               V4               V5        \n",
       " Min.   : 1.000   Min.   : 1.000   Min.   : 1.000   Min.   : 1.000  \n",
       " 1st Qu.: 2.000   1st Qu.: 1.000   1st Qu.: 1.000   1st Qu.: 1.000  \n",
       " Median : 4.000   Median : 1.000   Median : 1.000   Median : 1.000  \n",
       " Mean   : 4.418   Mean   : 3.134   Mean   : 3.207   Mean   : 2.807  \n",
       " 3rd Qu.: 6.000   3rd Qu.: 5.000   3rd Qu.: 5.000   3rd Qu.: 4.000  \n",
       " Max.   :10.000   Max.   :10.000   Max.   :10.000   Max.   :10.000  \n",
       "       V6               V7               V8               V9        \n",
       " Min.   : 1.000   Min.   : 1.000   Min.   : 1.000   Min.   : 1.000  \n",
       " 1st Qu.: 2.000   1st Qu.: 1.000   1st Qu.: 2.000   1st Qu.: 1.000  \n",
       " Median : 2.000   Median : 1.000   Median : 3.000   Median : 1.000  \n",
       " Mean   : 3.216   Mean   : 3.486   Mean   : 3.438   Mean   : 2.867  \n",
       " 3rd Qu.: 4.000   3rd Qu.: 5.000   3rd Qu.: 5.000   3rd Qu.: 4.000  \n",
       " Max.   :10.000   Max.   :10.000   Max.   :10.000   Max.   :10.000  \n",
       "      V10              V11      \n",
       " Min.   : 1.000   Min.   :2.00  \n",
       " 1st Qu.: 1.000   1st Qu.:2.00  \n",
       " Median : 1.000   Median :2.00  \n",
       " Mean   : 1.589   Mean   :2.69  \n",
       " 3rd Qu.: 1.000   3rd Qu.:4.00  \n",
       " Max.   :10.000   Max.   :4.00  "
      ]
     },
     "metadata": {},
     "output_type": "display_data"
    },
    {
     "name": "stdout",
     "output_type": "stream",
     "text": [
      "No. of Missing Values: 0"
     ]
    }
   ],
   "source": [
    "# Copying the dataframe\n",
    "df_mode <- df\n",
    "# Define Mode Function\n",
    "Mode <- function(x) {\n",
    "  ux <- unique(x)\n",
    "  ux[which.max(tabulate(match(x, ux)))]\n",
    "}\n",
    "# Finding Mean V7 removing missing values\n",
    "mode_V7 <- Mode(df$V7)\n",
    "cat(\"Mode Value of V7\", mode_V7)\n",
    "# Replacing The missing value with the mean\n",
    "df_mode$V7[is.na(df_mode$V7)] <- mode_V7\n",
    "# Summary of the Dataframe Column V7\n",
    "summary(df_mode)\n",
    "cat(\"No. of Missing Values:\", sum(is.na(df_mode)))"
   ]
  },
  {
   "cell_type": "markdown",
   "id": "69958553",
   "metadata": {},
   "source": [
    "<p><p style=\"page-break-after:always;\"></p></p>"
   ]
  },
  {
   "cell_type": "markdown",
   "id": "7e3e58e0",
   "metadata": {},
   "source": [
    "<h4> 2. Use regression to impute values for the missing data. </h4>"
   ]
  },
  {
   "cell_type": "markdown",
   "id": "b96b192e",
   "metadata": {},
   "source": [
    "Using Package MICE (Multivariate Imputation by Chained Equations) to estimate V7 missing values. <br>\n",
    "https://www.rdocumentation.org/packages/mice/versions/3.14.0/topics/mice\n",
    "\n",
    "method = norm.predict (Imputes the \"best value\" according to the linear regression model) <br>\n",
    "https://rdrr.io/cran/mice/man/mice.impute.norm.predict.html\n",
    "\n",
    "Useful Reference <br>\n",
    "https://stefvanbuuren.name/fimd/sec-linearnormal.html"
   ]
  },
  {
   "cell_type": "code",
   "execution_count": 19,
   "id": "3fa88fae",
   "metadata": {},
   "outputs": [],
   "source": [
    "options(warn=-1)\n",
    "# install.packages(\"mice\")\n",
    "library(mice)"
   ]
  },
  {
   "cell_type": "code",
   "execution_count": 7,
   "id": "2be5bb3c",
   "metadata": {},
   "outputs": [
    {
     "data": {
      "text/html": [
       "<table class=\"dataframe\">\n",
       "<caption>A data.frame: 6 × 10</caption>\n",
       "<thead>\n",
       "\t<tr><th></th><th scope=col>V2</th><th scope=col>V3</th><th scope=col>V4</th><th scope=col>V5</th><th scope=col>V6</th><th scope=col>V7</th><th scope=col>V8</th><th scope=col>V9</th><th scope=col>V10</th><th scope=col>V11</th></tr>\n",
       "\t<tr><th></th><th scope=col>&lt;int&gt;</th><th scope=col>&lt;int&gt;</th><th scope=col>&lt;int&gt;</th><th scope=col>&lt;int&gt;</th><th scope=col>&lt;int&gt;</th><th scope=col>&lt;dbl&gt;</th><th scope=col>&lt;int&gt;</th><th scope=col>&lt;int&gt;</th><th scope=col>&lt;int&gt;</th><th scope=col>&lt;int&gt;</th></tr>\n",
       "</thead>\n",
       "<tbody>\n",
       "\t<tr><th scope=row>1</th><td>5</td><td> 1</td><td> 1</td><td>1</td><td>2</td><td> 1</td><td>3</td><td>1</td><td>1</td><td>2</td></tr>\n",
       "\t<tr><th scope=row>2</th><td>5</td><td> 4</td><td> 4</td><td>5</td><td>7</td><td>10</td><td>3</td><td>2</td><td>1</td><td>2</td></tr>\n",
       "\t<tr><th scope=row>3</th><td>3</td><td> 1</td><td> 1</td><td>1</td><td>2</td><td> 2</td><td>3</td><td>1</td><td>1</td><td>2</td></tr>\n",
       "\t<tr><th scope=row>4</th><td>6</td><td> 8</td><td> 8</td><td>1</td><td>3</td><td> 4</td><td>3</td><td>7</td><td>1</td><td>2</td></tr>\n",
       "\t<tr><th scope=row>5</th><td>4</td><td> 1</td><td> 1</td><td>3</td><td>2</td><td> 1</td><td>3</td><td>1</td><td>1</td><td>2</td></tr>\n",
       "\t<tr><th scope=row>6</th><td>8</td><td>10</td><td>10</td><td>8</td><td>7</td><td>10</td><td>9</td><td>7</td><td>1</td><td>4</td></tr>\n",
       "</tbody>\n",
       "</table>\n"
      ],
      "text/latex": [
       "A data.frame: 6 × 10\n",
       "\\begin{tabular}{r|llllllllll}\n",
       "  & V2 & V3 & V4 & V5 & V6 & V7 & V8 & V9 & V10 & V11\\\\\n",
       "  & <int> & <int> & <int> & <int> & <int> & <dbl> & <int> & <int> & <int> & <int>\\\\\n",
       "\\hline\n",
       "\t1 & 5 &  1 &  1 & 1 & 2 &  1 & 3 & 1 & 1 & 2\\\\\n",
       "\t2 & 5 &  4 &  4 & 5 & 7 & 10 & 3 & 2 & 1 & 2\\\\\n",
       "\t3 & 3 &  1 &  1 & 1 & 2 &  2 & 3 & 1 & 1 & 2\\\\\n",
       "\t4 & 6 &  8 &  8 & 1 & 3 &  4 & 3 & 7 & 1 & 2\\\\\n",
       "\t5 & 4 &  1 &  1 & 3 & 2 &  1 & 3 & 1 & 1 & 2\\\\\n",
       "\t6 & 8 & 10 & 10 & 8 & 7 & 10 & 9 & 7 & 1 & 4\\\\\n",
       "\\end{tabular}\n"
      ],
      "text/markdown": [
       "\n",
       "A data.frame: 6 × 10\n",
       "\n",
       "| <!--/--> | V2 &lt;int&gt; | V3 &lt;int&gt; | V4 &lt;int&gt; | V5 &lt;int&gt; | V6 &lt;int&gt; | V7 &lt;dbl&gt; | V8 &lt;int&gt; | V9 &lt;int&gt; | V10 &lt;int&gt; | V11 &lt;int&gt; |\n",
       "|---|---|---|---|---|---|---|---|---|---|---|\n",
       "| 1 | 5 |  1 |  1 | 1 | 2 |  1 | 3 | 1 | 1 | 2 |\n",
       "| 2 | 5 |  4 |  4 | 5 | 7 | 10 | 3 | 2 | 1 | 2 |\n",
       "| 3 | 3 |  1 |  1 | 1 | 2 |  2 | 3 | 1 | 1 | 2 |\n",
       "| 4 | 6 |  8 |  8 | 1 | 3 |  4 | 3 | 7 | 1 | 2 |\n",
       "| 5 | 4 |  1 |  1 | 3 | 2 |  1 | 3 | 1 | 1 | 2 |\n",
       "| 6 | 8 | 10 | 10 | 8 | 7 | 10 | 9 | 7 | 1 | 4 |\n",
       "\n"
      ],
      "text/plain": [
       "  V2 V3 V4 V5 V6 V7 V8 V9 V10 V11\n",
       "1 5   1  1 1  2   1 3  1  1   2  \n",
       "2 5   4  4 5  7  10 3  2  1   2  \n",
       "3 3   1  1 1  2   2 3  1  1   2  \n",
       "4 6   8  8 1  3   4 3  7  1   2  \n",
       "5 4   1  1 3  2   1 3  1  1   2  \n",
       "6 8  10 10 8  7  10 9  7  1   4  "
      ]
     },
     "metadata": {},
     "output_type": "display_data"
    },
    {
     "name": "stdout",
     "output_type": "stream",
     "text": [
      "No. of cols: 10 \n",
      "No. of rows: 699 \n",
      "No. of Missing Values: 0"
     ]
    }
   ],
   "source": [
    "set.seed(0)\n",
    "# imputing missing values\n",
    "imp <- mice(df, method=\"norm.predict\", printFlag=FALSE)\n",
    "# Store the results\n",
    "df_reg <- complete(imp)\n",
    "# Summary of results\n",
    "head(df_reg)\n",
    "cat(\"No. of cols:\", ncol(df_reg), \"\\n\")\n",
    "cat(\"No. of rows:\", nrow(df_reg), \"\\n\")\n",
    "cat(\"No. of Missing Values:\", sum(is.na(df_reg)))"
   ]
  },
  {
   "cell_type": "markdown",
   "id": "56d2312e",
   "metadata": {},
   "source": [
    "<p><p style=\"page-break-after:always;\"></p></p>"
   ]
  },
  {
   "cell_type": "markdown",
   "id": "eb8386d9",
   "metadata": {},
   "source": [
    "<h4> 3. Use regression with perturbation to impute values for the missing data. </h4>"
   ]
  },
  {
   "cell_type": "markdown",
   "id": "40600c26",
   "metadata": {},
   "source": [
    "Using Package MICE again but changing method from norm.predict to norm.nob <br>\n",
    "\n",
    "method = norm.nob (This function creates imputations using the spread around the fitted linear regression line) <br>\n",
    "https://rdrr.io/cran/mice/man/mice.impute.norm.nob.html"
   ]
  },
  {
   "cell_type": "code",
   "execution_count": 8,
   "id": "bea7657f",
   "metadata": {},
   "outputs": [
    {
     "data": {
      "text/html": [
       "<table class=\"dataframe\">\n",
       "<caption>A data.frame: 6 × 10</caption>\n",
       "<thead>\n",
       "\t<tr><th></th><th scope=col>V2</th><th scope=col>V3</th><th scope=col>V4</th><th scope=col>V5</th><th scope=col>V6</th><th scope=col>V7</th><th scope=col>V8</th><th scope=col>V9</th><th scope=col>V10</th><th scope=col>V11</th></tr>\n",
       "\t<tr><th></th><th scope=col>&lt;int&gt;</th><th scope=col>&lt;int&gt;</th><th scope=col>&lt;int&gt;</th><th scope=col>&lt;int&gt;</th><th scope=col>&lt;int&gt;</th><th scope=col>&lt;dbl&gt;</th><th scope=col>&lt;int&gt;</th><th scope=col>&lt;int&gt;</th><th scope=col>&lt;int&gt;</th><th scope=col>&lt;int&gt;</th></tr>\n",
       "</thead>\n",
       "<tbody>\n",
       "\t<tr><th scope=row>1</th><td>5</td><td> 1</td><td> 1</td><td>1</td><td>2</td><td> 1</td><td>3</td><td>1</td><td>1</td><td>2</td></tr>\n",
       "\t<tr><th scope=row>2</th><td>5</td><td> 4</td><td> 4</td><td>5</td><td>7</td><td>10</td><td>3</td><td>2</td><td>1</td><td>2</td></tr>\n",
       "\t<tr><th scope=row>3</th><td>3</td><td> 1</td><td> 1</td><td>1</td><td>2</td><td> 2</td><td>3</td><td>1</td><td>1</td><td>2</td></tr>\n",
       "\t<tr><th scope=row>4</th><td>6</td><td> 8</td><td> 8</td><td>1</td><td>3</td><td> 4</td><td>3</td><td>7</td><td>1</td><td>2</td></tr>\n",
       "\t<tr><th scope=row>5</th><td>4</td><td> 1</td><td> 1</td><td>3</td><td>2</td><td> 1</td><td>3</td><td>1</td><td>1</td><td>2</td></tr>\n",
       "\t<tr><th scope=row>6</th><td>8</td><td>10</td><td>10</td><td>8</td><td>7</td><td>10</td><td>9</td><td>7</td><td>1</td><td>4</td></tr>\n",
       "</tbody>\n",
       "</table>\n"
      ],
      "text/latex": [
       "A data.frame: 6 × 10\n",
       "\\begin{tabular}{r|llllllllll}\n",
       "  & V2 & V3 & V4 & V5 & V6 & V7 & V8 & V9 & V10 & V11\\\\\n",
       "  & <int> & <int> & <int> & <int> & <int> & <dbl> & <int> & <int> & <int> & <int>\\\\\n",
       "\\hline\n",
       "\t1 & 5 &  1 &  1 & 1 & 2 &  1 & 3 & 1 & 1 & 2\\\\\n",
       "\t2 & 5 &  4 &  4 & 5 & 7 & 10 & 3 & 2 & 1 & 2\\\\\n",
       "\t3 & 3 &  1 &  1 & 1 & 2 &  2 & 3 & 1 & 1 & 2\\\\\n",
       "\t4 & 6 &  8 &  8 & 1 & 3 &  4 & 3 & 7 & 1 & 2\\\\\n",
       "\t5 & 4 &  1 &  1 & 3 & 2 &  1 & 3 & 1 & 1 & 2\\\\\n",
       "\t6 & 8 & 10 & 10 & 8 & 7 & 10 & 9 & 7 & 1 & 4\\\\\n",
       "\\end{tabular}\n"
      ],
      "text/markdown": [
       "\n",
       "A data.frame: 6 × 10\n",
       "\n",
       "| <!--/--> | V2 &lt;int&gt; | V3 &lt;int&gt; | V4 &lt;int&gt; | V5 &lt;int&gt; | V6 &lt;int&gt; | V7 &lt;dbl&gt; | V8 &lt;int&gt; | V9 &lt;int&gt; | V10 &lt;int&gt; | V11 &lt;int&gt; |\n",
       "|---|---|---|---|---|---|---|---|---|---|---|\n",
       "| 1 | 5 |  1 |  1 | 1 | 2 |  1 | 3 | 1 | 1 | 2 |\n",
       "| 2 | 5 |  4 |  4 | 5 | 7 | 10 | 3 | 2 | 1 | 2 |\n",
       "| 3 | 3 |  1 |  1 | 1 | 2 |  2 | 3 | 1 | 1 | 2 |\n",
       "| 4 | 6 |  8 |  8 | 1 | 3 |  4 | 3 | 7 | 1 | 2 |\n",
       "| 5 | 4 |  1 |  1 | 3 | 2 |  1 | 3 | 1 | 1 | 2 |\n",
       "| 6 | 8 | 10 | 10 | 8 | 7 | 10 | 9 | 7 | 1 | 4 |\n",
       "\n"
      ],
      "text/plain": [
       "  V2 V3 V4 V5 V6 V7 V8 V9 V10 V11\n",
       "1 5   1  1 1  2   1 3  1  1   2  \n",
       "2 5   4  4 5  7  10 3  2  1   2  \n",
       "3 3   1  1 1  2   2 3  1  1   2  \n",
       "4 6   8  8 1  3   4 3  7  1   2  \n",
       "5 4   1  1 3  2   1 3  1  1   2  \n",
       "6 8  10 10 8  7  10 9  7  1   4  "
      ]
     },
     "metadata": {},
     "output_type": "display_data"
    },
    {
     "name": "stdout",
     "output_type": "stream",
     "text": [
      "No. of cols: 10 \n",
      "No. of rows: 699 \n",
      "No. of Missing Values: 0"
     ]
    }
   ],
   "source": [
    "set.seed(0)\n",
    "# imputing missing values with perturbation\n",
    "imp_pert <- mice(df, method=\"norm.nob\", printFlag=FALSE)\n",
    "# Store the results\n",
    "df_reg_pert <- complete(imp_pert)\n",
    "# Summary of results\n",
    "head(df_reg_pert)\n",
    "cat(\"No. of cols:\", ncol(df_reg_pert), \"\\n\")\n",
    "cat(\"No. of rows:\", nrow(df_reg_pert), \"\\n\")\n",
    "cat(\"No. of Missing Values:\", sum(is.na(df_reg_pert)))"
   ]
  },
  {
   "cell_type": "markdown",
   "id": "14075bbb",
   "metadata": {},
   "source": [
    "<p><p style=\"page-break-after:always;\"></p></p>"
   ]
  },
  {
   "cell_type": "markdown",
   "id": "7a5400de",
   "metadata": {},
   "source": [
    "Comparing the results for missing values of V7 using both regression only and using regression with perturbation."
   ]
  },
  {
   "cell_type": "code",
   "execution_count": 9,
   "id": "88d34361",
   "metadata": {},
   "outputs": [
    {
     "data": {
      "image/png": "[encoded data removed]",
      "text/plain": [
       "Plot with title \"V7 Values predicted\""
      ]
     },
     "metadata": {},
     "output_type": "display_data"
    }
   ],
   "source": [
    "# Storing the IDs (V1) of missing values\n",
    "id_missing_values <- rownames(df[is.na(df$V7),])\n",
    "# Predicted values for Imputation regression model\n",
    "df_reg_predict <- df_reg[id_missing_values, \"V7\"]\n",
    "# Predicted values for Imputation regression model with perturbation\n",
    "df_reg_pert_predict <- df_reg_pert[id_missing_values, \"V7\"]\n",
    "# plot Results\n",
    "plot(df_reg_predict, df_reg_pert_predict, xlim=c(-5,10), ylim=c(-5,10), \n",
    "     xlab=\"Prediciton using Regression only\", \n",
    "     ylab=\"Prediction using regression with perturbation\")\n",
    "title(\"V7 Values predicted\")\n",
    "grid()\n",
    "# plot 45 Degree line\n",
    "lines(c(-5,10),c(-5,10))\n",
    "# Plot Mode\n",
    "lines(c(1,1), c(-100,100), col='red')\n",
    "# Plot Mean\n",
    "lines(c(3.545,3.545), c(-100,100), col='blue')"
   ]
  },
  {
   "attachments": {
    "image.png": {
     "image/png": "[encoded data removed]"
    }
   },
   "cell_type": "markdown",
   "id": "433f147f",
   "metadata": {},
   "source": [
    "Note that \n",
    "1. The vast majority of the points predicted by the regression only model lies between the mode (1, red) and the mean (3.5, blue)\n",
    "2. Normal regression imputation limited the prediction to between 1 and 10 (variable V7 limits), but regression with perturbation ended up with values < 1 (outside variable range). This is due to the random sampling of the error in perturbations as shown below \n",
    "\n",
    "![image.png](attachment:image.png)"
   ]
  },
  {
   "cell_type": "markdown",
   "id": "db56727b",
   "metadata": {},
   "source": [
    "<p><p style=\"page-break-after:always;\"></p></p>"
   ]
  },
  {
   "cell_type": "markdown",
   "id": "c2edde3c",
   "metadata": {},
   "source": [
    "<h4> 4. (Optional) Compare the results and quality of classification models (e.g., SVM, KNN) build using </h4> <br>\n",
    "(1) the data sets from questions 1,2,3; <br>\n",
    "(2) the data that remains after data points with missing values are removed; and <br>\n",
    "(3) the data set when a binary variable is introduced to indicate missing values. "
   ]
  },
  {
   "cell_type": "markdown",
   "id": "8bd7fc91",
   "metadata": {},
   "source": [
    "<b> Solution </b> <br>"
   ]
  },
  {
   "cell_type": "markdown",
   "id": "ab73ea0a",
   "metadata": {},
   "source": [
    "Create the dataframe that remains after data points with missing values are removed (Clean dataset)"
   ]
  },
  {
   "cell_type": "code",
   "execution_count": 10,
   "id": "2fccc9d1",
   "metadata": {},
   "outputs": [
    {
     "data": {
      "text/html": [
       "<table class=\"dataframe\">\n",
       "<caption>A data.frame: 6 × 10</caption>\n",
       "<thead>\n",
       "\t<tr><th></th><th scope=col>V2</th><th scope=col>V3</th><th scope=col>V4</th><th scope=col>V5</th><th scope=col>V6</th><th scope=col>V7</th><th scope=col>V8</th><th scope=col>V9</th><th scope=col>V10</th><th scope=col>V11</th></tr>\n",
       "\t<tr><th></th><th scope=col>&lt;int&gt;</th><th scope=col>&lt;int&gt;</th><th scope=col>&lt;int&gt;</th><th scope=col>&lt;int&gt;</th><th scope=col>&lt;int&gt;</th><th scope=col>&lt;int&gt;</th><th scope=col>&lt;int&gt;</th><th scope=col>&lt;int&gt;</th><th scope=col>&lt;int&gt;</th><th scope=col>&lt;int&gt;</th></tr>\n",
       "</thead>\n",
       "<tbody>\n",
       "\t<tr><th scope=row>1</th><td>5</td><td> 1</td><td> 1</td><td>1</td><td>2</td><td> 1</td><td>3</td><td>1</td><td>1</td><td>2</td></tr>\n",
       "\t<tr><th scope=row>2</th><td>5</td><td> 4</td><td> 4</td><td>5</td><td>7</td><td>10</td><td>3</td><td>2</td><td>1</td><td>2</td></tr>\n",
       "\t<tr><th scope=row>3</th><td>3</td><td> 1</td><td> 1</td><td>1</td><td>2</td><td> 2</td><td>3</td><td>1</td><td>1</td><td>2</td></tr>\n",
       "\t<tr><th scope=row>4</th><td>6</td><td> 8</td><td> 8</td><td>1</td><td>3</td><td> 4</td><td>3</td><td>7</td><td>1</td><td>2</td></tr>\n",
       "\t<tr><th scope=row>5</th><td>4</td><td> 1</td><td> 1</td><td>3</td><td>2</td><td> 1</td><td>3</td><td>1</td><td>1</td><td>2</td></tr>\n",
       "\t<tr><th scope=row>6</th><td>8</td><td>10</td><td>10</td><td>8</td><td>7</td><td>10</td><td>9</td><td>7</td><td>1</td><td>4</td></tr>\n",
       "</tbody>\n",
       "</table>\n"
      ],
      "text/latex": [
       "A data.frame: 6 × 10\n",
       "\\begin{tabular}{r|llllllllll}\n",
       "  & V2 & V3 & V4 & V5 & V6 & V7 & V8 & V9 & V10 & V11\\\\\n",
       "  & <int> & <int> & <int> & <int> & <int> & <int> & <int> & <int> & <int> & <int>\\\\\n",
       "\\hline\n",
       "\t1 & 5 &  1 &  1 & 1 & 2 &  1 & 3 & 1 & 1 & 2\\\\\n",
       "\t2 & 5 &  4 &  4 & 5 & 7 & 10 & 3 & 2 & 1 & 2\\\\\n",
       "\t3 & 3 &  1 &  1 & 1 & 2 &  2 & 3 & 1 & 1 & 2\\\\\n",
       "\t4 & 6 &  8 &  8 & 1 & 3 &  4 & 3 & 7 & 1 & 2\\\\\n",
       "\t5 & 4 &  1 &  1 & 3 & 2 &  1 & 3 & 1 & 1 & 2\\\\\n",
       "\t6 & 8 & 10 & 10 & 8 & 7 & 10 & 9 & 7 & 1 & 4\\\\\n",
       "\\end{tabular}\n"
      ],
      "text/markdown": [
       "\n",
       "A data.frame: 6 × 10\n",
       "\n",
       "| <!--/--> | V2 &lt;int&gt; | V3 &lt;int&gt; | V4 &lt;int&gt; | V5 &lt;int&gt; | V6 &lt;int&gt; | V7 &lt;int&gt; | V8 &lt;int&gt; | V9 &lt;int&gt; | V10 &lt;int&gt; | V11 &lt;int&gt; |\n",
       "|---|---|---|---|---|---|---|---|---|---|---|\n",
       "| 1 | 5 |  1 |  1 | 1 | 2 |  1 | 3 | 1 | 1 | 2 |\n",
       "| 2 | 5 |  4 |  4 | 5 | 7 | 10 | 3 | 2 | 1 | 2 |\n",
       "| 3 | 3 |  1 |  1 | 1 | 2 |  2 | 3 | 1 | 1 | 2 |\n",
       "| 4 | 6 |  8 |  8 | 1 | 3 |  4 | 3 | 7 | 1 | 2 |\n",
       "| 5 | 4 |  1 |  1 | 3 | 2 |  1 | 3 | 1 | 1 | 2 |\n",
       "| 6 | 8 | 10 | 10 | 8 | 7 | 10 | 9 | 7 | 1 | 4 |\n",
       "\n"
      ],
      "text/plain": [
       "  V2 V3 V4 V5 V6 V7 V8 V9 V10 V11\n",
       "1 5   1  1 1  2   1 3  1  1   2  \n",
       "2 5   4  4 5  7  10 3  2  1   2  \n",
       "3 3   1  1 1  2   2 3  1  1   2  \n",
       "4 6   8  8 1  3   4 3  7  1   2  \n",
       "5 4   1  1 3  2   1 3  1  1   2  \n",
       "6 8  10 10 8  7  10 9  7  1   4  "
      ]
     },
     "metadata": {},
     "output_type": "display_data"
    },
    {
     "name": "stdout",
     "output_type": "stream",
     "text": [
      "No. of cols: 10 \n",
      "No. of rows: 683 \n",
      "No. of Missing Values: 0"
     ]
    }
   ],
   "source": [
    "# Create Clean dataset (Remove NA data points)\n",
    "df_clean <- na.omit(df)\n",
    "head(df_clean)\n",
    "cat(\"No. of cols:\", ncol(df_clean), \"\\n\")\n",
    "cat(\"No. of rows:\", nrow(df_clean), \"\\n\")\n",
    "cat(\"No. of Missing Values:\", sum(is.na(df_clean)))"
   ]
  },
  {
   "cell_type": "markdown",
   "id": "b63b035d",
   "metadata": {},
   "source": [
    "<p><p style=\"page-break-after:always;\"></p></p>"
   ]
  },
  {
   "cell_type": "markdown",
   "id": "f208a846",
   "metadata": {},
   "source": [
    "Create the data set when a binary variable is introduced to indicate missing values (df_Missing_cat)"
   ]
  },
  {
   "cell_type": "code",
   "execution_count": 11,
   "id": "98e89fb3",
   "metadata": {},
   "outputs": [
    {
     "data": {
      "text/plain": [
       "       V2               V3               V4               V5        \n",
       " Min.   : 1.000   Min.   : 1.000   Min.   : 1.000   Min.   : 1.000  \n",
       " 1st Qu.: 2.000   1st Qu.: 1.000   1st Qu.: 1.000   1st Qu.: 1.000  \n",
       " Median : 4.000   Median : 1.000   Median : 1.000   Median : 1.000  \n",
       " Mean   : 4.418   Mean   : 3.134   Mean   : 3.207   Mean   : 2.807  \n",
       " 3rd Qu.: 6.000   3rd Qu.: 5.000   3rd Qu.: 5.000   3rd Qu.: 4.000  \n",
       " Max.   :10.000   Max.   :10.000   Max.   :10.000   Max.   :10.000  \n",
       "       V6               V7               V8               V9        \n",
       " Min.   : 1.000   Min.   : 0.000   Min.   : 1.000   Min.   : 1.000  \n",
       " 1st Qu.: 2.000   1st Qu.: 1.000   1st Qu.: 2.000   1st Qu.: 1.000  \n",
       " Median : 2.000   Median : 1.000   Median : 3.000   Median : 1.000  \n",
       " Mean   : 3.216   Mean   : 3.464   Mean   : 3.438   Mean   : 2.867  \n",
       " 3rd Qu.: 4.000   3rd Qu.: 5.000   3rd Qu.: 5.000   3rd Qu.: 4.000  \n",
       " Max.   :10.000   Max.   :10.000   Max.   :10.000   Max.   :10.000  \n",
       "      V10              V11            V12        \n",
       " Min.   : 1.000   Min.   :2.00   Min.   :0.0000  \n",
       " 1st Qu.: 1.000   1st Qu.:2.00   1st Qu.:1.0000  \n",
       " Median : 1.000   Median :2.00   Median :1.0000  \n",
       " Mean   : 1.589   Mean   :2.69   Mean   :0.9771  \n",
       " 3rd Qu.: 1.000   3rd Qu.:4.00   3rd Qu.:1.0000  \n",
       " Max.   :10.000   Max.   :4.00   Max.   :1.0000  "
      ]
     },
     "metadata": {},
     "output_type": "display_data"
    }
   ],
   "source": [
    "# Copy Dataframe\n",
    "df_missing_cat <- df\n",
    "# Add Missing Category \n",
    "df_missing_cat$V12 <- 1\n",
    "df_missing_cat$V12[is.na(df_missing_cat$V7)] <- 0\n",
    "# Replace Missing Values in V7 by 0\n",
    "df_missing_cat$V7[is.na(df_missing_cat$V7)] <- 0\n",
    "summary(df_missing_cat)"
   ]
  },
  {
   "cell_type": "markdown",
   "id": "de88137f",
   "metadata": {},
   "source": [
    "<p><p style=\"page-break-after:always;\"></p></p>"
   ]
  },
  {
   "cell_type": "markdown",
   "id": "0a1bc816",
   "metadata": {},
   "source": [
    "Step 1: Create a function to split a scale dataframe then split into train and test dataframes. Note, We did not Scale (V11) as it is a categorical variable"
   ]
  },
  {
   "cell_type": "code",
   "execution_count": 12,
   "id": "3e8ac82c",
   "metadata": {},
   "outputs": [],
   "source": [
    "train_test_split <- function(df) {\n",
    "    # Scale the Dataframe for all columns except target column\n",
    "    scaled_df <- as.data.frame(scale(df[,1:9], center=TRUE, scale=TRUE))\n",
    "    # add Category column\n",
    "    scaled_df$V11 <- df$V11\n",
    "    # Account for missing column Category\n",
    "    if (\"V12\" %in% colnames(df)){\n",
    "        scaled_df$V12 <- df$V12\n",
    "    }\n",
    "    # Split the data\n",
    "    train <- sample(1:nrow(scaled_df), 0.7*nrow(scaled_df))\n",
    "    train_df <- scaled_df[train,]\n",
    "    test_df <- scaled_df[-train,]\n",
    "    return (list(\"train\" = train_df, \"test\" = test_df))\n",
    "}"
   ]
  },
  {
   "cell_type": "markdown",
   "id": "8e4e0e63",
   "metadata": {},
   "source": [
    "Step 2: Split all dataframes into train and test dataframes (70%, 30%)"
   ]
  },
  {
   "cell_type": "code",
   "execution_count": 13,
   "id": "92c46c3b",
   "metadata": {},
   "outputs": [],
   "source": [
    "# Preparing mean imputation dataframe for training and test\n",
    "df_mean_train_test <- train_test_split(df_mean)\n",
    "# Preparing mode imputation dataframe for training and test\n",
    "df_mode_train_test <- train_test_split(df_mode)\n",
    "# Preparing regression imputation dataframe for training and test\n",
    "df_reg_train_test <- train_test_split(df_reg)\n",
    "# Preparing regression with perturbation imputation dataframe for training and test\n",
    "df_reg_pert_train_test <- train_test_split(df_reg_pert)\n",
    "# Preparing Clean dataframe for training and test\n",
    "df_clean_train_test <- train_test_split(df_clean)\n",
    "# Preparing the dataframe where missing data are indicated by category for training and test\n",
    "df_missing_cat_train_test <- train_test_split(df_missing_cat)"
   ]
  },
  {
   "cell_type": "markdown",
   "id": "f40004a9",
   "metadata": {},
   "source": [
    "Quality Checking the splits"
   ]
  },
  {
   "cell_type": "code",
   "execution_count": 14,
   "id": "651c6fb1",
   "metadata": {},
   "outputs": [
    {
     "data": {
      "text/plain": [
       "\n",
       "  2   4 \n",
       "317 172 "
      ]
     },
     "metadata": {},
     "output_type": "display_data"
    },
    {
     "name": "stdout",
     "output_type": "stream",
     "text": [
      "Ratio of 2 to 4 responses in train dataset: 0.648 \n"
     ]
    },
    {
     "data": {
      "text/plain": [
       "\n",
       "  2   4 \n",
       "141  69 "
      ]
     },
     "metadata": {},
     "output_type": "display_data"
    },
    {
     "name": "stdout",
     "output_type": "stream",
     "text": [
      "Ratio of 2 to 4 responses in test dataset: 0.671 \n"
     ]
    }
   ],
   "source": [
    "table(df_mean_train_test$train$V11)\n",
    "cat(\"Ratio of 2 to 4 responses in train dataset:\", \n",
    "    round(table(df_mean_train_test$train$V11)[1]/nrow(df_mean_train_test$train),3), \"\\n\")\n",
    "table(df_mean_train_test$test$V11)\n",
    "cat(\"Ratio of 2 to 4 responses in test dataset:\", \n",
    "    round(table(df_mean_train_test$test$V11)[1]/nrow(df_mean_train_test$test),3), \"\\n\")"
   ]
  },
  {
   "cell_type": "markdown",
   "id": "92aa6f65",
   "metadata": {},
   "source": [
    "Train test split Appears accurate"
   ]
  },
  {
   "cell_type": "markdown",
   "id": "a6b4a57f",
   "metadata": {},
   "source": [
    "<p><p style=\"page-break-after:always;\"></p></p>"
   ]
  },
  {
   "cell_type": "markdown",
   "id": "e5ce9762",
   "metadata": {},
   "source": [
    "The following section shows a sample of the calculation methodology for the mean imputation dataframe"
   ]
  },
  {
   "cell_type": "code",
   "execution_count": 18,
   "id": "1de3bdc3",
   "metadata": {},
   "outputs": [],
   "source": [
    "# install.packages(\"class\")\n",
    "library(class)\n",
    "library(caret)"
   ]
  },
  {
   "cell_type": "code",
   "execution_count": 16,
   "id": "9a08dce2",
   "metadata": {},
   "outputs": [
    {
     "name": "stdout",
     "output_type": "stream",
     "text": [
      "Sample Calculation methodology for mean "
     ]
    },
    {
     "data": {
      "text/plain": [
       "Confusion Matrix and Statistics\n",
       "\n",
       "          Reference\n",
       "Prediction   2   4\n",
       "         2 137   5\n",
       "         4   4  64\n",
       "                                          \n",
       "               Accuracy : 0.9571          \n",
       "                 95% CI : (0.9202, 0.9802)\n",
       "    No Information Rate : 0.6714          \n",
       "    P-Value [Acc > NIR] : <2e-16          \n",
       "                                          \n",
       "                  Kappa : 0.9025          \n",
       "                                          \n",
       " Mcnemar's Test P-Value : 1               \n",
       "                                          \n",
       "            Sensitivity : 0.9716          \n",
       "            Specificity : 0.9275          \n",
       "         Pos Pred Value : 0.9648          \n",
       "         Neg Pred Value : 0.9412          \n",
       "             Prevalence : 0.6714          \n",
       "         Detection Rate : 0.6524          \n",
       "   Detection Prevalence : 0.6762          \n",
       "      Balanced Accuracy : 0.9496          \n",
       "                                          \n",
       "       'Positive' Class : 2               \n",
       "                                          "
      ]
     },
     "metadata": {},
     "output_type": "display_data"
    },
    {
     "data": {
      "text/html": [
       "<strong>Accuracy:</strong> 95.71"
      ],
      "text/latex": [
       "\\textbf{Accuracy:} 95.71"
      ],
      "text/markdown": [
       "**Accuracy:** 95.71"
      ],
      "text/plain": [
       "Accuracy \n",
       "   95.71 "
      ]
     },
     "metadata": {},
     "output_type": "display_data"
    }
   ],
   "source": [
    "cat(\"Sample Calculation methodology for mean \")\n",
    "# Build KNN Model\n",
    "knn_model <- knn(df_mean_train_test$train[,1:9], \n",
    "                 df_mean_train_test$test[,1:9], \n",
    "                 cl=df_mean_train_test$train$V11, \n",
    "                 k=1)\n",
    "# Calculate Model Accuracy\n",
    "model_confusion_matrix <- confusionMatrix(knn_model, as.factor(df_mean_train_test$test$V11))\n",
    "model_confusion_matrix\n",
    "# Model Accuracy\n",
    "model_accuracy <- model_confusion_matrix$overall[\"Accuracy\"]\n",
    "round(model_accuracy*100,2)"
   ]
  },
  {
   "cell_type": "markdown",
   "id": "8576d3c3",
   "metadata": {},
   "source": [
    "<p><p style=\"page-break-after:always;\"></p></p>"
   ]
  },
  {
   "cell_type": "markdown",
   "id": "f0b7c2fb",
   "metadata": {},
   "source": [
    "Analyzing All possible techqniues KNN model performance"
   ]
  },
  {
   "cell_type": "code",
   "execution_count": 17,
   "id": "41ae6011",
   "metadata": {},
   "outputs": [
    {
     "name": "stdout",
     "output_type": "stream",
     "text": [
      "mean_imputation 95.71 \n",
      "mode_imputation 96.67 \n",
      "regression_imputation 97.14 \n",
      "regression_with_perturbation 95.71 \n",
      "Missing_values_removed 95.61 \n",
      "Indicate_missing_by_Category 95.71 \n"
     ]
    }
   ],
   "source": [
    "# list of all models\n",
    "all_dataframes <- list(df_mean_train_test, df_mode_train_test, \n",
    "                       df_reg_train_test, df_reg_pert_train_test,\n",
    "                       df_clean_train_test, df_missing_cat_train_test)\n",
    "# vector to store results\n",
    "accuracy_result_vector <- seq(1,6)\n",
    "# loop across all models\n",
    "for (i in seq(1,6)){\n",
    "    dataset <- all_dataframes[[i]]\n",
    "    # if to account for the extra column\n",
    "    if (\"V12\" %in% colnames(dataset)){\n",
    "        knn_model <- knn(dataset$train[,c(seq(1:9),11)],\n",
    "                         dataset$test[,c(seq(1:9),11)],\n",
    "                         cl=dataset$train$V11,\n",
    "                         k=1)\n",
    "    } else{\n",
    "        knn_model <- knn(dataset$train[,1:9],\n",
    "                         dataset$test[,1:9],\n",
    "                         cl=dataset$train$V11,\n",
    "                         k=1)\n",
    "    }\n",
    "    # Calculate Model Accuracy\n",
    "    model_confusion_matrix <- confusionMatrix(knn_model, as.factor(dataset$test$V11))\n",
    "    # Model Accuracy\n",
    "    model_accuracy <- model_confusion_matrix$overall[\"Accuracy\"]\n",
    "    accuracy_result_vector[i] <- round(model_accuracy*100,2)\n",
    "}\n",
    "# name results vector\n",
    "names(accuracy_result_vector) <- c(\"mean_imputation\", \"mode_imputation\", \n",
    "                                   \"regression_imputation\", \n",
    "                                   \"regression_with_perturbation\",\n",
    "                                   \"Missing_values_removed\",\n",
    "                                   \"Indicate_missing_by_Category\")\n",
    "# Display Results\n",
    "for (i in seq(1,6)){\n",
    "    cat(names(accuracy_result_vector)[i], accuracy_result_vector[i],\"\\n\")\n",
    "}"
   ]
  },
  {
   "cell_type": "markdown",
   "id": "8f08b96f",
   "metadata": {},
   "source": [
    "From the data above, all techniques resulted in similar model performance in terms of accuracy. The minor differences can be attributed to random effects in the test data sets."
   ]
  },
  {
   "cell_type": "markdown",
   "id": "e16e74c2",
   "metadata": {},
   "source": [
    "<p><p style=\"page-break-after:always;\"></p></p>"
   ]
  },
  {
   "cell_type": "markdown",
   "id": "d1074787",
   "metadata": {},
   "source": [
    "<h2>Question 15.1 </h2>"
   ]
  },
  {
   "cell_type": "markdown",
   "id": "038e9b46",
   "metadata": {},
   "source": [
    "Describe a situation or problem from your job, everyday life, current events, etc., for which optimization would be appropriate. What data would you need?"
   ]
  },
  {
   "cell_type": "markdown",
   "id": "ac09722d",
   "metadata": {},
   "source": [
    "In oil & gas industry, optimizing the schedule of maintenance rigs (Workover rigs) which are mainly responsible for replacing failed pumps in oil producing wells is critical for restoring lost production and minimizing cost required. The schedule of maintenance rigs looks similar to the table below: <br>\n",
    "\n",
    "| Rig | Well | Start Date | Required days | Oil rate potential, Barrel/Day |\n",
    "| --- | --- | --- | --- | --- |\n",
    "| Rig-1 | Well-2 | 1-Apr-2022 | 7 | 100 |\n",
    "| Rig-1 | Well-25 | 9-Apr-2022 | 10 | 500 |\n",
    "\n",
    "\\* note Required days do not include rig move days as it depends on distance between wells (in the table above, 2 days were assumed)\n",
    "\n",
    "The situation gets complex when:\n",
    "1. The Number of wells are in the thousands range which \n",
    "2. The wells are scattered over large distances \n",
    "4. Different rigs have different capabilities and limitations and \n",
    "3. as the number of rigs available increases. \n",
    "\n",
    "The objective is to optimize the schedule for each rig such that the schedule:\n",
    "1. minimize the rigs move distances (thus minimizing cost and time lost in moving rather than doing jobs and restoring porudciton) and \n",
    "2. at the same time minimizing lost production due to pumps failure.\n",
    "\n",
    "Required Data:\n",
    "1. Well's location (X & Y or latitude and longitude) to calculate required rig move distance\n",
    "2. Best estimate of required job days per well (may include a distribution to account for error)\n",
    "3. Oil Production potential per well\n",
    "4. Rig capabilities"
   ]
  }
 ],
 "metadata": {
  "kernelspec": {
   "display_name": "R",
   "language": "R",
   "name": "ir"
  },
  "language_info": {
   "codemirror_mode": "r",
   "file_extension": ".r",
   "mimetype": "text/x-r-source",
   "name": "R",
   "pygments_lexer": "r",
   "version": "3.6.1"
  }
 },
 "nbformat": 4,
 "nbformat_minor": 5
}
