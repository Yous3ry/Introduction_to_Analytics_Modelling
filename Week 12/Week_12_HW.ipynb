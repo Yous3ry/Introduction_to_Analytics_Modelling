{
 "cells": [
  {
   "cell_type": "markdown",
   "id": "52051873",
   "metadata": {},
   "source": [
    "<h1> Week 12 Homework"
   ]
  },
  {
   "cell_type": "markdown",
   "id": "159b7807",
   "metadata": {},
   "source": [
    "<h2>Question 15.2</h2>"
   ]
  },
  {
   "cell_type": "markdown",
   "id": "010c0298",
   "metadata": {},
   "source": [
    "In the videos, we saw the “diet problem”. (The diet problem is one of the first large-scale optimization problems to be studied in practice. Back in the 1930’s and 40’s, the Army wanted to meet the nutritional requirements of its soldiers while minimizing the cost.) <br>\n",
    "In this homework you get to solve a diet problem with real data. The data is given in the file diet.xls. "
   ]
  },
  {
   "cell_type": "markdown",
   "id": "a2c880a7",
   "metadata": {},
   "source": [
    "1. Formulate an optimization model (a linear program) to find the cheapest diet that satisfies the maximum and minimum daily nutrition constraints, and solve it using PuLP. Turn in your code and the solution. (The optimal solution should be a diet of air-popped popcorn, poached eggs, oranges, raw iceberg lettuce, raw celery, and frozen broccoli. UGH!) \n",
    "2. Please add to your model the following constraints (which might require adding more variables) and solve the new model:\n",
    "    1. If a food is selected, then a minimum of 1/10 serving must be chosen. (Hint: now you will need two variables for each food i: whether it is chosen, and how much is part of the diet. You’ll also need to write a constraint to link them.)\n",
    "    2. Many people dislike celery and frozen broccoli. So at most one, but not both, can be selected. \n",
    "    3. To get day-to-day variety in protein, at least 3 kinds of meat/poultry/fish/eggs must be selected. If something is ambiguous (e.g., should bean-and-bacon soup be considered meat?), just call it whatever you think is appropriate – I want you to learn how to write thistype of constraint, but I don’t really care whether we agree on how to classify foods!"
   ]
  },
  {
   "cell_type": "markdown",
   "id": "1cbf4656",
   "metadata": {},
   "source": [
    "If you want to see what a more full-sized problem would look like, try solving your models for the file diet_large.xls, which is a low-cholesterol diet model (rather than minimizing cost, the goal is to minimize cholesterol intake). I don’t know anyone who’d want to eat this diet – the optimal solution includes dried chrysanthemum garland, raw beluga whale flipper, freeze-dried parsley, etc. – which shows why it’s  necessary to add additional constraints beyond the basic ones we saw in the video! <br> Note: there are many optimal solutions, all with zero cholesterol, so you might get a different one. It probably won’t be much more appetizing than mine."
   ]
  },
  {
   "cell_type": "markdown",
   "id": "ca802b29",
   "metadata": {},
   "source": [
    "<p><p style=\"page-break-after:always;\"></p></p>"
   ]
  },
  {
   "cell_type": "markdown",
   "id": "6860e3ca",
   "metadata": {},
   "source": [
    "<b> Solution Part 1 </b>"
   ]
  },
  {
   "cell_type": "markdown",
   "id": "d61cef32",
   "metadata": {},
   "source": [
    "<b> Optimization Model Definitions: </b>\n",
    "\n",
    "Variables: <br>\n",
    "$x_i$ = amount of food $i$ in daily diet\n",
    "\n",
    "Constraints: <br>\n",
    "For each nutrient $j$, $min_j <= \\sum_{i=1}^{m} a_{ij} x_i <= max_j$ <br>\n",
    "Minimum $x_i$ = 0\n",
    "\n",
    "Objective Function: <br>\n",
    "Minimize $\\sum_{i=1}^{n} c_i x_i$\n",
    "\n",
    "Where: <br>\n",
    "$n$ = Number of different foods <br>\n",
    "$m$ = Number of different nutrients <br>\n",
    "$x_i$ = amount of food i in daily diet <br>\n",
    "$a_{ij}$ = amount of nutrient j in food i <br>\n",
    "$min_j$ = Minimum daily intake of Nutrient j <br>\n",
    "$max_j$ = Maximum daily intake of Nutrient j <br>\n",
    "$c_i$ = cost of food i <br>"
   ]
  },
  {
   "cell_type": "code",
   "execution_count": 1,
   "id": "36d90739",
   "metadata": {},
   "outputs": [
    {
     "data": {
      "text/html": [
       "<div>\n",
       "<style scoped>\n",
       "    .dataframe tbody tr th:only-of-type {\n",
       "        vertical-align: middle;\n",
       "    }\n",
       "\n",
       "    .dataframe tbody tr th {\n",
       "        vertical-align: top;\n",
       "    }\n",
       "\n",
       "    .dataframe thead th {\n",
       "        text-align: right;\n",
       "    }\n",
       "</style>\n",
       "<table border=\"1\" class=\"dataframe\">\n",
       "  <thead>\n",
       "    <tr style=\"text-align: right;\">\n",
       "      <th></th>\n",
       "      <th>Nutrient</th>\n",
       "      <th>Min</th>\n",
       "      <th>Max</th>\n",
       "    </tr>\n",
       "  </thead>\n",
       "  <tbody>\n",
       "    <tr>\n",
       "      <th>0</th>\n",
       "      <td>Calories</td>\n",
       "      <td>1500</td>\n",
       "      <td>2500</td>\n",
       "    </tr>\n",
       "    <tr>\n",
       "      <th>1</th>\n",
       "      <td>Cholesterol</td>\n",
       "      <td>30</td>\n",
       "      <td>240</td>\n",
       "    </tr>\n",
       "    <tr>\n",
       "      <th>2</th>\n",
       "      <td>Total_Fat</td>\n",
       "      <td>20</td>\n",
       "      <td>70</td>\n",
       "    </tr>\n",
       "    <tr>\n",
       "      <th>3</th>\n",
       "      <td>Sodium</td>\n",
       "      <td>800</td>\n",
       "      <td>2000</td>\n",
       "    </tr>\n",
       "    <tr>\n",
       "      <th>4</th>\n",
       "      <td>Carbohydrates</td>\n",
       "      <td>130</td>\n",
       "      <td>450</td>\n",
       "    </tr>\n",
       "    <tr>\n",
       "      <th>5</th>\n",
       "      <td>Dietary_Fiber</td>\n",
       "      <td>125</td>\n",
       "      <td>250</td>\n",
       "    </tr>\n",
       "    <tr>\n",
       "      <th>6</th>\n",
       "      <td>Protein</td>\n",
       "      <td>60</td>\n",
       "      <td>100</td>\n",
       "    </tr>\n",
       "    <tr>\n",
       "      <th>7</th>\n",
       "      <td>Vit_A</td>\n",
       "      <td>1000</td>\n",
       "      <td>10000</td>\n",
       "    </tr>\n",
       "    <tr>\n",
       "      <th>8</th>\n",
       "      <td>Vit_C</td>\n",
       "      <td>400</td>\n",
       "      <td>5000</td>\n",
       "    </tr>\n",
       "    <tr>\n",
       "      <th>9</th>\n",
       "      <td>Calcium</td>\n",
       "      <td>700</td>\n",
       "      <td>1500</td>\n",
       "    </tr>\n",
       "    <tr>\n",
       "      <th>10</th>\n",
       "      <td>Iron</td>\n",
       "      <td>10</td>\n",
       "      <td>40</td>\n",
       "    </tr>\n",
       "  </tbody>\n",
       "</table>\n",
       "</div>"
      ],
      "text/plain": [
       "         Nutrient   Min    Max\n",
       "0        Calories  1500   2500\n",
       "1     Cholesterol    30    240\n",
       "2       Total_Fat    20     70\n",
       "3          Sodium   800   2000\n",
       "4   Carbohydrates   130    450\n",
       "5   Dietary_Fiber   125    250\n",
       "6         Protein    60    100\n",
       "7           Vit_A  1000  10000\n",
       "8           Vit_C   400   5000\n",
       "9         Calcium   700   1500\n",
       "10           Iron    10     40"
      ]
     },
     "execution_count": 1,
     "metadata": {},
     "output_type": "execute_result"
    }
   ],
   "source": [
    "import pandas as pd\n",
    "# Read Created Contraints file\n",
    "const_df = pd.read_csv(\"diet_constraints.csv\")\n",
    "# Display Constraints df\n",
    "const_df"
   ]
  },
  {
   "cell_type": "markdown",
   "id": "3b6dd095",
   "metadata": {},
   "source": [
    "<p><p style=\"page-break-after:always;\"></p></p>"
   ]
  },
  {
   "cell_type": "code",
   "execution_count": 2,
   "id": "a05fd003",
   "metadata": {},
   "outputs": [
    {
     "data": {
      "text/html": [
       "<div>\n",
       "<style scoped>\n",
       "    .dataframe tbody tr th:only-of-type {\n",
       "        vertical-align: middle;\n",
       "    }\n",
       "\n",
       "    .dataframe tbody tr th {\n",
       "        vertical-align: top;\n",
       "    }\n",
       "\n",
       "    .dataframe thead th {\n",
       "        text-align: right;\n",
       "    }\n",
       "</style>\n",
       "<table border=\"1\" class=\"dataframe\">\n",
       "  <thead>\n",
       "    <tr style=\"text-align: right;\">\n",
       "      <th></th>\n",
       "      <th>Foods</th>\n",
       "      <th>Price/ Serving</th>\n",
       "      <th>Serving Size</th>\n",
       "      <th>Calories</th>\n",
       "      <th>Cholesterol</th>\n",
       "      <th>Total_Fat</th>\n",
       "      <th>Sodium</th>\n",
       "      <th>Carbohydrates</th>\n",
       "      <th>Dietary_Fiber</th>\n",
       "      <th>Protein</th>\n",
       "      <th>Vit_A</th>\n",
       "      <th>Vit_C</th>\n",
       "      <th>Calcium</th>\n",
       "      <th>Iron</th>\n",
       "    </tr>\n",
       "  </thead>\n",
       "  <tbody>\n",
       "    <tr>\n",
       "      <th>0</th>\n",
       "      <td>Frozen Broccoli</td>\n",
       "      <td>0.16</td>\n",
       "      <td>10 Oz Pkg</td>\n",
       "      <td>73.8</td>\n",
       "      <td>0.0</td>\n",
       "      <td>0.8</td>\n",
       "      <td>68.2</td>\n",
       "      <td>13.6</td>\n",
       "      <td>8.5</td>\n",
       "      <td>8.0</td>\n",
       "      <td>5867.0</td>\n",
       "      <td>160.2</td>\n",
       "      <td>159.0</td>\n",
       "      <td>2.3</td>\n",
       "    </tr>\n",
       "    <tr>\n",
       "      <th>1</th>\n",
       "      <td>Carrots,Raw</td>\n",
       "      <td>0.07</td>\n",
       "      <td>1/2 Cup Shredded</td>\n",
       "      <td>23.7</td>\n",
       "      <td>0.0</td>\n",
       "      <td>0.1</td>\n",
       "      <td>19.2</td>\n",
       "      <td>5.6</td>\n",
       "      <td>1.6</td>\n",
       "      <td>0.6</td>\n",
       "      <td>15471.0</td>\n",
       "      <td>5.1</td>\n",
       "      <td>14.9</td>\n",
       "      <td>0.3</td>\n",
       "    </tr>\n",
       "    <tr>\n",
       "      <th>2</th>\n",
       "      <td>Celery, Raw</td>\n",
       "      <td>0.04</td>\n",
       "      <td>1 Stalk</td>\n",
       "      <td>6.4</td>\n",
       "      <td>0.0</td>\n",
       "      <td>0.1</td>\n",
       "      <td>34.8</td>\n",
       "      <td>1.5</td>\n",
       "      <td>0.7</td>\n",
       "      <td>0.3</td>\n",
       "      <td>53.6</td>\n",
       "      <td>2.8</td>\n",
       "      <td>16.0</td>\n",
       "      <td>0.2</td>\n",
       "    </tr>\n",
       "    <tr>\n",
       "      <th>3</th>\n",
       "      <td>Frozen Corn</td>\n",
       "      <td>0.18</td>\n",
       "      <td>1/2 Cup</td>\n",
       "      <td>72.2</td>\n",
       "      <td>0.0</td>\n",
       "      <td>0.6</td>\n",
       "      <td>2.5</td>\n",
       "      <td>17.1</td>\n",
       "      <td>2.0</td>\n",
       "      <td>2.5</td>\n",
       "      <td>106.6</td>\n",
       "      <td>5.2</td>\n",
       "      <td>3.3</td>\n",
       "      <td>0.3</td>\n",
       "    </tr>\n",
       "    <tr>\n",
       "      <th>4</th>\n",
       "      <td>Lettuce,Iceberg,Raw</td>\n",
       "      <td>0.02</td>\n",
       "      <td>1 Leaf</td>\n",
       "      <td>2.6</td>\n",
       "      <td>0.0</td>\n",
       "      <td>0.0</td>\n",
       "      <td>1.8</td>\n",
       "      <td>0.4</td>\n",
       "      <td>0.3</td>\n",
       "      <td>0.2</td>\n",
       "      <td>66.0</td>\n",
       "      <td>0.8</td>\n",
       "      <td>3.8</td>\n",
       "      <td>0.1</td>\n",
       "    </tr>\n",
       "    <tr>\n",
       "      <th>...</th>\n",
       "      <td>...</td>\n",
       "      <td>...</td>\n",
       "      <td>...</td>\n",
       "      <td>...</td>\n",
       "      <td>...</td>\n",
       "      <td>...</td>\n",
       "      <td>...</td>\n",
       "      <td>...</td>\n",
       "      <td>...</td>\n",
       "      <td>...</td>\n",
       "      <td>...</td>\n",
       "      <td>...</td>\n",
       "      <td>...</td>\n",
       "      <td>...</td>\n",
       "    </tr>\n",
       "    <tr>\n",
       "      <th>59</th>\n",
       "      <td>Neweng Clamchwd</td>\n",
       "      <td>0.75</td>\n",
       "      <td>1 C (8 Fl Oz)</td>\n",
       "      <td>175.7</td>\n",
       "      <td>10.0</td>\n",
       "      <td>5.0</td>\n",
       "      <td>1864.9</td>\n",
       "      <td>21.8</td>\n",
       "      <td>1.5</td>\n",
       "      <td>10.9</td>\n",
       "      <td>20.1</td>\n",
       "      <td>4.8</td>\n",
       "      <td>82.8</td>\n",
       "      <td>2.8</td>\n",
       "    </tr>\n",
       "    <tr>\n",
       "      <th>60</th>\n",
       "      <td>Tomato Soup</td>\n",
       "      <td>0.39</td>\n",
       "      <td>1 C (8 Fl Oz)</td>\n",
       "      <td>170.7</td>\n",
       "      <td>0.0</td>\n",
       "      <td>3.8</td>\n",
       "      <td>1744.4</td>\n",
       "      <td>33.2</td>\n",
       "      <td>1.0</td>\n",
       "      <td>4.1</td>\n",
       "      <td>1393.0</td>\n",
       "      <td>133.0</td>\n",
       "      <td>27.6</td>\n",
       "      <td>3.5</td>\n",
       "    </tr>\n",
       "    <tr>\n",
       "      <th>61</th>\n",
       "      <td>New E Clamchwd,W/Mlk</td>\n",
       "      <td>0.99</td>\n",
       "      <td>1 C (8 Fl Oz)</td>\n",
       "      <td>163.7</td>\n",
       "      <td>22.3</td>\n",
       "      <td>6.6</td>\n",
       "      <td>992.0</td>\n",
       "      <td>16.6</td>\n",
       "      <td>1.5</td>\n",
       "      <td>9.5</td>\n",
       "      <td>163.7</td>\n",
       "      <td>3.5</td>\n",
       "      <td>186.0</td>\n",
       "      <td>1.5</td>\n",
       "    </tr>\n",
       "    <tr>\n",
       "      <th>62</th>\n",
       "      <td>Crm Mshrm Soup,W/Mlk</td>\n",
       "      <td>0.65</td>\n",
       "      <td>1 C (8 Fl Oz)</td>\n",
       "      <td>203.4</td>\n",
       "      <td>19.8</td>\n",
       "      <td>13.6</td>\n",
       "      <td>1076.3</td>\n",
       "      <td>15.0</td>\n",
       "      <td>0.5</td>\n",
       "      <td>6.1</td>\n",
       "      <td>153.8</td>\n",
       "      <td>2.2</td>\n",
       "      <td>178.6</td>\n",
       "      <td>0.6</td>\n",
       "    </tr>\n",
       "    <tr>\n",
       "      <th>63</th>\n",
       "      <td>Beanbacn Soup,W/Watr</td>\n",
       "      <td>0.67</td>\n",
       "      <td>1 C (8 Fl Oz)</td>\n",
       "      <td>172.0</td>\n",
       "      <td>2.5</td>\n",
       "      <td>5.9</td>\n",
       "      <td>951.3</td>\n",
       "      <td>22.8</td>\n",
       "      <td>8.6</td>\n",
       "      <td>7.9</td>\n",
       "      <td>888.0</td>\n",
       "      <td>1.5</td>\n",
       "      <td>81.0</td>\n",
       "      <td>2.0</td>\n",
       "    </tr>\n",
       "  </tbody>\n",
       "</table>\n",
       "<p>64 rows × 14 columns</p>\n",
       "</div>"
      ],
      "text/plain": [
       "                   Foods  Price/ Serving      Serving Size  Calories  \\\n",
       "0        Frozen Broccoli            0.16         10 Oz Pkg      73.8   \n",
       "1            Carrots,Raw            0.07  1/2 Cup Shredded      23.7   \n",
       "2            Celery, Raw            0.04           1 Stalk       6.4   \n",
       "3            Frozen Corn            0.18           1/2 Cup      72.2   \n",
       "4    Lettuce,Iceberg,Raw            0.02            1 Leaf       2.6   \n",
       "..                   ...             ...               ...       ...   \n",
       "59       Neweng Clamchwd            0.75     1 C (8 Fl Oz)     175.7   \n",
       "60           Tomato Soup            0.39     1 C (8 Fl Oz)     170.7   \n",
       "61  New E Clamchwd,W/Mlk            0.99     1 C (8 Fl Oz)     163.7   \n",
       "62  Crm Mshrm Soup,W/Mlk            0.65     1 C (8 Fl Oz)     203.4   \n",
       "63  Beanbacn Soup,W/Watr            0.67     1 C (8 Fl Oz)     172.0   \n",
       "\n",
       "    Cholesterol  Total_Fat  Sodium  Carbohydrates  Dietary_Fiber  Protein  \\\n",
       "0           0.0        0.8    68.2           13.6            8.5      8.0   \n",
       "1           0.0        0.1    19.2            5.6            1.6      0.6   \n",
       "2           0.0        0.1    34.8            1.5            0.7      0.3   \n",
       "3           0.0        0.6     2.5           17.1            2.0      2.5   \n",
       "4           0.0        0.0     1.8            0.4            0.3      0.2   \n",
       "..          ...        ...     ...            ...            ...      ...   \n",
       "59         10.0        5.0  1864.9           21.8            1.5     10.9   \n",
       "60          0.0        3.8  1744.4           33.2            1.0      4.1   \n",
       "61         22.3        6.6   992.0           16.6            1.5      9.5   \n",
       "62         19.8       13.6  1076.3           15.0            0.5      6.1   \n",
       "63          2.5        5.9   951.3           22.8            8.6      7.9   \n",
       "\n",
       "      Vit_A  Vit_C  Calcium  Iron  \n",
       "0    5867.0  160.2    159.0   2.3  \n",
       "1   15471.0    5.1     14.9   0.3  \n",
       "2      53.6    2.8     16.0   0.2  \n",
       "3     106.6    5.2      3.3   0.3  \n",
       "4      66.0    0.8      3.8   0.1  \n",
       "..      ...    ...      ...   ...  \n",
       "59     20.1    4.8     82.8   2.8  \n",
       "60   1393.0  133.0     27.6   3.5  \n",
       "61    163.7    3.5    186.0   1.5  \n",
       "62    153.8    2.2    178.6   0.6  \n",
       "63    888.0    1.5     81.0   2.0  \n",
       "\n",
       "[64 rows x 14 columns]"
      ]
     },
     "execution_count": 2,
     "metadata": {},
     "output_type": "execute_result"
    }
   ],
   "source": [
    "# Read Created Foods file\n",
    "food_df = pd.read_csv(\"diet_foods.csv\")\n",
    "# Display Constraints df\n",
    "food_df"
   ]
  },
  {
   "cell_type": "markdown",
   "id": "2d42d8bc",
   "metadata": {},
   "source": [
    "<p><p style=\"page-break-after:always;\"></p></p>"
   ]
  },
  {
   "cell_type": "code",
   "execution_count": 3,
   "id": "47c0173f",
   "metadata": {},
   "outputs": [],
   "source": [
    "# Import PuLP modeler functions\n",
    "from pulp import *"
   ]
  },
  {
   "cell_type": "markdown",
   "id": "2c960cad",
   "metadata": {},
   "source": [
    "Preparing Data"
   ]
  },
  {
   "cell_type": "code",
   "execution_count": 4,
   "id": "c311a156",
   "metadata": {},
   "outputs": [
    {
     "data": {
      "text/plain": [
       "73.8"
      ]
     },
     "execution_count": 4,
     "metadata": {},
     "output_type": "execute_result"
    }
   ],
   "source": [
    "# List of all foods\n",
    "foods = food_df[\"Foods\"].to_list()\n",
    "\n",
    "# A dictionary of the costs of each type of the food\n",
    "food_costs = dict(zip(food_df[\"Foods\"], food_df[\"Price/ Serving\"]))\n",
    "\n",
    "# List of all Nutrients\n",
    "nutrients = const_df[\"Nutrient\"].to_list()\n",
    "# Create a dictionary for Min value per nutrient\n",
    "min_nutrients = dict(zip(const_df[\"Nutrient\"], const_df[\"Min\"]))\n",
    "# Create a dictionary for Max value per nutrient\n",
    "max_nutrients = dict(zip(const_df[\"Nutrient\"], const_df[\"Max\"]))\n",
    "\n",
    "# Create Food Nutrient Dictionary of Dictionaries\n",
    "food_nutrient_dict = food_df.set_index(\"Foods\").iloc[:,2:].to_dict()\n",
    "# Example of result dict\n",
    "food_nutrient_dict[\"Calories\"][\"Frozen Broccoli\"]"
   ]
  },
  {
   "cell_type": "markdown",
   "id": "f40be9ba",
   "metadata": {},
   "source": [
    "Initialize the model"
   ]
  },
  {
   "cell_type": "code",
   "execution_count": 5,
   "id": "abafbd47",
   "metadata": {},
   "outputs": [],
   "source": [
    "# Create the 'problem1' variable to contain the problem data\n",
    "problem1 = LpProblem(\"The_Diet_Problem_P1\", LpMinimize)"
   ]
  },
  {
   "cell_type": "markdown",
   "id": "73d09f18",
   "metadata": {},
   "source": [
    "Create the Variables"
   ]
  },
  {
   "cell_type": "code",
   "execution_count": 6,
   "id": "1fa19e02",
   "metadata": {},
   "outputs": [],
   "source": [
    "# A dictionary called 'food_vars' is created to contain the referenced Variables with a minimum of 0 for each variable\n",
    "food_vars = LpVariable.dicts(\"item\", foods, lowBound=0)"
   ]
  },
  {
   "cell_type": "markdown",
   "id": "f07a7176",
   "metadata": {},
   "source": [
    "Define the Objective function"
   ]
  },
  {
   "cell_type": "code",
   "execution_count": 7,
   "id": "17714722",
   "metadata": {},
   "outputs": [],
   "source": [
    "problem1 += (lpSum([food_costs[i] * food_vars[i] for i in foods]), \"Total Cost of Foods\",)"
   ]
  },
  {
   "cell_type": "markdown",
   "id": "bfb0eb4a",
   "metadata": {},
   "source": [
    "Define the Constraints"
   ]
  },
  {
   "cell_type": "code",
   "execution_count": 8,
   "id": "e96e0293",
   "metadata": {},
   "outputs": [],
   "source": [
    "for nutrient in nutrients:\n",
    "    # Define Min Constraint\n",
    "    problem1 += (lpSum([food_nutrient_dict[nutrient][i] * food_vars[i] for i in foods]) >= min_nutrients[nutrient], \n",
    "                 nutrient+\"_min\",)\n",
    "    # Define Max Constraint\n",
    "    problem1 += (lpSum([food_nutrient_dict[nutrient][i] * food_vars[i] for i in foods]) <= max_nutrients[nutrient], \n",
    "                 nutrient+\"_max\",)"
   ]
  },
  {
   "cell_type": "markdown",
   "id": "ceab1bc3",
   "metadata": {},
   "source": [
    "<p><p style=\"page-break-after:always;\"></p></p>"
   ]
  },
  {
   "cell_type": "markdown",
   "id": "ecce557c",
   "metadata": {},
   "source": [
    "Run the Model"
   ]
  },
  {
   "cell_type": "code",
   "execution_count": 9,
   "id": "3e6f2e05",
   "metadata": {},
   "outputs": [
    {
     "name": "stdout",
     "output_type": "stream",
     "text": [
      "Status: Optimal\n"
     ]
    }
   ],
   "source": [
    "problem1.solve()\n",
    "# The status of the solution is printed to the screen\n",
    "print(\"Status:\", LpStatus[problem1.status])"
   ]
  },
  {
   "cell_type": "code",
   "execution_count": 10,
   "id": "5a105b8b",
   "metadata": {},
   "outputs": [
    {
     "name": "stdout",
     "output_type": "stream",
     "text": [
      "item_Celery,_Raw = 52.643689\n",
      "item_Frozen_Broccoli = 0.25963403\n",
      "item_Lettuce,Iceberg,Raw = 63.987845\n",
      "item_Oranges = 2.2928841\n",
      "item_Poached_Eggs = 0.14184397\n",
      "item_Popcorn,Air_Popped = 13.869357\n"
     ]
    }
   ],
   "source": [
    "# Each of the variables is printed with it's resolved optimum value\n",
    "for var in problem1.variables():\n",
    "    # Filter out the 0 variables\n",
    "    if var.varValue != 0:\n",
    "        print(var.name, \"=\", var.varValue)"
   ]
  },
  {
   "cell_type": "code",
   "execution_count": 11,
   "id": "21b59dc4",
   "metadata": {},
   "outputs": [
    {
     "name": "stdout",
     "output_type": "stream",
     "text": [
      "Total Cost of Diet per person =  4.3371003174\n"
     ]
    }
   ],
   "source": [
    "print(\"Total Cost of Diet per person = \", value(problem1.objective))"
   ]
  },
  {
   "cell_type": "markdown",
   "id": "55d94ff9",
   "metadata": {},
   "source": [
    "As a result, The optimal solution is a diet of air-popped popcorn, poached eggs, oranges, raw iceberg lettuce, raw celery, and frozen broccoli."
   ]
  },
  {
   "cell_type": "markdown",
   "id": "9e3c1aee",
   "metadata": {},
   "source": [
    "<p><p style=\"page-break-after:always;\"></p></p>"
   ]
  },
  {
   "cell_type": "markdown",
   "id": "868a52b5",
   "metadata": {},
   "source": [
    "<b> Solution Part 2 </b> <br>\n",
    "\n",
    "2. Please add to your model the following constraints (which might require adding more variables) and solve the new model:\n",
    "    1. If a food is selected, then a minimum of 1/10 serving must be chosen. (Hint: now you will need two variables for each food i: whether it is chosen, and how much is part of the diet. You’ll also need to write a constraint to link them.)\n",
    "    2. Many people dislike celery and frozen broccoli. So at most one, but not both, can be selected. \n",
    "    3. To get day-to-day variety in protein, at least 3 kinds of meat/poultry/fish/eggs must be selected. If something is ambiguous (e.g., should bean-and-bacon soup be considered meat?), just call it whatever you think is appropriate – I want you to learn how to write thistype of constraint, but I don’t really care whether we agree on how to classify foods!"
   ]
  },
  {
   "cell_type": "code",
   "execution_count": 12,
   "id": "ca0c1245",
   "metadata": {},
   "outputs": [],
   "source": [
    "# Copy Initial model with it's assumptions\n",
    "problem2 = problem1.copy()"
   ]
  },
  {
   "cell_type": "markdown",
   "id": "99b3bc61",
   "metadata": {},
   "source": [
    "Part A"
   ]
  },
  {
   "cell_type": "code",
   "execution_count": 13,
   "id": "de0866d6",
   "metadata": {},
   "outputs": [],
   "source": [
    "# Create a binary variable to store whether a food was selected\n",
    "food_selection_vars = LpVariable.dicts(\"Selected\", foods, cat = \"Binary\")\n",
    "# Add Constraints that if the food is selected then the minimum is 0.1 serving\n",
    "for a_food in foods:\n",
    "    problem2 += (food_vars[a_food]>= food_selection_vars[a_food]*0.1, \n",
    "                 a_food+\"_presence\",)\n",
    "    problem2 += (food_vars[a_food]<= food_selection_vars[a_food]*100000, \n",
    "                 a_food+\"_limit\",)"
   ]
  },
  {
   "cell_type": "markdown",
   "id": "181c7b76",
   "metadata": {},
   "source": [
    "Part B"
   ]
  },
  {
   "cell_type": "code",
   "execution_count": 14,
   "id": "c28ee973",
   "metadata": {},
   "outputs": [],
   "source": [
    "problem2 += (food_selection_vars[\"Celery, Raw\"]+food_selection_vars[\"Frozen Broccoli\"] <= 1, \n",
    "            \"celery and frozen broccoli Choice\",)"
   ]
  },
  {
   "cell_type": "markdown",
   "id": "27bf6b6a",
   "metadata": {},
   "source": [
    "Part C"
   ]
  },
  {
   "cell_type": "code",
   "execution_count": 15,
   "id": "66bb48df",
   "metadata": {},
   "outputs": [],
   "source": [
    "problem2 += (food_selection_vars['Roasted Chicken'] + food_selection_vars['Poached Eggs']   \n",
    "             + food_selection_vars['Scrambled Eggs'] + food_selection_vars['Bologna,Turkey'] \n",
    "             + food_selection_vars['Frankfurter, Beef'] + food_selection_vars['Ham,Sliced,Extralean']\n",
    "             + food_selection_vars['Kielbasa,Prk'] + food_selection_vars['Pizza W/Pepperoni']\n",
    "             + food_selection_vars['Hamburger W/Toppings'] + food_selection_vars['Hotdog, Plain']\n",
    "             + food_selection_vars['Pork'] + food_selection_vars['Sardines in Oil']\n",
    "             + food_selection_vars['White Tuna in Water'] )>=3, \"\""
   ]
  },
  {
   "cell_type": "markdown",
   "id": "de079594",
   "metadata": {},
   "source": [
    "<p><p style=\"page-break-after:always;\"></p></p>"
   ]
  },
  {
   "cell_type": "markdown",
   "id": "a4db72cd",
   "metadata": {},
   "source": [
    "Run The Model"
   ]
  },
  {
   "cell_type": "code",
   "execution_count": 16,
   "id": "5c2587cc",
   "metadata": {},
   "outputs": [
    {
     "name": "stdout",
     "output_type": "stream",
     "text": [
      "Status: Optimal\n"
     ]
    }
   ],
   "source": [
    "problem2.solve()\n",
    "# The status of the solution is printed to the screen\n",
    "print(\"Status:\", LpStatus[problem2.status])"
   ]
  },
  {
   "cell_type": "code",
   "execution_count": 17,
   "id": "c0bf4f83",
   "metadata": {},
   "outputs": [
    {
     "name": "stdout",
     "output_type": "stream",
     "text": [
      "item_Celery,_Raw = 42.399358\n",
      "item_Kielbasa,Prk = 0.1\n",
      "item_Lettuce,Iceberg,Raw = 82.802586\n",
      "item_Oranges = 3.0771841\n",
      "item_Peanut_Butter = 1.9429716\n",
      "item_Poached_Eggs = 0.1\n",
      "item_Popcorn,Air_Popped = 13.223294\n",
      "item_Scrambled_Eggs = 0.1\n"
     ]
    }
   ],
   "source": [
    "# Each of the variables is printed with it's resolved optimum value\n",
    "for var in problem2.variables():\n",
    "    # Filter out the 0 variables\n",
    "    if var.varValue != 0 and \"Select\" not in var.name:\n",
    "        print(var.name, \"=\", var.varValue)"
   ]
  },
  {
   "cell_type": "code",
   "execution_count": 18,
   "id": "4729f4b6",
   "metadata": {},
   "outputs": [
    {
     "name": "stdout",
     "output_type": "stream",
     "text": [
      "Total Cost of Diet per person =  4.512543427000001\n"
     ]
    }
   ],
   "source": [
    "print(\"Total Cost of Diet per person = \", value(problem2.objective))"
   ]
  },
  {
   "cell_type": "markdown",
   "id": "40f71939",
   "metadata": {},
   "source": [
    "Summary: <br>\n",
    "1. Minimum is 0.1 per serving\n",
    "2. Only Celeray was selected (No Broccoli)\n",
    "3. 3 types of Protein were selected (Kielbasa,Prk & Poached_Eggs & Scrambled_Eggs)\n",
    "\n",
    "More conditions lead to more expensive meal compared to part 1"
   ]
  },
  {
   "cell_type": "markdown",
   "id": "e5f8ca80",
   "metadata": {},
   "source": [
    "<p><p style=\"page-break-after:always;\"></p></p>"
   ]
  },
  {
   "cell_type": "markdown",
   "id": "cc1176a3",
   "metadata": {},
   "source": [
    "<b> Additional Problem </b>\n",
    "\n",
    "If you want to see what a more full-sized problem would look like, try solving your models for the file diet_large.xls, which is a low-cholesterol diet model (rather than minimizing cost, the goal is to minimize cholesterol intake). I don’t know anyone who’d want to eat this diet – the optimal solution includes dried chrysanthemum garland, raw beluga whale flipper, freeze-dried parsley, etc. – which shows why it’s  necessary to add additional constraints beyond the basic ones we saw in the video! <br> Note: there are many optimal solutions, all with zero cholesterol, so you might get a different one. It probably won’t be much more appetizing than mine."
   ]
  },
  {
   "cell_type": "code",
   "execution_count": 19,
   "id": "6393927b",
   "metadata": {},
   "outputs": [
    {
     "data": {
      "text/html": [
       "<div>\n",
       "<style scoped>\n",
       "    .dataframe tbody tr th:only-of-type {\n",
       "        vertical-align: middle;\n",
       "    }\n",
       "\n",
       "    .dataframe tbody tr th {\n",
       "        vertical-align: top;\n",
       "    }\n",
       "\n",
       "    .dataframe thead th {\n",
       "        text-align: right;\n",
       "    }\n",
       "</style>\n",
       "<table border=\"1\" class=\"dataframe\">\n",
       "  <thead>\n",
       "    <tr style=\"text-align: right;\">\n",
       "      <th></th>\n",
       "      <th>Nutrient</th>\n",
       "      <th>Min</th>\n",
       "      <th>Max</th>\n",
       "    </tr>\n",
       "  </thead>\n",
       "  <tbody>\n",
       "    <tr>\n",
       "      <th>0</th>\n",
       "      <td>Protein</td>\n",
       "      <td>56.0</td>\n",
       "      <td>1000000</td>\n",
       "    </tr>\n",
       "    <tr>\n",
       "      <th>1</th>\n",
       "      <td>Carbohydrate</td>\n",
       "      <td>130.0</td>\n",
       "      <td>1000000</td>\n",
       "    </tr>\n",
       "    <tr>\n",
       "      <th>2</th>\n",
       "      <td>Energy</td>\n",
       "      <td>2400.0</td>\n",
       "      <td>1000000</td>\n",
       "    </tr>\n",
       "    <tr>\n",
       "      <th>3</th>\n",
       "      <td>Water</td>\n",
       "      <td>3700.0</td>\n",
       "      <td>1000000</td>\n",
       "    </tr>\n",
       "    <tr>\n",
       "      <th>4</th>\n",
       "      <td>Calcium</td>\n",
       "      <td>1000.0</td>\n",
       "      <td>2500</td>\n",
       "    </tr>\n",
       "  </tbody>\n",
       "</table>\n",
       "</div>"
      ],
      "text/plain": [
       "       Nutrient     Min      Max\n",
       "0       Protein    56.0  1000000\n",
       "1  Carbohydrate   130.0  1000000\n",
       "2        Energy  2400.0  1000000\n",
       "3         Water  3700.0  1000000\n",
       "4       Calcium  1000.0     2500"
      ]
     },
     "execution_count": 19,
     "metadata": {},
     "output_type": "execute_result"
    }
   ],
   "source": [
    "# Read Created Contraints file (Note Removed duplicated energy column)\n",
    "const_large_df = pd.read_csv(\"diet_large_constraints.csv\")\n",
    "# Display Constraints df\n",
    "const_large_df.head()"
   ]
  },
  {
   "cell_type": "code",
   "execution_count": 20,
   "id": "ec6c38ee",
   "metadata": {},
   "outputs": [
    {
     "data": {
      "text/html": [
       "<div>\n",
       "<style scoped>\n",
       "    .dataframe tbody tr th:only-of-type {\n",
       "        vertical-align: middle;\n",
       "    }\n",
       "\n",
       "    .dataframe tbody tr th {\n",
       "        vertical-align: top;\n",
       "    }\n",
       "\n",
       "    .dataframe thead th {\n",
       "        text-align: right;\n",
       "    }\n",
       "</style>\n",
       "<table border=\"1\" class=\"dataframe\">\n",
       "  <thead>\n",
       "    <tr style=\"text-align: right;\">\n",
       "      <th></th>\n",
       "      <th>Foods</th>\n",
       "      <th>Protein</th>\n",
       "      <th>Carbohydrate</th>\n",
       "      <th>Energy</th>\n",
       "      <th>Water</th>\n",
       "      <th>Calcium</th>\n",
       "      <th>Iron</th>\n",
       "      <th>Magnesium</th>\n",
       "      <th>Phosphorus</th>\n",
       "      <th>Potassium</th>\n",
       "      <th>...</th>\n",
       "      <th>Vitamin_C</th>\n",
       "      <th>Thiamin</th>\n",
       "      <th>Riboflavin</th>\n",
       "      <th>Niacin</th>\n",
       "      <th>Pantothenic_acid</th>\n",
       "      <th>Vitamin_B6</th>\n",
       "      <th>Folate_total</th>\n",
       "      <th>Vitamin_B12</th>\n",
       "      <th>Vitamin_K</th>\n",
       "      <th>Cholesterol</th>\n",
       "    </tr>\n",
       "  </thead>\n",
       "  <tbody>\n",
       "    <tr>\n",
       "      <th>0</th>\n",
       "      <td>Butter, salted</td>\n",
       "      <td>0.85</td>\n",
       "      <td>0.06</td>\n",
       "      <td>717</td>\n",
       "      <td>15.87</td>\n",
       "      <td>24.0</td>\n",
       "      <td>0.02</td>\n",
       "      <td>2.0</td>\n",
       "      <td>24.0</td>\n",
       "      <td>24.0</td>\n",
       "      <td>...</td>\n",
       "      <td>0.0</td>\n",
       "      <td>0.005</td>\n",
       "      <td>0.034</td>\n",
       "      <td>0.042</td>\n",
       "      <td>0.110</td>\n",
       "      <td>0.003</td>\n",
       "      <td>3.0</td>\n",
       "      <td>0.17</td>\n",
       "      <td>7.0</td>\n",
       "      <td>215.0</td>\n",
       "    </tr>\n",
       "    <tr>\n",
       "      <th>1</th>\n",
       "      <td>Butter, whipped, with salt</td>\n",
       "      <td>0.85</td>\n",
       "      <td>0.06</td>\n",
       "      <td>717</td>\n",
       "      <td>15.87</td>\n",
       "      <td>24.0</td>\n",
       "      <td>0.16</td>\n",
       "      <td>2.0</td>\n",
       "      <td>23.0</td>\n",
       "      <td>26.0</td>\n",
       "      <td>...</td>\n",
       "      <td>0.0</td>\n",
       "      <td>0.005</td>\n",
       "      <td>0.034</td>\n",
       "      <td>0.042</td>\n",
       "      <td>0.110</td>\n",
       "      <td>0.003</td>\n",
       "      <td>3.0</td>\n",
       "      <td>0.13</td>\n",
       "      <td>7.0</td>\n",
       "      <td>219.0</td>\n",
       "    </tr>\n",
       "    <tr>\n",
       "      <th>2</th>\n",
       "      <td>Butter oil, anhydrous</td>\n",
       "      <td>0.28</td>\n",
       "      <td>0.00</td>\n",
       "      <td>876</td>\n",
       "      <td>0.24</td>\n",
       "      <td>4.0</td>\n",
       "      <td>0.00</td>\n",
       "      <td>0.0</td>\n",
       "      <td>3.0</td>\n",
       "      <td>5.0</td>\n",
       "      <td>...</td>\n",
       "      <td>0.0</td>\n",
       "      <td>0.001</td>\n",
       "      <td>0.005</td>\n",
       "      <td>0.003</td>\n",
       "      <td>0.010</td>\n",
       "      <td>0.001</td>\n",
       "      <td>0.0</td>\n",
       "      <td>0.01</td>\n",
       "      <td>8.6</td>\n",
       "      <td>256.0</td>\n",
       "    </tr>\n",
       "    <tr>\n",
       "      <th>3</th>\n",
       "      <td>Cheese, blue</td>\n",
       "      <td>21.40</td>\n",
       "      <td>2.34</td>\n",
       "      <td>353</td>\n",
       "      <td>42.41</td>\n",
       "      <td>528.0</td>\n",
       "      <td>0.31</td>\n",
       "      <td>23.0</td>\n",
       "      <td>387.0</td>\n",
       "      <td>256.0</td>\n",
       "      <td>...</td>\n",
       "      <td>0.0</td>\n",
       "      <td>0.029</td>\n",
       "      <td>0.382</td>\n",
       "      <td>1.016</td>\n",
       "      <td>1.729</td>\n",
       "      <td>0.166</td>\n",
       "      <td>36.0</td>\n",
       "      <td>1.22</td>\n",
       "      <td>2.4</td>\n",
       "      <td>75.0</td>\n",
       "    </tr>\n",
       "    <tr>\n",
       "      <th>4</th>\n",
       "      <td>Cheese, brick</td>\n",
       "      <td>23.24</td>\n",
       "      <td>2.79</td>\n",
       "      <td>371</td>\n",
       "      <td>41.11</td>\n",
       "      <td>674.0</td>\n",
       "      <td>0.43</td>\n",
       "      <td>24.0</td>\n",
       "      <td>451.0</td>\n",
       "      <td>136.0</td>\n",
       "      <td>...</td>\n",
       "      <td>0.0</td>\n",
       "      <td>0.014</td>\n",
       "      <td>0.351</td>\n",
       "      <td>0.118</td>\n",
       "      <td>0.288</td>\n",
       "      <td>0.065</td>\n",
       "      <td>20.0</td>\n",
       "      <td>1.26</td>\n",
       "      <td>2.5</td>\n",
       "      <td>94.0</td>\n",
       "    </tr>\n",
       "  </tbody>\n",
       "</table>\n",
       "<p>5 rows × 28 columns</p>\n",
       "</div>"
      ],
      "text/plain": [
       "                        Foods  Protein  Carbohydrate  Energy  Water  Calcium  \\\n",
       "0              Butter, salted     0.85          0.06     717  15.87     24.0   \n",
       "1  Butter, whipped, with salt     0.85          0.06     717  15.87     24.0   \n",
       "2       Butter oil, anhydrous     0.28          0.00     876   0.24      4.0   \n",
       "3                Cheese, blue    21.40          2.34     353  42.41    528.0   \n",
       "4               Cheese, brick    23.24          2.79     371  41.11    674.0   \n",
       "\n",
       "   Iron  Magnesium  Phosphorus  Potassium  ...  Vitamin_C  Thiamin  \\\n",
       "0  0.02        2.0        24.0       24.0  ...        0.0    0.005   \n",
       "1  0.16        2.0        23.0       26.0  ...        0.0    0.005   \n",
       "2  0.00        0.0         3.0        5.0  ...        0.0    0.001   \n",
       "3  0.31       23.0       387.0      256.0  ...        0.0    0.029   \n",
       "4  0.43       24.0       451.0      136.0  ...        0.0    0.014   \n",
       "\n",
       "   Riboflavin  Niacin  Pantothenic_acid  Vitamin_B6  Folate_total  \\\n",
       "0       0.034   0.042             0.110       0.003           3.0   \n",
       "1       0.034   0.042             0.110       0.003           3.0   \n",
       "2       0.005   0.003             0.010       0.001           0.0   \n",
       "3       0.382   1.016             1.729       0.166          36.0   \n",
       "4       0.351   0.118             0.288       0.065          20.0   \n",
       "\n",
       "   Vitamin_B12  Vitamin_K  Cholesterol  \n",
       "0         0.17        7.0        215.0  \n",
       "1         0.13        7.0        219.0  \n",
       "2         0.01        8.6        256.0  \n",
       "3         1.22        2.4         75.0  \n",
       "4         1.26        2.5         94.0  \n",
       "\n",
       "[5 rows x 28 columns]"
      ]
     },
     "execution_count": 20,
     "metadata": {},
     "output_type": "execute_result"
    }
   ],
   "source": [
    "# Read Created Foods file\n",
    "food_large_df = pd.read_csv(\"diet_large_foods.csv\")\n",
    "# replace missing with 0 \n",
    "food_large_df.fillna(0, inplace=True)\n",
    "# Drop Fatty Acids columns\n",
    "food_large_df = food_large_df.iloc[:,:-2]\n",
    "# Display Constraints df\n",
    "food_large_df.head()"
   ]
  },
  {
   "cell_type": "markdown",
   "id": "66c57f4c",
   "metadata": {},
   "source": [
    "<p><p style=\"page-break-after:always;\"></p></p>"
   ]
  },
  {
   "cell_type": "markdown",
   "id": "87e6b622",
   "metadata": {},
   "source": [
    "Preparing Data"
   ]
  },
  {
   "cell_type": "code",
   "execution_count": 21,
   "id": "e00a3ef1",
   "metadata": {
    "scrolled": true
   },
   "outputs": [
    {
     "data": {
      "text/plain": [
       "0.85"
      ]
     },
     "execution_count": 21,
     "metadata": {},
     "output_type": "execute_result"
    }
   ],
   "source": [
    "# List of all foods\n",
    "foods = food_large_df[\"Foods\"].to_list()\n",
    "\n",
    "# A dictionary of the costs of each type of the food\n",
    "food_Cholesterol = dict(zip(food_large_df[\"Foods\"], food_large_df[\"Cholesterol\"]))\n",
    "\n",
    "# List of all Nutrients\n",
    "nutrients = const_large_df[\"Nutrient\"].to_list()\n",
    "# Create a dictionary for Min value per nutrient\n",
    "min_nutrients = dict(zip(const_large_df[\"Nutrient\"], const_large_df[\"Min\"]))\n",
    "# Create a dictionary for Max value per nutrient\n",
    "max_nutrients = dict(zip(const_large_df[\"Nutrient\"], const_large_df[\"Max\"]))\n",
    "\n",
    "# Create Food Nutrient Dictionary of Dictionaries\n",
    "food_nutrient_dict = food_large_df.set_index(\"Foods\").iloc[:,:-1].to_dict()\n",
    "# Example of result dict\n",
    "food_nutrient_dict[\"Protein\"][\"Butter, salted\"]"
   ]
  },
  {
   "cell_type": "markdown",
   "id": "ec60e613",
   "metadata": {},
   "source": [
    "Initialize the Model"
   ]
  },
  {
   "cell_type": "code",
   "execution_count": 22,
   "id": "0dea51d6",
   "metadata": {},
   "outputs": [],
   "source": [
    "# Create the 'problem1' variable to contain the problem data\n",
    "problem_large = LpProblem(\"The_large_diet_problem\", LpMinimize)"
   ]
  },
  {
   "cell_type": "markdown",
   "id": "cfe2b381",
   "metadata": {},
   "source": [
    "Add the Variables"
   ]
  },
  {
   "cell_type": "code",
   "execution_count": 23,
   "id": "de58edba",
   "metadata": {},
   "outputs": [],
   "source": [
    "# A dictionary called 'food_vars' is created to contain the referenced Variables with a minimum of 0 for each variable\n",
    "food_vars = LpVariable.dicts(\"item\", foods, lowBound=0)"
   ]
  },
  {
   "cell_type": "markdown",
   "id": "e62a387d",
   "metadata": {},
   "source": [
    "Define the Objective Function"
   ]
  },
  {
   "cell_type": "code",
   "execution_count": 24,
   "id": "853af972",
   "metadata": {},
   "outputs": [],
   "source": [
    "problem_large += (lpSum([food_Cholesterol[i] * food_vars[i] for i in foods]), \"Total Cholesterol of Foods\",)"
   ]
  },
  {
   "cell_type": "markdown",
   "id": "4426e369",
   "metadata": {},
   "source": [
    "Define the Constraints"
   ]
  },
  {
   "cell_type": "code",
   "execution_count": 25,
   "id": "fed765d9",
   "metadata": {},
   "outputs": [],
   "source": [
    "for nutrient in nutrients:\n",
    "    # Define Min Constraint\n",
    "    problem_large += (lpSum([food_nutrient_dict[nutrient][i] * food_vars[i] for i in foods]) >= min_nutrients[nutrient], \n",
    "                 nutrient+\"_large_min\",)\n",
    "    # Define Max Constraint\n",
    "    problem_large += (lpSum([food_nutrient_dict[nutrient][i] * food_vars[i] for i in foods]) <= max_nutrients[nutrient], \n",
    "                 nutrient+\"_large_max\",)"
   ]
  },
  {
   "cell_type": "markdown",
   "id": "e5be7425",
   "metadata": {},
   "source": [
    "<p><p style=\"page-break-after:always;\"></p></p>"
   ]
  },
  {
   "cell_type": "markdown",
   "id": "22c02c46",
   "metadata": {},
   "source": [
    "Run the Model"
   ]
  },
  {
   "cell_type": "code",
   "execution_count": 26,
   "id": "8ef4d3f2",
   "metadata": {},
   "outputs": [
    {
     "name": "stdout",
     "output_type": "stream",
     "text": [
      "Status: Optimal\n"
     ]
    }
   ],
   "source": [
    "problem_large.solve()\n",
    "# The status of the solution is printed to the screen\n",
    "print(\"Status:\", LpStatus[problem_large.status])"
   ]
  },
  {
   "cell_type": "code",
   "execution_count": 27,
   "id": "7a88ba6c",
   "metadata": {},
   "outputs": [
    {
     "name": "stdout",
     "output_type": "stream",
     "text": [
      "item_Infant_formula,_MEAD_JOHNSON,_ENFAMIL,_NUTRAMIGEN,_with_iron,_p = 0.8\n",
      "item_Infant_formula,_NESTLE,_GOOD_START_ESSENTIALS__SOY,__with_iron, = 0.026559039\n",
      "item_Mung_beans,_mature_seeds,_raw = 0.097250444\n",
      "item_Nuts,_almonds,_oil_roasted,_with_salt_added = 0.085543597\n",
      "item_Oil,_vegetable,_sheanut = 1129.4851\n",
      "item_Peppers,_hot_chile,_sun_dried = 0.46214551\n",
      "item_Radishes,_oriental,_dried = 0.057356542\n",
      "item_Snacks,_potato_chips,_plain,_salted = 0.78948828\n",
      "item_Soup,_clam_chowder,_manhattan_style,_dehydrated,_dry = 0.050789628\n",
      "item_Soybeans,_mature_seeds,_raw = 0.19034869\n",
      "item_Soybeans,_mature_seeds,_roasted,_no_salt_added = 0.31430039\n",
      "item_Spices,_mustard_seed,_yellow = 0.10993031\n",
      "item_Tofu,_fried,_prepared_with_calcium_sulfate = 0.32586109\n",
      "item_Tomatoes,_sun_dried = 0.21088097\n",
      "item_Water,_bottled,_non_carbonated,_CALISTOGA = 9999.6745\n"
     ]
    }
   ],
   "source": [
    "# Each of the variables is printed with it's resolved optimum value\n",
    "for var in problem_large.variables():\n",
    "    # Filter out the 0 variables\n",
    "    if var.varValue != 0:\n",
    "        print(var.name, \"=\", var.varValue)"
   ]
  },
  {
   "cell_type": "code",
   "execution_count": 28,
   "id": "3faa7591",
   "metadata": {},
   "outputs": [
    {
     "name": "stdout",
     "output_type": "stream",
     "text": [
      "Total Cholesterol of Diet per person =  0.0\n"
     ]
    }
   ],
   "source": [
    "print(\"Total Cholesterol of Diet per person = \", value(problem_large.objective))"
   ]
  },
  {
   "cell_type": "markdown",
   "id": "6f3fdc0c",
   "metadata": {},
   "source": [
    "The Optimization proposed 14 items. Although the objective is fulfilled, i.e. 0 Cholesterol intake, yet some items have been selected effectively twice e.g. Infant_formula. This shows the need for more constraints to optimize the model."
   ]
  }
 ],
 "metadata": {
  "kernelspec": {
   "display_name": "Python 3 (ipykernel)",
   "language": "python",
   "name": "python3"
  },
  "language_info": {
   "codemirror_mode": {
    "name": "ipython",
    "version": 3
   },
   "file_extension": ".py",
   "mimetype": "text/x-python",
   "name": "python",
   "nbconvert_exporter": "python",
   "pygments_lexer": "ipython3",
   "version": "3.9.7"
  }
 },
 "nbformat": 4,
 "nbformat_minor": 5
}
