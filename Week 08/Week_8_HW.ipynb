{
 "cells": [
  {
   "cell_type": "markdown",
   "id": "5e841e56",
   "metadata": {},
   "source": [
    "<h1> Week 8 Homework"
   ]
  },
  {
   "cell_type": "markdown",
   "id": "617a45e0",
   "metadata": {},
   "source": [
    "<h2>Question 11.1</h2>"
   ]
  },
  {
   "cell_type": "markdown",
   "id": "112f29d0",
   "metadata": {},
   "source": [
    "Using the crime data set uscrime.txt from Questions 8.2, 9.1, and 10.1, build a regression model using:\n",
    "1. Stepwise regression\n",
    "2. Lasso\n",
    "3. Elastic net\n",
    "\n",
    "For Parts 2 and 3, remember to scale the data first – otherwise, the regression coefficients will be on different scales and the constraint won’t have the desired effect. For Parts 2 and 3, use the glmnet function in R.\n",
    "\n",
    "Notes on R: <br>\n",
    "• For the elastic net model, what we called λ in the videos, glmnet calls “alpha”; you can get a range of results by varying alpha from 1 (lasso) to 0 (ridge regression) and, of course, other values of alpha in between.<br>\n",
    "• In a function call like glmnet(x,y,family=”mgaussian”,alpha=1) the predictors x need to be in R’s matrix format, rather than data frame format. You can convert a data frame to a matrix using as.matrix – for example, x <- as.matrix(data\\[,1:n-1\\]). Rather than specifying a value of T, glmnet returns models for a variety of values of T. "
   ]
  },
  {
   "cell_type": "code",
   "execution_count": 1,
   "id": "39a470e3",
   "metadata": {},
   "outputs": [
    {
     "data": {
      "text/html": [
       "<table class=\"dataframe\">\n",
       "<caption>A data.frame: 6 × 16</caption>\n",
       "<thead>\n",
       "\t<tr><th></th><th scope=col>M</th><th scope=col>So</th><th scope=col>Ed</th><th scope=col>Po1</th><th scope=col>Po2</th><th scope=col>LF</th><th scope=col>M.F</th><th scope=col>Pop</th><th scope=col>NW</th><th scope=col>U1</th><th scope=col>U2</th><th scope=col>Wealth</th><th scope=col>Ineq</th><th scope=col>Prob</th><th scope=col>Time</th><th scope=col>Crime</th></tr>\n",
       "\t<tr><th></th><th scope=col>&lt;dbl&gt;</th><th scope=col>&lt;int&gt;</th><th scope=col>&lt;dbl&gt;</th><th scope=col>&lt;dbl&gt;</th><th scope=col>&lt;dbl&gt;</th><th scope=col>&lt;dbl&gt;</th><th scope=col>&lt;dbl&gt;</th><th scope=col>&lt;int&gt;</th><th scope=col>&lt;dbl&gt;</th><th scope=col>&lt;dbl&gt;</th><th scope=col>&lt;dbl&gt;</th><th scope=col>&lt;int&gt;</th><th scope=col>&lt;dbl&gt;</th><th scope=col>&lt;dbl&gt;</th><th scope=col>&lt;dbl&gt;</th><th scope=col>&lt;int&gt;</th></tr>\n",
       "</thead>\n",
       "<tbody>\n",
       "\t<tr><th scope=row>1</th><td>15.1</td><td>1</td><td> 9.1</td><td> 5.8</td><td> 5.6</td><td>0.510</td><td> 95.0</td><td> 33</td><td>30.1</td><td>0.108</td><td>4.1</td><td>3940</td><td>26.1</td><td>0.084602</td><td>26.2011</td><td> 791</td></tr>\n",
       "\t<tr><th scope=row>2</th><td>14.3</td><td>0</td><td>11.3</td><td>10.3</td><td> 9.5</td><td>0.583</td><td>101.2</td><td> 13</td><td>10.2</td><td>0.096</td><td>3.6</td><td>5570</td><td>19.4</td><td>0.029599</td><td>25.2999</td><td>1635</td></tr>\n",
       "\t<tr><th scope=row>3</th><td>14.2</td><td>1</td><td> 8.9</td><td> 4.5</td><td> 4.4</td><td>0.533</td><td> 96.9</td><td> 18</td><td>21.9</td><td>0.094</td><td>3.3</td><td>3180</td><td>25.0</td><td>0.083401</td><td>24.3006</td><td> 578</td></tr>\n",
       "\t<tr><th scope=row>4</th><td>13.6</td><td>0</td><td>12.1</td><td>14.9</td><td>14.1</td><td>0.577</td><td> 99.4</td><td>157</td><td> 8.0</td><td>0.102</td><td>3.9</td><td>6730</td><td>16.7</td><td>0.015801</td><td>29.9012</td><td>1969</td></tr>\n",
       "\t<tr><th scope=row>5</th><td>14.1</td><td>0</td><td>12.1</td><td>10.9</td><td>10.1</td><td>0.591</td><td> 98.5</td><td> 18</td><td> 3.0</td><td>0.091</td><td>2.0</td><td>5780</td><td>17.4</td><td>0.041399</td><td>21.2998</td><td>1234</td></tr>\n",
       "\t<tr><th scope=row>6</th><td>12.1</td><td>0</td><td>11.0</td><td>11.8</td><td>11.5</td><td>0.547</td><td> 96.4</td><td> 25</td><td> 4.4</td><td>0.084</td><td>2.9</td><td>6890</td><td>12.6</td><td>0.034201</td><td>20.9995</td><td> 682</td></tr>\n",
       "</tbody>\n",
       "</table>\n"
      ],
      "text/latex": [
       "A data.frame: 6 × 16\n",
       "\\begin{tabular}{r|llllllllllllllll}\n",
       "  & M & So & Ed & Po1 & Po2 & LF & M.F & Pop & NW & U1 & U2 & Wealth & Ineq & Prob & Time & Crime\\\\\n",
       "  & <dbl> & <int> & <dbl> & <dbl> & <dbl> & <dbl> & <dbl> & <int> & <dbl> & <dbl> & <dbl> & <int> & <dbl> & <dbl> & <dbl> & <int>\\\\\n",
       "\\hline\n",
       "\t1 & 15.1 & 1 &  9.1 &  5.8 &  5.6 & 0.510 &  95.0 &  33 & 30.1 & 0.108 & 4.1 & 3940 & 26.1 & 0.084602 & 26.2011 &  791\\\\\n",
       "\t2 & 14.3 & 0 & 11.3 & 10.3 &  9.5 & 0.583 & 101.2 &  13 & 10.2 & 0.096 & 3.6 & 5570 & 19.4 & 0.029599 & 25.2999 & 1635\\\\\n",
       "\t3 & 14.2 & 1 &  8.9 &  4.5 &  4.4 & 0.533 &  96.9 &  18 & 21.9 & 0.094 & 3.3 & 3180 & 25.0 & 0.083401 & 24.3006 &  578\\\\\n",
       "\t4 & 13.6 & 0 & 12.1 & 14.9 & 14.1 & 0.577 &  99.4 & 157 &  8.0 & 0.102 & 3.9 & 6730 & 16.7 & 0.015801 & 29.9012 & 1969\\\\\n",
       "\t5 & 14.1 & 0 & 12.1 & 10.9 & 10.1 & 0.591 &  98.5 &  18 &  3.0 & 0.091 & 2.0 & 5780 & 17.4 & 0.041399 & 21.2998 & 1234\\\\\n",
       "\t6 & 12.1 & 0 & 11.0 & 11.8 & 11.5 & 0.547 &  96.4 &  25 &  4.4 & 0.084 & 2.9 & 6890 & 12.6 & 0.034201 & 20.9995 &  682\\\\\n",
       "\\end{tabular}\n"
      ],
      "text/markdown": [
       "\n",
       "A data.frame: 6 × 16\n",
       "\n",
       "| <!--/--> | M &lt;dbl&gt; | So &lt;int&gt; | Ed &lt;dbl&gt; | Po1 &lt;dbl&gt; | Po2 &lt;dbl&gt; | LF &lt;dbl&gt; | M.F &lt;dbl&gt; | Pop &lt;int&gt; | NW &lt;dbl&gt; | U1 &lt;dbl&gt; | U2 &lt;dbl&gt; | Wealth &lt;int&gt; | Ineq &lt;dbl&gt; | Prob &lt;dbl&gt; | Time &lt;dbl&gt; | Crime &lt;int&gt; |\n",
       "|---|---|---|---|---|---|---|---|---|---|---|---|---|---|---|---|---|\n",
       "| 1 | 15.1 | 1 |  9.1 |  5.8 |  5.6 | 0.510 |  95.0 |  33 | 30.1 | 0.108 | 4.1 | 3940 | 26.1 | 0.084602 | 26.2011 |  791 |\n",
       "| 2 | 14.3 | 0 | 11.3 | 10.3 |  9.5 | 0.583 | 101.2 |  13 | 10.2 | 0.096 | 3.6 | 5570 | 19.4 | 0.029599 | 25.2999 | 1635 |\n",
       "| 3 | 14.2 | 1 |  8.9 |  4.5 |  4.4 | 0.533 |  96.9 |  18 | 21.9 | 0.094 | 3.3 | 3180 | 25.0 | 0.083401 | 24.3006 |  578 |\n",
       "| 4 | 13.6 | 0 | 12.1 | 14.9 | 14.1 | 0.577 |  99.4 | 157 |  8.0 | 0.102 | 3.9 | 6730 | 16.7 | 0.015801 | 29.9012 | 1969 |\n",
       "| 5 | 14.1 | 0 | 12.1 | 10.9 | 10.1 | 0.591 |  98.5 |  18 |  3.0 | 0.091 | 2.0 | 5780 | 17.4 | 0.041399 | 21.2998 | 1234 |\n",
       "| 6 | 12.1 | 0 | 11.0 | 11.8 | 11.5 | 0.547 |  96.4 |  25 |  4.4 | 0.084 | 2.9 | 6890 | 12.6 | 0.034201 | 20.9995 |  682 |\n",
       "\n"
      ],
      "text/plain": [
       "  M    So Ed   Po1  Po2  LF    M.F   Pop NW   U1    U2  Wealth Ineq Prob    \n",
       "1 15.1 1   9.1  5.8  5.6 0.510  95.0  33 30.1 0.108 4.1 3940   26.1 0.084602\n",
       "2 14.3 0  11.3 10.3  9.5 0.583 101.2  13 10.2 0.096 3.6 5570   19.4 0.029599\n",
       "3 14.2 1   8.9  4.5  4.4 0.533  96.9  18 21.9 0.094 3.3 3180   25.0 0.083401\n",
       "4 13.6 0  12.1 14.9 14.1 0.577  99.4 157  8.0 0.102 3.9 6730   16.7 0.015801\n",
       "5 14.1 0  12.1 10.9 10.1 0.591  98.5  18  3.0 0.091 2.0 5780   17.4 0.041399\n",
       "6 12.1 0  11.0 11.8 11.5 0.547  96.4  25  4.4 0.084 2.9 6890   12.6 0.034201\n",
       "  Time    Crime\n",
       "1 26.2011  791 \n",
       "2 25.2999 1635 \n",
       "3 24.3006  578 \n",
       "4 29.9012 1969 \n",
       "5 21.2998 1234 \n",
       "6 20.9995  682 "
      ]
     },
     "metadata": {},
     "output_type": "display_data"
    },
    {
     "name": "stdout",
     "output_type": "stream",
     "text": [
      "No. of cols: 16 \n",
      "No. of rows: 47"
     ]
    }
   ],
   "source": [
    "# loading the dataset\n",
    "# READ DATASET as DataFrame\n",
    "df <- read.table(\"uscrime.txt\", header = TRUE, sep = \"\\t\")\n",
    "# Display Data\n",
    "head(df)\n",
    "cat(\"No. of cols:\", ncol(df), \"\\n\")\n",
    "cat(\"No. of rows:\", nrow(df))"
   ]
  },
  {
   "cell_type": "markdown",
   "id": "db56727b",
   "metadata": {},
   "source": [
    "<p><p style=\"page-break-after:always;\"></p></p>"
   ]
  },
  {
   "cell_type": "markdown",
   "id": "7a1c738c",
   "metadata": {},
   "source": [
    "<b> Greedy Methods Analysis </b> <br>\n",
    "Stepwise Regression"
   ]
  },
  {
   "cell_type": "code",
   "execution_count": 2,
   "id": "257ae3f1",
   "metadata": {},
   "outputs": [
    {
     "data": {
      "text/plain": [
       "\n",
       "Call:\n",
       "lm(formula = Crime ~ M + Ed + Po1 + M.F + U1 + U2 + Ineq + Prob, \n",
       "    data = df)\n",
       "\n",
       "Residuals:\n",
       "    Min      1Q  Median      3Q     Max \n",
       "-444.70 -111.07    3.03  122.15  483.30 \n",
       "\n",
       "Coefficients:\n",
       "            Estimate Std. Error t value Pr(>|t|)    \n",
       "(Intercept) -6426.10    1194.61  -5.379 4.04e-06 ***\n",
       "M              93.32      33.50   2.786  0.00828 ** \n",
       "Ed            180.12      52.75   3.414  0.00153 ** \n",
       "Po1           102.65      15.52   6.613 8.26e-08 ***\n",
       "M.F            22.34      13.60   1.642  0.10874    \n",
       "U1          -6086.63    3339.27  -1.823  0.07622 .  \n",
       "U2            187.35      72.48   2.585  0.01371 *  \n",
       "Ineq           61.33      13.96   4.394 8.63e-05 ***\n",
       "Prob        -3796.03    1490.65  -2.547  0.01505 *  \n",
       "---\n",
       "Signif. codes:  0 '***' 0.001 '**' 0.01 '*' 0.05 '.' 0.1 ' ' 1\n",
       "\n",
       "Residual standard error: 195.5 on 38 degrees of freedom\n",
       "Multiple R-squared:  0.7888,\tAdjusted R-squared:  0.7444 \n",
       "F-statistic: 17.74 on 8 and 38 DF,  p-value: 1.159e-10\n"
      ]
     },
     "metadata": {},
     "output_type": "display_data"
    }
   ],
   "source": [
    "# Build Full model\n",
    "full.model <- lm(Crime ~., data = df)\n",
    "# Stepwise regression model\n",
    "step.model <- step(full.model, direction = \"both\", trace = FALSE)\n",
    "summary(step.model)"
   ]
  },
  {
   "cell_type": "markdown",
   "id": "41ffb720",
   "metadata": {},
   "source": [
    "<p><p style=\"page-break-after:always;\"></p></p>"
   ]
  },
  {
   "cell_type": "markdown",
   "id": "88bf77c4",
   "metadata": {},
   "source": [
    "Forward Selection"
   ]
  },
  {
   "cell_type": "code",
   "execution_count": 3,
   "id": "95d682c3",
   "metadata": {},
   "outputs": [
    {
     "data": {
      "text/plain": [
       "\n",
       "Call:\n",
       "lm(formula = Crime ~ M + Ed + Po1 + M.F + U1 + U2 + Ineq + Prob, \n",
       "    data = df)\n",
       "\n",
       "Residuals:\n",
       "    Min      1Q  Median      3Q     Max \n",
       "-444.70 -111.07    3.03  122.15  483.30 \n",
       "\n",
       "Coefficients:\n",
       "            Estimate Std. Error t value Pr(>|t|)    \n",
       "(Intercept) -6426.10    1194.61  -5.379 4.04e-06 ***\n",
       "M              93.32      33.50   2.786  0.00828 ** \n",
       "Ed            180.12      52.75   3.414  0.00153 ** \n",
       "Po1           102.65      15.52   6.613 8.26e-08 ***\n",
       "M.F            22.34      13.60   1.642  0.10874    \n",
       "U1          -6086.63    3339.27  -1.823  0.07622 .  \n",
       "U2            187.35      72.48   2.585  0.01371 *  \n",
       "Ineq           61.33      13.96   4.394 8.63e-05 ***\n",
       "Prob        -3796.03    1490.65  -2.547  0.01505 *  \n",
       "---\n",
       "Signif. codes:  0 '***' 0.001 '**' 0.01 '*' 0.05 '.' 0.1 ' ' 1\n",
       "\n",
       "Residual standard error: 195.5 on 38 degrees of freedom\n",
       "Multiple R-squared:  0.7888,\tAdjusted R-squared:  0.7444 \n",
       "F-statistic: 17.74 on 8 and 38 DF,  p-value: 1.159e-10\n"
      ]
     },
     "metadata": {},
     "output_type": "display_data"
    }
   ],
   "source": [
    "# Forward Selection regression model\n",
    "forward.model <- step(full.model, direction = \"both\", trace = FALSE)\n",
    "summary(forward.model)"
   ]
  },
  {
   "cell_type": "markdown",
   "id": "68434180",
   "metadata": {},
   "source": [
    "<p><p style=\"page-break-after:always;\"></p></p>"
   ]
  },
  {
   "cell_type": "markdown",
   "id": "ea362879",
   "metadata": {},
   "source": [
    "Backward Elimination"
   ]
  },
  {
   "cell_type": "code",
   "execution_count": 4,
   "id": "5936363c",
   "metadata": {},
   "outputs": [
    {
     "data": {
      "text/plain": [
       "\n",
       "Call:\n",
       "lm(formula = Crime ~ M + Ed + Po1 + M.F + U1 + U2 + Ineq + Prob, \n",
       "    data = df)\n",
       "\n",
       "Residuals:\n",
       "    Min      1Q  Median      3Q     Max \n",
       "-444.70 -111.07    3.03  122.15  483.30 \n",
       "\n",
       "Coefficients:\n",
       "            Estimate Std. Error t value Pr(>|t|)    \n",
       "(Intercept) -6426.10    1194.61  -5.379 4.04e-06 ***\n",
       "M              93.32      33.50   2.786  0.00828 ** \n",
       "Ed            180.12      52.75   3.414  0.00153 ** \n",
       "Po1           102.65      15.52   6.613 8.26e-08 ***\n",
       "M.F            22.34      13.60   1.642  0.10874    \n",
       "U1          -6086.63    3339.27  -1.823  0.07622 .  \n",
       "U2            187.35      72.48   2.585  0.01371 *  \n",
       "Ineq           61.33      13.96   4.394 8.63e-05 ***\n",
       "Prob        -3796.03    1490.65  -2.547  0.01505 *  \n",
       "---\n",
       "Signif. codes:  0 '***' 0.001 '**' 0.01 '*' 0.05 '.' 0.1 ' ' 1\n",
       "\n",
       "Residual standard error: 195.5 on 38 degrees of freedom\n",
       "Multiple R-squared:  0.7888,\tAdjusted R-squared:  0.7444 \n",
       "F-statistic: 17.74 on 8 and 38 DF,  p-value: 1.159e-10\n"
      ]
     },
     "metadata": {},
     "output_type": "display_data"
    }
   ],
   "source": [
    "# Backward Elimination regression model\n",
    "backward.model <- step(full.model, direction = \"both\", trace = FALSE)\n",
    "summary(backward.model)"
   ]
  },
  {
   "cell_type": "markdown",
   "id": "2307aaa0",
   "metadata": {},
   "source": [
    "<br>\n",
    "Note All 3 greedy methods reached the same variables (M + Ed + Po1 + M.F + U1 + U2 + Ineq + Prob) and thus model."
   ]
  },
  {
   "cell_type": "markdown",
   "id": "d7532d93",
   "metadata": {},
   "source": [
    "<p><p style=\"page-break-after:always;\"></p></p>"
   ]
  },
  {
   "cell_type": "markdown",
   "id": "29b69fdd",
   "metadata": {},
   "source": [
    "10 fold cross validating the Stepwise model without Optimization"
   ]
  },
  {
   "cell_type": "code",
   "execution_count": 5,
   "id": "7963f158",
   "metadata": {},
   "outputs": [
    {
     "name": "stderr",
     "output_type": "stream",
     "text": [
      "Loading required package: lattice\n"
     ]
    },
    {
     "name": "stdout",
     "output_type": "stream",
     "text": [
      "\n"
     ]
    },
    {
     "data": {
      "image/png": "[encoded data removed]",
      "text/plain": [
       "Plot with title \"Small symbols show cross-validation predicted values\""
      ]
     },
     "metadata": {},
     "output_type": "display_data"
    }
   ],
   "source": [
    "options(warn=-1)\n",
    "library(DAAG)\n",
    "cv.step.model <- cv.lm(Crime~M+Ed+Po1+M.F+U1+U2+Ineq+Prob, data = df, printit=FALSE)\n",
    "# total sum of squared differences between data and its mean (SSE Total)\n",
    "SStot <- sum((df$Crime - mean(df$Crime))^2)\n",
    "# Calculate mean squared error, times number of data points, gives sum of squared errors\n",
    "SSres_cv <- attr(cv.step.model,\"ms\")*nrow(df)\n",
    "# Calculate CV R squared \n",
    "CV_R2 <- (1 - SSres_cv/SStot)"
   ]
  },
  {
   "cell_type": "code",
   "execution_count": 6,
   "id": "6044a55b",
   "metadata": {},
   "outputs": [
    {
     "name": "stdout",
     "output_type": "stream",
     "text": [
      "Stepwise model cross validated R2 0.663"
     ]
    }
   ],
   "source": [
    "cat(\"Stepwise model cross validated R2\", round(CV_R2,3))"
   ]
  },
  {
   "cell_type": "markdown",
   "id": "7fa762df",
   "metadata": {},
   "source": [
    "<p><p style=\"page-break-after:always;\"></p></p>"
   ]
  },
  {
   "cell_type": "markdown",
   "id": "dd57feb5",
   "metadata": {},
   "source": [
    "We can further refine the model utilizing the p-value of the coefficients (threshold p-value <0.05)"
   ]
  },
  {
   "cell_type": "code",
   "execution_count": 7,
   "id": "b1db3c38",
   "metadata": {},
   "outputs": [
    {
     "data": {
      "text/plain": [
       "\n",
       "Call:\n",
       "lm(formula = Crime ~ M + Ed + Po1 + U2 + Ineq + Prob, data = df)\n",
       "\n",
       "Residuals:\n",
       "    Min      1Q  Median      3Q     Max \n",
       "-470.68  -78.41  -19.68  133.12  556.23 \n",
       "\n",
       "Coefficients:\n",
       "            Estimate Std. Error t value Pr(>|t|)    \n",
       "(Intercept) -5040.50     899.84  -5.602 1.72e-06 ***\n",
       "M             105.02      33.30   3.154  0.00305 ** \n",
       "Ed            196.47      44.75   4.390 8.07e-05 ***\n",
       "Po1           115.02      13.75   8.363 2.56e-10 ***\n",
       "U2             89.37      40.91   2.185  0.03483 *  \n",
       "Ineq           67.65      13.94   4.855 1.88e-05 ***\n",
       "Prob        -3801.84    1528.10  -2.488  0.01711 *  \n",
       "---\n",
       "Signif. codes:  0 '***' 0.001 '**' 0.01 '*' 0.05 '.' 0.1 ' ' 1\n",
       "\n",
       "Residual standard error: 200.7 on 40 degrees of freedom\n",
       "Multiple R-squared:  0.7659,\tAdjusted R-squared:  0.7307 \n",
       "F-statistic: 21.81 on 6 and 40 DF,  p-value: 3.418e-11\n"
      ]
     },
     "metadata": {},
     "output_type": "display_data"
    }
   ],
   "source": [
    "step.model.opt <- lm(Crime~M+Ed+Po1+U2+Ineq+Prob, data=df)\n",
    "summary(step.model.opt)"
   ]
  },
  {
   "cell_type": "markdown",
   "id": "3c850a4c",
   "metadata": {},
   "source": [
    "<p><p style=\"page-break-after:always;\"></p></p>"
   ]
  },
  {
   "cell_type": "markdown",
   "id": "ac842e70",
   "metadata": {},
   "source": [
    "10 fold cross validating the Stepwise model after Optimization"
   ]
  },
  {
   "cell_type": "code",
   "execution_count": 8,
   "id": "2aa1477d",
   "metadata": {},
   "outputs": [
    {
     "name": "stdout",
     "output_type": "stream",
     "text": [
      "\n"
     ]
    },
    {
     "data": {
      "image/png": "[encoded data removed]",
      "text/plain": [
       "Plot with title \"Small symbols show cross-validation predicted values\""
      ]
     },
     "metadata": {},
     "output_type": "display_data"
    }
   ],
   "source": [
    "options(warn=-1)\n",
    "cv.step.model.opt <- cv.lm(Crime~M+Ed+Po1+U2+Ineq+Prob, data = df, printit=FALSE)\n",
    "# total sum of squared differences between data and its mean (SSE Total)\n",
    "SStot <- sum((df$Crime - mean(df$Crime))^2)\n",
    "# Calculate mean squared error, times number of data points, gives sum of squared errors\n",
    "SSres_cv <- attr(cv.step.model.opt,\"ms\")*nrow(df)\n",
    "# Calculate CV R squared \n",
    "CV_R2 <- (1 - SSres_cv/SStot)"
   ]
  },
  {
   "cell_type": "code",
   "execution_count": 9,
   "id": "0a7d104c",
   "metadata": {},
   "outputs": [
    {
     "name": "stdout",
     "output_type": "stream",
     "text": [
      "Optimized Stepwise model cross validated R2 0.677"
     ]
    }
   ],
   "source": [
    "cat(\"Optimized Stepwise model cross validated R2\", round(CV_R2,3))"
   ]
  },
  {
   "cell_type": "markdown",
   "id": "b0211a77",
   "metadata": {},
   "source": [
    "<p><p style=\"page-break-after:always;\"></p></p>"
   ]
  },
  {
   "cell_type": "markdown",
   "id": "c1a34895",
   "metadata": {},
   "source": [
    "<b> Greedy Methods Conclusions </b> <br>\n",
    "1. All 3 greedy methods reached the same variables (M + Ed + Po1 + M.F + U1 + U2 + Ineq + Prob). <br>\n",
    "2. Further optmiization based on factors p-value reduced the number of model parameters to 6 (M + Ed + Po1 + U2 + Ineq + Prob). <br>\n",
    "\n",
    "Note that step functions is defined as: Select a formula-based model by AIC.\n",
    "\n",
    "| Model | R2 | Adj-R2 | R2 cross-validated |\n",
    "| --- | --- | --- | --- |\n",
    "|Stepwise Model | 0.789 | 0.744 | 0.663 |\n",
    "|Optimized Stepwise Model | 0.766 | 0.731 | 0.677 |"
   ]
  },
  {
   "cell_type": "markdown",
   "id": "29b294c0",
   "metadata": {},
   "source": [
    "<p><p style=\"page-break-after:always;\"></p></p>"
   ]
  },
  {
   "cell_type": "markdown",
   "id": "1950bfa0",
   "metadata": {},
   "source": [
    "<b> LASSO Approach </b> <br>\n",
    "\n",
    "Methodology: <br>\n",
    "For all Elastic net models, including LASSO model, <br>\n",
    "1. The predictors were scaled and centered (response was unchanged)\n",
    "2. For any value of alpha, corss validation was used to find the optimum lambda value that minimizes the MSE.\n",
    "3. 3 sets of different values of training R2, Adjusted R2 and Cross-validated R2 were reported as described below. <br>\n",
    "\n",
    "| Name | Description |\n",
    "| --- | --- |\n",
    "| Original Model | Values driven from the scaled LASSO model evaluated using glmnet functions. |\n",
    "| Rebuilt Model| Values based on a re-built linear regression model based on the selected variables (non-zero coffceints) by the model |\n",
    "| Optimized Rebuilt Model | Further optimizing the above model based on a p-value threshold. |"
   ]
  },
  {
   "cell_type": "code",
   "execution_count": 10,
   "id": "af5dab37",
   "metadata": {},
   "outputs": [],
   "source": [
    "options(warn=-1)\n",
    "# Scale the data\n",
    "scaled_df <- scale(df, center = TRUE, scale = TRUE)\n",
    "# Convert predictors to Matrix\n",
    "X <- as.matrix(scaled_df[,1:15])\n",
    "Y <- df$Crime"
   ]
  },
  {
   "cell_type": "code",
   "execution_count": 11,
   "id": "5e8ab062",
   "metadata": {},
   "outputs": [
    {
     "name": "stderr",
     "output_type": "stream",
     "text": [
      "Loading required package: Matrix\n",
      "Loaded glmnet 4.1-1\n"
     ]
    }
   ],
   "source": [
    "options(warn=-1)\n",
    "# install.packages('glmnet')\n",
    "library(glmnet)"
   ]
  },
  {
   "cell_type": "markdown",
   "id": "41b795e3",
   "metadata": {},
   "source": [
    "<p><p style=\"page-break-after:always;\"></p></p>"
   ]
  },
  {
   "cell_type": "markdown",
   "id": "1f5b3605",
   "metadata": {},
   "source": [
    "A 10-fold (cv.glmnet default) cross-validation was used to return the optimum value of lambda (alpha in the course videos)"
   ]
  },
  {
   "cell_type": "code",
   "execution_count": 12,
   "id": "56ea7bad",
   "metadata": {},
   "outputs": [
    {
     "data": {
      "text/plain": [
       "\n",
       "Call:  cv.glmnet(x = X, y = Y, alpha = 1) \n",
       "\n",
       "Measure: Mean-Squared Error \n",
       "\n",
       "    Lambda Index Measure   SE Nonzero\n",
       "min  9.238    37   69181 6832      11\n",
       "1se 30.961    24   75672 6816       6"
      ]
     },
     "metadata": {},
     "output_type": "display_data"
    },
    {
     "data": {
      "image/png": "[encoded data removed]",
      "text/plain": [
       "plot without title"
      ]
     },
     "metadata": {},
     "output_type": "display_data"
    }
   ],
   "source": [
    "# Fix seed number\n",
    "set.seed(1)\n",
    "# LASSO Approach\n",
    "cv.lasso.model <- cv.glmnet(X, Y, alpha=1)\n",
    "cv.lasso.model\n",
    "plot(cv.lasso.model)"
   ]
  },
  {
   "cell_type": "markdown",
   "id": "111843fc",
   "metadata": {},
   "source": [
    "From the chart, the optimum value of lambda is 9.2 or on the chart ln(lambda) = 2.2 minimizes the MSE"
   ]
  },
  {
   "cell_type": "markdown",
   "id": "fccd5761",
   "metadata": {},
   "source": [
    "<p><p style=\"page-break-after:always;\"></p></p>"
   ]
  },
  {
   "cell_type": "code",
   "execution_count": 13,
   "id": "4777f6bf",
   "metadata": {},
   "outputs": [
    {
     "name": "stdout",
     "output_type": "stream",
     "text": [
      "LASSO model Corss Validated R2 at Optimum Lambda 0.538"
     ]
    },
    {
     "data": {
      "image/png": "[encoded data removed]",
      "text/plain": [
       "Plot with title \"Corss Validated R2 Vs Lambda For LASSO Model\""
      ]
     },
     "metadata": {},
     "output_type": "display_data"
    }
   ],
   "source": [
    "# Plot Cross validated R2 versus different values of Lambda\n",
    "CV_LASSO_R2 = 1 - cv.lasso.model$cvm/var(Y)\n",
    "# Find Corss Validated R2 at Optimum Lambda\n",
    "cat(\"LASSO model Corss Validated R2 at Optimum Lambda\", round(max(CV_LASSO_R2),3))\n",
    "plot(cv.lasso.model$lambda,CV_LASSO_R2, xlab=\"Log(Lambda)\", ylab=\"CV R2\")\n",
    "title(\"Corss Validated R2 Vs Lambda For LASSO Model\")\n",
    "grid()"
   ]
  },
  {
   "cell_type": "markdown",
   "id": "38a901e3",
   "metadata": {},
   "source": [
    "From the Chart, At optimum ln(lambda) 9.2, the maximum cross validated R2 is 0.538"
   ]
  },
  {
   "cell_type": "markdown",
   "id": "1d24c871",
   "metadata": {},
   "source": [
    "<p><p style=\"page-break-after:always;\"></p></p>"
   ]
  },
  {
   "cell_type": "code",
   "execution_count": 14,
   "id": "d9860136",
   "metadata": {},
   "outputs": [
    {
     "name": "stdout",
     "output_type": "stream",
     "text": [
      "Number of variables with non-Zero coefs: 11"
     ]
    },
    {
     "data": {
      "text/html": [
       "'Scaled Intercept'"
      ],
      "text/latex": [
       "'Scaled Intercept'"
      ],
      "text/markdown": [
       "'Scaled Intercept'"
      ],
      "text/plain": [
       "[1] \"Scaled Intercept\""
      ]
     },
     "metadata": {},
     "output_type": "display_data"
    },
    {
     "data": {
      "text/html": [
       "<strong>s0:</strong> 905.09"
      ],
      "text/latex": [
       "\\textbf{s0:} 905.09"
      ],
      "text/markdown": [
       "**s0:** 905.09"
      ],
      "text/plain": [
       "    s0 \n",
       "905.09 "
      ]
     },
     "metadata": {},
     "output_type": "display_data"
    },
    {
     "data": {
      "text/html": [
       "'Scaled Coefficients'"
      ],
      "text/latex": [
       "'Scaled Coefficients'"
      ],
      "text/markdown": [
       "'Scaled Coefficients'"
      ],
      "text/plain": [
       "[1] \"Scaled Coefficients\""
      ]
     },
     "metadata": {},
     "output_type": "display_data"
    },
    {
     "data": {
      "text/plain": [
       "15 x 1 sparse Matrix of class \"dgCMatrix\"\n",
       "               s0\n",
       "M       89.224469\n",
       "So      21.009609\n",
       "Ed     137.784802\n",
       "Po1    305.115197\n",
       "Po2      .       \n",
       "LF       .       \n",
       "M.F     55.005220\n",
       "Pop      .       \n",
       "NW       6.278334\n",
       "U1     -35.881758\n",
       "U2      71.390032\n",
       "Wealth   6.022124\n",
       "Ineq   192.827661\n",
       "Prob   -83.370204\n",
       "Time     .       "
      ]
     },
     "metadata": {},
     "output_type": "display_data"
    }
   ],
   "source": [
    "# Find the optimum lambda\n",
    "optimium_lambda <- cv.lasso.model$lambda.min\n",
    "# Build the LASSO model\n",
    "lasso.model.coefs <- glmnet(X, Y, alpha  = 1, lambda = optimium_lambda)\n",
    "a0 <- lasso.model.coefs$a0\n",
    "coefs <- lasso.model.coefs$beta\n",
    "cat(\"Number of variables with non-Zero coefs:\", sum(coefs[,1]!=0))\n",
    "\"Scaled Intercept\"\n",
    "round(a0,2)\n",
    "\"Scaled Coefficients\"\n",
    "coefs"
   ]
  },
  {
   "cell_type": "markdown",
   "id": "acc337bd",
   "metadata": {},
   "source": [
    "From the above data, 4 variables were removed by the LASSO approach for variable selection. <br>\n",
    "11 variables were kept as important for the model as compared to 8 as defined by the greedy methods"
   ]
  },
  {
   "cell_type": "code",
   "execution_count": 15,
   "id": "9dae24dc",
   "metadata": {},
   "outputs": [
    {
     "name": "stdout",
     "output_type": "stream",
     "text": [
      "LASSO model R2 at Optimum Lambda on training Data 0.773 \n",
      "LASSO model Adjusted R2 at Optimum Lambda on training Data 0.701 \n",
      "LASSO model Corss Validated R2 at Optimum Lambda 0.538"
     ]
    }
   ],
   "source": [
    "# Find LASSO Model R2 at Optimum Lambda For training data\n",
    "R2 <- lasso.model.coefs$dev.ratio\n",
    "cat(\"LASSO model R2 at Optimum Lambda on training Data\", round(R2,3), \"\\n\")\n",
    "# Find LASSO Model R2 at Optimum Lambda For training data\n",
    "adj_R2 <- 1 - (1-R2)*(47-1)/(47-11-1) \n",
    "cat(\"LASSO model Adjusted R2 at Optimum Lambda on training Data\", round(adj_R2,3), \"\\n\")\n",
    "# LASSO model Corss Validated R2 at Optimum Lambda\n",
    "cat(\"LASSO model Corss Validated R2 at Optimum Lambda\", round(max(CV_LASSO_R2),3))"
   ]
  },
  {
   "cell_type": "markdown",
   "id": "6919c032",
   "metadata": {},
   "source": [
    "<p><p style=\"page-break-after:always;\"></p></p>"
   ]
  },
  {
   "cell_type": "markdown",
   "id": "27278064",
   "metadata": {},
   "source": [
    "An alternative Method is to use the output of the LASSO model analysis and Rebuild a Linear Regression model."
   ]
  },
  {
   "cell_type": "code",
   "execution_count": 16,
   "id": "824d8d25",
   "metadata": {},
   "outputs": [
    {
     "data": {
      "text/plain": [
       "\n",
       "Call:\n",
       "lm(formula = Crime ~ M + So + Ed + Po1 + M.F + NW + U1 + U2 + \n",
       "    Wealth + Ineq + Prob, data = df)\n",
       "\n",
       "Residuals:\n",
       "    Min      1Q  Median      3Q     Max \n",
       "-408.38  -96.14   -1.39  114.80  454.53 \n",
       "\n",
       "Coefficients:\n",
       "              Estimate Std. Error t value Pr(>|t|)    \n",
       "(Intercept) -6.757e+03  1.313e+03  -5.147 1.03e-05 ***\n",
       "M            9.148e+01  3.893e+01   2.350  0.02454 *  \n",
       "So           3.335e+01  1.237e+02   0.270  0.78905    \n",
       "Ed           1.746e+02  5.589e+01   3.124  0.00357 ** \n",
       "Po1          9.277e+01  2.019e+01   4.596 5.41e-05 ***\n",
       "M.F          2.189e+01  1.453e+01   1.506  0.14101    \n",
       "NW           1.549e+00  5.559e+00   0.279  0.78209    \n",
       "U1          -5.248e+03  3.600e+03  -1.458  0.15380    \n",
       "U2           1.667e+02  7.853e+01   2.123  0.04089 *  \n",
       "Wealth       7.626e-02  9.737e-02   0.783  0.43878    \n",
       "Ineq         6.693e+01  2.022e+01   3.310  0.00217 ** \n",
       "Prob        -3.854e+03  1.770e+03  -2.177  0.03627 *  \n",
       "---\n",
       "Signif. codes:  0 '***' 0.001 '**' 0.01 '*' 0.05 '.' 0.1 ' ' 1\n",
       "\n",
       "Residual standard error: 201.3 on 35 degrees of freedom\n",
       "Multiple R-squared:  0.794,\tAdjusted R-squared:  0.7292 \n",
       "F-statistic: 12.26 on 11 and 35 DF,  p-value: 5.334e-09\n"
      ]
     },
     "metadata": {},
     "output_type": "display_data"
    }
   ],
   "source": [
    "# Building the LASSO model using selected coefs\n",
    "lasso.model <- lm(Crime~M+So+Ed+Po1+M.F+NW+U1+U2+Wealth+Ineq+Prob, data = df)\n",
    "summary(lasso.model)"
   ]
  },
  {
   "cell_type": "markdown",
   "id": "cd85c652",
   "metadata": {},
   "source": [
    "<p><p style=\"page-break-after:always;\"></p></p>"
   ]
  },
  {
   "cell_type": "markdown",
   "id": "89e70ce6",
   "metadata": {},
   "source": [
    "10 fold cross validating the LASSO model without Optimization"
   ]
  },
  {
   "cell_type": "code",
   "execution_count": 17,
   "id": "c99b50ab",
   "metadata": {},
   "outputs": [
    {
     "name": "stdout",
     "output_type": "stream",
     "text": [
      "\n"
     ]
    },
    {
     "data": {
      "image/png": "[encoded data removed]",
      "text/plain": [
       "Plot with title \"Small symbols show cross-validation predicted values\""
      ]
     },
     "metadata": {},
     "output_type": "display_data"
    }
   ],
   "source": [
    "options(warn=-1)\n",
    "# Cross Validating the model\n",
    "cv.lasso.model <- cv.lm(Crime~M+So+Ed+Po1+M.F+NW+U1+U2+Wealth+Ineq+Prob, data = df, printit=FALSE)\n",
    "# total sum of squared differences between data and its mean (SSE Total)\n",
    "SStot <- sum((df$Crime - mean(df$Crime))^2)\n",
    "# Calculate mean squared error, times number of data points, gives sum of squared errors\n",
    "SSres_cv <- attr(cv.lasso.model,\"ms\")*nrow(df)\n",
    "# Calculate CV R squared \n",
    "CV_R2 <- (1 - SSres_cv/SStot)"
   ]
  },
  {
   "cell_type": "code",
   "execution_count": 18,
   "id": "a9221392",
   "metadata": {},
   "outputs": [
    {
     "name": "stdout",
     "output_type": "stream",
     "text": [
      "Lasso model cross validated R2 0.619"
     ]
    }
   ],
   "source": [
    "cat(\"Lasso model cross validated R2\", round(CV_R2,3))"
   ]
  },
  {
   "cell_type": "markdown",
   "id": "6790795e",
   "metadata": {},
   "source": [
    "<p><p style=\"page-break-after:always;\"></p></p>"
   ]
  },
  {
   "cell_type": "markdown",
   "id": "e218510d",
   "metadata": {},
   "source": [
    "We can further refine the model utilizing the p-value of the coefficients (threshold p-value <0.05)"
   ]
  },
  {
   "cell_type": "code",
   "execution_count": 19,
   "id": "ee9f0815",
   "metadata": {},
   "outputs": [
    {
     "data": {
      "text/plain": [
       "\n",
       "Call:\n",
       "lm(formula = Crime ~ M + Ed + Po1 + U2 + Ineq + Prob, data = df)\n",
       "\n",
       "Residuals:\n",
       "    Min      1Q  Median      3Q     Max \n",
       "-470.68  -78.41  -19.68  133.12  556.23 \n",
       "\n",
       "Coefficients:\n",
       "            Estimate Std. Error t value Pr(>|t|)    \n",
       "(Intercept) -5040.50     899.84  -5.602 1.72e-06 ***\n",
       "M             105.02      33.30   3.154  0.00305 ** \n",
       "Ed            196.47      44.75   4.390 8.07e-05 ***\n",
       "Po1           115.02      13.75   8.363 2.56e-10 ***\n",
       "U2             89.37      40.91   2.185  0.03483 *  \n",
       "Ineq           67.65      13.94   4.855 1.88e-05 ***\n",
       "Prob        -3801.84    1528.10  -2.488  0.01711 *  \n",
       "---\n",
       "Signif. codes:  0 '***' 0.001 '**' 0.01 '*' 0.05 '.' 0.1 ' ' 1\n",
       "\n",
       "Residual standard error: 200.7 on 40 degrees of freedom\n",
       "Multiple R-squared:  0.7659,\tAdjusted R-squared:  0.7307 \n",
       "F-statistic: 21.81 on 6 and 40 DF,  p-value: 3.418e-11\n"
      ]
     },
     "metadata": {},
     "output_type": "display_data"
    }
   ],
   "source": [
    "# removing the variables with p > 0.05\n",
    "lasso.model.opt <- lm(Crime~M+Ed+Po1+U2+Ineq+Prob, data = df)\n",
    "summary(lasso.model.opt)"
   ]
  },
  {
   "cell_type": "markdown",
   "id": "ab0a583b",
   "metadata": {},
   "source": [
    "<p><p style=\"page-break-after:always;\"></p></p>"
   ]
  },
  {
   "cell_type": "markdown",
   "id": "59c60e47",
   "metadata": {},
   "source": [
    "10 fold cross validating the LASSO model after Optimization"
   ]
  },
  {
   "cell_type": "code",
   "execution_count": 20,
   "id": "713633bb",
   "metadata": {},
   "outputs": [
    {
     "name": "stdout",
     "output_type": "stream",
     "text": [
      "\n"
     ]
    },
    {
     "data": {
      "image/png": "[encoded data removed]",
      "text/plain": [
       "Plot with title \"Small symbols show cross-validation predicted values\""
      ]
     },
     "metadata": {},
     "output_type": "display_data"
    }
   ],
   "source": [
    "options(warn=-1)\n",
    "# Cross Validating the model\n",
    "cv.lasso.model.opt <- cv.lm(Crime~M+Ed+Po1+U2+Ineq+Prob, data = df, printit=FALSE)\n",
    "# total sum of squared differences between data and its mean (SSE Total)\n",
    "SStot <- sum((df$Crime - mean(df$Crime))^2)\n",
    "# Calculate mean squared error, times number of data points, gives sum of squared errors\n",
    "SSres_cv <- attr(cv.lasso.model.opt,\"ms\")*nrow(df)\n",
    "# Calculate CV R squared \n",
    "CV_R2 <- (1 - SSres_cv/SStot)"
   ]
  },
  {
   "cell_type": "code",
   "execution_count": 21,
   "id": "35eae7ba",
   "metadata": {},
   "outputs": [
    {
     "name": "stdout",
     "output_type": "stream",
     "text": [
      "Optimized Lasso model cross validated R2 0.677"
     ]
    }
   ],
   "source": [
    "cat(\"Optimized Lasso model cross validated R2\", round(CV_R2,3))"
   ]
  },
  {
   "cell_type": "markdown",
   "id": "ca59dd8e",
   "metadata": {},
   "source": [
    "<p><p style=\"page-break-after:always;\"></p></p>"
   ]
  },
  {
   "cell_type": "markdown",
   "id": "14db68e7",
   "metadata": {},
   "source": [
    "<b> Summary of LASSO Model </b> <br>\n",
    "1. LASSO Model defined 11 factors with non-zero coefficients.\n",
    "2. Rebuilding the Model using the 11 selected factors then optimizing the model based on coffceints p-value reuslted in an improved cross validated R2.\n",
    "3. Optimized LASSO model (rebuilt) reached the same 6 variables (M+Ed+Po1+U2+Ineq+Prob) as the optimized Greedy methods approach\n",
    "\n",
    "| Model | R2 | Adj-R2 | R2 cross-validated |\n",
    "| --- | --- | --- | --- |\n",
    "|Stepwise Model | 0.789 | 0.744 | 0.663 |\n",
    "|Optimized Stepwise Model | 0.766 | 0.731 | 0.677 |\n",
    "|LASSO Model | 0.773 | 0.701 | 0.538 |\n",
    "|Rebuilt LASSO Model | 0.794 | 0.730 | 0.619 |\n",
    "|Optimized Rebuilt LASSO Model | 0.766 | 0.731 | 0.677 |"
   ]
  },
  {
   "cell_type": "markdown",
   "id": "5f53b4a1",
   "metadata": {},
   "source": [
    "<p><p style=\"page-break-after:always;\"></p></p>"
   ]
  },
  {
   "cell_type": "markdown",
   "id": "4cd37a6a",
   "metadata": {},
   "source": [
    "<b> Elastic Net Approach </b> <br>\n",
    "A senstivity analysis was done using the same function and approach as LASSO method (10-fold cross-validation) and find the number of non-Zero coefficients as well as R2 and CV R2 for different values of alpha. <br>\n",
    "Alpha was ranged from 0 (Ridge Regression) to 1 (LASSO Method) with increments of 0.1"
   ]
  },
  {
   "cell_type": "code",
   "execution_count": 22,
   "id": "ffa777a2",
   "metadata": {},
   "outputs": [
    {
     "data": {
      "image/png": "[encoded data removed]",
      "text/plain": [
       "Plot with title \"Impact of Alpha on # of predictors with non-zero coefs\""
      ]
     },
     "metadata": {},
     "output_type": "display_data"
    }
   ],
   "source": [
    "# Elastic Net Model\n",
    "# Fix seed number\n",
    "set.seed(10)\n",
    "# creating vector for alpha sensitivity\n",
    "alpha_sen <- seq(0,10)/10\n",
    "# creating vectors to store results\n",
    "number_predictors <- seq(1,11)\n",
    "CV_R2_list <- seq(1,11)\n",
    "R2_list <- seq(1,11)\n",
    "# sensitivity analysis on alpha values\n",
    "for (i in seq(1,11)){\n",
    "    cv.elastic.model <- cv.glmnet(X, Y, alpha=alpha_sen[i])\n",
    "    optimium_lambda <- cv.elastic.model$lambda.min\n",
    "    # Find Cross validated R2 versus different values of Lambda\n",
    "    CV_elastic_R2 = 1 - cv.elastic.model$cvm/var(Y)\n",
    "    # stor CV R2\n",
    "    CV_R2_list[i] = max(CV_elastic_R2)\n",
    "    # build the model using optimized lambda\n",
    "    elastic.model.coefs <- glmnet(X, Y, alpha  = alpha_sen[i], lambda = optimium_lambda)\n",
    "    coefs <- elastic.model.coefs$beta\n",
    "    # store number of predictors\n",
    "    number_predictors[i] <- sum(coefs[,1]!=0)\n",
    "    # store training R2\n",
    "    R2_list[i] <- elastic.model.coefs$dev.ratio\n",
    "}\n",
    "plot(alpha_sen, number_predictors, xlab=\"ALPHA\", ylab=\"Number of Predictors\", ylim=c(0,15))\n",
    "title(\"Impact of Alpha on # of predictors with non-zero coefs\")\n",
    "grid()"
   ]
  },
  {
   "cell_type": "markdown",
   "id": "f8bf065a",
   "metadata": {},
   "source": [
    "From the plot above, There is a decline in the number of non-zero coefficients preidctors with increasing the alpha factor. <br>\n",
    "The ridge regression (alpha = 0) shows all 15 predictors to have non-zero coefficients. <br>\n",
    "At alpha = 1 (LASSO appraoch) we are back to the 11 non-zero coefficients predictors of the LASSO approach above."
   ]
  },
  {
   "cell_type": "markdown",
   "id": "ab1e3a82",
   "metadata": {},
   "source": [
    "<p><p style=\"page-break-after:always;\"></p></p>"
   ]
  },
  {
   "cell_type": "code",
   "execution_count": 23,
   "id": "d4e98452",
   "metadata": {},
   "outputs": [
    {
     "data": {
      "image/png": "[encoded data removed]",
      "text/plain": [
       "Plot with title \"Impact of Alpha on R2 and CV R2\""
      ]
     },
     "metadata": {},
     "output_type": "display_data"
    }
   ],
   "source": [
    "# Plot R2 and Cross Validated R2 for all values of Alpha\n",
    "plot(alpha_sen, R2_list, ylim=c(0,1), xlab=\"ALPHA\", ylab=\"R2\")\n",
    "lines(alpha_sen, CV_R2_list)\n",
    "title(\"Impact of Alpha on R2 and CV R2\")\n",
    "grid()"
   ]
  },
  {
   "cell_type": "markdown",
   "id": "9a9bef67",
   "metadata": {},
   "source": [
    "From the plot above, There does not seems to be an material change in R2 or cross-validated R2 for the various values of Alpha. I tested different seed numbers and they showed Fluctuations in R2 or CV R2. The relatively small changes in the plot above can be attributed to Random effects benefiting some models than others. <br>\n",
    "<br>\n",
    "As a result, An Elastic Net model with Alpha = 0.5 will be built and analyzed for completeness following the same logic as in LASSO model."
   ]
  },
  {
   "cell_type": "markdown",
   "id": "9b24e956",
   "metadata": {},
   "source": [
    "<p><p style=\"page-break-after:always;\"></p></p>"
   ]
  },
  {
   "cell_type": "markdown",
   "id": "94096f37",
   "metadata": {},
   "source": [
    "<b> Eslatic Net Model (Alpha = 0.5) </b>"
   ]
  },
  {
   "cell_type": "code",
   "execution_count": 24,
   "id": "4ad743c9",
   "metadata": {},
   "outputs": [
    {
     "data": {
      "text/plain": [
       "\n",
       "Call:  cv.glmnet(x = X, y = Y, alpha = 0.5) \n",
       "\n",
       "Measure: Mean-Squared Error \n",
       "\n",
       "    Lambda Index Measure    SE Nonzero\n",
       "min   9.63    44   69976 17009      13\n",
       "1se  74.59    22   84424 19787       7"
      ]
     },
     "metadata": {},
     "output_type": "display_data"
    },
    {
     "name": "stdout",
     "output_type": "stream",
     "text": [
      "Number of variables with non-Zero coefs: 13"
     ]
    },
    {
     "data": {
      "text/html": [
       "'Scaled Intercept'"
      ],
      "text/latex": [
       "'Scaled Intercept'"
      ],
      "text/markdown": [
       "'Scaled Intercept'"
      ],
      "text/plain": [
       "[1] \"Scaled Intercept\""
      ]
     },
     "metadata": {},
     "output_type": "display_data"
    },
    {
     "data": {
      "text/html": [
       "<strong>s0:</strong> 905.09"
      ],
      "text/latex": [
       "\\textbf{s0:} 905.09"
      ],
      "text/markdown": [
       "**s0:** 905.09"
      ],
      "text/plain": [
       "    s0 \n",
       "905.09 "
      ]
     },
     "metadata": {},
     "output_type": "display_data"
    },
    {
     "data": {
      "text/html": [
       "'Scaled Coefficients'"
      ],
      "text/latex": [
       "'Scaled Coefficients'"
      ],
      "text/markdown": [
       "'Scaled Coefficients'"
      ],
      "text/plain": [
       "[1] \"Scaled Coefficients\""
      ]
     },
     "metadata": {},
     "output_type": "display_data"
    },
    {
     "data": {
      "text/plain": [
       "15 x 1 sparse Matrix of class \"dgCMatrix\"\n",
       "               s0\n",
       "M       94.895302\n",
       "So      21.344361\n",
       "Ed     152.257603\n",
       "Po1    265.367523\n",
       "Po2     20.057850\n",
       "LF       .       \n",
       "M.F     61.332066\n",
       "Pop     -5.257144\n",
       "NW      17.557401\n",
       "U1     -60.564260\n",
       "U2      98.648587\n",
       "Wealth  37.256441\n",
       "Ineq   210.524065\n",
       "Prob   -88.358285\n",
       "Time     .       "
      ]
     },
     "metadata": {},
     "output_type": "display_data"
    }
   ],
   "source": [
    "set.seed(10)\n",
    "# Elastic Net model with alpha = 0.5 model\n",
    "cv.elastic.model <- cv.glmnet(X, Y, alpha=0.5)\n",
    "cv.elastic.model\n",
    "optimium_lambda <- cv.elastic.model$lambda.min\n",
    "elastic.model.coefs <- glmnet(X, Y, alpha  = 0.5, lambda = optimium_lambda)\n",
    "a0 <- elastic.model.coefs$a0\n",
    "coefs <- elastic.model.coefs$beta\n",
    "cat(\"Number of variables with non-Zero coefs:\", sum(coefs[,1]!=0))\n",
    "\"Scaled Intercept\"\n",
    "round(a0,2)\n",
    "\"Scaled Coefficients\"\n",
    "coefs"
   ]
  },
  {
   "cell_type": "code",
   "execution_count": 25,
   "id": "8d197762",
   "metadata": {},
   "outputs": [
    {
     "name": "stdout",
     "output_type": "stream",
     "text": [
      "Elastic Net Model (alpha=0.5) R2 at Optimum Lambda on training Data 0.785 \n",
      "Elastic Net Model (alpha=0.5) Adjusted R2 at Optimum Lambda on training Data 0.717 \n",
      "Elastic Net Model (alpha=0.5) Corss Validated R2 at Optimum Lambda 0.532"
     ]
    }
   ],
   "source": [
    "# Find Elastic Net Model R2 at Optimum Lambda For training data\n",
    "R2 <- elastic.model.coefs$dev.ratio\n",
    "cat(\"Elastic Net Model (alpha=0.5) R2 at Optimum Lambda on training Data\", round(R2,3), \"\\n\")\n",
    "# Find Elastic Net Model R2 at Optimum Lambda For training data\n",
    "adj_R2 <- 1 - (1-R2)*(47-1)/(47-11-1) \n",
    "cat(\"Elastic Net Model (alpha=0.5) Adjusted R2 at Optimum Lambda on training Data\", round(adj_R2,3), \"\\n\")\n",
    "# Find Cross validated R2 versus different values of Lambda\n",
    "CV_elastic_R2 = 1 - cv.elastic.model$cvm/var(Y)\n",
    "# Elastic Net model Cross Validated R2 at Optimum Lambda\n",
    "cat(\"Elastic Net Model (alpha=0.5) Corss Validated R2 at Optimum Lambda\", round(max(CV_elastic_R2),3))"
   ]
  },
  {
   "cell_type": "markdown",
   "id": "a34b386a",
   "metadata": {},
   "source": [
    "<p><p style=\"page-break-after:always;\"></p></p>"
   ]
  },
  {
   "cell_type": "code",
   "execution_count": 26,
   "id": "83e21901",
   "metadata": {},
   "outputs": [
    {
     "data": {
      "text/plain": [
       "\n",
       "Call:\n",
       "lm(formula = Crime ~ M + So + Ed + Po1 + Po2 + M.F + Pop + NW + \n",
       "    U1 + U2 + Wealth + Ineq + Prob, data = df)\n",
       "\n",
       "Residuals:\n",
       "    Min      1Q  Median      3Q     Max \n",
       "-389.63  -94.25    7.83  109.20  491.62 \n",
       "\n",
       "Coefficients:\n",
       "              Estimate Std. Error t value Pr(>|t|)    \n",
       "(Intercept) -6.169e+03  1.454e+03  -4.243 0.000168 ***\n",
       "M            8.743e+01  3.964e+01   2.205 0.034514 *  \n",
       "So           3.440e+01  1.271e+02   0.271 0.788398    \n",
       "Ed           1.809e+02  5.721e+01   3.163 0.003346 ** \n",
       "Po1          1.688e+02  9.667e+01   1.746 0.090115 .  \n",
       "Po2         -7.692e+01  1.032e+02  -0.745 0.461484    \n",
       "M.F          1.474e+01  1.663e+01   0.887 0.381622    \n",
       "Pop         -9.510e-01  1.211e+00  -0.785 0.437837    \n",
       "NW           2.422e+00  5.699e+00   0.425 0.673604    \n",
       "U1          -4.805e+03  3.674e+03  -1.308 0.200017    \n",
       "U2           1.622e+02  7.982e+01   2.032 0.050269 .  \n",
       "Wealth       8.501e-02  9.967e-02   0.853 0.399833    \n",
       "Ineq         6.912e+01  2.175e+01   3.177 0.003219 ** \n",
       "Prob        -4.185e+03  1.826e+03  -2.292 0.028430 *  \n",
       "---\n",
       "Signif. codes:  0 '***' 0.001 '**' 0.01 '*' 0.05 '.' 0.1 ' ' 1\n",
       "\n",
       "Residual standard error: 204 on 33 degrees of freedom\n",
       "Multiple R-squared:  0.8005,\tAdjusted R-squared:  0.7219 \n",
       "F-statistic: 10.19 on 13 and 33 DF,  p-value: 4.088e-08\n"
      ]
     },
     "metadata": {},
     "output_type": "display_data"
    }
   ],
   "source": [
    "# Building the Elastic Net model using selected coefs\n",
    "elastic.model <- lm(Crime~M+So+Ed+Po1+Po2+M.F+Pop+NW+U1+U2+Wealth+Ineq+Prob, data = df)\n",
    "summary(elastic.model)"
   ]
  },
  {
   "cell_type": "markdown",
   "id": "8321bc4a",
   "metadata": {},
   "source": [
    "<b> Note </b> From the analysis above, if a p-value threshold <= 0.1 is used, We will end up with the same variables we ended up with in Greedy method and in LASSO approach and thus <u> Same optimized model</u> (M + Ed + Po1 + U2 + Ineq + Prob). <br>"
   ]
  },
  {
   "cell_type": "markdown",
   "id": "6638f8b9",
   "metadata": {},
   "source": [
    "<p><p style=\"page-break-after:always;\"></p></p>"
   ]
  },
  {
   "cell_type": "markdown",
   "id": "fa2e3806",
   "metadata": {},
   "source": [
    "10 fold cross validating the Elastic Net model without Optimization"
   ]
  },
  {
   "cell_type": "code",
   "execution_count": 27,
   "id": "429f2ec3",
   "metadata": {},
   "outputs": [
    {
     "name": "stdout",
     "output_type": "stream",
     "text": [
      "\n"
     ]
    },
    {
     "data": {
      "image/png": "[encoded data removed]",
      "text/plain": [
       "Plot with title \"Small symbols show cross-validation predicted values\""
      ]
     },
     "metadata": {},
     "output_type": "display_data"
    }
   ],
   "source": [
    "options(warn=-1)\n",
    "# Cross Validating the model\n",
    "cv.elastic.model <- cv.lm(Crime~M+So+Ed+Po1+Po2+M.F+Pop+NW+U1+U2+Wealth+Ineq+Prob, data = df, printit=FALSE)\n",
    "# total sum of squared differences between data and its mean (SSE Total)\n",
    "SStot <- sum((df$Crime - mean(df$Crime))^2)\n",
    "# Calculate mean squared error, times number of data points, gives sum of squared errors\n",
    "SSres_cv <- attr(cv.elastic.model,\"ms\")*nrow(df)\n",
    "# Calculate CV R squared \n",
    "CV_R2 <- (1 - SSres_cv/SStot)"
   ]
  },
  {
   "cell_type": "code",
   "execution_count": 28,
   "id": "484a455e",
   "metadata": {},
   "outputs": [
    {
     "name": "stdout",
     "output_type": "stream",
     "text": [
      "Elastic Net model cross validated R2 0.595"
     ]
    }
   ],
   "source": [
    "cat(\"Elastic Net model cross validated R2\", round(CV_R2,3))"
   ]
  },
  {
   "cell_type": "markdown",
   "id": "2aa0759f",
   "metadata": {},
   "source": [
    "<p><p style=\"page-break-after:always;\"></p></p>"
   ]
  },
  {
   "cell_type": "markdown",
   "id": "cef8c868",
   "metadata": {},
   "source": [
    "<b> Conclusions </b>\n",
    "1. All 3 greedy methods reached the same number of predictors (8 predictors).\n",
    "2. LASSO Method reached 11 predictors.\n",
    "3. Elastic Net Method (alpha=0.5) reached 13 predictors\n",
    "4. Elastic Net Method (alpha=0) did not exclude any predictors (all 15 predictors had non-zero coefficients)\n",
    "\n",
    "Optimizing the resulting models using coefficients p-values resulted in the same optimized model with 6 predictors regardless of the variable selection technique (M + Ed + Po1 + U2 + Ineq + Prob)\n",
    "\n",
    "The table below show the summary of each method attempted and the Final model recommended from all Methods.\n",
    "\n",
    "\n",
    "| Model | R2 | Adj-R2 | R2 cross-validated | # Predictors\n",
    "| --- | --- | --- | --- | --- |\n",
    "|Stepwise Model | 0.789 | 0.744 | 0.663 | 8 |\n",
    "|LASSO Model | 0.773 | 0.701 | 0.538 | 11 |\n",
    "|Rebuilt LASSO Model | 0.794 | 0.730 | 0.619 | 11 |\n",
    "|Elastic Net Model (Alpha=0.5) | 0.785 | 0.717 | 0.532 | 13 |\n",
    "|Rebuilt Elastic Net Model (Alpha=0.5) | 0.805 | 0.722 | 0.595 | 13 |\n",
    "|Optimized Model from all methods | 0.766 | 0.731 | 0.677 | 6 |\n",
    "\n",
    "Note that all models out-performed building a model using all predictors due to reducing over fitting effects (original model R2 0.80 and Adjusted R2 of 0.71 on training data with CV R2 of only 0.40)"
   ]
  }
 ],
 "metadata": {
  "kernelspec": {
   "display_name": "R",
   "language": "R",
   "name": "ir"
  },
  "language_info": {
   "codemirror_mode": "r",
   "file_extension": ".r",
   "mimetype": "text/x-r-source",
   "name": "R",
   "pygments_lexer": "r",
   "version": "3.6.1"
  }
 },
 "nbformat": 4,
 "nbformat_minor": 5
}
