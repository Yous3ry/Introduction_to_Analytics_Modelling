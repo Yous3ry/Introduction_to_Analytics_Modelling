{
 "cells": [
  {
   "cell_type": "markdown",
   "id": "5e841e56",
   "metadata": {},
   "source": [
    "<h1> Week 5 Homework"
   ]
  },
  {
   "cell_type": "markdown",
   "id": "617a45e0",
   "metadata": {},
   "source": [
    "<h2>Question 8.1</h2>\n",
    "Describe a situation or problem from your job, everyday life, current events, etc., for which a linear\n",
    "regression model would be appropriate. List some (up to 5) predictors that you might use. "
   ]
  },
  {
   "cell_type": "markdown",
   "id": "315fa4c9",
   "metadata": {},
   "source": [
    "<h2>Answer 8.1</h2>"
   ]
  },
  {
   "cell_type": "markdown",
   "id": "b0987559",
   "metadata": {},
   "source": [
    "Predicting COVID-19 (a pandemic or epidemic disease in general) fatality rate and count can help nations plan for outbreaks, estimate required vacaination doeses, etc.\n",
    "\n",
    "Possible predictors include:\n",
    "1. Vacaination percentage of total population and it's forecast.\n",
    "2. Current life expectancy.\n",
    "3. Population density.\n",
    "4. Percentage of the population aged above 60 years old.\n",
    "5. Percentage of the population with chronic diseases.\n",
    "\n",
    "Note: Testing is required to make sure that a linear regression model is suitable (more complex models, e.g. neural networks could be required)"
   ]
  },
  {
   "cell_type": "markdown",
   "id": "eb6583ed",
   "metadata": {},
   "source": [
    "<p><p style=\"page-break-after:always;\"></p></p>"
   ]
  },
  {
   "cell_type": "markdown",
   "id": "0a1bdac5",
   "metadata": {},
   "source": [
    "<h2>Question 8.2</h2>\n",
    "Using crime data from http://www.statsci.org/data/general/uscrime.txt (file uscrime.txt, description at http://www.statsci.org/data/general/uscrime.html ), use regression (a useful R function is lm or glm) to predict the observed crime rate in a city with the following data: \n",
    "\n",
    "M = 14.0\n",
    "\n",
    "So = 0\n",
    "\n",
    "Ed = 10.0\n",
    "\n",
    "Po1 = 12.0\n",
    "\n",
    "Po2 = 15.5\n",
    "\n",
    "LF = 0.640\n",
    "\n",
    "M.F = 94.0\n",
    "\n",
    "Pop = 150\n",
    "\n",
    "NW = 1.1\n",
    "\n",
    "U1 = 0.120\n",
    "\n",
    "U2 = 3.6\n",
    "\n",
    "Wealth = 3200\n",
    "\n",
    "Ineq = 20.1\n",
    "\n",
    "Prob = 0.04\n",
    "\n",
    "Time = 39.0 \n",
    "\n",
    "Show your model (factors used and their coefficients), the software output, and the quality of fit.\n",
    "\n",
    "Note that because there are only 47 data points and 15 predictors, you’ll probably notice some overfitting. We’ll see ways of dealing with this sort of problem later in the course. "
   ]
  },
  {
   "cell_type": "markdown",
   "id": "7f8cce8d",
   "metadata": {},
   "source": [
    "<p><p style=\"page-break-after:always;\"></p></p>"
   ]
  },
  {
   "cell_type": "markdown",
   "id": "29d93062",
   "metadata": {},
   "source": [
    "<h2>Answer 8.2</h2>"
   ]
  },
  {
   "cell_type": "code",
   "execution_count": 1,
   "id": "39a470e3",
   "metadata": {},
   "outputs": [
    {
     "data": {
      "text/html": [
       "<table class=\"dataframe\">\n",
       "<caption>A data.frame: 6 × 16</caption>\n",
       "<thead>\n",
       "\t<tr><th></th><th scope=col>M</th><th scope=col>So</th><th scope=col>Ed</th><th scope=col>Po1</th><th scope=col>Po2</th><th scope=col>LF</th><th scope=col>M.F</th><th scope=col>Pop</th><th scope=col>NW</th><th scope=col>U1</th><th scope=col>U2</th><th scope=col>Wealth</th><th scope=col>Ineq</th><th scope=col>Prob</th><th scope=col>Time</th><th scope=col>Crime</th></tr>\n",
       "\t<tr><th></th><th scope=col>&lt;dbl&gt;</th><th scope=col>&lt;int&gt;</th><th scope=col>&lt;dbl&gt;</th><th scope=col>&lt;dbl&gt;</th><th scope=col>&lt;dbl&gt;</th><th scope=col>&lt;dbl&gt;</th><th scope=col>&lt;dbl&gt;</th><th scope=col>&lt;int&gt;</th><th scope=col>&lt;dbl&gt;</th><th scope=col>&lt;dbl&gt;</th><th scope=col>&lt;dbl&gt;</th><th scope=col>&lt;int&gt;</th><th scope=col>&lt;dbl&gt;</th><th scope=col>&lt;dbl&gt;</th><th scope=col>&lt;dbl&gt;</th><th scope=col>&lt;int&gt;</th></tr>\n",
       "</thead>\n",
       "<tbody>\n",
       "\t<tr><th scope=row>1</th><td>15.1</td><td>1</td><td> 9.1</td><td> 5.8</td><td> 5.6</td><td>0.510</td><td> 95.0</td><td> 33</td><td>30.1</td><td>0.108</td><td>4.1</td><td>3940</td><td>26.1</td><td>0.084602</td><td>26.2011</td><td> 791</td></tr>\n",
       "\t<tr><th scope=row>2</th><td>14.3</td><td>0</td><td>11.3</td><td>10.3</td><td> 9.5</td><td>0.583</td><td>101.2</td><td> 13</td><td>10.2</td><td>0.096</td><td>3.6</td><td>5570</td><td>19.4</td><td>0.029599</td><td>25.2999</td><td>1635</td></tr>\n",
       "\t<tr><th scope=row>3</th><td>14.2</td><td>1</td><td> 8.9</td><td> 4.5</td><td> 4.4</td><td>0.533</td><td> 96.9</td><td> 18</td><td>21.9</td><td>0.094</td><td>3.3</td><td>3180</td><td>25.0</td><td>0.083401</td><td>24.3006</td><td> 578</td></tr>\n",
       "\t<tr><th scope=row>4</th><td>13.6</td><td>0</td><td>12.1</td><td>14.9</td><td>14.1</td><td>0.577</td><td> 99.4</td><td>157</td><td> 8.0</td><td>0.102</td><td>3.9</td><td>6730</td><td>16.7</td><td>0.015801</td><td>29.9012</td><td>1969</td></tr>\n",
       "\t<tr><th scope=row>5</th><td>14.1</td><td>0</td><td>12.1</td><td>10.9</td><td>10.1</td><td>0.591</td><td> 98.5</td><td> 18</td><td> 3.0</td><td>0.091</td><td>2.0</td><td>5780</td><td>17.4</td><td>0.041399</td><td>21.2998</td><td>1234</td></tr>\n",
       "\t<tr><th scope=row>6</th><td>12.1</td><td>0</td><td>11.0</td><td>11.8</td><td>11.5</td><td>0.547</td><td> 96.4</td><td> 25</td><td> 4.4</td><td>0.084</td><td>2.9</td><td>6890</td><td>12.6</td><td>0.034201</td><td>20.9995</td><td> 682</td></tr>\n",
       "</tbody>\n",
       "</table>\n"
      ],
      "text/latex": [
       "A data.frame: 6 × 16\n",
       "\\begin{tabular}{r|llllllllllllllll}\n",
       "  & M & So & Ed & Po1 & Po2 & LF & M.F & Pop & NW & U1 & U2 & Wealth & Ineq & Prob & Time & Crime\\\\\n",
       "  & <dbl> & <int> & <dbl> & <dbl> & <dbl> & <dbl> & <dbl> & <int> & <dbl> & <dbl> & <dbl> & <int> & <dbl> & <dbl> & <dbl> & <int>\\\\\n",
       "\\hline\n",
       "\t1 & 15.1 & 1 &  9.1 &  5.8 &  5.6 & 0.510 &  95.0 &  33 & 30.1 & 0.108 & 4.1 & 3940 & 26.1 & 0.084602 & 26.2011 &  791\\\\\n",
       "\t2 & 14.3 & 0 & 11.3 & 10.3 &  9.5 & 0.583 & 101.2 &  13 & 10.2 & 0.096 & 3.6 & 5570 & 19.4 & 0.029599 & 25.2999 & 1635\\\\\n",
       "\t3 & 14.2 & 1 &  8.9 &  4.5 &  4.4 & 0.533 &  96.9 &  18 & 21.9 & 0.094 & 3.3 & 3180 & 25.0 & 0.083401 & 24.3006 &  578\\\\\n",
       "\t4 & 13.6 & 0 & 12.1 & 14.9 & 14.1 & 0.577 &  99.4 & 157 &  8.0 & 0.102 & 3.9 & 6730 & 16.7 & 0.015801 & 29.9012 & 1969\\\\\n",
       "\t5 & 14.1 & 0 & 12.1 & 10.9 & 10.1 & 0.591 &  98.5 &  18 &  3.0 & 0.091 & 2.0 & 5780 & 17.4 & 0.041399 & 21.2998 & 1234\\\\\n",
       "\t6 & 12.1 & 0 & 11.0 & 11.8 & 11.5 & 0.547 &  96.4 &  25 &  4.4 & 0.084 & 2.9 & 6890 & 12.6 & 0.034201 & 20.9995 &  682\\\\\n",
       "\\end{tabular}\n"
      ],
      "text/markdown": [
       "\n",
       "A data.frame: 6 × 16\n",
       "\n",
       "| <!--/--> | M &lt;dbl&gt; | So &lt;int&gt; | Ed &lt;dbl&gt; | Po1 &lt;dbl&gt; | Po2 &lt;dbl&gt; | LF &lt;dbl&gt; | M.F &lt;dbl&gt; | Pop &lt;int&gt; | NW &lt;dbl&gt; | U1 &lt;dbl&gt; | U2 &lt;dbl&gt; | Wealth &lt;int&gt; | Ineq &lt;dbl&gt; | Prob &lt;dbl&gt; | Time &lt;dbl&gt; | Crime &lt;int&gt; |\n",
       "|---|---|---|---|---|---|---|---|---|---|---|---|---|---|---|---|---|\n",
       "| 1 | 15.1 | 1 |  9.1 |  5.8 |  5.6 | 0.510 |  95.0 |  33 | 30.1 | 0.108 | 4.1 | 3940 | 26.1 | 0.084602 | 26.2011 |  791 |\n",
       "| 2 | 14.3 | 0 | 11.3 | 10.3 |  9.5 | 0.583 | 101.2 |  13 | 10.2 | 0.096 | 3.6 | 5570 | 19.4 | 0.029599 | 25.2999 | 1635 |\n",
       "| 3 | 14.2 | 1 |  8.9 |  4.5 |  4.4 | 0.533 |  96.9 |  18 | 21.9 | 0.094 | 3.3 | 3180 | 25.0 | 0.083401 | 24.3006 |  578 |\n",
       "| 4 | 13.6 | 0 | 12.1 | 14.9 | 14.1 | 0.577 |  99.4 | 157 |  8.0 | 0.102 | 3.9 | 6730 | 16.7 | 0.015801 | 29.9012 | 1969 |\n",
       "| 5 | 14.1 | 0 | 12.1 | 10.9 | 10.1 | 0.591 |  98.5 |  18 |  3.0 | 0.091 | 2.0 | 5780 | 17.4 | 0.041399 | 21.2998 | 1234 |\n",
       "| 6 | 12.1 | 0 | 11.0 | 11.8 | 11.5 | 0.547 |  96.4 |  25 |  4.4 | 0.084 | 2.9 | 6890 | 12.6 | 0.034201 | 20.9995 |  682 |\n",
       "\n"
      ],
      "text/plain": [
       "  M    So Ed   Po1  Po2  LF    M.F   Pop NW   U1    U2  Wealth Ineq Prob    \n",
       "1 15.1 1   9.1  5.8  5.6 0.510  95.0  33 30.1 0.108 4.1 3940   26.1 0.084602\n",
       "2 14.3 0  11.3 10.3  9.5 0.583 101.2  13 10.2 0.096 3.6 5570   19.4 0.029599\n",
       "3 14.2 1   8.9  4.5  4.4 0.533  96.9  18 21.9 0.094 3.3 3180   25.0 0.083401\n",
       "4 13.6 0  12.1 14.9 14.1 0.577  99.4 157  8.0 0.102 3.9 6730   16.7 0.015801\n",
       "5 14.1 0  12.1 10.9 10.1 0.591  98.5  18  3.0 0.091 2.0 5780   17.4 0.041399\n",
       "6 12.1 0  11.0 11.8 11.5 0.547  96.4  25  4.4 0.084 2.9 6890   12.6 0.034201\n",
       "  Time    Crime\n",
       "1 26.2011  791 \n",
       "2 25.2999 1635 \n",
       "3 24.3006  578 \n",
       "4 29.9012 1969 \n",
       "5 21.2998 1234 \n",
       "6 20.9995  682 "
      ]
     },
     "metadata": {},
     "output_type": "display_data"
    },
    {
     "data": {
      "text/html": [
       "47"
      ],
      "text/latex": [
       "47"
      ],
      "text/markdown": [
       "47"
      ],
      "text/plain": [
       "[1] 47"
      ]
     },
     "metadata": {},
     "output_type": "display_data"
    }
   ],
   "source": [
    "# loading the dataset\n",
    "# READ DATASET as DataFrame\n",
    "df <- read.table(\"uscrime.txt\", header = TRUE, sep = \"\\t\")\n",
    "# Display Data\n",
    "head(df)\n",
    "nrow(df)"
   ]
  },
  {
   "attachments": {
    "image.png": {
     "image/png": "[encoded data removed]"
    }
   },
   "cell_type": "markdown",
   "id": "ccf2cba4",
   "metadata": {},
   "source": [
    "![image.png](attachment:image.png)"
   ]
  },
  {
   "cell_type": "markdown",
   "id": "289c48bf",
   "metadata": {},
   "source": [
    "From the columns description above, some columns are expected to have high collinearity\n",
    "1. Columns Po1 and Po2 are effecvtively the same variable in different years (per capita expenditure on police protection in 1959 & 1960). Both variables are very well correlated as shown in the graph below and as a result, only Po1 or Po2 should be included.\n",
    "2. Columns U1 and U2 are effecvtively the same variable for high different age groups (unemployment rate of urban males aged 14-24 vs 35-39). Both variables are very well correlated as shown in the graph below and as a result, only U1 or U2 should be included.\n",
    "\n",
    "As a result, Columns Po1 and U2 will be used."
   ]
  },
  {
   "cell_type": "markdown",
   "id": "68f2c477",
   "metadata": {},
   "source": [
    "<p><p style=\"page-break-after:always;\"></p></p>"
   ]
  },
  {
   "cell_type": "code",
   "execution_count": 2,
   "id": "405e6de7",
   "metadata": {},
   "outputs": [
    {
     "data": {
      "image/png": "[encoded data removed]",
      "text/plain": [
       "Plot with title \"Per capita expenditure on police protection in 1959 vs 1960 (Po1, Po2)\""
      ]
     },
     "metadata": {},
     "output_type": "display_data"
    }
   ],
   "source": [
    "plot(df$Po1, df$Po2, xlim=c(0,20), ylim=c(0,20))\n",
    "title(\"Per capita expenditure on police protection in 1959 vs 1960 (Po1, Po2)\")\n",
    "grid()"
   ]
  },
  {
   "cell_type": "markdown",
   "id": "646784ff",
   "metadata": {},
   "source": [
    "<p><p style=\"page-break-after:always;\"></p></p>"
   ]
  },
  {
   "cell_type": "code",
   "execution_count": 3,
   "id": "80a89d05",
   "metadata": {},
   "outputs": [
    {
     "data": {
      "image/png": "[encoded data removed]",
      "text/plain": [
       "Plot with title \"Unemployment rate of urban males 14–24 vs 35-39 (U1, U2)\""
      ]
     },
     "metadata": {},
     "output_type": "display_data"
    }
   ],
   "source": [
    "plot(df$U1, df$U2, xlim=c(0,0.15), ylim=c(0,6))\n",
    "title(\"Unemployment rate of urban males 14–24 vs 35-39 (U1, U2)\")\n",
    "grid()"
   ]
  },
  {
   "cell_type": "code",
   "execution_count": 4,
   "id": "b6e09629",
   "metadata": {},
   "outputs": [],
   "source": [
    "# Removing filtered columns\n",
    "filtered_df <- df\n",
    "filtered_df[,\"Po2\"] <- NULL\n",
    "filtered_df[,\"U1\"] <- NULL"
   ]
  },
  {
   "cell_type": "markdown",
   "id": "3e01980d",
   "metadata": {},
   "source": [
    "<p><p style=\"page-break-after:always;\"></p></p>"
   ]
  },
  {
   "cell_type": "code",
   "execution_count": 5,
   "id": "3e34326c",
   "metadata": {
    "scrolled": false
   },
   "outputs": [
    {
     "data": {
      "text/plain": [
       "\n",
       "Call:\n",
       "lm(formula = Crime ~ ., data = filtered_df)\n",
       "\n",
       "Residuals:\n",
       "    Min      1Q  Median      3Q     Max \n",
       "-411.47  -86.36   -2.56  102.78  523.18 \n",
       "\n",
       "Coefficients:\n",
       "              Estimate Std. Error t value Pr(>|t|)    \n",
       "(Intercept) -5781.4546  1515.0540  -3.816 0.000565 ***\n",
       "M              93.9001    41.8787   2.242 0.031788 *  \n",
       "So             77.6600   138.6995   0.560 0.579318    \n",
       "Ed            161.1992    60.1525   2.680 0.011402 *  \n",
       "Po1           108.7879    22.1963   4.901 2.47e-05 ***\n",
       "LF            495.5981  1287.4423   0.385 0.702746    \n",
       "M.F             4.1693    17.3324   0.241 0.811391    \n",
       "Pop            -1.0745     1.2790  -0.840 0.406903    \n",
       "NW              1.0884     6.1601   0.177 0.860840    \n",
       "U2             86.5139    52.1369   1.659 0.106519    \n",
       "Wealth          0.1028     0.1039   0.990 0.329558    \n",
       "Ineq           74.4182    22.7567   3.270 0.002518 ** \n",
       "Prob        -4262.3744  2206.1897  -1.932 0.061982 .  \n",
       "Time           -0.2103     6.7226  -0.031 0.975236    \n",
       "---\n",
       "Signif. codes:  0 '***' 0.001 '**' 0.01 '*' 0.05 '.' 0.1 ' ' 1\n",
       "\n",
       "Residual standard error: 210.8 on 33 degrees of freedom\n",
       "Multiple R-squared:  0.7869,\tAdjusted R-squared:  0.703 \n",
       "F-statistic: 9.376 on 13 and 33 DF,  p-value: 1.108e-07\n"
      ]
     },
     "metadata": {},
     "output_type": "display_data"
    },
    {
     "name": "stdout",
     "output_type": "stream",
     "text": [
      "Model AIC: 649.7316"
     ]
    }
   ],
   "source": [
    "# Create basic model\n",
    "basic_model <- lm(Crime~., data=filtered_df)\n",
    "summary(basic_model)\n",
    "cat(\"Model AIC:\", AIC(basic_model))\n",
    "# store results\n",
    "basic_model_adj.r2 <- summary(basic_model)$adj.r.squared\n",
    "basic_model_r2 <- summary(basic_model)$r.squared\n",
    "basic_model_AIC <- AIC(basic_model)\n",
    "basic_model_Err <- summary(basic_model)$sigma"
   ]
  },
  {
   "cell_type": "markdown",
   "id": "6ed839bf",
   "metadata": {},
   "source": [
    "In order to optimize the model, p-value (hypothesis testing) of each predictor will be used to determine the predictor importance. \n",
    "\n",
    "<b> Theory </b>\n",
    "The p-value for each term tests the null hypothesis that the coefficient is equal to zero (i.e. predictor has no effect). A low p-value (typically < 0.05) indicates that you can reject the null hypothesis. In other words, a predictor that has a low p-value is likely to be a meaningful addition to the model.\n",
    "\n",
    "From the analysis above:\n",
    "1. 4 predictors with a p-value < 0.05 \n",
    "2. 1 predictor with p-value between 0.05 and 0.1 (Prob)\n",
    "3. 1 preidctor slightly above 0.1 p-value (U2)\n",
    "\n",
    "As a result, 3 models will be created:\n",
    "1. Model with only top 4 predictors\n",
    "2. Model with top 5 predictors (including Prob)\n",
    "3. Model with all 6 predictors (including Prob & U2)"
   ]
  },
  {
   "cell_type": "markdown",
   "id": "b9ae3d08",
   "metadata": {},
   "source": [
    "<p><p style=\"page-break-after:always;\"></p></p>"
   ]
  },
  {
   "cell_type": "code",
   "execution_count": 6,
   "id": "8e31303f",
   "metadata": {
    "scrolled": false
   },
   "outputs": [
    {
     "data": {
      "text/plain": [
       "\n",
       "Call:\n",
       "lm(formula = Crime ~ M + Ed + Po1 + U2 + Ineq + Prob, data = filtered_df)\n",
       "\n",
       "Residuals:\n",
       "    Min      1Q  Median      3Q     Max \n",
       "-470.68  -78.41  -19.68  133.12  556.23 \n",
       "\n",
       "Coefficients:\n",
       "            Estimate Std. Error t value Pr(>|t|)    \n",
       "(Intercept) -5040.50     899.84  -5.602 1.72e-06 ***\n",
       "M             105.02      33.30   3.154  0.00305 ** \n",
       "Ed            196.47      44.75   4.390 8.07e-05 ***\n",
       "Po1           115.02      13.75   8.363 2.56e-10 ***\n",
       "U2             89.37      40.91   2.185  0.03483 *  \n",
       "Ineq           67.65      13.94   4.855 1.88e-05 ***\n",
       "Prob        -3801.84    1528.10  -2.488  0.01711 *  \n",
       "---\n",
       "Signif. codes:  0 '***' 0.001 '**' 0.01 '*' 0.05 '.' 0.1 ' ' 1\n",
       "\n",
       "Residual standard error: 200.7 on 40 degrees of freedom\n",
       "Multiple R-squared:  0.7659,\tAdjusted R-squared:  0.7307 \n",
       "F-statistic: 21.81 on 6 and 40 DF,  p-value: 3.418e-11\n"
      ]
     },
     "metadata": {},
     "output_type": "display_data"
    },
    {
     "name": "stdout",
     "output_type": "stream",
     "text": [
      "Model AIC: 640.1661"
     ]
    }
   ],
   "source": [
    "model_6factors <- lm( Crime ~ M + Ed + Po1 + U2 + Ineq + Prob, data = filtered_df)\n",
    "summary(model_6factors)\n",
    "cat(\"Model AIC:\", AIC(model_6factors))\n",
    "# store results\n",
    "model_6factors_adj.r2 <- summary(model_6factors)$adj.r.squared\n",
    "model_6factors_r2 <- summary(model_6factors)$r.squared\n",
    "model_6factors_AIC <- AIC(model_6factors)\n",
    "model_6factors_Err <- summary(model_6factors)$sigma"
   ]
  },
  {
   "cell_type": "markdown",
   "id": "1cbd3a8c",
   "metadata": {},
   "source": [
    "<p><p style=\"page-break-after:always;\"></p></p>"
   ]
  },
  {
   "cell_type": "code",
   "execution_count": 7,
   "id": "5e98aabe",
   "metadata": {},
   "outputs": [
    {
     "data": {
      "text/plain": [
       "\n",
       "Call:\n",
       "lm(formula = Crime ~ M + Ed + Po1 + Ineq + Prob, data = filtered_df)\n",
       "\n",
       "Residuals:\n",
       "   Min     1Q Median     3Q    Max \n",
       "-528.2  -74.0   -7.0  139.8  503.3 \n",
       "\n",
       "Coefficients:\n",
       "            Estimate Std. Error t value Pr(>|t|)    \n",
       "(Intercept) -4064.57     816.28  -4.979 1.20e-05 ***\n",
       "M              79.69      32.62   2.443 0.018964 *  \n",
       "Ed            160.15      43.42   3.688 0.000656 ***\n",
       "Po1           121.23      14.06   8.621 9.47e-11 ***\n",
       "Ineq           68.31      14.56   4.692 3.00e-05 ***\n",
       "Prob        -3867.27    1596.55  -2.422 0.019930 *  \n",
       "---\n",
       "Signif. codes:  0 '***' 0.001 '**' 0.01 '*' 0.05 '.' 0.1 ' ' 1\n",
       "\n",
       "Residual standard error: 209.7 on 41 degrees of freedom\n",
       "Multiple R-squared:  0.7379,\tAdjusted R-squared:  0.706 \n",
       "F-statistic: 23.09 on 5 and 41 DF,  p-value: 5.926e-11\n"
      ]
     },
     "metadata": {},
     "output_type": "display_data"
    },
    {
     "name": "stdout",
     "output_type": "stream",
     "text": [
      "Model AIC: 643.4641"
     ]
    }
   ],
   "source": [
    "model_5factors <- lm( Crime ~ M + Ed + Po1 + Ineq + Prob, data = filtered_df)\n",
    "summary(model_5factors)\n",
    "cat(\"Model AIC:\", AIC(model_5factors))\n",
    "# store results\n",
    "model_5factors_adj.r2 <- summary(model_5factors)$adj.r.squared\n",
    "model_5factors_r2 <- summary(model_5factors)$r.squared\n",
    "model_5factors_AIC <- AIC(model_5factors)\n",
    "model_5factors_Err <- summary(model_5factors)$sigma"
   ]
  },
  {
   "cell_type": "markdown",
   "id": "71dadd2b",
   "metadata": {},
   "source": [
    "<p><p style=\"page-break-after:always;\"></p></p>"
   ]
  },
  {
   "cell_type": "code",
   "execution_count": 8,
   "id": "4e77b397",
   "metadata": {},
   "outputs": [
    {
     "data": {
      "text/plain": [
       "\n",
       "Call:\n",
       "lm(formula = Crime ~ M + Ed + Po1 + Ineq, data = filtered_df)\n",
       "\n",
       "Residuals:\n",
       "    Min      1Q  Median      3Q     Max \n",
       "-530.93  -91.88    7.56  137.72  576.84 \n",
       "\n",
       "Coefficients:\n",
       "            Estimate Std. Error t value Pr(>|t|)    \n",
       "(Intercept) -4249.22     858.51  -4.950 1.25e-05 ***\n",
       "M              76.02      34.42   2.209 0.032714 *  \n",
       "Ed            166.05      45.80   3.626 0.000773 ***\n",
       "Po1           129.80      14.38   9.029 2.16e-11 ***\n",
       "Ineq           64.09      15.27   4.197 0.000137 ***\n",
       "---\n",
       "Signif. codes:  0 '***' 0.001 '**' 0.01 '*' 0.05 '.' 0.1 ' ' 1\n",
       "\n",
       "Residual standard error: 221.5 on 42 degrees of freedom\n",
       "Multiple R-squared:  0.7004,\tAdjusted R-squared:  0.6719 \n",
       "F-statistic: 24.55 on 4 and 42 DF,  p-value: 1.595e-10\n"
      ]
     },
     "metadata": {},
     "output_type": "display_data"
    },
    {
     "name": "stdout",
     "output_type": "stream",
     "text": [
      "Model AIC: 647.7503"
     ]
    }
   ],
   "source": [
    "model_4factors <- lm( Crime ~ M + Ed + Po1 + Ineq, data = filtered_df)\n",
    "summary(model_4factors)\n",
    "cat(\"Model AIC:\", AIC(model_4factors))\n",
    "# store results\n",
    "model_4factors_adj.r2 <- summary(model_4factors)$adj.r.squared\n",
    "model_4factors_r2 <- summary(model_4factors)$r.squared\n",
    "model_4factors_AIC <- AIC(model_4factors)\n",
    "model_4factors_Err <- summary(model_4factors)$sigma"
   ]
  },
  {
   "cell_type": "markdown",
   "id": "5e7962cb",
   "metadata": {},
   "source": [
    "<p><p style=\"page-break-after:always;\"></p></p>"
   ]
  },
  {
   "cell_type": "code",
   "execution_count": 9,
   "id": "43f5e728",
   "metadata": {},
   "outputs": [
    {
     "data": {
      "text/html": [
       "<table class=\"dataframe\">\n",
       "<caption>A data.frame: 4 × 5</caption>\n",
       "<thead>\n",
       "\t<tr><th scope=col>Models</th><th scope=col>R2</th><th scope=col>Adjusted.R2</th><th scope=col>AIC</th><th scope=col>Residual.error</th></tr>\n",
       "\t<tr><th scope=col>&lt;fct&gt;</th><th scope=col>&lt;dbl&gt;</th><th scope=col>&lt;dbl&gt;</th><th scope=col>&lt;dbl&gt;</th><th scope=col>&lt;dbl&gt;</th></tr>\n",
       "</thead>\n",
       "<tbody>\n",
       "\t<tr><td>Basic_Model   </td><td>0.7869472</td><td>0.7030173</td><td>649.7316</td><td>210.7707</td></tr>\n",
       "\t<tr><td>Model_6Factors</td><td>0.7658663</td><td>0.7307463</td><td>640.1661</td><td>200.6899</td></tr>\n",
       "\t<tr><td>Model_5Factors</td><td>0.7379292</td><td>0.7059693</td><td>643.4641</td><td>209.7205</td></tr>\n",
       "\t<tr><td>Model_4Factors</td><td>0.7004252</td><td>0.6718942</td><td>647.7503</td><td>221.5397</td></tr>\n",
       "</tbody>\n",
       "</table>\n"
      ],
      "text/latex": [
       "A data.frame: 4 × 5\n",
       "\\begin{tabular}{lllll}\n",
       " Models & R2 & Adjusted.R2 & AIC & Residual.error\\\\\n",
       " <fct> & <dbl> & <dbl> & <dbl> & <dbl>\\\\\n",
       "\\hline\n",
       "\t Basic\\_Model    & 0.7869472 & 0.7030173 & 649.7316 & 210.7707\\\\\n",
       "\t Model\\_6Factors & 0.7658663 & 0.7307463 & 640.1661 & 200.6899\\\\\n",
       "\t Model\\_5Factors & 0.7379292 & 0.7059693 & 643.4641 & 209.7205\\\\\n",
       "\t Model\\_4Factors & 0.7004252 & 0.6718942 & 647.7503 & 221.5397\\\\\n",
       "\\end{tabular}\n"
      ],
      "text/markdown": [
       "\n",
       "A data.frame: 4 × 5\n",
       "\n",
       "| Models &lt;fct&gt; | R2 &lt;dbl&gt; | Adjusted.R2 &lt;dbl&gt; | AIC &lt;dbl&gt; | Residual.error &lt;dbl&gt; |\n",
       "|---|---|---|---|---|\n",
       "| Basic_Model    | 0.7869472 | 0.7030173 | 649.7316 | 210.7707 |\n",
       "| Model_6Factors | 0.7658663 | 0.7307463 | 640.1661 | 200.6899 |\n",
       "| Model_5Factors | 0.7379292 | 0.7059693 | 643.4641 | 209.7205 |\n",
       "| Model_4Factors | 0.7004252 | 0.6718942 | 647.7503 | 221.5397 |\n",
       "\n"
      ],
      "text/plain": [
       "  Models         R2        Adjusted.R2 AIC      Residual.error\n",
       "1 Basic_Model    0.7869472 0.7030173   649.7316 210.7707      \n",
       "2 Model_6Factors 0.7658663 0.7307463   640.1661 200.6899      \n",
       "3 Model_5Factors 0.7379292 0.7059693   643.4641 209.7205      \n",
       "4 Model_4Factors 0.7004252 0.6718942   647.7503 221.5397      "
      ]
     },
     "metadata": {},
     "output_type": "display_data"
    }
   ],
   "source": [
    "# preparing summary of all models\n",
    "models <- c(\"Basic_Model\", \"Model_6Factors\", \"Model_5Factors\", \"Model_4Factors\")\n",
    "models_adj.r2 <- c(basic_model_adj.r2, model_6factors_adj.r2, model_5factors_adj.r2, model_4factors_adj.r2)\n",
    "models_r2 <- c(basic_model_r2, model_6factors_r2, model_5factors_r2, model_4factors_r2)\n",
    "models_AIC <- c(basic_model_AIC, model_6factors_AIC, model_5factors_AIC, model_4factors_AIC)\n",
    "models_Err <- c(basic_model_Err, model_6factors_Err, model_5factors_Err, model_4factors_Err)\n",
    "results <- data.frame(\"Models\"=models, \"R2\"=models_r2, \"Adjusted R2\"=models_adj.r2, \n",
    "                      \"AIC\"=models_AIC, \"Residual error\"=models_Err)\n",
    "results"
   ]
  },
  {
   "cell_type": "markdown",
   "id": "edc8a198",
   "metadata": {},
   "source": [
    "From the summary table above, the 6 predictors model has the highest Adjusted R2 with the smallest AIC and Residual error. As a result, the 6 predictors model is most likely to be the optimum model. Note that the Basic model has the highest R2 however, it has lower Adjusted R2 due to more predictors being included."
   ]
  },
  {
   "cell_type": "markdown",
   "id": "74129c9e",
   "metadata": {},
   "source": [
    "In addition to the adjusted R2 showing highest value for the 6 predictors model, in order to asses the gained benefit from the more complex model (6 predictors) as compared to the less complex model (5 predictors) Anova Test will be used.\n",
    "\n",
    "<b> Anova Test Theory </b>\n",
    "1. Null-Hypothesis: The more complex model is significantly better at capturing the data than the simpler model. (p-value < 0.05)\n",
    "2. Alternative-Hypothesis: the simpler model is better (p-value > 0.05)\n",
    "\n",
    "Reference: https://bookdown.org/ndphillips/YaRrr/comparing-regression-models-with-anova.html"
   ]
  },
  {
   "cell_type": "markdown",
   "id": "aa2aef93",
   "metadata": {},
   "source": [
    "<p><p style=\"page-break-after:always;\"></p></p>"
   ]
  },
  {
   "cell_type": "code",
   "execution_count": 10,
   "id": "96ed02b9",
   "metadata": {},
   "outputs": [
    {
     "data": {
      "text/html": [
       "'Testing the basic model with all the predictors aganist the 6 predictors model'"
      ],
      "text/latex": [
       "'Testing the basic model with all the predictors aganist the 6 predictors model'"
      ],
      "text/markdown": [
       "'Testing the basic model with all the predictors aganist the 6 predictors model'"
      ],
      "text/plain": [
       "[1] \"Testing the basic model with all the predictors aganist the 6 predictors model\""
      ]
     },
     "metadata": {},
     "output_type": "display_data"
    },
    {
     "data": {
      "text/html": [
       "<table class=\"dataframe\">\n",
       "<caption>A anova: 2 × 6</caption>\n",
       "<thead>\n",
       "\t<tr><th></th><th scope=col>Res.Df</th><th scope=col>RSS</th><th scope=col>Df</th><th scope=col>Sum of Sq</th><th scope=col>F</th><th scope=col>Pr(&gt;F)</th></tr>\n",
       "\t<tr><th></th><th scope=col>&lt;dbl&gt;</th><th scope=col>&lt;dbl&gt;</th><th scope=col>&lt;dbl&gt;</th><th scope=col>&lt;dbl&gt;</th><th scope=col>&lt;dbl&gt;</th><th scope=col>&lt;dbl&gt;</th></tr>\n",
       "</thead>\n",
       "<tbody>\n",
       "\t<tr><th scope=row>1</th><td>40</td><td>1611057</td><td>NA</td><td>    NA</td><td>       NA</td><td>       NA</td></tr>\n",
       "\t<tr><th scope=row>2</th><td>33</td><td>1466001</td><td> 7</td><td>145056</td><td>0.4664633</td><td>0.8515991</td></tr>\n",
       "</tbody>\n",
       "</table>\n"
      ],
      "text/latex": [
       "A anova: 2 × 6\n",
       "\\begin{tabular}{r|llllll}\n",
       "  & Res.Df & RSS & Df & Sum of Sq & F & Pr(>F)\\\\\n",
       "  & <dbl> & <dbl> & <dbl> & <dbl> & <dbl> & <dbl>\\\\\n",
       "\\hline\n",
       "\t1 & 40 & 1611057 & NA &     NA &        NA &        NA\\\\\n",
       "\t2 & 33 & 1466001 &  7 & 145056 & 0.4664633 & 0.8515991\\\\\n",
       "\\end{tabular}\n"
      ],
      "text/markdown": [
       "\n",
       "A anova: 2 × 6\n",
       "\n",
       "| <!--/--> | Res.Df &lt;dbl&gt; | RSS &lt;dbl&gt; | Df &lt;dbl&gt; | Sum of Sq &lt;dbl&gt; | F &lt;dbl&gt; | Pr(&gt;F) &lt;dbl&gt; |\n",
       "|---|---|---|---|---|---|---|\n",
       "| 1 | 40 | 1611057 | NA |     NA |        NA |        NA |\n",
       "| 2 | 33 | 1466001 |  7 | 145056 | 0.4664633 | 0.8515991 |\n",
       "\n"
      ],
      "text/plain": [
       "  Res.Df RSS     Df Sum of Sq F         Pr(>F)   \n",
       "1 40     1611057 NA     NA           NA        NA\n",
       "2 33     1466001  7 145056    0.4664633 0.8515991"
      ]
     },
     "metadata": {},
     "output_type": "display_data"
    }
   ],
   "source": [
    "\"Testing the basic model with all the predictors aganist the 6 predictors model\"\n",
    "anova(model_6factors, basic_model)"
   ]
  },
  {
   "cell_type": "code",
   "execution_count": 11,
   "id": "9acaaed4",
   "metadata": {
    "scrolled": true
   },
   "outputs": [
    {
     "data": {
      "text/html": [
       "'Testing the 6 predictors model aganist the 5 predictors model'"
      ],
      "text/latex": [
       "'Testing the 6 predictors model aganist the 5 predictors model'"
      ],
      "text/markdown": [
       "'Testing the 6 predictors model aganist the 5 predictors model'"
      ],
      "text/plain": [
       "[1] \"Testing the 6 predictors model aganist the 5 predictors model\""
      ]
     },
     "metadata": {},
     "output_type": "display_data"
    },
    {
     "data": {
      "text/html": [
       "<table class=\"dataframe\">\n",
       "<caption>A anova: 2 × 6</caption>\n",
       "<thead>\n",
       "\t<tr><th></th><th scope=col>Res.Df</th><th scope=col>RSS</th><th scope=col>Df</th><th scope=col>Sum of Sq</th><th scope=col>F</th><th scope=col>Pr(&gt;F)</th></tr>\n",
       "\t<tr><th></th><th scope=col>&lt;dbl&gt;</th><th scope=col>&lt;dbl&gt;</th><th scope=col>&lt;dbl&gt;</th><th scope=col>&lt;dbl&gt;</th><th scope=col>&lt;dbl&gt;</th><th scope=col>&lt;dbl&gt;</th></tr>\n",
       "</thead>\n",
       "<tbody>\n",
       "\t<tr><th scope=row>1</th><td>41</td><td>1803290</td><td>NA</td><td>      NA</td><td>      NA</td><td>       NA</td></tr>\n",
       "\t<tr><th scope=row>2</th><td>40</td><td>1611057</td><td> 1</td><td>192233.4</td><td>4.772853</td><td>0.0348313</td></tr>\n",
       "</tbody>\n",
       "</table>\n"
      ],
      "text/latex": [
       "A anova: 2 × 6\n",
       "\\begin{tabular}{r|llllll}\n",
       "  & Res.Df & RSS & Df & Sum of Sq & F & Pr(>F)\\\\\n",
       "  & <dbl> & <dbl> & <dbl> & <dbl> & <dbl> & <dbl>\\\\\n",
       "\\hline\n",
       "\t1 & 41 & 1803290 & NA &       NA &       NA &        NA\\\\\n",
       "\t2 & 40 & 1611057 &  1 & 192233.4 & 4.772853 & 0.0348313\\\\\n",
       "\\end{tabular}\n"
      ],
      "text/markdown": [
       "\n",
       "A anova: 2 × 6\n",
       "\n",
       "| <!--/--> | Res.Df &lt;dbl&gt; | RSS &lt;dbl&gt; | Df &lt;dbl&gt; | Sum of Sq &lt;dbl&gt; | F &lt;dbl&gt; | Pr(&gt;F) &lt;dbl&gt; |\n",
       "|---|---|---|---|---|---|---|\n",
       "| 1 | 41 | 1803290 | NA |       NA |       NA |        NA |\n",
       "| 2 | 40 | 1611057 |  1 | 192233.4 | 4.772853 | 0.0348313 |\n",
       "\n"
      ],
      "text/plain": [
       "  Res.Df RSS     Df Sum of Sq F        Pr(>F)   \n",
       "1 41     1803290 NA       NA        NA        NA\n",
       "2 40     1611057  1 192233.4  4.772853 0.0348313"
      ]
     },
     "metadata": {},
     "output_type": "display_data"
    }
   ],
   "source": [
    "\"Testing the 6 predictors model aganist the 5 predictors model\"\n",
    "anova(model_5factors, model_6factors)"
   ]
  },
  {
   "cell_type": "code",
   "execution_count": 12,
   "id": "3c8e48a3",
   "metadata": {},
   "outputs": [
    {
     "data": {
      "text/html": [
       "'Testing the 6 predictors model aganist the 4 predictors model'"
      ],
      "text/latex": [
       "'Testing the 6 predictors model aganist the 4 predictors model'"
      ],
      "text/markdown": [
       "'Testing the 6 predictors model aganist the 4 predictors model'"
      ],
      "text/plain": [
       "[1] \"Testing the 6 predictors model aganist the 4 predictors model\""
      ]
     },
     "metadata": {},
     "output_type": "display_data"
    },
    {
     "data": {
      "text/html": [
       "<table class=\"dataframe\">\n",
       "<caption>A anova: 2 × 6</caption>\n",
       "<thead>\n",
       "\t<tr><th></th><th scope=col>Res.Df</th><th scope=col>RSS</th><th scope=col>Df</th><th scope=col>Sum of Sq</th><th scope=col>F</th><th scope=col>Pr(&gt;F)</th></tr>\n",
       "\t<tr><th></th><th scope=col>&lt;dbl&gt;</th><th scope=col>&lt;dbl&gt;</th><th scope=col>&lt;dbl&gt;</th><th scope=col>&lt;dbl&gt;</th><th scope=col>&lt;dbl&gt;</th><th scope=col>&lt;dbl&gt;</th></tr>\n",
       "</thead>\n",
       "<tbody>\n",
       "\t<tr><th scope=row>1</th><td>42</td><td>2061353</td><td>NA</td><td>      NA</td><td>      NA</td><td>         NA</td></tr>\n",
       "\t<tr><th scope=row>2</th><td>40</td><td>1611057</td><td> 2</td><td>450295.9</td><td>5.590069</td><td>0.007230541</td></tr>\n",
       "</tbody>\n",
       "</table>\n"
      ],
      "text/latex": [
       "A anova: 2 × 6\n",
       "\\begin{tabular}{r|llllll}\n",
       "  & Res.Df & RSS & Df & Sum of Sq & F & Pr(>F)\\\\\n",
       "  & <dbl> & <dbl> & <dbl> & <dbl> & <dbl> & <dbl>\\\\\n",
       "\\hline\n",
       "\t1 & 42 & 2061353 & NA &       NA &       NA &          NA\\\\\n",
       "\t2 & 40 & 1611057 &  2 & 450295.9 & 5.590069 & 0.007230541\\\\\n",
       "\\end{tabular}\n"
      ],
      "text/markdown": [
       "\n",
       "A anova: 2 × 6\n",
       "\n",
       "| <!--/--> | Res.Df &lt;dbl&gt; | RSS &lt;dbl&gt; | Df &lt;dbl&gt; | Sum of Sq &lt;dbl&gt; | F &lt;dbl&gt; | Pr(&gt;F) &lt;dbl&gt; |\n",
       "|---|---|---|---|---|---|---|\n",
       "| 1 | 42 | 2061353 | NA |       NA |       NA |          NA |\n",
       "| 2 | 40 | 1611057 |  2 | 450295.9 | 5.590069 | 0.007230541 |\n",
       "\n"
      ],
      "text/plain": [
       "  Res.Df RSS     Df Sum of Sq F        Pr(>F)     \n",
       "1 42     2061353 NA       NA        NA          NA\n",
       "2 40     1611057  2 450295.9  5.590069 0.007230541"
      ]
     },
     "metadata": {},
     "output_type": "display_data"
    }
   ],
   "source": [
    "\"Testing the 6 predictors model aganist the 4 predictors model\"\n",
    "anova(model_4factors, model_6factors)"
   ]
  },
  {
   "cell_type": "markdown",
   "id": "6bbd6df9",
   "metadata": {},
   "source": [
    "From the Anova testing,\n",
    "1. The 6 predictors model - with 7 less predictors - is better than the more complex basic model (p-value = 0.85)\n",
    "2. The 6 predictors model (more complex) is better than the both the 5 predictors model and the 4 predictors model (p-value = 0.035 & 0.007 respectively)\n",
    "\n",
    "As a result, the 6 predictors model is the optimum model aligned with the adjusted R2 results."
   ]
  },
  {
   "cell_type": "markdown",
   "id": "d3354e72",
   "metadata": {},
   "source": [
    "<p><p style=\"page-break-after:always;\"></p></p>"
   ]
  },
  {
   "cell_type": "markdown",
   "id": "1cfb588f",
   "metadata": {},
   "source": [
    "\"New City Prediciton\""
   ]
  },
  {
   "cell_type": "code",
   "execution_count": 13,
   "id": "58cb9106",
   "metadata": {},
   "outputs": [
    {
     "data": {
      "text/html": [
       "<table class=\"dataframe\">\n",
       "<caption>A data.frame: 1 × 15</caption>\n",
       "<thead>\n",
       "\t<tr><th scope=col>M</th><th scope=col>So</th><th scope=col>Ed</th><th scope=col>Po1</th><th scope=col>Po2</th><th scope=col>LF</th><th scope=col>M.F</th><th scope=col>Pop</th><th scope=col>NW</th><th scope=col>U1</th><th scope=col>U2</th><th scope=col>Wealth</th><th scope=col>Ineq</th><th scope=col>Prob</th><th scope=col>Time</th></tr>\n",
       "\t<tr><th scope=col>&lt;dbl&gt;</th><th scope=col>&lt;dbl&gt;</th><th scope=col>&lt;dbl&gt;</th><th scope=col>&lt;dbl&gt;</th><th scope=col>&lt;dbl&gt;</th><th scope=col>&lt;dbl&gt;</th><th scope=col>&lt;dbl&gt;</th><th scope=col>&lt;dbl&gt;</th><th scope=col>&lt;dbl&gt;</th><th scope=col>&lt;dbl&gt;</th><th scope=col>&lt;dbl&gt;</th><th scope=col>&lt;dbl&gt;</th><th scope=col>&lt;dbl&gt;</th><th scope=col>&lt;dbl&gt;</th><th scope=col>&lt;dbl&gt;</th></tr>\n",
       "</thead>\n",
       "<tbody>\n",
       "\t<tr><td>14</td><td>0</td><td>10</td><td>12</td><td>15.5</td><td>0.64</td><td>94</td><td>150</td><td>1.1</td><td>0.12</td><td>3.6</td><td>3200</td><td>20.1</td><td>0.04</td><td>39</td></tr>\n",
       "</tbody>\n",
       "</table>\n"
      ],
      "text/latex": [
       "A data.frame: 1 × 15\n",
       "\\begin{tabular}{lllllllllllllll}\n",
       " M & So & Ed & Po1 & Po2 & LF & M.F & Pop & NW & U1 & U2 & Wealth & Ineq & Prob & Time\\\\\n",
       " <dbl> & <dbl> & <dbl> & <dbl> & <dbl> & <dbl> & <dbl> & <dbl> & <dbl> & <dbl> & <dbl> & <dbl> & <dbl> & <dbl> & <dbl>\\\\\n",
       "\\hline\n",
       "\t 14 & 0 & 10 & 12 & 15.5 & 0.64 & 94 & 150 & 1.1 & 0.12 & 3.6 & 3200 & 20.1 & 0.04 & 39\\\\\n",
       "\\end{tabular}\n"
      ],
      "text/markdown": [
       "\n",
       "A data.frame: 1 × 15\n",
       "\n",
       "| M &lt;dbl&gt; | So &lt;dbl&gt; | Ed &lt;dbl&gt; | Po1 &lt;dbl&gt; | Po2 &lt;dbl&gt; | LF &lt;dbl&gt; | M.F &lt;dbl&gt; | Pop &lt;dbl&gt; | NW &lt;dbl&gt; | U1 &lt;dbl&gt; | U2 &lt;dbl&gt; | Wealth &lt;dbl&gt; | Ineq &lt;dbl&gt; | Prob &lt;dbl&gt; | Time &lt;dbl&gt; |\n",
       "|---|---|---|---|---|---|---|---|---|---|---|---|---|---|---|\n",
       "| 14 | 0 | 10 | 12 | 15.5 | 0.64 | 94 | 150 | 1.1 | 0.12 | 3.6 | 3200 | 20.1 | 0.04 | 39 |\n",
       "\n"
      ],
      "text/plain": [
       "  M  So Ed Po1 Po2  LF   M.F Pop NW  U1   U2  Wealth Ineq Prob Time\n",
       "1 14 0  10 12  15.5 0.64 94  150 1.1 0.12 3.6 3200   20.1 0.04 39  "
      ]
     },
     "metadata": {},
     "output_type": "display_data"
    }
   ],
   "source": [
    "# creating required test city data\n",
    "test_city <- data.frame(\"M\"=14.0, \"So\"=0, \"Ed\"=10.0, \"Po1\"=12.0, \"Po2\"=15.5, \"LF\"=0.64, \"M.F\"=94.0, \"Pop\"=150, \"NW\"=1.1,\n",
    "                       \"U1\"=0.12, \"U2\"=3.6, \"Wealth\"=3200, \"Ineq\"=20.1, \"Prob\"=0.04, \"Time\"=39.0)\n",
    "test_city"
   ]
  },
  {
   "cell_type": "code",
   "execution_count": 14,
   "id": "5adc2eca",
   "metadata": {},
   "outputs": [
    {
     "name": "stdout",
     "output_type": "stream",
     "text": [
      "Predicted Crime rate for the new city is 1304 \n",
      "Predicted Crime rate the new city is between 880 & 1728 with 95% confidence"
     ]
    }
   ],
   "source": [
    "# Predict New City Crime\n",
    "test_city_pred <- round(predict(model_6factors, test_city, type = \"response\", interval=\"prediction\", level=0.95), 0)\n",
    "cat(\"Predicted Crime rate for the new city is\", test_city_pred[,\"fit\"], \"\\n\")\n",
    "# calculate confidence\n",
    "cat(\"Predicted Crime rate the new city is between\", test_city_pred[,\"lwr\"] , \"&\", test_city_pred[,\"upr\"], \"with 95% confidence\")"
   ]
  },
  {
   "cell_type": "code",
   "execution_count": 15,
   "id": "1b4019c3",
   "metadata": {},
   "outputs": [
    {
     "name": "stdout",
     "output_type": "stream",
     "text": [
      "Range of Crime rates in dataset 342 1993"
     ]
    }
   ],
   "source": [
    "# range of Crime rates in dataset\n",
    "cat(\"Range of Crime rates in dataset\", range(df$Crime))"
   ]
  },
  {
   "cell_type": "markdown",
   "id": "ce7f2bad",
   "metadata": {},
   "source": [
    "<p><p style=\"page-break-after:always;\"></p></p>"
   ]
  },
  {
   "cell_type": "markdown",
   "id": "166531b9",
   "metadata": {},
   "source": [
    "<b> In conclusion, </b>\n",
    "    \n",
    "The predicted crime rate for the required city is 1,304 Crimes/100,000 population. \n",
    "\n",
    "The predicted Crime rate the new city is between 880 & 1728 with 95% confidence which falls reasonably between the limits of the crimes column minimum and maximum which are 342 and 1993 respectively.\n",
    "\n",
    "The final model utilizes 6 predictors. The predictors used and their coffcients are:"
   ]
  },
  {
   "cell_type": "code",
   "execution_count": 16,
   "id": "3e597be9",
   "metadata": {},
   "outputs": [
    {
     "data": {
      "text/html": [
       "<style>\n",
       ".dl-inline {width: auto; margin:0; padding: 0}\n",
       ".dl-inline>dt, .dl-inline>dd {float: none; width: auto; display: inline-block}\n",
       ".dl-inline>dt::after {content: \":\\0020\"; padding-right: .5ex}\n",
       ".dl-inline>dt:not(:first-of-type) {padding-left: .5ex}\n",
       "</style><dl class=dl-inline><dt>(Intercept)</dt><dd>-5041</dd><dt>M</dt><dd>105</dd><dt>Ed</dt><dd>196</dd><dt>Po1</dt><dd>115</dd><dt>U2</dt><dd>89</dd><dt>Ineq</dt><dd>68</dd><dt>Prob</dt><dd>-3802</dd></dl>\n"
      ],
      "text/latex": [
       "\\begin{description*}\n",
       "\\item[(Intercept)] -5041\n",
       "\\item[M] 105\n",
       "\\item[Ed] 196\n",
       "\\item[Po1] 115\n",
       "\\item[U2] 89\n",
       "\\item[Ineq] 68\n",
       "\\item[Prob] -3802\n",
       "\\end{description*}\n"
      ],
      "text/markdown": [
       "(Intercept)\n",
       ":   -5041M\n",
       ":   105Ed\n",
       ":   196Po1\n",
       ":   115U2\n",
       ":   89Ineq\n",
       ":   68Prob\n",
       ":   -3802\n",
       "\n"
      ],
      "text/plain": [
       "(Intercept)           M          Ed         Po1          U2        Ineq \n",
       "      -5041         105         196         115          89          68 \n",
       "       Prob \n",
       "      -3802 "
      ]
     },
     "metadata": {},
     "output_type": "display_data"
    }
   ],
   "source": [
    "round(summary(model_6factors)$coefficients[,\"Estimate\"],0)"
   ]
  },
  {
   "cell_type": "markdown",
   "id": "59a6caa6",
   "metadata": {},
   "source": [
    "The quality of the model fit is assesed below:"
   ]
  },
  {
   "cell_type": "code",
   "execution_count": 17,
   "id": "a6b3e070",
   "metadata": {},
   "outputs": [
    {
     "name": "stdout",
     "output_type": "stream",
     "text": [
      "Residual standard error: 201 \n",
      "R-squared: 0.766 \n",
      "Adjusted R-squared: 0.731 \n"
     ]
    }
   ],
   "source": [
    "cat(\"Residual standard error:\", round(summary(model_6factors)$sigma,0), \"\\n\")\n",
    "cat(\"R-squared:\", round(summary(model_6factors)$r.squared,3), \"\\n\")\n",
    "cat(\"Adjusted R-squared:\", round(summary(model_6factors)$adj.r.squared,3), \"\\n\")"
   ]
  },
  {
   "cell_type": "markdown",
   "id": "56926784",
   "metadata": {},
   "source": [
    "Software output"
   ]
  },
  {
   "cell_type": "code",
   "execution_count": 18,
   "id": "fe7e706a",
   "metadata": {},
   "outputs": [
    {
     "data": {
      "text/plain": [
       "\n",
       "Call:\n",
       "lm(formula = Crime ~ M + Ed + Po1 + U2 + Ineq + Prob, data = filtered_df)\n",
       "\n",
       "Residuals:\n",
       "    Min      1Q  Median      3Q     Max \n",
       "-470.68  -78.41  -19.68  133.12  556.23 \n",
       "\n",
       "Coefficients:\n",
       "            Estimate Std. Error t value Pr(>|t|)    \n",
       "(Intercept) -5040.50     899.84  -5.602 1.72e-06 ***\n",
       "M             105.02      33.30   3.154  0.00305 ** \n",
       "Ed            196.47      44.75   4.390 8.07e-05 ***\n",
       "Po1           115.02      13.75   8.363 2.56e-10 ***\n",
       "U2             89.37      40.91   2.185  0.03483 *  \n",
       "Ineq           67.65      13.94   4.855 1.88e-05 ***\n",
       "Prob        -3801.84    1528.10  -2.488  0.01711 *  \n",
       "---\n",
       "Signif. codes:  0 '***' 0.001 '**' 0.01 '*' 0.05 '.' 0.1 ' ' 1\n",
       "\n",
       "Residual standard error: 200.7 on 40 degrees of freedom\n",
       "Multiple R-squared:  0.7659,\tAdjusted R-squared:  0.7307 \n",
       "F-statistic: 21.81 on 6 and 40 DF,  p-value: 3.418e-11\n"
      ]
     },
     "metadata": {},
     "output_type": "display_data"
    }
   ],
   "source": [
    "summary(model_6factors)"
   ]
  }
 ],
 "metadata": {
  "kernelspec": {
   "display_name": "R",
   "language": "R",
   "name": "ir"
  },
  "language_info": {
   "codemirror_mode": "r",
   "file_extension": ".r",
   "mimetype": "text/x-r-source",
   "name": "R",
   "pygments_lexer": "r",
   "version": "3.6.1"
  }
 },
 "nbformat": 4,
 "nbformat_minor": 5
}
