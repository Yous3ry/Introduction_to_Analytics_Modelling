{
 "cells": [
  {
   "cell_type": "markdown",
   "id": "1a26075e",
   "metadata": {},
   "source": [
    "<h1> Week 7 Homework"
   ]
  },
  {
   "cell_type": "markdown",
   "id": "0cc04b8f",
   "metadata": {},
   "source": [
    "<h2>Question 10.1</h2>"
   ]
  },
  {
   "cell_type": "markdown",
   "id": "ec696f1c",
   "metadata": {},
   "source": [
    "Using the same crime data set uscrime.txt as in Questions 8.2 and 9.1, find the best model you can using: <br>\n",
    "(a) a regression tree model, and <br>\n",
    "(b) a random forest model. <br>\n",
    "In R, you can use the tree package or the rpart package, and the randomForest package. <br>\n",
    "For each model, describe one or two qualitative takeaways you get from analyzing the results (i.e., don’t just stop when you have a good model, but interpret it too). "
   ]
  },
  {
   "cell_type": "code",
   "execution_count": 1,
   "id": "1de44b4b",
   "metadata": {},
   "outputs": [
    {
     "data": {
      "text/html": [
       "<table class=\"dataframe\">\n",
       "<caption>A data.frame: 6 × 16</caption>\n",
       "<thead>\n",
       "\t<tr><th></th><th scope=col>M</th><th scope=col>So</th><th scope=col>Ed</th><th scope=col>Po1</th><th scope=col>Po2</th><th scope=col>LF</th><th scope=col>M.F</th><th scope=col>Pop</th><th scope=col>NW</th><th scope=col>U1</th><th scope=col>U2</th><th scope=col>Wealth</th><th scope=col>Ineq</th><th scope=col>Prob</th><th scope=col>Time</th><th scope=col>Crime</th></tr>\n",
       "\t<tr><th></th><th scope=col>&lt;dbl&gt;</th><th scope=col>&lt;int&gt;</th><th scope=col>&lt;dbl&gt;</th><th scope=col>&lt;dbl&gt;</th><th scope=col>&lt;dbl&gt;</th><th scope=col>&lt;dbl&gt;</th><th scope=col>&lt;dbl&gt;</th><th scope=col>&lt;int&gt;</th><th scope=col>&lt;dbl&gt;</th><th scope=col>&lt;dbl&gt;</th><th scope=col>&lt;dbl&gt;</th><th scope=col>&lt;int&gt;</th><th scope=col>&lt;dbl&gt;</th><th scope=col>&lt;dbl&gt;</th><th scope=col>&lt;dbl&gt;</th><th scope=col>&lt;int&gt;</th></tr>\n",
       "</thead>\n",
       "<tbody>\n",
       "\t<tr><th scope=row>1</th><td>15.1</td><td>1</td><td> 9.1</td><td> 5.8</td><td> 5.6</td><td>0.510</td><td> 95.0</td><td> 33</td><td>30.1</td><td>0.108</td><td>4.1</td><td>3940</td><td>26.1</td><td>0.084602</td><td>26.2011</td><td> 791</td></tr>\n",
       "\t<tr><th scope=row>2</th><td>14.3</td><td>0</td><td>11.3</td><td>10.3</td><td> 9.5</td><td>0.583</td><td>101.2</td><td> 13</td><td>10.2</td><td>0.096</td><td>3.6</td><td>5570</td><td>19.4</td><td>0.029599</td><td>25.2999</td><td>1635</td></tr>\n",
       "\t<tr><th scope=row>3</th><td>14.2</td><td>1</td><td> 8.9</td><td> 4.5</td><td> 4.4</td><td>0.533</td><td> 96.9</td><td> 18</td><td>21.9</td><td>0.094</td><td>3.3</td><td>3180</td><td>25.0</td><td>0.083401</td><td>24.3006</td><td> 578</td></tr>\n",
       "\t<tr><th scope=row>4</th><td>13.6</td><td>0</td><td>12.1</td><td>14.9</td><td>14.1</td><td>0.577</td><td> 99.4</td><td>157</td><td> 8.0</td><td>0.102</td><td>3.9</td><td>6730</td><td>16.7</td><td>0.015801</td><td>29.9012</td><td>1969</td></tr>\n",
       "\t<tr><th scope=row>5</th><td>14.1</td><td>0</td><td>12.1</td><td>10.9</td><td>10.1</td><td>0.591</td><td> 98.5</td><td> 18</td><td> 3.0</td><td>0.091</td><td>2.0</td><td>5780</td><td>17.4</td><td>0.041399</td><td>21.2998</td><td>1234</td></tr>\n",
       "\t<tr><th scope=row>6</th><td>12.1</td><td>0</td><td>11.0</td><td>11.8</td><td>11.5</td><td>0.547</td><td> 96.4</td><td> 25</td><td> 4.4</td><td>0.084</td><td>2.9</td><td>6890</td><td>12.6</td><td>0.034201</td><td>20.9995</td><td> 682</td></tr>\n",
       "</tbody>\n",
       "</table>\n"
      ],
      "text/latex": [
       "A data.frame: 6 × 16\n",
       "\\begin{tabular}{r|llllllllllllllll}\n",
       "  & M & So & Ed & Po1 & Po2 & LF & M.F & Pop & NW & U1 & U2 & Wealth & Ineq & Prob & Time & Crime\\\\\n",
       "  & <dbl> & <int> & <dbl> & <dbl> & <dbl> & <dbl> & <dbl> & <int> & <dbl> & <dbl> & <dbl> & <int> & <dbl> & <dbl> & <dbl> & <int>\\\\\n",
       "\\hline\n",
       "\t1 & 15.1 & 1 &  9.1 &  5.8 &  5.6 & 0.510 &  95.0 &  33 & 30.1 & 0.108 & 4.1 & 3940 & 26.1 & 0.084602 & 26.2011 &  791\\\\\n",
       "\t2 & 14.3 & 0 & 11.3 & 10.3 &  9.5 & 0.583 & 101.2 &  13 & 10.2 & 0.096 & 3.6 & 5570 & 19.4 & 0.029599 & 25.2999 & 1635\\\\\n",
       "\t3 & 14.2 & 1 &  8.9 &  4.5 &  4.4 & 0.533 &  96.9 &  18 & 21.9 & 0.094 & 3.3 & 3180 & 25.0 & 0.083401 & 24.3006 &  578\\\\\n",
       "\t4 & 13.6 & 0 & 12.1 & 14.9 & 14.1 & 0.577 &  99.4 & 157 &  8.0 & 0.102 & 3.9 & 6730 & 16.7 & 0.015801 & 29.9012 & 1969\\\\\n",
       "\t5 & 14.1 & 0 & 12.1 & 10.9 & 10.1 & 0.591 &  98.5 &  18 &  3.0 & 0.091 & 2.0 & 5780 & 17.4 & 0.041399 & 21.2998 & 1234\\\\\n",
       "\t6 & 12.1 & 0 & 11.0 & 11.8 & 11.5 & 0.547 &  96.4 &  25 &  4.4 & 0.084 & 2.9 & 6890 & 12.6 & 0.034201 & 20.9995 &  682\\\\\n",
       "\\end{tabular}\n"
      ],
      "text/markdown": [
       "\n",
       "A data.frame: 6 × 16\n",
       "\n",
       "| <!--/--> | M &lt;dbl&gt; | So &lt;int&gt; | Ed &lt;dbl&gt; | Po1 &lt;dbl&gt; | Po2 &lt;dbl&gt; | LF &lt;dbl&gt; | M.F &lt;dbl&gt; | Pop &lt;int&gt; | NW &lt;dbl&gt; | U1 &lt;dbl&gt; | U2 &lt;dbl&gt; | Wealth &lt;int&gt; | Ineq &lt;dbl&gt; | Prob &lt;dbl&gt; | Time &lt;dbl&gt; | Crime &lt;int&gt; |\n",
       "|---|---|---|---|---|---|---|---|---|---|---|---|---|---|---|---|---|\n",
       "| 1 | 15.1 | 1 |  9.1 |  5.8 |  5.6 | 0.510 |  95.0 |  33 | 30.1 | 0.108 | 4.1 | 3940 | 26.1 | 0.084602 | 26.2011 |  791 |\n",
       "| 2 | 14.3 | 0 | 11.3 | 10.3 |  9.5 | 0.583 | 101.2 |  13 | 10.2 | 0.096 | 3.6 | 5570 | 19.4 | 0.029599 | 25.2999 | 1635 |\n",
       "| 3 | 14.2 | 1 |  8.9 |  4.5 |  4.4 | 0.533 |  96.9 |  18 | 21.9 | 0.094 | 3.3 | 3180 | 25.0 | 0.083401 | 24.3006 |  578 |\n",
       "| 4 | 13.6 | 0 | 12.1 | 14.9 | 14.1 | 0.577 |  99.4 | 157 |  8.0 | 0.102 | 3.9 | 6730 | 16.7 | 0.015801 | 29.9012 | 1969 |\n",
       "| 5 | 14.1 | 0 | 12.1 | 10.9 | 10.1 | 0.591 |  98.5 |  18 |  3.0 | 0.091 | 2.0 | 5780 | 17.4 | 0.041399 | 21.2998 | 1234 |\n",
       "| 6 | 12.1 | 0 | 11.0 | 11.8 | 11.5 | 0.547 |  96.4 |  25 |  4.4 | 0.084 | 2.9 | 6890 | 12.6 | 0.034201 | 20.9995 |  682 |\n",
       "\n"
      ],
      "text/plain": [
       "  M    So Ed   Po1  Po2  LF    M.F   Pop NW   U1    U2  Wealth Ineq Prob    \n",
       "1 15.1 1   9.1  5.8  5.6 0.510  95.0  33 30.1 0.108 4.1 3940   26.1 0.084602\n",
       "2 14.3 0  11.3 10.3  9.5 0.583 101.2  13 10.2 0.096 3.6 5570   19.4 0.029599\n",
       "3 14.2 1   8.9  4.5  4.4 0.533  96.9  18 21.9 0.094 3.3 3180   25.0 0.083401\n",
       "4 13.6 0  12.1 14.9 14.1 0.577  99.4 157  8.0 0.102 3.9 6730   16.7 0.015801\n",
       "5 14.1 0  12.1 10.9 10.1 0.591  98.5  18  3.0 0.091 2.0 5780   17.4 0.041399\n",
       "6 12.1 0  11.0 11.8 11.5 0.547  96.4  25  4.4 0.084 2.9 6890   12.6 0.034201\n",
       "  Time    Crime\n",
       "1 26.2011  791 \n",
       "2 25.2999 1635 \n",
       "3 24.3006  578 \n",
       "4 29.9012 1969 \n",
       "5 21.2998 1234 \n",
       "6 20.9995  682 "
      ]
     },
     "metadata": {},
     "output_type": "display_data"
    },
    {
     "name": "stdout",
     "output_type": "stream",
     "text": [
      "No. of cols: 16 \n",
      "No. of rows: 47"
     ]
    }
   ],
   "source": [
    "# loading the dataset\n",
    "# READ DATASET as DataFrame\n",
    "df <- read.table(\"uscrime.txt\", header = TRUE, sep = \"\\t\")\n",
    "# Display Data\n",
    "head(df)\n",
    "cat(\"No. of cols:\", ncol(df), \"\\n\")\n",
    "cat(\"No. of rows:\", nrow(df))"
   ]
  },
  {
   "cell_type": "markdown",
   "id": "5876d0d9",
   "metadata": {},
   "source": [
    "<p><p style=\"page-break-after:always;\"></p></p>"
   ]
  },
  {
   "cell_type": "markdown",
   "id": "71f2c4d3",
   "metadata": {},
   "source": [
    "<b> Regression tree model </b>"
   ]
  },
  {
   "cell_type": "code",
   "execution_count": 2,
   "id": "fff13f33",
   "metadata": {},
   "outputs": [
    {
     "name": "stderr",
     "output_type": "stream",
     "text": [
      "Warning message:\n",
      "\"package 'tree' was built under R version 3.6.3\""
     ]
    }
   ],
   "source": [
    "# install.packages(\"tree\")\n",
    "library(tree)"
   ]
  },
  {
   "cell_type": "code",
   "execution_count": 3,
   "id": "0c227814",
   "metadata": {},
   "outputs": [
    {
     "data": {
      "text/plain": [
       "\n",
       "Regression tree:\n",
       "tree(formula = Crime ~ ., data = df, model = TRUE)\n",
       "Variables actually used in tree construction:\n",
       "[1] \"Po1\" \"Pop\" \"LF\"  \"NW\" \n",
       "Number of terminal nodes:  7 \n",
       "Residual mean deviance:  47390 = 1896000 / 40 \n",
       "Distribution of residuals:\n",
       "    Min.  1st Qu.   Median     Mean  3rd Qu.     Max. \n",
       "-573.900  -98.300   -1.545    0.000  110.600  490.100 "
      ]
     },
     "metadata": {},
     "output_type": "display_data"
    }
   ],
   "source": [
    "tree_model <- tree(Crime~., data=df, model=TRUE)\n",
    "summary(tree_model)"
   ]
  },
  {
   "cell_type": "code",
   "execution_count": 4,
   "id": "86206965",
   "metadata": {
    "scrolled": false
   },
   "outputs": [
    {
     "data": {
      "text/html": [
       "<table class=\"dataframe\">\n",
       "<caption>A data.frame: 13 × 5</caption>\n",
       "<thead>\n",
       "\t<tr><th></th><th scope=col>var</th><th scope=col>n</th><th scope=col>dev</th><th scope=col>yval</th><th scope=col>splits</th></tr>\n",
       "\t<tr><th></th><th scope=col>&lt;fct&gt;</th><th scope=col>&lt;dbl&gt;</th><th scope=col>&lt;dbl&gt;</th><th scope=col>&lt;dbl&gt;</th><th scope=col>&lt;chr[,2]&gt;</th></tr>\n",
       "</thead>\n",
       "<tbody>\n",
       "\t<tr><th scope=row>1</th><td><span style=white-space:pre-wrap>Po1   </span></td><td>47</td><td>6880927.66</td><td> 905.0851</td><td><span style=white-space:pre-wrap>&lt;7.65  , &gt;7.65  </span></td></tr>\n",
       "\t<tr><th scope=row>2</th><td><span style=white-space:pre-wrap>Pop   </span></td><td>23</td><td> 779243.48</td><td> 669.6087</td><td><span style=white-space:pre-wrap>&lt;22.5  , &gt;22.5  </span></td></tr>\n",
       "\t<tr><th scope=row>4</th><td><span style=white-space:pre-wrap>LF    </span></td><td>12</td><td> 243811.00</td><td> 550.5000</td><td>&lt;0.5675, &gt;0.5675</td></tr>\n",
       "\t<tr><th scope=row>8</th><td>&lt;leaf&gt;</td><td> 7</td><td><span style=white-space:pre-wrap>  48518.86</span></td><td> 466.8571</td><td><span style=white-space:pre-wrap>       ,        </span></td></tr>\n",
       "\t<tr><th scope=row>9</th><td>&lt;leaf&gt;</td><td> 5</td><td><span style=white-space:pre-wrap>  77757.20</span></td><td> 667.6000</td><td><span style=white-space:pre-wrap>       ,        </span></td></tr>\n",
       "\t<tr><th scope=row>5</th><td>&lt;leaf&gt;</td><td>11</td><td> 179470.73</td><td> 799.5455</td><td><span style=white-space:pre-wrap>       ,        </span></td></tr>\n",
       "\t<tr><th scope=row>3</th><td><span style=white-space:pre-wrap>NW    </span></td><td>24</td><td>3604162.50</td><td>1130.7500</td><td><span style=white-space:pre-wrap>&lt;7.65  , &gt;7.65  </span></td></tr>\n",
       "\t<tr><th scope=row>6</th><td><span style=white-space:pre-wrap>Pop   </span></td><td>10</td><td> 557574.90</td><td> 886.9000</td><td><span style=white-space:pre-wrap>&lt;21.5  , &gt;21.5  </span></td></tr>\n",
       "\t<tr><th scope=row>12</th><td>&lt;leaf&gt;</td><td> 5</td><td> 146390.80</td><td>1049.2000</td><td><span style=white-space:pre-wrap>       ,        </span></td></tr>\n",
       "\t<tr><th scope=row>13</th><td>&lt;leaf&gt;</td><td> 5</td><td> 147771.20</td><td> 724.6000</td><td><span style=white-space:pre-wrap>       ,        </span></td></tr>\n",
       "\t<tr><th scope=row>7</th><td><span style=white-space:pre-wrap>Po1   </span></td><td>14</td><td>2027224.93</td><td>1304.9286</td><td><span style=white-space:pre-wrap>&lt;9.65  , &gt;9.65  </span></td></tr>\n",
       "\t<tr><th scope=row>14</th><td>&lt;leaf&gt;</td><td> 6</td><td> 170828.00</td><td>1041.0000</td><td><span style=white-space:pre-wrap>       ,        </span></td></tr>\n",
       "\t<tr><th scope=row>15</th><td>&lt;leaf&gt;</td><td> 8</td><td>1124984.88</td><td>1502.8750</td><td><span style=white-space:pre-wrap>       ,        </span></td></tr>\n",
       "</tbody>\n",
       "</table>\n"
      ],
      "text/latex": [
       "A data.frame: 13 × 5\n",
       "\\begin{tabular}{r|lllll}\n",
       "  & var & n & dev & yval & splits\\\\\n",
       "  & <fct> & <dbl> & <dbl> & <dbl> & <chr{[},2{]}>\\\\\n",
       "\\hline\n",
       "\t1 & Po1    & 47 & 6880927.66 &  905.0851 & <7.65  , >7.65  \\\\\n",
       "\t2 & Pop    & 23 &  779243.48 &  669.6087 & <22.5  , >22.5  \\\\\n",
       "\t4 & LF     & 12 &  243811.00 &  550.5000 & <0.5675, >0.5675\\\\\n",
       "\t8 & <leaf> &  7 &   48518.86 &  466.8571 &        ,        \\\\\n",
       "\t9 & <leaf> &  5 &   77757.20 &  667.6000 &        ,        \\\\\n",
       "\t5 & <leaf> & 11 &  179470.73 &  799.5455 &        ,        \\\\\n",
       "\t3 & NW     & 24 & 3604162.50 & 1130.7500 & <7.65  , >7.65  \\\\\n",
       "\t6 & Pop    & 10 &  557574.90 &  886.9000 & <21.5  , >21.5  \\\\\n",
       "\t12 & <leaf> &  5 &  146390.80 & 1049.2000 &        ,        \\\\\n",
       "\t13 & <leaf> &  5 &  147771.20 &  724.6000 &        ,        \\\\\n",
       "\t7 & Po1    & 14 & 2027224.93 & 1304.9286 & <9.65  , >9.65  \\\\\n",
       "\t14 & <leaf> &  6 &  170828.00 & 1041.0000 &        ,        \\\\\n",
       "\t15 & <leaf> &  8 & 1124984.88 & 1502.8750 &        ,        \\\\\n",
       "\\end{tabular}\n"
      ],
      "text/markdown": [
       "\n",
       "A data.frame: 13 × 5\n",
       "\n",
       "| <!--/--> | var &lt;fct&gt; | n &lt;dbl&gt; | dev &lt;dbl&gt; | yval &lt;dbl&gt; | splits &lt;chr[,2]&gt; |\n",
       "|---|---|---|---|---|---|\n",
       "| 1 | Po1    | 47 | 6880927.66 |  905.0851 | &lt;7.65  , &gt;7.65   |\n",
       "| 2 | Pop    | 23 |  779243.48 |  669.6087 | &lt;22.5  , &gt;22.5   |\n",
       "| 4 | LF     | 12 |  243811.00 |  550.5000 | &lt;0.5675, &gt;0.5675 |\n",
       "| 8 | &lt;leaf&gt; |  7 |   48518.86 |  466.8571 |        ,         |\n",
       "| 9 | &lt;leaf&gt; |  5 |   77757.20 |  667.6000 |        ,         |\n",
       "| 5 | &lt;leaf&gt; | 11 |  179470.73 |  799.5455 |        ,         |\n",
       "| 3 | NW     | 24 | 3604162.50 | 1130.7500 | &lt;7.65  , &gt;7.65   |\n",
       "| 6 | Pop    | 10 |  557574.90 |  886.9000 | &lt;21.5  , &gt;21.5   |\n",
       "| 12 | &lt;leaf&gt; |  5 |  146390.80 | 1049.2000 |        ,         |\n",
       "| 13 | &lt;leaf&gt; |  5 |  147771.20 |  724.6000 |        ,         |\n",
       "| 7 | Po1    | 14 | 2027224.93 | 1304.9286 | &lt;9.65  , &gt;9.65   |\n",
       "| 14 | &lt;leaf&gt; |  6 |  170828.00 | 1041.0000 |        ,         |\n",
       "| 15 | &lt;leaf&gt; |  8 | 1124984.88 | 1502.8750 |        ,         |\n",
       "\n"
      ],
      "text/plain": [
       "   var    n  dev        yval      splits          \n",
       "1  Po1    47 6880927.66  905.0851 <7.65  , >7.65  \n",
       "2  Pop    23  779243.48  669.6087 <22.5  , >22.5  \n",
       "4  LF     12  243811.00  550.5000 <0.5675, >0.5675\n",
       "8  <leaf>  7   48518.86  466.8571        ,        \n",
       "9  <leaf>  5   77757.20  667.6000        ,        \n",
       "5  <leaf> 11  179470.73  799.5455        ,        \n",
       "3  NW     24 3604162.50 1130.7500 <7.65  , >7.65  \n",
       "6  Pop    10  557574.90  886.9000 <21.5  , >21.5  \n",
       "12 <leaf>  5  146390.80 1049.2000        ,        \n",
       "13 <leaf>  5  147771.20  724.6000        ,        \n",
       "7  Po1    14 2027224.93 1304.9286 <9.65  , >9.65  \n",
       "14 <leaf>  6  170828.00 1041.0000        ,        \n",
       "15 <leaf>  8 1124984.88 1502.8750        ,        "
      ]
     },
     "metadata": {},
     "output_type": "display_data"
    }
   ],
   "source": [
    "# review Leaves data\n",
    "tree_model$frame"
   ]
  },
  {
   "cell_type": "markdown",
   "id": "8de3078f",
   "metadata": {},
   "source": [
    "From the Data above, the minimum number of data points per leaf (\\<leaf\\> in Var column) is 5 points (n==5).  <br>\n",
    "Assuming the rule of thumb: minimum number of data points per leaf >= 5% data points (3 points). <br>\n",
    "Conclusion: The minimum number of data points per leaf is greater than the allowed minimum."
   ]
  },
  {
   "cell_type": "markdown",
   "id": "bcda77a1",
   "metadata": {},
   "source": [
    "<p><p style=\"page-break-after:always;\"></p></p>"
   ]
  },
  {
   "cell_type": "code",
   "execution_count": 5,
   "id": "f3348887",
   "metadata": {},
   "outputs": [
    {
     "data": {
      "image/png": "[encoded data removed]",
      "text/plain": [
       "Plot with title \"Regression Tree Model\""
      ]
     },
     "metadata": {},
     "output_type": "display_data"
    }
   ],
   "source": [
    "plot(tree_model)\n",
    "text(tree_model)\n",
    "title(\"Regression Tree Model\")"
   ]
  },
  {
   "cell_type": "markdown",
   "id": "6f0738bc",
   "metadata": {},
   "source": [
    "We can see that the basic tree model has 7 terminal nodes (leaves). Each terminal node shows the predicted Crime rate/ 100,000 population in that node. <br>\n",
    "Variables used in tree construction: Po1, POP, LF, NW <br>\n",
    "<b> Note </b> that instead of having a model for each leaf, the model uses average of points in each leaf to predict leaf value directly"
   ]
  },
  {
   "cell_type": "markdown",
   "id": "1b77e4b4",
   "metadata": {},
   "source": [
    "<p><p style=\"page-break-after:always;\"></p></p>"
   ]
  },
  {
   "cell_type": "markdown",
   "id": "d77f9129",
   "metadata": {},
   "source": [
    "<b> Cross Validating and testing pruning the tree. </b>"
   ]
  },
  {
   "cell_type": "code",
   "execution_count": 6,
   "id": "4a42e606",
   "metadata": {},
   "outputs": [],
   "source": [
    "set.seed(10)\n",
    "# testing pruning the tree\n",
    "pruned_trees_dev <- prune.tree(tree_model)$dev\n",
    "# 5 fold cross validating for each of the pruned trees\n",
    "CV_pruned_trees_dev <- cv.tree(tree_model, K=5)$dev\n",
    "# storing size of the trees\n",
    "size_trees <- prune.tree(tree_model)$size"
   ]
  },
  {
   "cell_type": "code",
   "execution_count": 7,
   "id": "64763578",
   "metadata": {},
   "outputs": [
    {
     "data": {
      "image/png": "[encoded data removed]",
      "text/plain": [
       "Plot with title \"Deviance of the pruned trees\""
      ]
     },
     "metadata": {},
     "output_type": "display_data"
    }
   ],
   "source": [
    "plot(size_trees, pruned_trees_dev, ylim=c(1e6,10e6), type=\"l\", col=\"black\", xlab=\"Number of Leaves\", ylab=\"Deviance\")\n",
    "lines(size_trees, CV_pruned_trees_dev, col=\"red\")\n",
    "grid()\n",
    "title(\"Deviance of the pruned trees\")\n",
    "legend(1, 2e6, legend=c(\"Training Deviance\", \"Cross-Validated Deviance\"), col=c(\"black\", \"red\"), lty=1:1, cex=0.8)"
   ]
  },
  {
   "cell_type": "markdown",
   "id": "b3fc0968",
   "metadata": {},
   "source": [
    "<p><p style=\"page-break-after:always;\"></p></p>"
   ]
  },
  {
   "cell_type": "markdown",
   "id": "27d57d54",
   "metadata": {},
   "source": [
    "Judging by the deviance plot above, although training Deviance decreases with increasing Number of leafs, 5 Fold cross-validation indicates no imporvement with increasing number of leafs almost constant Deviance. <br>\n",
    "This indicates significant over-fitting by the model.\n",
    "\n",
    "<b>Note</b>: Deviance of a model can be computed as the node residual sums of squares, summed over all nodes. In other words, the sum of squared differences between predicted and observed values. The higher the deviance, the worse the model is.\n",
    "\n",
    "Refrence:\n",
    "https://stats.stackexchange.com/questions/6581/what-is-deviance-specifically-in-cart-rpart"
   ]
  },
  {
   "cell_type": "markdown",
   "id": "d70aa963",
   "metadata": {},
   "source": [
    "<p><p style=\"page-break-after:always;\"></p></p>"
   ]
  },
  {
   "cell_type": "code",
   "execution_count": 8,
   "id": "26838a90",
   "metadata": {},
   "outputs": [
    {
     "data": {
      "image/png": "[encoded data removed]",
      "text/plain": [
       "Plot with title \"Crime Rate Actual vs. Tree Model Prediction\""
      ]
     },
     "metadata": {},
     "output_type": "display_data"
    }
   ],
   "source": [
    "# plot results for Visual QAQC\n",
    "tree_model_results <- predict(tree_model)\n",
    "plot(df$Crime, tree_model_results, xlim=c(0,2000), ylim=c(0,2000), xlab=\"Actual\", ylab=\"Model prediction\")\n",
    "lines(c(0,2000), c(0,2000), col=\"red\")\n",
    "title(\"Crime Rate Actual vs. Tree Model Prediction\")\n",
    "grid()"
   ]
  },
  {
   "cell_type": "code",
   "execution_count": 9,
   "id": "ff43dd39",
   "metadata": {},
   "outputs": [
    {
     "name": "stdout",
     "output_type": "stream",
     "text": [
      "Training R2 for Tree Model: 0.724"
     ]
    }
   ],
   "source": [
    "# Calculating TRAINING R2 for Tree model\n",
    "rss <- sum((tree_model_results - df$Crime) ^ 2)  ## residual sum of squares\n",
    "tss <- sum((df$Crime - mean(df$Crime)) ^ 2)  ## total sum of squares\n",
    "r2 <- 1 - rss/tss\n",
    "cat(\"Training R2 for Tree Model:\", round(r2, 3))"
   ]
  },
  {
   "cell_type": "markdown",
   "id": "441addf8",
   "metadata": {},
   "source": [
    "Note that significant over-fitting is expected from the Deviance analysis Cross-validation"
   ]
  },
  {
   "cell_type": "markdown",
   "id": "c341ad94",
   "metadata": {},
   "source": [
    "<p><p style=\"page-break-after:always;\"></p></p>"
   ]
  },
  {
   "cell_type": "markdown",
   "id": "f5f37bf5",
   "metadata": {},
   "source": [
    "<b> Random forest model </b>"
   ]
  },
  {
   "cell_type": "code",
   "execution_count": 10,
   "id": "2c6e6e00",
   "metadata": {},
   "outputs": [
    {
     "name": "stderr",
     "output_type": "stream",
     "text": [
      "randomForest 4.6-14\n",
      "Type rfNews() to see new features/changes/bug fixes.\n"
     ]
    }
   ],
   "source": [
    "# install.packages(\"randomForest\")\n",
    "library(randomForest)"
   ]
  },
  {
   "cell_type": "markdown",
   "id": "09d6b922",
   "metadata": {},
   "source": [
    "<b> Assumptions </b>\n",
    "1. Minimum size of terminal node (nodesize= 5% data points i.e. 3 points)\n",
    "2. Number of variables randomly sampled as candidates at each split (mtry= 1+log(m) i.e. 3 Variables)"
   ]
  },
  {
   "cell_type": "code",
   "execution_count": 11,
   "id": "43990461",
   "metadata": {},
   "outputs": [
    {
     "data": {
      "text/plain": [
       "\n",
       "Call:\n",
       " randomForest(formula = Crime ~ ., data = df, importance = TRUE,      nodesize = 3, mtry = 3) \n",
       "               Type of random forest: regression\n",
       "                     Number of trees: 500\n",
       "No. of variables tried at each split: 3\n",
       "\n",
       "          Mean of squared residuals: 82738.35\n",
       "                    % Var explained: 43.49"
      ]
     },
     "metadata": {},
     "output_type": "display_data"
    }
   ],
   "source": [
    "# Build the Model\n",
    "set.seed(0)\n",
    "randomforest_model <- randomForest(Crime~., data=df, importance = TRUE, nodesize=3, mtry=3)\n",
    "randomforest_model"
   ]
  },
  {
   "cell_type": "markdown",
   "id": "18684e94",
   "metadata": {},
   "source": [
    "<p><p style=\"page-break-after:always;\"></p></p>"
   ]
  },
  {
   "cell_type": "code",
   "execution_count": 12,
   "id": "7fdd6737",
   "metadata": {},
   "outputs": [
    {
     "data": {
      "image/png": "[encoded data removed]",
      "text/plain": [
       "Plot with title \"randomforest_model\""
      ]
     },
     "metadata": {},
     "output_type": "display_data"
    }
   ],
   "source": [
    "# plot Random Forest results\n",
    "plot(randomforest_model)\n",
    "grid()"
   ]
  },
  {
   "cell_type": "markdown",
   "id": "2473291b",
   "metadata": {},
   "source": [
    "From the chart, it is clear that when using 50 trees or more, the Mean of squared residuals (Error) roughly stabilizes. "
   ]
  },
  {
   "cell_type": "markdown",
   "id": "37b98a11",
   "metadata": {},
   "source": [
    "<p><p style=\"page-break-after:always;\"></p></p>"
   ]
  },
  {
   "cell_type": "code",
   "execution_count": 13,
   "id": "eab42cc6",
   "metadata": {},
   "outputs": [
    {
     "data": {
      "image/png": "[encoded data removed]",
      "text/plain": [
       "plot without title"
      ]
     },
     "metadata": {},
     "output_type": "display_data"
    }
   ],
   "source": [
    "# Plot parameters importance\n",
    "varImpPlot(randomforest_model, sort=TRUE)"
   ]
  },
  {
   "cell_type": "markdown",
   "id": "cef0bc70",
   "metadata": {},
   "source": [
    "The most important parameters for the random forest model are Po1/Po2, followed by NW, Prob and Wealth."
   ]
  },
  {
   "cell_type": "markdown",
   "id": "ee2e23e3",
   "metadata": {},
   "source": [
    "<p><p style=\"page-break-after:always;\"></p></p>"
   ]
  },
  {
   "cell_type": "code",
   "execution_count": 14,
   "id": "e1b960a2",
   "metadata": {},
   "outputs": [
    {
     "data": {
      "image/png": "[encoded data removed]",
      "text/plain": [
       "Plot with title \"Crime Rate Actual vs. Random Forest Model Prediction\""
      ]
     },
     "metadata": {},
     "output_type": "display_data"
    }
   ],
   "source": [
    "# plot results for visual QAQC\n",
    "randomforest_results <- predict(randomforest_model)\n",
    "plot(df$Crime, randomforest_results, xlim=c(0,2000), ylim=c(0,2000), xlab=\"Actual\", ylab=\"Model prediction\")\n",
    "lines(c(0,2000), c(0,2000), col=\"red\")\n",
    "title(\"Crime Rate Actual vs. Random Forest Model Prediction\")\n",
    "grid()"
   ]
  },
  {
   "cell_type": "code",
   "execution_count": 15,
   "id": "6a5f880c",
   "metadata": {},
   "outputs": [
    {
     "name": "stdout",
     "output_type": "stream",
     "text": [
      "Training R2 for Random Forest Model: 0.435"
     ]
    }
   ],
   "source": [
    "# Calculating TRAINING R2 for Tree model\n",
    "rss <- sum((randomforest_results - df$Crime) ^ 2)  ## residual sum of squares\n",
    "tss <- sum((df$Crime - mean(df$Crime)) ^ 2)  ## total sum of squares\n",
    "r2 <- 1 - rss/tss\n",
    "cat(\"Training R2 for Random Forest Model:\", round(r2, 3))"
   ]
  },
  {
   "cell_type": "markdown",
   "id": "0474c613",
   "metadata": {},
   "source": [
    "The Random forest model R2 on training data (0.435) is lower than the Tree model R2 on training data (0.72). <br>\n",
    "However, Random forest is less susceptible to over-fitting while analysis of the tree model showed strong evidence of over-fitting when cross-validated."
   ]
  },
  {
   "cell_type": "markdown",
   "id": "69977e25",
   "metadata": {},
   "source": [
    "<p><p style=\"page-break-after:always;\"></p></p>"
   ]
  },
  {
   "cell_type": "markdown",
   "id": "60f311aa",
   "metadata": {},
   "source": [
    "New City Prediction for quality checking..."
   ]
  },
  {
   "cell_type": "code",
   "execution_count": 16,
   "id": "c6872dbc",
   "metadata": {},
   "outputs": [
    {
     "data": {
      "text/html": [
       "<table class=\"dataframe\">\n",
       "<caption>A data.frame: 1 × 15</caption>\n",
       "<thead>\n",
       "\t<tr><th scope=col>M</th><th scope=col>So</th><th scope=col>Ed</th><th scope=col>Po1</th><th scope=col>Po2</th><th scope=col>LF</th><th scope=col>M.F</th><th scope=col>Pop</th><th scope=col>NW</th><th scope=col>U1</th><th scope=col>U2</th><th scope=col>Wealth</th><th scope=col>Ineq</th><th scope=col>Prob</th><th scope=col>Time</th></tr>\n",
       "\t<tr><th scope=col>&lt;dbl&gt;</th><th scope=col>&lt;dbl&gt;</th><th scope=col>&lt;dbl&gt;</th><th scope=col>&lt;dbl&gt;</th><th scope=col>&lt;dbl&gt;</th><th scope=col>&lt;dbl&gt;</th><th scope=col>&lt;dbl&gt;</th><th scope=col>&lt;dbl&gt;</th><th scope=col>&lt;dbl&gt;</th><th scope=col>&lt;dbl&gt;</th><th scope=col>&lt;dbl&gt;</th><th scope=col>&lt;dbl&gt;</th><th scope=col>&lt;dbl&gt;</th><th scope=col>&lt;dbl&gt;</th><th scope=col>&lt;dbl&gt;</th></tr>\n",
       "</thead>\n",
       "<tbody>\n",
       "\t<tr><td>14</td><td>0</td><td>10</td><td>12</td><td>15.5</td><td>0.64</td><td>94</td><td>150</td><td>1.1</td><td>0.12</td><td>3.6</td><td>3200</td><td>20.1</td><td>0.04</td><td>39</td></tr>\n",
       "</tbody>\n",
       "</table>\n"
      ],
      "text/latex": [
       "A data.frame: 1 × 15\n",
       "\\begin{tabular}{lllllllllllllll}\n",
       " M & So & Ed & Po1 & Po2 & LF & M.F & Pop & NW & U1 & U2 & Wealth & Ineq & Prob & Time\\\\\n",
       " <dbl> & <dbl> & <dbl> & <dbl> & <dbl> & <dbl> & <dbl> & <dbl> & <dbl> & <dbl> & <dbl> & <dbl> & <dbl> & <dbl> & <dbl>\\\\\n",
       "\\hline\n",
       "\t 14 & 0 & 10 & 12 & 15.5 & 0.64 & 94 & 150 & 1.1 & 0.12 & 3.6 & 3200 & 20.1 & 0.04 & 39\\\\\n",
       "\\end{tabular}\n"
      ],
      "text/markdown": [
       "\n",
       "A data.frame: 1 × 15\n",
       "\n",
       "| M &lt;dbl&gt; | So &lt;dbl&gt; | Ed &lt;dbl&gt; | Po1 &lt;dbl&gt; | Po2 &lt;dbl&gt; | LF &lt;dbl&gt; | M.F &lt;dbl&gt; | Pop &lt;dbl&gt; | NW &lt;dbl&gt; | U1 &lt;dbl&gt; | U2 &lt;dbl&gt; | Wealth &lt;dbl&gt; | Ineq &lt;dbl&gt; | Prob &lt;dbl&gt; | Time &lt;dbl&gt; |\n",
       "|---|---|---|---|---|---|---|---|---|---|---|---|---|---|---|\n",
       "| 14 | 0 | 10 | 12 | 15.5 | 0.64 | 94 | 150 | 1.1 | 0.12 | 3.6 | 3200 | 20.1 | 0.04 | 39 |\n",
       "\n"
      ],
      "text/plain": [
       "  M  So Ed Po1 Po2  LF   M.F Pop NW  U1   U2  Wealth Ineq Prob Time\n",
       "1 14 0  10 12  15.5 0.64 94  150 1.1 0.12 3.6 3200   20.1 0.04 39  "
      ]
     },
     "metadata": {},
     "output_type": "display_data"
    }
   ],
   "source": [
    "# creating required test city data\n",
    "test_city <- data.frame(\"M\"=14.0, \"So\"=0, \"Ed\"=10.0, \"Po1\"=12.0, \"Po2\"=15.5, \"LF\"=0.64, \"M.F\"=94.0, \"Pop\"=150, \"NW\"=1.1,\n",
    "                       \"U1\"=0.12, \"U2\"=3.6, \"Wealth\"=3200, \"Ineq\"=20.1, \"Prob\"=0.04, \"Time\"=39.0)\n",
    "test_city"
   ]
  },
  {
   "cell_type": "code",
   "execution_count": 17,
   "id": "f1e6488e",
   "metadata": {},
   "outputs": [
    {
     "name": "stdout",
     "output_type": "stream",
     "text": [
      "Tree Model Prediction 725 \n",
      "Random Forest Model Prediction 1184"
     ]
    }
   ],
   "source": [
    "cat(\"Tree Model Prediction\",round(predict(tree_model, test_city),0), \"\\n\")\n",
    "cat(\"Random Forest Model Prediction\",round(predict(randomforest_model, test_city),0))"
   ]
  },
  {
   "cell_type": "markdown",
   "id": "bb3e0903",
   "metadata": {},
   "source": [
    "Comparison between Different models results for new city prediction (in Crime/100,000 population):\n",
    "1. 6 Factor linear regression model: 1,304\n",
    "2. First 5 Principal Components linear regression model: 1,389\n",
    "3. Random Forest Model Prediction: 1,184\n",
    "4. Tree Model Prediction: 725\n",
    "\n",
    "From the data, its clear that the optimized linear regression model, the model based on the First 5 Principal Components and the random Forest Model has very close prediction results for the test city crime rate.\n",
    "\n",
    "On the other hand, The tree model prediction is significantly different at 725 Crime/ 100,000 population confirming its possible over-fitting and low prediction capabilities."
   ]
  },
  {
   "cell_type": "markdown",
   "id": "76c2fa20",
   "metadata": {},
   "source": [
    "<p><p style=\"page-break-after:always;\"></p></p>"
   ]
  },
  {
   "cell_type": "markdown",
   "id": "dfb665fe",
   "metadata": {},
   "source": [
    "<h2>Question 10.2</h2>"
   ]
  },
  {
   "cell_type": "markdown",
   "id": "9a6e23e9",
   "metadata": {},
   "source": [
    "Describe a situation or problem from your job, everyday life, current events, etc., for which a logistic regression model would be appropriate. List some (up to 5) predictors that you might use. "
   ]
  },
  {
   "cell_type": "markdown",
   "id": "9128467e",
   "metadata": {},
   "source": [
    "<h2>Answer 10.2</h2>"
   ]
  },
  {
   "cell_type": "markdown",
   "id": "366be49c",
   "metadata": {},
   "source": [
    "The early diagnosis and prognosis of cancer can facilitate the subsequent early treatment and clinical management of patients. <br>\n",
    "Logistic regression can be used to predict the risk of cancer thus flagging high risk persons for further check up. <br>\n",
    "Examples of predictors:\n",
    "1. Age\n",
    "2. Life Habits (e.g. Obesity, smoking etc.)\n",
    "3. Family medical history (Number of first-degree relatives who have had cancer)\n",
    "4. Patient medical history (e.g. diabetes, asthma, etc.)\n"
   ]
  },
  {
   "cell_type": "markdown",
   "id": "ee8fd223",
   "metadata": {},
   "source": [
    "<p><p style=\"page-break-after:always;\"></p></p>"
   ]
  },
  {
   "cell_type": "markdown",
   "id": "e5ead25a",
   "metadata": {},
   "source": [
    "<h2>Question 10.3</h2>"
   ]
  },
  {
   "cell_type": "markdown",
   "id": "a3ba25bd",
   "metadata": {},
   "source": [
    "1. Using the GermanCredit data set germancredit.txt from http://archive.ics.uci.edu/ml/machinelearning-databases/statlog/german / (description at http://archive.ics.uci.edu/ml/datasets/Statlog+%28German+Credit+Data%29 ), <br>\n",
    "Use logistic regression to find a good predictive model for whether credit applicants are good credit risks or not. <br> \n",
    "Show your model (factors used and their coefficients), the software output, and the quality of fit. <br>\n",
    "You can use the glm function in R. To get a logistic regression (logit) model on data where the response is either zero or one, use family=binomial(link=”logit”) in your glm function call. "
   ]
  },
  {
   "cell_type": "markdown",
   "id": "c06633e7",
   "metadata": {},
   "source": [
    "2. Because the model gives a result between 0 and 1, it requires setting a threshold probability to separate between “good” and “bad” answers. In this data set, they estimate that incorrectly identifying a bad customer as good, is 5 times worse than incorrectly classifying a good customer as bad. Determine a good threshold probability based on your model. "
   ]
  },
  {
   "cell_type": "code",
   "execution_count": 18,
   "id": "f17e476c",
   "metadata": {},
   "outputs": [
    {
     "data": {
      "text/html": [
       "<table class=\"dataframe\">\n",
       "<caption>A data.frame: 6 × 21</caption>\n",
       "<thead>\n",
       "\t<tr><th></th><th scope=col>V1</th><th scope=col>V2</th><th scope=col>V3</th><th scope=col>V4</th><th scope=col>V5</th><th scope=col>V6</th><th scope=col>V7</th><th scope=col>V8</th><th scope=col>V9</th><th scope=col>V10</th><th scope=col>...</th><th scope=col>V12</th><th scope=col>V13</th><th scope=col>V14</th><th scope=col>V15</th><th scope=col>V16</th><th scope=col>V17</th><th scope=col>V18</th><th scope=col>V19</th><th scope=col>V20</th><th scope=col>V21</th></tr>\n",
       "\t<tr><th></th><th scope=col>&lt;fct&gt;</th><th scope=col>&lt;int&gt;</th><th scope=col>&lt;fct&gt;</th><th scope=col>&lt;fct&gt;</th><th scope=col>&lt;int&gt;</th><th scope=col>&lt;fct&gt;</th><th scope=col>&lt;fct&gt;</th><th scope=col>&lt;int&gt;</th><th scope=col>&lt;fct&gt;</th><th scope=col>&lt;fct&gt;</th><th scope=col>...</th><th scope=col>&lt;fct&gt;</th><th scope=col>&lt;int&gt;</th><th scope=col>&lt;fct&gt;</th><th scope=col>&lt;fct&gt;</th><th scope=col>&lt;int&gt;</th><th scope=col>&lt;fct&gt;</th><th scope=col>&lt;int&gt;</th><th scope=col>&lt;fct&gt;</th><th scope=col>&lt;fct&gt;</th><th scope=col>&lt;int&gt;</th></tr>\n",
       "</thead>\n",
       "<tbody>\n",
       "\t<tr><th scope=row>1</th><td>A11</td><td> 6</td><td>A34</td><td>A43</td><td>1169</td><td>A65</td><td>A75</td><td>4</td><td>A93</td><td>A101</td><td>...</td><td>A121</td><td>67</td><td>A143</td><td>A152</td><td>2</td><td>A173</td><td>1</td><td>A192</td><td>A201</td><td>1</td></tr>\n",
       "\t<tr><th scope=row>2</th><td>A12</td><td>48</td><td>A32</td><td>A43</td><td>5951</td><td>A61</td><td>A73</td><td>2</td><td>A92</td><td>A101</td><td>...</td><td>A121</td><td>22</td><td>A143</td><td>A152</td><td>1</td><td>A173</td><td>1</td><td>A191</td><td>A201</td><td>2</td></tr>\n",
       "\t<tr><th scope=row>3</th><td>A14</td><td>12</td><td>A34</td><td>A46</td><td>2096</td><td>A61</td><td>A74</td><td>2</td><td>A93</td><td>A101</td><td>...</td><td>A121</td><td>49</td><td>A143</td><td>A152</td><td>1</td><td>A172</td><td>2</td><td>A191</td><td>A201</td><td>1</td></tr>\n",
       "\t<tr><th scope=row>4</th><td>A11</td><td>42</td><td>A32</td><td>A42</td><td>7882</td><td>A61</td><td>A74</td><td>2</td><td>A93</td><td>A103</td><td>...</td><td>A122</td><td>45</td><td>A143</td><td>A153</td><td>1</td><td>A173</td><td>2</td><td>A191</td><td>A201</td><td>1</td></tr>\n",
       "\t<tr><th scope=row>5</th><td>A11</td><td>24</td><td>A33</td><td>A40</td><td>4870</td><td>A61</td><td>A73</td><td>3</td><td>A93</td><td>A101</td><td>...</td><td>A124</td><td>53</td><td>A143</td><td>A153</td><td>2</td><td>A173</td><td>2</td><td>A191</td><td>A201</td><td>2</td></tr>\n",
       "\t<tr><th scope=row>6</th><td>A14</td><td>36</td><td>A32</td><td>A46</td><td>9055</td><td>A65</td><td>A73</td><td>2</td><td>A93</td><td>A101</td><td>...</td><td>A124</td><td>35</td><td>A143</td><td>A153</td><td>1</td><td>A172</td><td>2</td><td>A192</td><td>A201</td><td>1</td></tr>\n",
       "</tbody>\n",
       "</table>\n"
      ],
      "text/latex": [
       "A data.frame: 6 × 21\n",
       "\\begin{tabular}{r|lllllllllllllllllllll}\n",
       "  & V1 & V2 & V3 & V4 & V5 & V6 & V7 & V8 & V9 & V10 & ... & V12 & V13 & V14 & V15 & V16 & V17 & V18 & V19 & V20 & V21\\\\\n",
       "  & <fct> & <int> & <fct> & <fct> & <int> & <fct> & <fct> & <int> & <fct> & <fct> & ... & <fct> & <int> & <fct> & <fct> & <int> & <fct> & <int> & <fct> & <fct> & <int>\\\\\n",
       "\\hline\n",
       "\t1 & A11 &  6 & A34 & A43 & 1169 & A65 & A75 & 4 & A93 & A101 & ... & A121 & 67 & A143 & A152 & 2 & A173 & 1 & A192 & A201 & 1\\\\\n",
       "\t2 & A12 & 48 & A32 & A43 & 5951 & A61 & A73 & 2 & A92 & A101 & ... & A121 & 22 & A143 & A152 & 1 & A173 & 1 & A191 & A201 & 2\\\\\n",
       "\t3 & A14 & 12 & A34 & A46 & 2096 & A61 & A74 & 2 & A93 & A101 & ... & A121 & 49 & A143 & A152 & 1 & A172 & 2 & A191 & A201 & 1\\\\\n",
       "\t4 & A11 & 42 & A32 & A42 & 7882 & A61 & A74 & 2 & A93 & A103 & ... & A122 & 45 & A143 & A153 & 1 & A173 & 2 & A191 & A201 & 1\\\\\n",
       "\t5 & A11 & 24 & A33 & A40 & 4870 & A61 & A73 & 3 & A93 & A101 & ... & A124 & 53 & A143 & A153 & 2 & A173 & 2 & A191 & A201 & 2\\\\\n",
       "\t6 & A14 & 36 & A32 & A46 & 9055 & A65 & A73 & 2 & A93 & A101 & ... & A124 & 35 & A143 & A153 & 1 & A172 & 2 & A192 & A201 & 1\\\\\n",
       "\\end{tabular}\n"
      ],
      "text/markdown": [
       "\n",
       "A data.frame: 6 × 21\n",
       "\n",
       "| <!--/--> | V1 &lt;fct&gt; | V2 &lt;int&gt; | V3 &lt;fct&gt; | V4 &lt;fct&gt; | V5 &lt;int&gt; | V6 &lt;fct&gt; | V7 &lt;fct&gt; | V8 &lt;int&gt; | V9 &lt;fct&gt; | V10 &lt;fct&gt; | ... ... | V12 &lt;fct&gt; | V13 &lt;int&gt; | V14 &lt;fct&gt; | V15 &lt;fct&gt; | V16 &lt;int&gt; | V17 &lt;fct&gt; | V18 &lt;int&gt; | V19 &lt;fct&gt; | V20 &lt;fct&gt; | V21 &lt;int&gt; |\n",
       "|---|---|---|---|---|---|---|---|---|---|---|---|---|---|---|---|---|---|---|---|---|---|\n",
       "| 1 | A11 |  6 | A34 | A43 | 1169 | A65 | A75 | 4 | A93 | A101 | ... | A121 | 67 | A143 | A152 | 2 | A173 | 1 | A192 | A201 | 1 |\n",
       "| 2 | A12 | 48 | A32 | A43 | 5951 | A61 | A73 | 2 | A92 | A101 | ... | A121 | 22 | A143 | A152 | 1 | A173 | 1 | A191 | A201 | 2 |\n",
       "| 3 | A14 | 12 | A34 | A46 | 2096 | A61 | A74 | 2 | A93 | A101 | ... | A121 | 49 | A143 | A152 | 1 | A172 | 2 | A191 | A201 | 1 |\n",
       "| 4 | A11 | 42 | A32 | A42 | 7882 | A61 | A74 | 2 | A93 | A103 | ... | A122 | 45 | A143 | A153 | 1 | A173 | 2 | A191 | A201 | 1 |\n",
       "| 5 | A11 | 24 | A33 | A40 | 4870 | A61 | A73 | 3 | A93 | A101 | ... | A124 | 53 | A143 | A153 | 2 | A173 | 2 | A191 | A201 | 2 |\n",
       "| 6 | A14 | 36 | A32 | A46 | 9055 | A65 | A73 | 2 | A93 | A101 | ... | A124 | 35 | A143 | A153 | 1 | A172 | 2 | A192 | A201 | 1 |\n",
       "\n"
      ],
      "text/plain": [
       "  V1  V2 V3  V4  V5   V6  V7  V8 V9  V10  ... V12  V13 V14  V15  V16 V17  V18\n",
       "1 A11  6 A34 A43 1169 A65 A75 4  A93 A101 ... A121 67  A143 A152 2   A173 1  \n",
       "2 A12 48 A32 A43 5951 A61 A73 2  A92 A101 ... A121 22  A143 A152 1   A173 1  \n",
       "3 A14 12 A34 A46 2096 A61 A74 2  A93 A101 ... A121 49  A143 A152 1   A172 2  \n",
       "4 A11 42 A32 A42 7882 A61 A74 2  A93 A103 ... A122 45  A143 A153 1   A173 2  \n",
       "5 A11 24 A33 A40 4870 A61 A73 3  A93 A101 ... A124 53  A143 A153 2   A173 2  \n",
       "6 A14 36 A32 A46 9055 A65 A73 2  A93 A101 ... A124 35  A143 A153 1   A172 2  \n",
       "  V19  V20  V21\n",
       "1 A192 A201 1  \n",
       "2 A191 A201 2  \n",
       "3 A191 A201 1  \n",
       "4 A191 A201 1  \n",
       "5 A191 A201 2  \n",
       "6 A192 A201 1  "
      ]
     },
     "metadata": {},
     "output_type": "display_data"
    },
    {
     "name": "stdout",
     "output_type": "stream",
     "text": [
      "No. of cols: 21 \n",
      "No. of rows: 1000"
     ]
    }
   ],
   "source": [
    "# loading the dataset\n",
    "# READ DATASET as DataFrame\n",
    "german_df <- read.table(\"german.txt\", header = FALSE, sep = \" \")\n",
    "# Display Data\n",
    "head(german_df)\n",
    "cat(\"No. of cols:\", ncol(german_df), \"\\n\")\n",
    "cat(\"No. of rows:\", nrow(german_df))"
   ]
  },
  {
   "cell_type": "markdown",
   "id": "497e608c",
   "metadata": {},
   "source": [
    "<p><p style=\"page-break-after:always;\"></p></p>"
   ]
  },
  {
   "cell_type": "markdown",
   "id": "09f924bb",
   "metadata": {},
   "source": [
    "Replacing the target Column (V21) with binary (0 and 1) values <br>\n",
    "Note 1 = Good and 2 = Bad based on Description file"
   ]
  },
  {
   "cell_type": "code",
   "execution_count": 19,
   "id": "f7b92037",
   "metadata": {},
   "outputs": [
    {
     "data": {
      "text/html": [
       "<table class=\"dataframe\">\n",
       "<caption>A data.frame: 6 × 21</caption>\n",
       "<thead>\n",
       "\t<tr><th></th><th scope=col>V1</th><th scope=col>V2</th><th scope=col>V3</th><th scope=col>V4</th><th scope=col>V5</th><th scope=col>V6</th><th scope=col>V7</th><th scope=col>V8</th><th scope=col>V9</th><th scope=col>V10</th><th scope=col>...</th><th scope=col>V12</th><th scope=col>V13</th><th scope=col>V14</th><th scope=col>V15</th><th scope=col>V16</th><th scope=col>V17</th><th scope=col>V18</th><th scope=col>V19</th><th scope=col>V20</th><th scope=col>V21</th></tr>\n",
       "\t<tr><th></th><th scope=col>&lt;fct&gt;</th><th scope=col>&lt;int&gt;</th><th scope=col>&lt;fct&gt;</th><th scope=col>&lt;fct&gt;</th><th scope=col>&lt;int&gt;</th><th scope=col>&lt;fct&gt;</th><th scope=col>&lt;fct&gt;</th><th scope=col>&lt;int&gt;</th><th scope=col>&lt;fct&gt;</th><th scope=col>&lt;fct&gt;</th><th scope=col>...</th><th scope=col>&lt;fct&gt;</th><th scope=col>&lt;int&gt;</th><th scope=col>&lt;fct&gt;</th><th scope=col>&lt;fct&gt;</th><th scope=col>&lt;int&gt;</th><th scope=col>&lt;fct&gt;</th><th scope=col>&lt;int&gt;</th><th scope=col>&lt;fct&gt;</th><th scope=col>&lt;fct&gt;</th><th scope=col>&lt;dbl&gt;</th></tr>\n",
       "</thead>\n",
       "<tbody>\n",
       "\t<tr><th scope=row>1</th><td>A11</td><td> 6</td><td>A34</td><td>A43</td><td>1169</td><td>A65</td><td>A75</td><td>4</td><td>A93</td><td>A101</td><td>...</td><td>A121</td><td>67</td><td>A143</td><td>A152</td><td>2</td><td>A173</td><td>1</td><td>A192</td><td>A201</td><td>1</td></tr>\n",
       "\t<tr><th scope=row>2</th><td>A12</td><td>48</td><td>A32</td><td>A43</td><td>5951</td><td>A61</td><td>A73</td><td>2</td><td>A92</td><td>A101</td><td>...</td><td>A121</td><td>22</td><td>A143</td><td>A152</td><td>1</td><td>A173</td><td>1</td><td>A191</td><td>A201</td><td>0</td></tr>\n",
       "\t<tr><th scope=row>3</th><td>A14</td><td>12</td><td>A34</td><td>A46</td><td>2096</td><td>A61</td><td>A74</td><td>2</td><td>A93</td><td>A101</td><td>...</td><td>A121</td><td>49</td><td>A143</td><td>A152</td><td>1</td><td>A172</td><td>2</td><td>A191</td><td>A201</td><td>1</td></tr>\n",
       "\t<tr><th scope=row>4</th><td>A11</td><td>42</td><td>A32</td><td>A42</td><td>7882</td><td>A61</td><td>A74</td><td>2</td><td>A93</td><td>A103</td><td>...</td><td>A122</td><td>45</td><td>A143</td><td>A153</td><td>1</td><td>A173</td><td>2</td><td>A191</td><td>A201</td><td>1</td></tr>\n",
       "\t<tr><th scope=row>5</th><td>A11</td><td>24</td><td>A33</td><td>A40</td><td>4870</td><td>A61</td><td>A73</td><td>3</td><td>A93</td><td>A101</td><td>...</td><td>A124</td><td>53</td><td>A143</td><td>A153</td><td>2</td><td>A173</td><td>2</td><td>A191</td><td>A201</td><td>0</td></tr>\n",
       "\t<tr><th scope=row>6</th><td>A14</td><td>36</td><td>A32</td><td>A46</td><td>9055</td><td>A65</td><td>A73</td><td>2</td><td>A93</td><td>A101</td><td>...</td><td>A124</td><td>35</td><td>A143</td><td>A153</td><td>1</td><td>A172</td><td>2</td><td>A192</td><td>A201</td><td>1</td></tr>\n",
       "</tbody>\n",
       "</table>\n"
      ],
      "text/latex": [
       "A data.frame: 6 × 21\n",
       "\\begin{tabular}{r|lllllllllllllllllllll}\n",
       "  & V1 & V2 & V3 & V4 & V5 & V6 & V7 & V8 & V9 & V10 & ... & V12 & V13 & V14 & V15 & V16 & V17 & V18 & V19 & V20 & V21\\\\\n",
       "  & <fct> & <int> & <fct> & <fct> & <int> & <fct> & <fct> & <int> & <fct> & <fct> & ... & <fct> & <int> & <fct> & <fct> & <int> & <fct> & <int> & <fct> & <fct> & <dbl>\\\\\n",
       "\\hline\n",
       "\t1 & A11 &  6 & A34 & A43 & 1169 & A65 & A75 & 4 & A93 & A101 & ... & A121 & 67 & A143 & A152 & 2 & A173 & 1 & A192 & A201 & 1\\\\\n",
       "\t2 & A12 & 48 & A32 & A43 & 5951 & A61 & A73 & 2 & A92 & A101 & ... & A121 & 22 & A143 & A152 & 1 & A173 & 1 & A191 & A201 & 0\\\\\n",
       "\t3 & A14 & 12 & A34 & A46 & 2096 & A61 & A74 & 2 & A93 & A101 & ... & A121 & 49 & A143 & A152 & 1 & A172 & 2 & A191 & A201 & 1\\\\\n",
       "\t4 & A11 & 42 & A32 & A42 & 7882 & A61 & A74 & 2 & A93 & A103 & ... & A122 & 45 & A143 & A153 & 1 & A173 & 2 & A191 & A201 & 1\\\\\n",
       "\t5 & A11 & 24 & A33 & A40 & 4870 & A61 & A73 & 3 & A93 & A101 & ... & A124 & 53 & A143 & A153 & 2 & A173 & 2 & A191 & A201 & 0\\\\\n",
       "\t6 & A14 & 36 & A32 & A46 & 9055 & A65 & A73 & 2 & A93 & A101 & ... & A124 & 35 & A143 & A153 & 1 & A172 & 2 & A192 & A201 & 1\\\\\n",
       "\\end{tabular}\n"
      ],
      "text/markdown": [
       "\n",
       "A data.frame: 6 × 21\n",
       "\n",
       "| <!--/--> | V1 &lt;fct&gt; | V2 &lt;int&gt; | V3 &lt;fct&gt; | V4 &lt;fct&gt; | V5 &lt;int&gt; | V6 &lt;fct&gt; | V7 &lt;fct&gt; | V8 &lt;int&gt; | V9 &lt;fct&gt; | V10 &lt;fct&gt; | ... ... | V12 &lt;fct&gt; | V13 &lt;int&gt; | V14 &lt;fct&gt; | V15 &lt;fct&gt; | V16 &lt;int&gt; | V17 &lt;fct&gt; | V18 &lt;int&gt; | V19 &lt;fct&gt; | V20 &lt;fct&gt; | V21 &lt;dbl&gt; |\n",
       "|---|---|---|---|---|---|---|---|---|---|---|---|---|---|---|---|---|---|---|---|---|---|\n",
       "| 1 | A11 |  6 | A34 | A43 | 1169 | A65 | A75 | 4 | A93 | A101 | ... | A121 | 67 | A143 | A152 | 2 | A173 | 1 | A192 | A201 | 1 |\n",
       "| 2 | A12 | 48 | A32 | A43 | 5951 | A61 | A73 | 2 | A92 | A101 | ... | A121 | 22 | A143 | A152 | 1 | A173 | 1 | A191 | A201 | 0 |\n",
       "| 3 | A14 | 12 | A34 | A46 | 2096 | A61 | A74 | 2 | A93 | A101 | ... | A121 | 49 | A143 | A152 | 1 | A172 | 2 | A191 | A201 | 1 |\n",
       "| 4 | A11 | 42 | A32 | A42 | 7882 | A61 | A74 | 2 | A93 | A103 | ... | A122 | 45 | A143 | A153 | 1 | A173 | 2 | A191 | A201 | 1 |\n",
       "| 5 | A11 | 24 | A33 | A40 | 4870 | A61 | A73 | 3 | A93 | A101 | ... | A124 | 53 | A143 | A153 | 2 | A173 | 2 | A191 | A201 | 0 |\n",
       "| 6 | A14 | 36 | A32 | A46 | 9055 | A65 | A73 | 2 | A93 | A101 | ... | A124 | 35 | A143 | A153 | 1 | A172 | 2 | A192 | A201 | 1 |\n",
       "\n"
      ],
      "text/plain": [
       "  V1  V2 V3  V4  V5   V6  V7  V8 V9  V10  ... V12  V13 V14  V15  V16 V17  V18\n",
       "1 A11  6 A34 A43 1169 A65 A75 4  A93 A101 ... A121 67  A143 A152 2   A173 1  \n",
       "2 A12 48 A32 A43 5951 A61 A73 2  A92 A101 ... A121 22  A143 A152 1   A173 1  \n",
       "3 A14 12 A34 A46 2096 A61 A74 2  A93 A101 ... A121 49  A143 A152 1   A172 2  \n",
       "4 A11 42 A32 A42 7882 A61 A74 2  A93 A103 ... A122 45  A143 A153 1   A173 2  \n",
       "5 A11 24 A33 A40 4870 A61 A73 3  A93 A101 ... A124 53  A143 A153 2   A173 2  \n",
       "6 A14 36 A32 A46 9055 A65 A73 2  A93 A101 ... A124 35  A143 A153 1   A172 2  \n",
       "  V19  V20  V21\n",
       "1 A192 A201 1  \n",
       "2 A191 A201 0  \n",
       "3 A191 A201 1  \n",
       "4 A191 A201 1  \n",
       "5 A191 A201 0  \n",
       "6 A192 A201 1  "
      ]
     },
     "metadata": {},
     "output_type": "display_data"
    }
   ],
   "source": [
    "german_df$V21[german_df$V21==1] <- 1 \n",
    "german_df$V21[german_df$V21==2] <- 0 \n",
    "head(german_df)"
   ]
  },
  {
   "cell_type": "markdown",
   "id": "80fe121a",
   "metadata": {},
   "source": [
    "Dividing the data into training and validation_datasets 70% training and 30% validation"
   ]
  },
  {
   "cell_type": "code",
   "execution_count": 20,
   "id": "eafea49c",
   "metadata": {},
   "outputs": [
    {
     "name": "stderr",
     "output_type": "stream",
     "text": [
      "Loading required package: lattice\n",
      "Loading required package: ggplot2\n",
      "Registered S3 methods overwritten by 'ggplot2':\n",
      "  method         from \n",
      "  [.quosures     rlang\n",
      "  c.quosures     rlang\n",
      "  print.quosures rlang\n",
      "\n",
      "Attaching package: 'ggplot2'\n",
      "\n",
      "The following object is masked from 'package:randomForest':\n",
      "\n",
      "    margin\n",
      "\n"
     ]
    }
   ],
   "source": [
    "# install.packages(\"caret\", dependencies=TRUE)\n",
    "library(caret)\n",
    "# Fix Seed Number\n",
    "set.seed(1)\n",
    "# Find indexes\n",
    "training_idx <- createDataPartition(german_df$V21, times = 1, p = 0.7, list=FALSE)\n",
    "train_df <- german_df[training_idx,]\n",
    "valid_df <- german_df[-training_idx,]"
   ]
  },
  {
   "cell_type": "markdown",
   "id": "629c514e",
   "metadata": {},
   "source": [
    "<p><p style=\"page-break-after:always;\"></p></p>"
   ]
  },
  {
   "cell_type": "code",
   "execution_count": 21,
   "id": "9a321de6",
   "metadata": {},
   "outputs": [
    {
     "data": {
      "text/html": [
       "'Summary of Database Response values'"
      ],
      "text/latex": [
       "'Summary of Database Response values'"
      ],
      "text/markdown": [
       "'Summary of Database Response values'"
      ],
      "text/plain": [
       "[1] \"Summary of Database Response values\""
      ]
     },
     "metadata": {},
     "output_type": "display_data"
    },
    {
     "data": {
      "text/plain": [
       "\n",
       "  0   1 \n",
       "300 700 "
      ]
     },
     "metadata": {},
     "output_type": "display_data"
    },
    {
     "name": "stdout",
     "output_type": "stream",
     "text": [
      "Ratio of 0 to 1 responses: 0.3 \n"
     ]
    }
   ],
   "source": [
    "\"Summary of Database Response values\"\n",
    "table(german_df$V21)\n",
    "cat(\"Ratio of 0 to 1 responses:\", round(table(german_df$V21)[1]/nrow(german_df),3), \"\\n\")"
   ]
  },
  {
   "cell_type": "code",
   "execution_count": 22,
   "id": "0d0c024e",
   "metadata": {},
   "outputs": [
    {
     "data": {
      "text/html": [
       "'Summary of Training Response values'"
      ],
      "text/latex": [
       "'Summary of Training Response values'"
      ],
      "text/markdown": [
       "'Summary of Training Response values'"
      ],
      "text/plain": [
       "[1] \"Summary of Training Response values\""
      ]
     },
     "metadata": {},
     "output_type": "display_data"
    },
    {
     "data": {
      "text/plain": [
       "\n",
       "  0   1 \n",
       "208 492 "
      ]
     },
     "metadata": {},
     "output_type": "display_data"
    },
    {
     "name": "stdout",
     "output_type": "stream",
     "text": [
      "Ratio of 0 to 1 responses: 0.297 \n"
     ]
    }
   ],
   "source": [
    "\"Summary of Training Response values\"\n",
    "table(train_df$V21)\n",
    "cat(\"Ratio of 0 to 1 responses:\", round(table(train_df$V21)[1]/nrow(train_df),3), \"\\n\")"
   ]
  },
  {
   "cell_type": "code",
   "execution_count": 23,
   "id": "2d25fb70",
   "metadata": {},
   "outputs": [
    {
     "data": {
      "text/html": [
       "'Summary of Validation Response values'"
      ],
      "text/latex": [
       "'Summary of Validation Response values'"
      ],
      "text/markdown": [
       "'Summary of Validation Response values'"
      ],
      "text/plain": [
       "[1] \"Summary of Validation Response values\""
      ]
     },
     "metadata": {},
     "output_type": "display_data"
    },
    {
     "data": {
      "text/plain": [
       "\n",
       "  0   1 \n",
       " 92 208 "
      ]
     },
     "metadata": {},
     "output_type": "display_data"
    },
    {
     "name": "stdout",
     "output_type": "stream",
     "text": [
      "Ratio of 0 to 1 responses: 0.307 \n"
     ]
    }
   ],
   "source": [
    "\"Summary of Validation Response values\"\n",
    "table(valid_df$V21)\n",
    "cat(\"Ratio of 0 to 1 responses:\", round(table(valid_df$V21)[1]/nrow(valid_df),3), \"\\n\")"
   ]
  },
  {
   "cell_type": "markdown",
   "id": "f93a9d55",
   "metadata": {},
   "source": [
    "From the data, The original dataframe and the subsets (training and Validation) has the same non-creditable ratio 30% (response=0)"
   ]
  },
  {
   "cell_type": "markdown",
   "id": "3627f168",
   "metadata": {},
   "source": [
    "<p><p style=\"page-break-after:always;\"></p></p>"
   ]
  },
  {
   "cell_type": "markdown",
   "id": "6baffec4",
   "metadata": {},
   "source": [
    "<b> Building the basic logistic Model using all input variables </b>"
   ]
  },
  {
   "cell_type": "code",
   "execution_count": 24,
   "id": "442255a3",
   "metadata": {
    "scrolled": false
   },
   "outputs": [
    {
     "data": {
      "text/plain": [
       "\n",
       "Call:\n",
       "glm(formula = V21 ~ ., family = binomial(link = \"logit\"), data = train_df)\n",
       "\n",
       "Deviance Residuals: \n",
       "    Min       1Q   Median       3Q      Max  \n",
       "-2.4540  -0.6750   0.3608   0.6861   2.4438  \n",
       "\n",
       "Coefficients:\n",
       "              Estimate Std. Error z value Pr(>|z|)    \n",
       "(Intercept) -3.823e-01  1.332e+00  -0.287 0.774162    \n",
       "V1A12        5.201e-01  2.681e-01   1.940 0.052408 .  \n",
       "V1A13        1.150e+00  4.473e-01   2.570 0.010173 *  \n",
       "V1A14        1.675e+00  2.750e-01   6.091 1.12e-09 ***\n",
       "V2          -2.570e-02  1.159e-02  -2.217 0.026647 *  \n",
       "V3A31       -8.440e-02  6.580e-01  -0.128 0.897943    \n",
       "V3A32        8.078e-01  4.996e-01   1.617 0.105907    \n",
       "V3A33        7.683e-01  5.372e-01   1.430 0.152634    \n",
       "V3A34        1.446e+00  5.127e-01   2.821 0.004784 ** \n",
       "V4A41        1.513e+00  4.479e-01   3.379 0.000728 ***\n",
       "V4A410       2.412e+00  1.160e+00   2.080 0.037543 *  \n",
       "V4A42        5.496e-01  3.195e-01   1.720 0.085354 .  \n",
       "V4A43        9.142e-01  3.024e-01   3.023 0.002503 ** \n",
       "V4A44        4.163e-01  9.455e-01   0.440 0.659751    \n",
       "V4A45        1.562e-01  6.742e-01   0.232 0.816732    \n",
       "V4A46        2.569e-01  5.085e-01   0.505 0.613382    \n",
       "V4A48        1.531e+01  4.556e+02   0.034 0.973202    \n",
       "V4A49        5.397e-01  4.017e-01   1.344 0.179086    \n",
       "V5          -1.076e-04  5.600e-05  -1.922 0.054633 .  \n",
       "V6A62        3.474e-01  3.579e-01   0.971 0.331777    \n",
       "V6A63        2.440e-01  4.761e-01   0.513 0.608232    \n",
       "V6A64        1.379e+00  6.535e-01   2.110 0.034823 *  \n",
       "V6A65        8.106e-01  3.223e-01   2.515 0.011910 *  \n",
       "V7A72        1.814e-01  5.243e-01   0.346 0.729300    \n",
       "V7A73        5.253e-01  5.001e-01   1.050 0.293529    \n",
       "V7A74        1.129e+00  5.455e-01   2.070 0.038431 *  \n",
       "V7A75        5.927e-01  5.052e-01   1.173 0.240705    \n",
       "V8          -3.523e-01  1.094e-01  -3.219 0.001284 ** \n",
       "V9A92       -4.849e-02  4.760e-01  -0.102 0.918863    \n",
       "V9A93        4.446e-01  4.691e-01   0.948 0.343279    \n",
       "V9A94        4.288e-01  5.837e-01   0.735 0.462524    \n",
       "V10A102     -3.052e-01  5.338e-01  -0.572 0.567472    \n",
       "V10A103      3.086e-01  5.237e-01   0.589 0.555669    \n",
       "V11          1.080e-01  1.073e-01   1.007 0.314147    \n",
       "V12A122     -2.219e-01  3.161e-01  -0.702 0.482767    \n",
       "V12A123     -3.274e-01  2.922e-01  -1.120 0.262504    \n",
       "V12A124     -1.156e+00  5.656e-01  -2.044 0.040944 *  \n",
       "V13          2.257e-02  1.140e-02   1.980 0.047667 *  \n",
       "V14A142      5.214e-01  4.925e-01   1.059 0.289757    \n",
       "V14A143      7.780e-01  2.848e-01   2.732 0.006299 ** \n",
       "V15A152      6.323e-01  2.870e-01   2.203 0.027579 *  \n",
       "V15A153      6.674e-01  6.202e-01   1.076 0.281931    \n",
       "V16         -2.866e-01  2.236e-01  -1.282 0.199939    \n",
       "V17A172     -1.565e+00  8.891e-01  -1.760 0.078442 .  \n",
       "V17A173     -1.564e+00  8.582e-01  -1.823 0.068370 .  \n",
       "V17A174     -1.400e+00  8.772e-01  -1.596 0.110563    \n",
       "V18         -1.645e-01  3.004e-01  -0.548 0.583871    \n",
       "V19A192      3.319e-01  2.413e-01   1.376 0.168942    \n",
       "V20A202      2.137e+00  8.573e-01   2.493 0.012665 *  \n",
       "---\n",
       "Signif. codes:  0 '***' 0.001 '**' 0.01 '*' 0.05 '.' 0.1 ' ' 1\n",
       "\n",
       "(Dispersion parameter for binomial family taken to be 1)\n",
       "\n",
       "    Null deviance: 851.79  on 699  degrees of freedom\n",
       "Residual deviance: 613.21  on 651  degrees of freedom\n",
       "AIC: 711.21\n",
       "\n",
       "Number of Fisher Scoring iterations: 14\n"
      ]
     },
     "metadata": {},
     "output_type": "display_data"
    }
   ],
   "source": [
    "# building the intial model\n",
    "set.seed(0)\n",
    "base_logit_model <- glm(V21 ~ ., data = train_df, family=binomial(link=\"logit\"))\n",
    "summary(base_logit_model)"
   ]
  },
  {
   "cell_type": "markdown",
   "id": "79040c88",
   "metadata": {},
   "source": [
    "Convert Factorial columns into Binary columns e.g. Column V1 Factor A13 into V1A13 Column with binary inputs (0,1)"
   ]
  },
  {
   "cell_type": "code",
   "execution_count": 25,
   "id": "a057f6e2",
   "metadata": {},
   "outputs": [
    {
     "data": {
      "text/html": [
       "<table class=\"dataframe\">\n",
       "<caption>A data.frame: 6 × 38</caption>\n",
       "<thead>\n",
       "\t<tr><th></th><th scope=col>V1</th><th scope=col>V2</th><th scope=col>V3</th><th scope=col>V4</th><th scope=col>V5</th><th scope=col>V6</th><th scope=col>V7</th><th scope=col>V8</th><th scope=col>V9</th><th scope=col>V10</th><th scope=col>...</th><th scope=col>V4A43</th><th scope=col>V6A64</th><th scope=col>V6A65</th><th scope=col>V7A74</th><th scope=col>V12A124</th><th scope=col>V14A143</th><th scope=col>V15A152</th><th scope=col>V17A172</th><th scope=col>V17A173</th><th scope=col>V20A202</th></tr>\n",
       "\t<tr><th></th><th scope=col>&lt;fct&gt;</th><th scope=col>&lt;int&gt;</th><th scope=col>&lt;fct&gt;</th><th scope=col>&lt;fct&gt;</th><th scope=col>&lt;int&gt;</th><th scope=col>&lt;fct&gt;</th><th scope=col>&lt;fct&gt;</th><th scope=col>&lt;int&gt;</th><th scope=col>&lt;fct&gt;</th><th scope=col>&lt;fct&gt;</th><th scope=col>...</th><th scope=col>&lt;dbl&gt;</th><th scope=col>&lt;dbl&gt;</th><th scope=col>&lt;dbl&gt;</th><th scope=col>&lt;dbl&gt;</th><th scope=col>&lt;dbl&gt;</th><th scope=col>&lt;dbl&gt;</th><th scope=col>&lt;dbl&gt;</th><th scope=col>&lt;dbl&gt;</th><th scope=col>&lt;dbl&gt;</th><th scope=col>&lt;dbl&gt;</th></tr>\n",
       "</thead>\n",
       "<tbody>\n",
       "\t<tr><th scope=row>1</th><td>A11</td><td> 6</td><td>A34</td><td>A43</td><td>1169</td><td>A65</td><td>A75</td><td>4</td><td>A93</td><td>A101</td><td>...</td><td>1</td><td>0</td><td>1</td><td>0</td><td>0</td><td>1</td><td>1</td><td>0</td><td>1</td><td>0</td></tr>\n",
       "\t<tr><th scope=row>3</th><td>A14</td><td>12</td><td>A34</td><td>A46</td><td>2096</td><td>A61</td><td>A74</td><td>2</td><td>A93</td><td>A101</td><td>...</td><td>0</td><td>0</td><td>0</td><td>1</td><td>0</td><td>1</td><td>1</td><td>1</td><td>0</td><td>0</td></tr>\n",
       "\t<tr><th scope=row>4</th><td>A11</td><td>42</td><td>A32</td><td>A42</td><td>7882</td><td>A61</td><td>A74</td><td>2</td><td>A93</td><td>A103</td><td>...</td><td>0</td><td>0</td><td>0</td><td>1</td><td>0</td><td>1</td><td>0</td><td>0</td><td>1</td><td>0</td></tr>\n",
       "\t<tr><th scope=row>5</th><td>A11</td><td>24</td><td>A33</td><td>A40</td><td>4870</td><td>A61</td><td>A73</td><td>3</td><td>A93</td><td>A101</td><td>...</td><td>0</td><td>0</td><td>0</td><td>0</td><td>1</td><td>1</td><td>0</td><td>0</td><td>1</td><td>0</td></tr>\n",
       "\t<tr><th scope=row>6</th><td>A14</td><td>36</td><td>A32</td><td>A46</td><td>9055</td><td>A65</td><td>A73</td><td>2</td><td>A93</td><td>A101</td><td>...</td><td>0</td><td>0</td><td>1</td><td>0</td><td>1</td><td>1</td><td>0</td><td>1</td><td>0</td><td>0</td></tr>\n",
       "\t<tr><th scope=row>7</th><td>A14</td><td>24</td><td>A32</td><td>A42</td><td>2835</td><td>A63</td><td>A75</td><td>3</td><td>A93</td><td>A101</td><td>...</td><td>0</td><td>0</td><td>0</td><td>0</td><td>0</td><td>1</td><td>1</td><td>0</td><td>1</td><td>0</td></tr>\n",
       "</tbody>\n",
       "</table>\n"
      ],
      "text/latex": [
       "A data.frame: 6 × 38\n",
       "\\begin{tabular}{r|lllllllllllllllllllll}\n",
       "  & V1 & V2 & V3 & V4 & V5 & V6 & V7 & V8 & V9 & V10 & ... & V4A43 & V6A64 & V6A65 & V7A74 & V12A124 & V14A143 & V15A152 & V17A172 & V17A173 & V20A202\\\\\n",
       "  & <fct> & <int> & <fct> & <fct> & <int> & <fct> & <fct> & <int> & <fct> & <fct> & ... & <dbl> & <dbl> & <dbl> & <dbl> & <dbl> & <dbl> & <dbl> & <dbl> & <dbl> & <dbl>\\\\\n",
       "\\hline\n",
       "\t1 & A11 &  6 & A34 & A43 & 1169 & A65 & A75 & 4 & A93 & A101 & ... & 1 & 0 & 1 & 0 & 0 & 1 & 1 & 0 & 1 & 0\\\\\n",
       "\t3 & A14 & 12 & A34 & A46 & 2096 & A61 & A74 & 2 & A93 & A101 & ... & 0 & 0 & 0 & 1 & 0 & 1 & 1 & 1 & 0 & 0\\\\\n",
       "\t4 & A11 & 42 & A32 & A42 & 7882 & A61 & A74 & 2 & A93 & A103 & ... & 0 & 0 & 0 & 1 & 0 & 1 & 0 & 0 & 1 & 0\\\\\n",
       "\t5 & A11 & 24 & A33 & A40 & 4870 & A61 & A73 & 3 & A93 & A101 & ... & 0 & 0 & 0 & 0 & 1 & 1 & 0 & 0 & 1 & 0\\\\\n",
       "\t6 & A14 & 36 & A32 & A46 & 9055 & A65 & A73 & 2 & A93 & A101 & ... & 0 & 0 & 1 & 0 & 1 & 1 & 0 & 1 & 0 & 0\\\\\n",
       "\t7 & A14 & 24 & A32 & A42 & 2835 & A63 & A75 & 3 & A93 & A101 & ... & 0 & 0 & 0 & 0 & 0 & 1 & 1 & 0 & 1 & 0\\\\\n",
       "\\end{tabular}\n"
      ],
      "text/markdown": [
       "\n",
       "A data.frame: 6 × 38\n",
       "\n",
       "| <!--/--> | V1 &lt;fct&gt; | V2 &lt;int&gt; | V3 &lt;fct&gt; | V4 &lt;fct&gt; | V5 &lt;int&gt; | V6 &lt;fct&gt; | V7 &lt;fct&gt; | V8 &lt;int&gt; | V9 &lt;fct&gt; | V10 &lt;fct&gt; | ... ... | V4A43 &lt;dbl&gt; | V6A64 &lt;dbl&gt; | V6A65 &lt;dbl&gt; | V7A74 &lt;dbl&gt; | V12A124 &lt;dbl&gt; | V14A143 &lt;dbl&gt; | V15A152 &lt;dbl&gt; | V17A172 &lt;dbl&gt; | V17A173 &lt;dbl&gt; | V20A202 &lt;dbl&gt; |\n",
       "|---|---|---|---|---|---|---|---|---|---|---|---|---|---|---|---|---|---|---|---|---|---|\n",
       "| 1 | A11 |  6 | A34 | A43 | 1169 | A65 | A75 | 4 | A93 | A101 | ... | 1 | 0 | 1 | 0 | 0 | 1 | 1 | 0 | 1 | 0 |\n",
       "| 3 | A14 | 12 | A34 | A46 | 2096 | A61 | A74 | 2 | A93 | A101 | ... | 0 | 0 | 0 | 1 | 0 | 1 | 1 | 1 | 0 | 0 |\n",
       "| 4 | A11 | 42 | A32 | A42 | 7882 | A61 | A74 | 2 | A93 | A103 | ... | 0 | 0 | 0 | 1 | 0 | 1 | 0 | 0 | 1 | 0 |\n",
       "| 5 | A11 | 24 | A33 | A40 | 4870 | A61 | A73 | 3 | A93 | A101 | ... | 0 | 0 | 0 | 0 | 1 | 1 | 0 | 0 | 1 | 0 |\n",
       "| 6 | A14 | 36 | A32 | A46 | 9055 | A65 | A73 | 2 | A93 | A101 | ... | 0 | 0 | 1 | 0 | 1 | 1 | 0 | 1 | 0 | 0 |\n",
       "| 7 | A14 | 24 | A32 | A42 | 2835 | A63 | A75 | 3 | A93 | A101 | ... | 0 | 0 | 0 | 0 | 0 | 1 | 1 | 0 | 1 | 0 |\n",
       "\n"
      ],
      "text/plain": [
       "  V1  V2 V3  V4  V5   V6  V7  V8 V9  V10  ... V4A43 V6A64 V6A65 V7A74 V12A124\n",
       "1 A11  6 A34 A43 1169 A65 A75 4  A93 A101 ... 1     0     1     0     0      \n",
       "3 A14 12 A34 A46 2096 A61 A74 2  A93 A101 ... 0     0     0     1     0      \n",
       "4 A11 42 A32 A42 7882 A61 A74 2  A93 A103 ... 0     0     0     1     0      \n",
       "5 A11 24 A33 A40 4870 A61 A73 3  A93 A101 ... 0     0     0     0     1      \n",
       "6 A14 36 A32 A46 9055 A65 A73 2  A93 A101 ... 0     0     1     0     1      \n",
       "7 A14 24 A32 A42 2835 A63 A75 3  A93 A101 ... 0     0     0     0     0      \n",
       "  V14A143 V15A152 V17A172 V17A173 V20A202\n",
       "1 1       1       0       1       0      \n",
       "3 1       1       1       0       0      \n",
       "4 1       0       0       1       0      \n",
       "5 1       0       0       1       0      \n",
       "6 1       0       1       0       0      \n",
       "7 1       1       0       1       0      "
      ]
     },
     "metadata": {},
     "output_type": "display_data"
    }
   ],
   "source": [
    "# copy initial Dataframe\n",
    "train_df_edit <- train_df\n",
    "# Convert Factorial columns into Binary columns e.g. Column V1 Factor A13 into V1A13 Column with binary inputs (0,1)\n",
    "train_df_edit$V1A12 <- ifelse(train_df_edit$V1 == \"A12\", 1, 0)\n",
    "train_df_edit$V1A13 <- ifelse(train_df_edit$V1 == \"A13\", 1, 0)\n",
    "train_df_edit$V1A14 <- ifelse(train_df_edit$V1 == \"A14\", 1, 0)\n",
    "train_df_edit$V3A34 <- ifelse(train_df_edit$V3 == \"A34\", 1, 0)\n",
    "train_df_edit$V4A41 <- ifelse(train_df_edit$V4 == \"A41\", 1, 0)\n",
    "train_df_edit$V4A410 <- ifelse(train_df_edit$V4 == \"A410\", 1, 0)\n",
    "train_df_edit$V4A42 <- ifelse(train_df_edit$V4 == \"A42\", 1, 0)\n",
    "train_df_edit$V4A43 <- ifelse(train_df_edit$V4 == \"A43\", 1, 0)\n",
    "train_df_edit$V6A64 <- ifelse(train_df_edit$V6 == \"A64\", 1, 0)\n",
    "train_df_edit$V6A65 <- ifelse(train_df_edit$V6 == \"A65\", 1, 0)\n",
    "train_df_edit$V7A74 <- ifelse(train_df_edit$V7 == \"A74\", 1, 0)\n",
    "train_df_edit$V12A124 <- ifelse(train_df_edit$V12 == \"A124\", 1, 0)\n",
    "train_df_edit$V14A143 <- ifelse(train_df_edit$V14 == \"A143\", 1, 0)\n",
    "train_df_edit$V15A152 <- ifelse(train_df_edit$V15 == \"A152\", 1, 0)\n",
    "train_df_edit$V17A172 <- ifelse(train_df_edit$V17 == \"A172\", 1, 0)\n",
    "train_df_edit$V17A173 <- ifelse(train_df_edit$V17 == \"A173\", 1, 0)\n",
    "train_df_edit$V20A202 <- ifelse(train_df_edit$V20 == \"A202\", 1, 0)\n",
    "head(train_df_edit)"
   ]
  },
  {
   "cell_type": "markdown",
   "id": "5d65763c",
   "metadata": {},
   "source": [
    "<p><p style=\"page-break-after:always;\"></p></p>"
   ]
  },
  {
   "cell_type": "markdown",
   "id": "d3feb661",
   "metadata": {},
   "source": [
    "Optimized models will be created based on using the p-values of each Coefficient, where p-value <=0.10 <br>\n",
    "<b> 1st Optimized Model </b>"
   ]
  },
  {
   "cell_type": "code",
   "execution_count": 26,
   "id": "5a0e20c9",
   "metadata": {
    "scrolled": false
   },
   "outputs": [
    {
     "data": {
      "text/plain": [
       "\n",
       "Call:\n",
       "glm(formula = V21 ~ V1A12 + V1A13 + V1A14 + V2 + V3A34 + V4A41 + \n",
       "    V4A410 + V4A42 + V4A43 + V5 + V6A64 + V6A65 + V7A74 + V8 + \n",
       "    V12A124 + V13 + V14A143 + V15A152 + V20A202, family = binomial(link = \"logit\"), \n",
       "    data = train_df_edit)\n",
       "\n",
       "Deviance Residuals: \n",
       "    Min       1Q   Median       3Q      Max  \n",
       "-2.6489  -0.8057   0.3919   0.7396   2.0341  \n",
       "\n",
       "Coefficients:\n",
       "              Estimate Std. Error z value Pr(>|z|)    \n",
       "(Intercept) -9.534e-01  5.669e-01  -1.682 0.092640 .  \n",
       "V1A12        5.588e-01  2.439e-01   2.291 0.021937 *  \n",
       "V1A13        1.118e+00  4.163e-01   2.686 0.007236 ** \n",
       "V1A14        1.764e+00  2.588e-01   6.816 9.37e-12 ***\n",
       "V2          -2.322e-02  1.069e-02  -2.172 0.029845 *  \n",
       "V3A34        6.137e-01  2.448e-01   2.507 0.012189 *  \n",
       "V4A41        1.436e+00  4.063e-01   3.535 0.000408 ***\n",
       "V4A410       2.329e+00  9.793e-01   2.378 0.017404 *  \n",
       "V4A42        2.566e-01  2.677e-01   0.958 0.337867    \n",
       "V4A43        7.834e-01  2.478e-01   3.162 0.001568 ** \n",
       "V5          -1.159e-04  4.993e-05  -2.322 0.020221 *  \n",
       "V6A64        1.106e+00  6.012e-01   1.840 0.065701 .  \n",
       "V6A65        8.257e-01  2.981e-01   2.770 0.005610 ** \n",
       "V7A74        7.824e-01  2.906e-01   2.692 0.007097 ** \n",
       "V8          -3.056e-01  9.993e-02  -3.058 0.002231 ** \n",
       "V12A124     -4.117e-01  3.330e-01  -1.237 0.216233    \n",
       "V13          3.118e-02  9.849e-03   3.166 0.001544 ** \n",
       "V14A143      6.719e-01  2.347e-01   2.863 0.004197 ** \n",
       "V15A152      5.663e-01  2.436e-01   2.325 0.020068 *  \n",
       "V20A202      1.740e+00  7.963e-01   2.185 0.028876 *  \n",
       "---\n",
       "Signif. codes:  0 '***' 0.001 '**' 0.01 '*' 0.05 '.' 0.1 ' ' 1\n",
       "\n",
       "(Dispersion parameter for binomial family taken to be 1)\n",
       "\n",
       "    Null deviance: 851.79  on 699  degrees of freedom\n",
       "Residual deviance: 645.60  on 680  degrees of freedom\n",
       "AIC: 685.6\n",
       "\n",
       "Number of Fisher Scoring iterations: 5\n"
      ]
     },
     "metadata": {},
     "output_type": "display_data"
    }
   ],
   "source": [
    "# building the optimized model\n",
    "set.seed(0)\n",
    "opt_logit_model_1 <- glm(V21~V1A12+V1A13+V1A14+V2+\n",
    "                       V3A34+V4A41+V4A410+V4A42+V4A43+\n",
    "                       V5+V6A64+V6A65+V7A74+V8+\n",
    "                       V12A124+V13+V14A143+V15A152+V20A202,\n",
    "                       data = train_df_edit, family=binomial(link=\"logit\"))\n",
    "summary(opt_logit_model_1)"
   ]
  },
  {
   "cell_type": "markdown",
   "id": "fa24a755",
   "metadata": {},
   "source": [
    "<p><p style=\"page-break-after:always;\"></p></p>"
   ]
  },
  {
   "cell_type": "markdown",
   "id": "7ba22d33",
   "metadata": {},
   "source": [
    "Using the p-values of each Coefficient, a second optimized model will be created where p-value <=0.10 <br>\n",
    "<b> 2nd Optimized Model </b>"
   ]
  },
  {
   "cell_type": "code",
   "execution_count": 27,
   "id": "d1580a99",
   "metadata": {
    "scrolled": false
   },
   "outputs": [
    {
     "data": {
      "text/plain": [
       "\n",
       "Call:\n",
       "glm(formula = V21 ~ V1A12 + V1A13 + V1A14 + V2 + V3A34 + V4A41 + \n",
       "    V4A410 + V4A43 + V5 + V6A64 + V6A65 + V7A74 + V8 + V13 + \n",
       "    V14A143 + V15A152 + V20A202, family = binomial(link = \"logit\"), \n",
       "    data = train_df_edit)\n",
       "\n",
       "Deviance Residuals: \n",
       "    Min       1Q   Median       3Q      Max  \n",
       "-2.6374  -0.8241   0.3956   0.7478   1.9601  \n",
       "\n",
       "Coefficients:\n",
       "              Estimate Std. Error z value Pr(>|z|)    \n",
       "(Intercept) -7.769e-01  5.430e-01  -1.431 0.152522    \n",
       "V1A12        5.121e-01  2.404e-01   2.130 0.033165 *  \n",
       "V1A13        1.079e+00  4.145e-01   2.604 0.009213 ** \n",
       "V1A14        1.741e+00  2.572e-01   6.770 1.28e-11 ***\n",
       "V2          -2.478e-02  1.056e-02  -2.347 0.018927 *  \n",
       "V3A34        6.001e-01  2.432e-01   2.467 0.013612 *  \n",
       "V4A41        1.349e+00  3.947e-01   3.418 0.000632 ***\n",
       "V4A410       2.217e+00  9.795e-01   2.264 0.023603 *  \n",
       "V4A43        7.163e-01  2.337e-01   3.065 0.002173 ** \n",
       "V5          -1.212e-04  4.911e-05  -2.467 0.013616 *  \n",
       "V6A64        1.164e+00  6.043e-01   1.927 0.053982 .  \n",
       "V6A65        8.053e-01  2.950e-01   2.730 0.006341 ** \n",
       "V7A74        7.752e-01  2.880e-01   2.692 0.007104 ** \n",
       "V8          -3.252e-01  9.888e-02  -3.289 0.001006 ** \n",
       "V13          2.685e-02  9.335e-03   2.877 0.004021 ** \n",
       "V14A143      6.945e-01  2.336e-01   2.973 0.002944 ** \n",
       "V15A152      7.243e-01  2.110e-01   3.432 0.000598 ***\n",
       "V20A202      1.761e+00  8.026e-01   2.194 0.028267 *  \n",
       "---\n",
       "Signif. codes:  0 '***' 0.001 '**' 0.01 '*' 0.05 '.' 0.1 ' ' 1\n",
       "\n",
       "(Dispersion parameter for binomial family taken to be 1)\n",
       "\n",
       "    Null deviance: 851.79  on 699  degrees of freedom\n",
       "Residual deviance: 648.22  on 682  degrees of freedom\n",
       "AIC: 684.22\n",
       "\n",
       "Number of Fisher Scoring iterations: 5\n"
      ]
     },
     "metadata": {},
     "output_type": "display_data"
    }
   ],
   "source": [
    "# building the 2nd optimized model\n",
    "opt_logit_model_2 <- glm(V21~V1A12+V1A13+V1A14+V2+\n",
    "                       V3A34+V4A41+V4A410+V4A43+\n",
    "                       V5+V6A64+V6A65+V7A74+V8+\n",
    "                       V13+V14A143+V15A152+V20A202,\n",
    "                       data = train_df_edit, family=binomial(link=\"logit\"))\n",
    "summary(opt_logit_model_2)"
   ]
  },
  {
   "cell_type": "markdown",
   "id": "167607ff",
   "metadata": {},
   "source": [
    "<p><p style=\"page-break-after:always;\"></p></p>"
   ]
  },
  {
   "cell_type": "markdown",
   "id": "05e854bb",
   "metadata": {},
   "source": [
    "<b> Selecting the Optimal Model </b>"
   ]
  },
  {
   "cell_type": "code",
   "execution_count": 28,
   "id": "4b0f0cdd",
   "metadata": {},
   "outputs": [
    {
     "name": "stdout",
     "output_type": "stream",
     "text": [
      "The Delta AIC between the 2 optimized models is 1.380515"
     ]
    }
   ],
   "source": [
    "delta_AIC <- opt_logit_model_1$aic - opt_logit_model_2$aic\n",
    "cat(\"The Delta AIC between the 2 optimized models is\", delta_AIC)"
   ]
  },
  {
   "cell_type": "markdown",
   "id": "8eefdaae",
   "metadata": {},
   "source": [
    "Following the rule of thumb, since Δ AIC < 2, there is substantial support for the 1st optimized model. (i.e. the extra dimension reduction of the second optimized model is not supported)"
   ]
  },
  {
   "cell_type": "code",
   "execution_count": 29,
   "id": "c07ef354",
   "metadata": {},
   "outputs": [
    {
     "name": "stdout",
     "output_type": "stream",
     "text": [
      "The Delta AIC between the 2 models is 25.61516"
     ]
    }
   ],
   "source": [
    "delta_AIC <- base_logit_model$aic - opt_logit_model_1$aic\n",
    "cat(\"The Delta AIC between the 2 models is\", delta_AIC)"
   ]
  },
  {
   "cell_type": "markdown",
   "id": "108bc81d",
   "metadata": {},
   "source": [
    "Following the rule of thumb since Δ AIC >10, The 1st optimized model is significantly better than the base model with all the variables.\n",
    "\n",
    "Reference: <br>\n",
    "https://stats.stackexchange.com/questions/232465/how-to-compare-models-on-the-basis-of-aic"
   ]
  },
  {
   "cell_type": "markdown",
   "id": "52a40dd8",
   "metadata": {},
   "source": [
    "Evaluating the selected model using Confusion Matrix and Model Accuracy on Training Data"
   ]
  },
  {
   "cell_type": "code",
   "execution_count": 30,
   "id": "7dca07ff",
   "metadata": {},
   "outputs": [
    {
     "data": {
      "text/plain": [
       "Confusion Matrix and Statistics\n",
       "\n",
       "          Reference\n",
       "Prediction   0   1\n",
       "         0 108 100\n",
       "         1  49 443\n",
       "                                          \n",
       "               Accuracy : 0.7871          \n",
       "                 95% CI : (0.7549, 0.8169)\n",
       "    No Information Rate : 0.7757          \n",
       "    P-Value [Acc > NIR] : 0.2498          \n",
       "                                          \n",
       "                  Kappa : 0.4516          \n",
       "                                          \n",
       " Mcnemar's Test P-Value : 4.201e-05       \n",
       "                                          \n",
       "            Sensitivity : 0.6879          \n",
       "            Specificity : 0.8158          \n",
       "         Pos Pred Value : 0.5192          \n",
       "         Neg Pred Value : 0.9004          \n",
       "             Prevalence : 0.2243          \n",
       "         Detection Rate : 0.1543          \n",
       "   Detection Prevalence : 0.2971          \n",
       "      Balanced Accuracy : 0.7519          \n",
       "                                          \n",
       "       'Positive' Class : 0               \n",
       "                                          "
      ]
     },
     "metadata": {},
     "output_type": "display_data"
    }
   ],
   "source": [
    "train_predict <- predict(opt_logit_model_1, newdata=train_df_edit, type=\"response\")\n",
    "confusionMatrix(as.factor(train_df_edit$V21), as.factor(round(train_predict)))"
   ]
  },
  {
   "cell_type": "markdown",
   "id": "a2511bd9",
   "metadata": {},
   "source": [
    "<p><p style=\"page-break-after:always;\"></p></p>"
   ]
  },
  {
   "cell_type": "markdown",
   "id": "f09bffb5",
   "metadata": {},
   "source": [
    "Evaluating the selected model using Confusion Matrix and Model Accuracy on Validation Data"
   ]
  },
  {
   "cell_type": "code",
   "execution_count": 31,
   "id": "6ef7408a",
   "metadata": {
    "scrolled": true
   },
   "outputs": [
    {
     "data": {
      "text/html": [
       "<table class=\"dataframe\">\n",
       "<caption>A data.frame: 6 × 38</caption>\n",
       "<thead>\n",
       "\t<tr><th></th><th scope=col>V1</th><th scope=col>V2</th><th scope=col>V3</th><th scope=col>V4</th><th scope=col>V5</th><th scope=col>V6</th><th scope=col>V7</th><th scope=col>V8</th><th scope=col>V9</th><th scope=col>V10</th><th scope=col>...</th><th scope=col>V4A43</th><th scope=col>V6A64</th><th scope=col>V6A65</th><th scope=col>V7A74</th><th scope=col>V12A124</th><th scope=col>V14A143</th><th scope=col>V15A152</th><th scope=col>V17A172</th><th scope=col>V17A173</th><th scope=col>V20A202</th></tr>\n",
       "\t<tr><th></th><th scope=col>&lt;fct&gt;</th><th scope=col>&lt;int&gt;</th><th scope=col>&lt;fct&gt;</th><th scope=col>&lt;fct&gt;</th><th scope=col>&lt;int&gt;</th><th scope=col>&lt;fct&gt;</th><th scope=col>&lt;fct&gt;</th><th scope=col>&lt;int&gt;</th><th scope=col>&lt;fct&gt;</th><th scope=col>&lt;fct&gt;</th><th scope=col>...</th><th scope=col>&lt;dbl&gt;</th><th scope=col>&lt;dbl&gt;</th><th scope=col>&lt;dbl&gt;</th><th scope=col>&lt;dbl&gt;</th><th scope=col>&lt;dbl&gt;</th><th scope=col>&lt;dbl&gt;</th><th scope=col>&lt;dbl&gt;</th><th scope=col>&lt;dbl&gt;</th><th scope=col>&lt;dbl&gt;</th><th scope=col>&lt;dbl&gt;</th></tr>\n",
       "</thead>\n",
       "<tbody>\n",
       "\t<tr><th scope=row>2</th><td>A12</td><td>48</td><td>A32</td><td>A43</td><td>5951</td><td>A61</td><td>A73</td><td>2</td><td>A92</td><td>A101</td><td>...</td><td>1</td><td>0</td><td>0</td><td>0</td><td>0</td><td>1</td><td>1</td><td>0</td><td>1</td><td>0</td></tr>\n",
       "\t<tr><th scope=row>10</th><td>A12</td><td>30</td><td>A34</td><td>A40</td><td>5234</td><td>A61</td><td>A71</td><td>4</td><td>A94</td><td>A101</td><td>...</td><td>0</td><td>0</td><td>0</td><td>0</td><td>0</td><td>1</td><td>1</td><td>0</td><td>0</td><td>0</td></tr>\n",
       "\t<tr><th scope=row>14</th><td>A11</td><td>24</td><td>A34</td><td>A40</td><td>1199</td><td>A61</td><td>A75</td><td>4</td><td>A93</td><td>A101</td><td>...</td><td>0</td><td>0</td><td>0</td><td>0</td><td>0</td><td>1</td><td>1</td><td>1</td><td>0</td><td>0</td></tr>\n",
       "\t<tr><th scope=row>18</th><td>A11</td><td>30</td><td>A30</td><td>A49</td><td>8072</td><td>A65</td><td>A72</td><td>2</td><td>A93</td><td>A101</td><td>...</td><td>0</td><td>0</td><td>1</td><td>0</td><td>0</td><td>0</td><td>1</td><td>0</td><td>1</td><td>0</td></tr>\n",
       "\t<tr><th scope=row>21</th><td>A14</td><td> 9</td><td>A34</td><td>A40</td><td>2134</td><td>A61</td><td>A73</td><td>4</td><td>A93</td><td>A101</td><td>...</td><td>0</td><td>0</td><td>0</td><td>0</td><td>0</td><td>1</td><td>1</td><td>0</td><td>1</td><td>0</td></tr>\n",
       "\t<tr><th scope=row>23</th><td>A11</td><td>10</td><td>A34</td><td>A40</td><td>2241</td><td>A61</td><td>A72</td><td>1</td><td>A93</td><td>A101</td><td>...</td><td>0</td><td>0</td><td>0</td><td>0</td><td>0</td><td>1</td><td>0</td><td>1</td><td>0</td><td>1</td></tr>\n",
       "</tbody>\n",
       "</table>\n"
      ],
      "text/latex": [
       "A data.frame: 6 × 38\n",
       "\\begin{tabular}{r|lllllllllllllllllllll}\n",
       "  & V1 & V2 & V3 & V4 & V5 & V6 & V7 & V8 & V9 & V10 & ... & V4A43 & V6A64 & V6A65 & V7A74 & V12A124 & V14A143 & V15A152 & V17A172 & V17A173 & V20A202\\\\\n",
       "  & <fct> & <int> & <fct> & <fct> & <int> & <fct> & <fct> & <int> & <fct> & <fct> & ... & <dbl> & <dbl> & <dbl> & <dbl> & <dbl> & <dbl> & <dbl> & <dbl> & <dbl> & <dbl>\\\\\n",
       "\\hline\n",
       "\t2 & A12 & 48 & A32 & A43 & 5951 & A61 & A73 & 2 & A92 & A101 & ... & 1 & 0 & 0 & 0 & 0 & 1 & 1 & 0 & 1 & 0\\\\\n",
       "\t10 & A12 & 30 & A34 & A40 & 5234 & A61 & A71 & 4 & A94 & A101 & ... & 0 & 0 & 0 & 0 & 0 & 1 & 1 & 0 & 0 & 0\\\\\n",
       "\t14 & A11 & 24 & A34 & A40 & 1199 & A61 & A75 & 4 & A93 & A101 & ... & 0 & 0 & 0 & 0 & 0 & 1 & 1 & 1 & 0 & 0\\\\\n",
       "\t18 & A11 & 30 & A30 & A49 & 8072 & A65 & A72 & 2 & A93 & A101 & ... & 0 & 0 & 1 & 0 & 0 & 0 & 1 & 0 & 1 & 0\\\\\n",
       "\t21 & A14 &  9 & A34 & A40 & 2134 & A61 & A73 & 4 & A93 & A101 & ... & 0 & 0 & 0 & 0 & 0 & 1 & 1 & 0 & 1 & 0\\\\\n",
       "\t23 & A11 & 10 & A34 & A40 & 2241 & A61 & A72 & 1 & A93 & A101 & ... & 0 & 0 & 0 & 0 & 0 & 1 & 0 & 1 & 0 & 1\\\\\n",
       "\\end{tabular}\n"
      ],
      "text/markdown": [
       "\n",
       "A data.frame: 6 × 38\n",
       "\n",
       "| <!--/--> | V1 &lt;fct&gt; | V2 &lt;int&gt; | V3 &lt;fct&gt; | V4 &lt;fct&gt; | V5 &lt;int&gt; | V6 &lt;fct&gt; | V7 &lt;fct&gt; | V8 &lt;int&gt; | V9 &lt;fct&gt; | V10 &lt;fct&gt; | ... ... | V4A43 &lt;dbl&gt; | V6A64 &lt;dbl&gt; | V6A65 &lt;dbl&gt; | V7A74 &lt;dbl&gt; | V12A124 &lt;dbl&gt; | V14A143 &lt;dbl&gt; | V15A152 &lt;dbl&gt; | V17A172 &lt;dbl&gt; | V17A173 &lt;dbl&gt; | V20A202 &lt;dbl&gt; |\n",
       "|---|---|---|---|---|---|---|---|---|---|---|---|---|---|---|---|---|---|---|---|---|---|\n",
       "| 2 | A12 | 48 | A32 | A43 | 5951 | A61 | A73 | 2 | A92 | A101 | ... | 1 | 0 | 0 | 0 | 0 | 1 | 1 | 0 | 1 | 0 |\n",
       "| 10 | A12 | 30 | A34 | A40 | 5234 | A61 | A71 | 4 | A94 | A101 | ... | 0 | 0 | 0 | 0 | 0 | 1 | 1 | 0 | 0 | 0 |\n",
       "| 14 | A11 | 24 | A34 | A40 | 1199 | A61 | A75 | 4 | A93 | A101 | ... | 0 | 0 | 0 | 0 | 0 | 1 | 1 | 1 | 0 | 0 |\n",
       "| 18 | A11 | 30 | A30 | A49 | 8072 | A65 | A72 | 2 | A93 | A101 | ... | 0 | 0 | 1 | 0 | 0 | 0 | 1 | 0 | 1 | 0 |\n",
       "| 21 | A14 |  9 | A34 | A40 | 2134 | A61 | A73 | 4 | A93 | A101 | ... | 0 | 0 | 0 | 0 | 0 | 1 | 1 | 0 | 1 | 0 |\n",
       "| 23 | A11 | 10 | A34 | A40 | 2241 | A61 | A72 | 1 | A93 | A101 | ... | 0 | 0 | 0 | 0 | 0 | 1 | 0 | 1 | 0 | 1 |\n",
       "\n"
      ],
      "text/plain": [
       "   V1  V2 V3  V4  V5   V6  V7  V8 V9  V10  ... V4A43 V6A64 V6A65 V7A74 V12A124\n",
       "2  A12 48 A32 A43 5951 A61 A73 2  A92 A101 ... 1     0     0     0     0      \n",
       "10 A12 30 A34 A40 5234 A61 A71 4  A94 A101 ... 0     0     0     0     0      \n",
       "14 A11 24 A34 A40 1199 A61 A75 4  A93 A101 ... 0     0     0     0     0      \n",
       "18 A11 30 A30 A49 8072 A65 A72 2  A93 A101 ... 0     0     1     0     0      \n",
       "21 A14  9 A34 A40 2134 A61 A73 4  A93 A101 ... 0     0     0     0     0      \n",
       "23 A11 10 A34 A40 2241 A61 A72 1  A93 A101 ... 0     0     0     0     0      \n",
       "   V14A143 V15A152 V17A172 V17A173 V20A202\n",
       "2  1       1       0       1       0      \n",
       "10 1       1       0       0       0      \n",
       "14 1       1       1       0       0      \n",
       "18 0       1       0       1       0      \n",
       "21 1       1       0       1       0      \n",
       "23 1       0       1       0       1      "
      ]
     },
     "metadata": {},
     "output_type": "display_data"
    }
   ],
   "source": [
    "# copy initial Dataframe\n",
    "valid_df_edit <- valid_df\n",
    "# Convert Factorial columns into Binary columns e.g. Column V1 Factor A13 into V1A13 Column with binary inputs (0,1)\n",
    "valid_df_edit$V1A12 <- ifelse(valid_df_edit$V1 == \"A12\", 1, 0)\n",
    "valid_df_edit$V1A13 <- ifelse(valid_df_edit$V1 == \"A13\", 1, 0)\n",
    "valid_df_edit$V1A14 <- ifelse(valid_df_edit$V1 == \"A14\", 1, 0)\n",
    "valid_df_edit$V3A34 <- ifelse(valid_df_edit$V3 == \"A34\", 1, 0)\n",
    "valid_df_edit$V4A41 <- ifelse(valid_df_edit$V4 == \"A41\", 1, 0)\n",
    "valid_df_edit$V4A410 <- ifelse(valid_df_edit$V4 == \"A410\", 1, 0)\n",
    "valid_df_edit$V4A42 <- ifelse(valid_df_edit$V4 == \"A42\", 1, 0)\n",
    "valid_df_edit$V4A43 <- ifelse(valid_df_edit$V4 == \"A43\", 1, 0)\n",
    "valid_df_edit$V6A64 <- ifelse(valid_df_edit$V6 == \"A64\", 1, 0)\n",
    "valid_df_edit$V6A65 <- ifelse(valid_df_edit$V6 == \"A65\", 1, 0)\n",
    "valid_df_edit$V7A74 <- ifelse(valid_df_edit$V7 == \"A74\", 1, 0)\n",
    "valid_df_edit$V12A124 <- ifelse(valid_df_edit$V12 == \"A124\", 1, 0)\n",
    "valid_df_edit$V14A143 <- ifelse(valid_df_edit$V14 == \"A143\", 1, 0)\n",
    "valid_df_edit$V15A152 <- ifelse(valid_df_edit$V15 == \"A152\", 1, 0)\n",
    "valid_df_edit$V17A172 <- ifelse(valid_df_edit$V17 == \"A172\", 1, 0)\n",
    "valid_df_edit$V17A173 <- ifelse(valid_df_edit$V17 == \"A173\", 1, 0)\n",
    "valid_df_edit$V20A202 <- ifelse(valid_df_edit$V20 == \"A202\", 1, 0)\n",
    "head(valid_df_edit)"
   ]
  },
  {
   "cell_type": "markdown",
   "id": "81fc7076",
   "metadata": {},
   "source": [
    "<p><p style=\"page-break-after:always;\"></p></p>"
   ]
  },
  {
   "cell_type": "code",
   "execution_count": 32,
   "id": "c8b6ebd7",
   "metadata": {},
   "outputs": [
    {
     "data": {
      "text/plain": [
       "Confusion Matrix and Statistics\n",
       "\n",
       "          Reference\n",
       "Prediction   0   1\n",
       "         0  44  48\n",
       "         1  35 173\n",
       "                                         \n",
       "               Accuracy : 0.7233         \n",
       "                 95% CI : (0.669, 0.7732)\n",
       "    No Information Rate : 0.7367         \n",
       "    P-Value [Acc > NIR] : 0.7246         \n",
       "                                         \n",
       "                  Kappa : 0.3227         \n",
       "                                         \n",
       " Mcnemar's Test P-Value : 0.1878         \n",
       "                                         \n",
       "            Sensitivity : 0.5570         \n",
       "            Specificity : 0.7828         \n",
       "         Pos Pred Value : 0.4783         \n",
       "         Neg Pred Value : 0.8317         \n",
       "             Prevalence : 0.2633         \n",
       "         Detection Rate : 0.1467         \n",
       "   Detection Prevalence : 0.3067         \n",
       "      Balanced Accuracy : 0.6699         \n",
       "                                         \n",
       "       'Positive' Class : 0              \n",
       "                                         "
      ]
     },
     "metadata": {},
     "output_type": "display_data"
    }
   ],
   "source": [
    "valid_predict <- predict(opt_logit_model_1, newdata=valid_df_edit, type=\"response\")\n",
    "confusionMatrix(as.factor(valid_df_edit$V21), as.factor(round(valid_predict)))"
   ]
  },
  {
   "cell_type": "markdown",
   "id": "a9095833",
   "metadata": {},
   "source": [
    "From the data above, \n",
    "1. The model Accuracy on the Validation set is slightly lower than the training set (indicating some overfitting) however overall it is still acceptable (72%)\n",
    "2. The model still suffers from high confusion in class 0 (50% of the points are mis-classified)"
   ]
  },
  {
   "cell_type": "markdown",
   "id": "bbea9b6f",
   "metadata": {},
   "source": [
    "<p><p style=\"page-break-after:always;\"></p></p>"
   ]
  },
  {
   "cell_type": "markdown",
   "id": "6ac84318",
   "metadata": {},
   "source": [
    "<b>Finding Optimal Threshold</b>"
   ]
  },
  {
   "cell_type": "markdown",
   "id": "5954fa92",
   "metadata": {},
   "source": [
    "Assuming that incorrectly identifying a bad customer as good, is 5 times worse than incorrectly classifying a good customer as bad, A sensitivity run was made to find the optimal threshold."
   ]
  },
  {
   "cell_type": "code",
   "execution_count": 33,
   "id": "dcae3630",
   "metadata": {},
   "outputs": [
    {
     "data": {
      "image/png": "[encoded data removed]",
      "text/plain": [
       "Plot with title \"Model Cost of lost productivity vs. threshold probability\""
      ]
     },
     "metadata": {},
     "output_type": "display_data"
    }
   ],
   "source": [
    "cost_list <- seq(1,7)\n",
    "threshold_list <- seq(3,9)/10\n",
    "for (i in seq(1,7)){\n",
    "    result_matrix <- table(valid_df_edit$V21, as.numeric(valid_predict>threshold_list[i]))\n",
    "    model_cost <- result_matrix[1,1]*0 + result_matrix[1,2]*5 + result_matrix[2,1]*1 + result_matrix[2,2]*0\n",
    "    cost_list[i] <- model_cost\n",
    "}\n",
    "plot(threshold_list, cost_list, ylim=c(100,500), xlab=\"Threshold probability\", ylab=\"Cost of lost productivity\")\n",
    "title(\"Model Cost of lost productivity vs. threshold probability\")\n",
    "grid()"
   ]
  },
  {
   "cell_type": "markdown",
   "id": "f5a4a4e2",
   "metadata": {},
   "source": [
    "<p><p style=\"page-break-after:always;\"></p></p>"
   ]
  },
  {
   "cell_type": "code",
   "execution_count": 34,
   "id": "42dfd018",
   "metadata": {},
   "outputs": [
    {
     "data": {
      "text/plain": [
       "Confusion Matrix and Statistics\n",
       "\n",
       "          Reference\n",
       "Prediction   0   1\n",
       "         0  73  19\n",
       "         1  64 144\n",
       "                                         \n",
       "               Accuracy : 0.7233         \n",
       "                 95% CI : (0.669, 0.7732)\n",
       "    No Information Rate : 0.5433         \n",
       "    P-Value [Acc > NIR] : 1.164e-10      \n",
       "                                         \n",
       "                  Kappa : 0.4275         \n",
       "                                         \n",
       " Mcnemar's Test P-Value : 1.368e-06      \n",
       "                                         \n",
       "            Sensitivity : 0.5328         \n",
       "            Specificity : 0.8834         \n",
       "         Pos Pred Value : 0.7935         \n",
       "         Neg Pred Value : 0.6923         \n",
       "             Prevalence : 0.4567         \n",
       "         Detection Rate : 0.2433         \n",
       "   Detection Prevalence : 0.3067         \n",
       "      Balanced Accuracy : 0.7081         \n",
       "                                         \n",
       "       'Positive' Class : 0              \n",
       "                                         "
      ]
     },
     "metadata": {},
     "output_type": "display_data"
    }
   ],
   "source": [
    "# Final Model Confusion Matrix on Validation data\n",
    "confusionMatrix(as.factor(valid_df_edit$V21), as.factor(round(valid_predict>=0.7)))"
   ]
  },
  {
   "cell_type": "markdown",
   "id": "0b5a1b7b",
   "metadata": {},
   "source": [
    "Conclusion: <br>\n",
    "Based on the sensitivity analysis, a threshold of 0.7 should be used (when incorrectly identifying a bad customer as good, is 5 times worse than incorrectly classifying a good customer)"
   ]
  }
 ],
 "metadata": {
  "kernelspec": {
   "display_name": "R",
   "language": "R",
   "name": "ir"
  },
  "language_info": {
   "codemirror_mode": "r",
   "file_extension": ".r",
   "mimetype": "text/x-r-source",
   "name": "R",
   "pygments_lexer": "r",
   "version": "3.6.1"
  }
 },
 "nbformat": 4,
 "nbformat_minor": 5
}
